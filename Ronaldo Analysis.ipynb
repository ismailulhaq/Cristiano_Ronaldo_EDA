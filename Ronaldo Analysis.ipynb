{
 "cells": [
  {
   "cell_type": "code",
   "execution_count": 1,
   "id": "c3009e3f",
   "metadata": {},
   "outputs": [],
   "source": [
    "import numpy as np # linear algebra\n",
    "import pandas as pd # data processing, CSV file I/O (e.g. pd.read_csv)\n",
    "import matplotlib.pyplot as plt \n",
    "import seaborn as sns\n",
    "from datetime import timedelta\n",
    "import warnings\n",
    "import os\n",
    "import plotly.graph_objs as go\n",
    "from plotly.offline import download_plotlyjs, init_notebook_mode, plot, iplot\n",
    "import plotly.express as px"
   ]
  },
  {
   "cell_type": "code",
   "execution_count": 2,
   "id": "b4d1593c",
   "metadata": {},
   "outputs": [
    {
     "data": {
      "text/html": [
       "        <script type=\"text/javascript\">\n",
       "        window.PlotlyConfig = {MathJaxConfig: 'local'};\n",
       "        if (window.MathJax && window.MathJax.Hub && window.MathJax.Hub.Config) {window.MathJax.Hub.Config({SVG: {font: \"STIX-Web\"}});}\n",
       "        if (typeof require !== 'undefined') {\n",
       "        require.undef(\"plotly\");\n",
       "        requirejs.config({\n",
       "            paths: {\n",
       "                'plotly': ['https://cdn.plot.ly/plotly-2.12.1.min']\n",
       "            }\n",
       "        });\n",
       "        require(['plotly'], function(Plotly) {\n",
       "            window._Plotly = Plotly;\n",
       "        });\n",
       "        }\n",
       "        </script>\n",
       "        "
      ]
     },
     "metadata": {},
     "output_type": "display_data"
    }
   ],
   "source": [
    "warnings.filterwarnings('ignore')\n",
    "init_notebook_mode(connected=True)"
   ]
  },
  {
   "cell_type": "code",
   "execution_count": 3,
   "id": "841c4d27",
   "metadata": {},
   "outputs": [],
   "source": [
    "df = pd.read_csv(r\"C:\\Users\\moham\\Downloads\\archive (2)\\data.csv\")"
   ]
  },
  {
   "cell_type": "code",
   "execution_count": 4,
   "id": "35aa690f",
   "metadata": {},
   "outputs": [
    {
     "data": {
      "text/html": [
       "<div>\n",
       "<style scoped>\n",
       "    .dataframe tbody tr th:only-of-type {\n",
       "        vertical-align: middle;\n",
       "    }\n",
       "\n",
       "    .dataframe tbody tr th {\n",
       "        vertical-align: top;\n",
       "    }\n",
       "\n",
       "    .dataframe thead th {\n",
       "        text-align: right;\n",
       "    }\n",
       "</style>\n",
       "<table border=\"1\" class=\"dataframe\">\n",
       "  <thead>\n",
       "    <tr style=\"text-align: right;\">\n",
       "      <th></th>\n",
       "      <th>Season</th>\n",
       "      <th>Competition</th>\n",
       "      <th>Matchday</th>\n",
       "      <th>Date</th>\n",
       "      <th>Venue</th>\n",
       "      <th>Club</th>\n",
       "      <th>Opponent</th>\n",
       "      <th>Result</th>\n",
       "      <th>Playing_Position</th>\n",
       "      <th>Minute</th>\n",
       "      <th>At_score</th>\n",
       "      <th>Type</th>\n",
       "      <th>Goal_assist</th>\n",
       "    </tr>\n",
       "  </thead>\n",
       "  <tbody>\n",
       "    <tr>\n",
       "      <th>0</th>\n",
       "      <td>02/03</td>\n",
       "      <td>Liga Portugal</td>\n",
       "      <td>6</td>\n",
       "      <td>10-07-02</td>\n",
       "      <td>H</td>\n",
       "      <td>Sporting CP</td>\n",
       "      <td>Moreirense FC</td>\n",
       "      <td>3:00</td>\n",
       "      <td>LW</td>\n",
       "      <td>34</td>\n",
       "      <td>2:00</td>\n",
       "      <td>Solo run</td>\n",
       "      <td>NaN</td>\n",
       "    </tr>\n",
       "    <tr>\n",
       "      <th>1</th>\n",
       "      <td>02/03</td>\n",
       "      <td>Liga Portugal</td>\n",
       "      <td>6</td>\n",
       "      <td>10-07-02</td>\n",
       "      <td>H</td>\n",
       "      <td>Sporting CP</td>\n",
       "      <td>Moreirense FC</td>\n",
       "      <td>3:00</td>\n",
       "      <td>LW</td>\n",
       "      <td>90+5</td>\n",
       "      <td>3:00</td>\n",
       "      <td>Header</td>\n",
       "      <td>Rui Jorge</td>\n",
       "    </tr>\n",
       "    <tr>\n",
       "      <th>2</th>\n",
       "      <td>02/03</td>\n",
       "      <td>Liga Portugal</td>\n",
       "      <td>8</td>\n",
       "      <td>10/26/02</td>\n",
       "      <td>A</td>\n",
       "      <td>Sporting CP</td>\n",
       "      <td>Boavista FC</td>\n",
       "      <td>1:02</td>\n",
       "      <td>NaN</td>\n",
       "      <td>88</td>\n",
       "      <td>1:02</td>\n",
       "      <td>Right-footed shot</td>\n",
       "      <td>Carlos Martins</td>\n",
       "    </tr>\n",
       "    <tr>\n",
       "      <th>3</th>\n",
       "      <td>02/03</td>\n",
       "      <td>Taca de Portugal Placard</td>\n",
       "      <td>Fourth Round</td>\n",
       "      <td>11/24/02</td>\n",
       "      <td>H</td>\n",
       "      <td>Sporting CP</td>\n",
       "      <td>CD Estarreja</td>\n",
       "      <td>4:01</td>\n",
       "      <td>NaN</td>\n",
       "      <td>67</td>\n",
       "      <td>3:00</td>\n",
       "      <td>Left-footed shot</td>\n",
       "      <td>Cesar Prates</td>\n",
       "    </tr>\n",
       "    <tr>\n",
       "      <th>4</th>\n",
       "      <td>02/03</td>\n",
       "      <td>Taca de Portugal Placard</td>\n",
       "      <td>Fifth Round</td>\n",
       "      <td>12/18/02</td>\n",
       "      <td>H</td>\n",
       "      <td>Sporting CP</td>\n",
       "      <td>FC Oliveira do Hospital</td>\n",
       "      <td>8:01</td>\n",
       "      <td>NaN</td>\n",
       "      <td>13</td>\n",
       "      <td>3:00</td>\n",
       "      <td>NaN</td>\n",
       "      <td>NaN</td>\n",
       "    </tr>\n",
       "  </tbody>\n",
       "</table>\n",
       "</div>"
      ],
      "text/plain": [
       "  Season               Competition      Matchday      Date Venue         Club  \\\n",
       "0  02/03             Liga Portugal             6  10-07-02     H  Sporting CP   \n",
       "1  02/03             Liga Portugal             6  10-07-02     H  Sporting CP   \n",
       "2  02/03             Liga Portugal             8  10/26/02     A  Sporting CP   \n",
       "3  02/03  Taca de Portugal Placard  Fourth Round  11/24/02     H  Sporting CP   \n",
       "4  02/03  Taca de Portugal Placard   Fifth Round  12/18/02     H  Sporting CP   \n",
       "\n",
       "                  Opponent Result Playing_Position Minute At_score  \\\n",
       "0            Moreirense FC   3:00               LW     34     2:00   \n",
       "1            Moreirense FC   3:00               LW   90+5     3:00   \n",
       "2              Boavista FC   1:02              NaN     88     1:02   \n",
       "3             CD Estarreja   4:01              NaN     67     3:00   \n",
       "4  FC Oliveira do Hospital   8:01              NaN     13     3:00   \n",
       "\n",
       "                Type     Goal_assist  \n",
       "0           Solo run             NaN  \n",
       "1             Header       Rui Jorge  \n",
       "2  Right-footed shot  Carlos Martins  \n",
       "3   Left-footed shot    Cesar Prates  \n",
       "4                NaN             NaN  "
      ]
     },
     "execution_count": 4,
     "metadata": {},
     "output_type": "execute_result"
    }
   ],
   "source": [
    "df.head()"
   ]
  },
  {
   "cell_type": "code",
   "execution_count": 5,
   "id": "27794f92",
   "metadata": {},
   "outputs": [
    {
     "name": "stdout",
     "output_type": "stream",
     "text": [
      "<class 'pandas.core.frame.DataFrame'>\n",
      "RangeIndex: 710 entries, 0 to 709\n",
      "Data columns (total 13 columns):\n",
      " #   Column            Non-Null Count  Dtype \n",
      "---  ------            --------------  ----- \n",
      " 0   Season            710 non-null    object\n",
      " 1   Competition       710 non-null    object\n",
      " 2   Matchday          710 non-null    object\n",
      " 3   Date              710 non-null    object\n",
      " 4   Venue             710 non-null    object\n",
      " 5   Club              710 non-null    object\n",
      " 6   Opponent          710 non-null    object\n",
      " 7   Result            710 non-null    object\n",
      " 8   Playing_Position  652 non-null    object\n",
      " 9   Minute            710 non-null    object\n",
      " 10  At_score          710 non-null    object\n",
      " 11  Type              695 non-null    object\n",
      " 12  Goal_assist       464 non-null    object\n",
      "dtypes: object(13)\n",
      "memory usage: 72.2+ KB\n"
     ]
    }
   ],
   "source": [
    "df.info()"
   ]
  },
  {
   "cell_type": "code",
   "execution_count": 6,
   "id": "9c0dc510",
   "metadata": {},
   "outputs": [
    {
     "data": {
      "text/html": [
       "<div>\n",
       "<style scoped>\n",
       "    .dataframe tbody tr th:only-of-type {\n",
       "        vertical-align: middle;\n",
       "    }\n",
       "\n",
       "    .dataframe tbody tr th {\n",
       "        vertical-align: top;\n",
       "    }\n",
       "\n",
       "    .dataframe thead th {\n",
       "        text-align: right;\n",
       "    }\n",
       "</style>\n",
       "<table border=\"1\" class=\"dataframe\">\n",
       "  <thead>\n",
       "    <tr style=\"text-align: right;\">\n",
       "      <th></th>\n",
       "      <th>Unique Values Count</th>\n",
       "    </tr>\n",
       "  </thead>\n",
       "  <tbody>\n",
       "    <tr>\n",
       "      <th>Season</th>\n",
       "      <td>21</td>\n",
       "    </tr>\n",
       "    <tr>\n",
       "      <th>Competition</th>\n",
       "      <td>17</td>\n",
       "    </tr>\n",
       "    <tr>\n",
       "      <th>Matchday</th>\n",
       "      <td>52</td>\n",
       "    </tr>\n",
       "    <tr>\n",
       "      <th>Date</th>\n",
       "      <td>468</td>\n",
       "    </tr>\n",
       "    <tr>\n",
       "      <th>Venue</th>\n",
       "      <td>2</td>\n",
       "    </tr>\n",
       "    <tr>\n",
       "      <th>Club</th>\n",
       "      <td>5</td>\n",
       "    </tr>\n",
       "    <tr>\n",
       "      <th>Opponent</th>\n",
       "      <td>129</td>\n",
       "    </tr>\n",
       "    <tr>\n",
       "      <th>Result</th>\n",
       "      <td>57</td>\n",
       "    </tr>\n",
       "    <tr>\n",
       "      <th>Playing_Position</th>\n",
       "      <td>6</td>\n",
       "    </tr>\n",
       "    <tr>\n",
       "      <th>Minute</th>\n",
       "      <td>106</td>\n",
       "    </tr>\n",
       "    <tr>\n",
       "      <th>At_score</th>\n",
       "      <td>43</td>\n",
       "    </tr>\n",
       "    <tr>\n",
       "      <th>Type</th>\n",
       "      <td>12</td>\n",
       "    </tr>\n",
       "    <tr>\n",
       "      <th>Goal_assist</th>\n",
       "      <td>92</td>\n",
       "    </tr>\n",
       "  </tbody>\n",
       "</table>\n",
       "</div>"
      ],
      "text/plain": [
       "                  Unique Values Count\n",
       "Season                             21\n",
       "Competition                        17\n",
       "Matchday                           52\n",
       "Date                              468\n",
       "Venue                               2\n",
       "Club                                5\n",
       "Opponent                          129\n",
       "Result                             57\n",
       "Playing_Position                    6\n",
       "Minute                            106\n",
       "At_score                           43\n",
       "Type                               12\n",
       "Goal_assist                        92"
      ]
     },
     "execution_count": 6,
     "metadata": {},
     "output_type": "execute_result"
    }
   ],
   "source": [
    "pd.DataFrame(df.apply(lambda col: len(col.unique())),columns=[\"Unique Values Count\"])"
   ]
  },
  {
   "cell_type": "code",
   "execution_count": 7,
   "id": "9e3d6cd4",
   "metadata": {},
   "outputs": [
    {
     "data": {
      "text/html": [
       "<div>\n",
       "<style scoped>\n",
       "    .dataframe tbody tr th:only-of-type {\n",
       "        vertical-align: middle;\n",
       "    }\n",
       "\n",
       "    .dataframe tbody tr th {\n",
       "        vertical-align: top;\n",
       "    }\n",
       "\n",
       "    .dataframe thead th {\n",
       "        text-align: right;\n",
       "    }\n",
       "</style>\n",
       "<table border=\"1\" class=\"dataframe\">\n",
       "  <thead>\n",
       "    <tr style=\"text-align: right;\">\n",
       "      <th></th>\n",
       "      <th>count</th>\n",
       "      <th>unique</th>\n",
       "      <th>top</th>\n",
       "      <th>freq</th>\n",
       "    </tr>\n",
       "  </thead>\n",
       "  <tbody>\n",
       "    <tr>\n",
       "      <th>Season</th>\n",
       "      <td>710</td>\n",
       "      <td>21</td>\n",
       "      <td>14/15</td>\n",
       "      <td>61</td>\n",
       "    </tr>\n",
       "    <tr>\n",
       "      <th>Competition</th>\n",
       "      <td>710</td>\n",
       "      <td>17</td>\n",
       "      <td>LaLiga</td>\n",
       "      <td>311</td>\n",
       "    </tr>\n",
       "    <tr>\n",
       "      <th>Matchday</th>\n",
       "      <td>710</td>\n",
       "      <td>52</td>\n",
       "      <td>Group Stage</td>\n",
       "      <td>75</td>\n",
       "    </tr>\n",
       "    <tr>\n",
       "      <th>Date</th>\n",
       "      <td>710</td>\n",
       "      <td>468</td>\n",
       "      <td>09-12-15</td>\n",
       "      <td>5</td>\n",
       "    </tr>\n",
       "    <tr>\n",
       "      <th>Venue</th>\n",
       "      <td>710</td>\n",
       "      <td>2</td>\n",
       "      <td>H</td>\n",
       "      <td>404</td>\n",
       "    </tr>\n",
       "    <tr>\n",
       "      <th>Club</th>\n",
       "      <td>710</td>\n",
       "      <td>5</td>\n",
       "      <td>Real Madrid</td>\n",
       "      <td>450</td>\n",
       "    </tr>\n",
       "    <tr>\n",
       "      <th>Opponent</th>\n",
       "      <td>710</td>\n",
       "      <td>129</td>\n",
       "      <td>Sevilla FC</td>\n",
       "      <td>27</td>\n",
       "    </tr>\n",
       "    <tr>\n",
       "      <th>Result</th>\n",
       "      <td>710</td>\n",
       "      <td>57</td>\n",
       "      <td>3:00</td>\n",
       "      <td>49</td>\n",
       "    </tr>\n",
       "    <tr>\n",
       "      <th>Playing_Position</th>\n",
       "      <td>652</td>\n",
       "      <td>5</td>\n",
       "      <td>LW</td>\n",
       "      <td>356</td>\n",
       "    </tr>\n",
       "    <tr>\n",
       "      <th>Minute</th>\n",
       "      <td>710</td>\n",
       "      <td>106</td>\n",
       "      <td>90</td>\n",
       "      <td>17</td>\n",
       "    </tr>\n",
       "    <tr>\n",
       "      <th>At_score</th>\n",
       "      <td>710</td>\n",
       "      <td>43</td>\n",
       "      <td>1:00</td>\n",
       "      <td>111</td>\n",
       "    </tr>\n",
       "    <tr>\n",
       "      <th>Type</th>\n",
       "      <td>695</td>\n",
       "      <td>11</td>\n",
       "      <td>Right-footed shot</td>\n",
       "      <td>253</td>\n",
       "    </tr>\n",
       "    <tr>\n",
       "      <th>Goal_assist</th>\n",
       "      <td>464</td>\n",
       "      <td>91</td>\n",
       "      <td>Karim Benzema</td>\n",
       "      <td>44</td>\n",
       "    </tr>\n",
       "  </tbody>\n",
       "</table>\n",
       "</div>"
      ],
      "text/plain": [
       "                 count unique                top freq\n",
       "Season             710     21              14/15   61\n",
       "Competition        710     17             LaLiga  311\n",
       "Matchday           710     52        Group Stage   75\n",
       "Date               710    468           09-12-15    5\n",
       "Venue              710      2                  H  404\n",
       "Club               710      5        Real Madrid  450\n",
       "Opponent           710    129         Sevilla FC   27\n",
       "Result             710     57               3:00   49\n",
       "Playing_Position   652      5                 LW  356\n",
       "Minute             710    106                 90   17\n",
       "At_score           710     43               1:00  111\n",
       "Type               695     11  Right-footed shot  253\n",
       "Goal_assist        464     91      Karim Benzema   44"
      ]
     },
     "execution_count": 7,
     "metadata": {},
     "output_type": "execute_result"
    }
   ],
   "source": [
    "df.describe(include=['object']).T"
   ]
  },
  {
   "cell_type": "code",
   "execution_count": 8,
   "id": "9dbcaf50",
   "metadata": {},
   "outputs": [
    {
     "data": {
      "application/vnd.plotly.v1+json": {
       "config": {
        "plotlyServerURL": "https://plot.ly"
       },
       "data": [
        {
         "alignmentgroup": "True",
         "bingroup": "x",
         "hovertemplate": "Club=Sporting CP<br>Competition=%{x}<br>count=%{y}<extra></extra>",
         "legendgroup": "Sporting CP",
         "marker": {
          "color": "#636efa",
          "pattern": {
           "shape": ""
          }
         },
         "name": "Sporting CP",
         "offsetgroup": "Sporting CP",
         "orientation": "v",
         "showlegend": true,
         "type": "histogram",
         "x": [
          "Liga Portugal",
          "Liga Portugal",
          "Liga Portugal",
          "Taca de Portugal Placard",
          "Taca de Portugal Placard"
         ],
         "xaxis": "x",
         "yaxis": "y"
        },
        {
         "alignmentgroup": "True",
         "bingroup": "x",
         "hovertemplate": "Club=Manchester United<br>Competition=%{x}<br>count=%{y}<extra></extra>",
         "legendgroup": "Manchester United",
         "marker": {
          "color": "#EF553B",
          "pattern": {
           "shape": ""
          }
         },
         "name": "Manchester United",
         "offsetgroup": "Manchester United",
         "orientation": "v",
         "showlegend": true,
         "type": "histogram",
         "x": [
          "Premier League",
          "FA Cup",
          "Premier League",
          "Premier League",
          "Premier League",
          "FA Cup",
          "Premier League",
          "FA Cup",
          "Premier League",
          "Premier League",
          "Premier League",
          "FA Cup",
          "FA Cup",
          "Premier League",
          "FA Cup",
          "UEFA Champions League Qualifying",
          "Premier League",
          "EFL Cup",
          "Premier League",
          "Premier League",
          "Premier League",
          "Premier League",
          "Premier League",
          "Premier League",
          "EFL Cup",
          "Premier League",
          "Premier League",
          "Premier League",
          "Premier League",
          "Premier League",
          "Premier League",
          "Premier League",
          "Premier League",
          "Premier League",
          "Premier League",
          "Premier League",
          "Premier League",
          "Premier League",
          "Premier League",
          "Premier League",
          "Premier League",
          "Premier League",
          "Premier League",
          "FA Cup",
          "FA Cup",
          "UEFA Champions League",
          "UEFA Champions League",
          "FA Cup",
          "UEFA Champions League",
          "Premier League",
          "UEFA Champions League",
          "Premier League",
          "Premier League",
          "Premier League",
          "UEFA Champions League",
          "UEFA Champions League",
          "Premier League",
          "UEFA Champions League",
          "Premier League",
          "Premier League",
          "UEFA Champions League",
          "Premier League",
          "Premier League",
          "Premier League",
          "Premier League",
          "Premier League",
          "Premier League",
          "Premier League",
          "FA Cup",
          "Premier League",
          "Premier League",
          "Premier League",
          "Premier League",
          "FA Cup",
          "FA Cup",
          "Premier League",
          "Premier League",
          "Premier League",
          "Premier League",
          "UEFA Champions League",
          "Premier League",
          "Premier League",
          "Premier League",
          "Premier League",
          "Premier League",
          "UEFA Champions League",
          "Premier League",
          "Premier League",
          "Premier League",
          "Premier League",
          "Premier League",
          "UEFA Champions League",
          "EFL Cup",
          "Premier League",
          "Premier League",
          "Premier League",
          "Premier League",
          "Premier League",
          "Premier League",
          "Premier League",
          "Premier League",
          "FIFA Club World Cup",
          "EFL Cup",
          "Premier League",
          "Premier League",
          "Premier League",
          "FA Cup",
          "Premier League",
          "UEFA Champions League",
          "Premier League",
          "Premier League",
          "Premier League",
          "UEFA Champions League",
          "Premier League",
          "Premier League",
          "UEFA Champions League",
          "UEFA Champions League",
          "Premier League",
          "Premier League",
          "Premier League",
          "UEFA Champions League",
          "Premier League",
          "UEFA Champions League",
          "UEFA Champions League",
          "Premier League",
          "UEFA Champions League",
          "UEFA Champions League",
          "UEFA Champions League",
          "Premier League",
          "Premier League",
          "Premier League",
          "Premier League",
          "Premier League",
          "Premier League",
          "Premier League",
          "Premier League",
          "Premier League",
          "Premier League",
          "Premier League",
          "Premier League",
          "Premier League",
          "Premier League",
          "Europa League",
          "Premier League",
          "Europa League"
         ],
         "xaxis": "x",
         "yaxis": "y"
        },
        {
         "alignmentgroup": "True",
         "bingroup": "x",
         "hovertemplate": "Club=Real Madrid<br>Competition=%{x}<br>count=%{y}<extra></extra>",
         "legendgroup": "Real Madrid",
         "marker": {
          "color": "#00cc96",
          "pattern": {
           "shape": ""
          }
         },
         "name": "Real Madrid",
         "offsetgroup": "Real Madrid",
         "orientation": "v",
         "showlegend": true,
         "type": "histogram",
         "x": [
          "LaLiga",
          "LaLiga",
          "UEFA Champions League",
          "UEFA Champions League",
          "LaLiga",
          "LaLiga",
          "LaLiga",
          "UEFA Champions League",
          "UEFA Champions League",
          "LaLiga",
          "UEFA Champions League",
          "UEFA Champions League",
          "LaLiga",
          "LaLiga",
          "LaLiga",
          "LaLiga",
          "LaLiga",
          "LaLiga",
          "LaLiga",
          "LaLiga",
          "UEFA Champions League",
          "LaLiga",
          "LaLiga",
          "LaLiga",
          "LaLiga",
          "LaLiga",
          "LaLiga",
          "LaLiga",
          "LaLiga",
          "LaLiga",
          "LaLiga",
          "LaLiga",
          "LaLiga",
          "LaLiga",
          "LaLiga",
          "LaLiga",
          "LaLiga",
          "LaLiga",
          "UEFA Champions League",
          "LaLiga",
          "LaLiga",
          "LaLiga",
          "LaLiga",
          "LaLiga",
          "LaLiga",
          "Copa del Rey",
          "LaLiga",
          "LaLiga",
          "LaLiga",
          "UEFA Champions League",
          "UEFA Champions League",
          "LaLiga",
          "LaLiga",
          "UEFA Champions League",
          "LaLiga",
          "Copa del Rey",
          "Copa del Rey",
          "Copa del Rey",
          "LaLiga",
          "LaLiga",
          "LaLiga",
          "LaLiga",
          "LaLiga",
          "Copa del Rey",
          "Copa del Rey",
          "LaLiga",
          "LaLiga",
          "LaLiga",
          "LaLiga",
          "LaLiga",
          "UEFA Champions League",
          "LaLiga",
          "UEFA Champions League",
          "LaLiga",
          "Copa del Rey",
          "LaLiga",
          "LaLiga",
          "LaLiga",
          "LaLiga",
          "LaLiga",
          "LaLiga",
          "LaLiga",
          "LaLiga",
          "LaLiga",
          "LaLiga",
          "LaLiga",
          "Supercopa",
          "LaLiga",
          "LaLiga",
          "LaLiga",
          "LaLiga",
          "LaLiga",
          "LaLiga",
          "LaLiga",
          "UEFA Champions League",
          "LaLiga",
          "LaLiga",
          "LaLiga",
          "UEFA Champions League",
          "UEFA Champions League",
          "LaLiga",
          "LaLiga",
          "LaLiga",
          "LaLiga",
          "LaLiga",
          "LaLiga",
          "LaLiga",
          "Copa del Rey",
          "LaLiga",
          "LaLiga",
          "LaLiga",
          "LaLiga",
          "Copa del Rey",
          "LaLiga",
          "LaLiga",
          "Copa del Rey",
          "LaLiga",
          "LaLiga",
          "LaLiga",
          "LaLiga",
          "LaLiga",
          "UEFA Champions League",
          "LaLiga",
          "LaLiga",
          "LaLiga",
          "LaLiga",
          "UEFA Champions League",
          "UEFA Champions League",
          "LaLiga",
          "LaLiga",
          "LaLiga",
          "LaLiga",
          "LaLiga",
          "UEFA Champions League",
          "UEFA Champions League",
          "LaLiga",
          "LaLiga",
          "LaLiga",
          "LaLiga",
          "LaLiga",
          "UEFA Champions League",
          "UEFA Champions League",
          "LaLiga",
          "LaLiga",
          "LaLiga",
          "LaLiga",
          "Supercopa",
          "Supercopa",
          "LaLiga",
          "LaLiga",
          "UEFA Champions League",
          "LaLiga",
          "LaLiga",
          "LaLiga",
          "LaLiga",
          "UEFA Champions League",
          "UEFA Champions League",
          "UEFA Champions League",
          "LaLiga",
          "LaLiga",
          "LaLiga",
          "UEFA Champions League",
          "LaLiga",
          "LaLiga",
          "LaLiga",
          "LaLiga",
          "UEFA Champions League",
          "Copa del Rey",
          "LaLiga",
          "LaLiga",
          "LaLiga",
          "Copa del Rey",
          "Copa del Rey",
          "Copa del Rey",
          "LaLiga",
          "LaLiga",
          "LaLiga",
          "LaLiga",
          "LaLiga",
          "LaLiga",
          "LaLiga",
          "LaLiga",
          "UEFA Champions League",
          "Copa del Rey",
          "Copa del Rey",
          "UEFA Champions League",
          "LaLiga",
          "LaLiga",
          "LaLiga",
          "LaLiga",
          "UEFA Champions League",
          "LaLiga",
          "UEFA Champions League",
          "UEFA Champions League",
          "LaLiga",
          "LaLiga",
          "UEFA Champions League",
          "LaLiga",
          "LaLiga",
          "LaLiga",
          "Copa del Rey",
          "LaLiga",
          "LaLiga",
          "UEFA Champions League",
          "UEFA Champions League",
          "UEFA Champions League",
          "LaLiga",
          "LaLiga",
          "LaLiga",
          "LaLiga",
          "UEFA Champions League",
          "UEFA Champions League",
          "LaLiga",
          "LaLiga",
          "UEFA Champions League",
          "UEFA Champions League",
          "LaLiga",
          "LaLiga",
          "LaLiga",
          "LaLiga",
          "LaLiga",
          "UEFA Champions League",
          "LaLiga",
          "LaLiga",
          "LaLiga",
          "LaLiga",
          "UEFA Champions League",
          "LaLiga",
          "LaLiga",
          "LaLiga",
          "Copa del Rey",
          "LaLiga",
          "LaLiga",
          "Copa del Rey",
          "Copa del Rey",
          "UEFA Champions League",
          "UEFA Champions League",
          "LaLiga",
          "LaLiga",
          "LaLiga",
          "UEFA Champions League",
          "UEFA Champions League",
          "LaLiga",
          "LaLiga",
          "LaLiga",
          "UEFA Champions League",
          "LaLiga",
          "LaLiga",
          "UEFA Champions League",
          "UEFA Champions League",
          "LaLiga",
          "UEFA Champions League",
          "UEFA Super Cup",
          "UEFA Super Cup",
          "LaLiga",
          "LaLiga",
          "UEFA Champions League",
          "LaLiga",
          "LaLiga",
          "LaLiga",
          "LaLiga",
          "LaLiga",
          "LaLiga",
          "LaLiga",
          "LaLiga",
          "UEFA Champions League",
          "LaLiga",
          "LaLiga",
          "LaLiga",
          "LaLiga",
          "LaLiga",
          "UEFA Champions League",
          "LaLiga",
          "LaLiga",
          "LaLiga",
          "LaLiga",
          "LaLiga",
          "UEFA Champions League",
          "LaLiga",
          "LaLiga",
          "LaLiga",
          "UEFA Champions League",
          "LaLiga",
          "LaLiga",
          "LaLiga",
          "Copa del Rey",
          "LaLiga",
          "LaLiga",
          "UEFA Champions League",
          "LaLiga",
          "LaLiga",
          "UEFA Champions League",
          "UEFA Champions League",
          "LaLiga",
          "LaLiga",
          "LaLiga",
          "LaLiga",
          "LaLiga",
          "LaLiga",
          "LaLiga",
          "LaLiga",
          "LaLiga",
          "LaLiga",
          "LaLiga",
          "LaLiga",
          "UEFA Champions League",
          "UEFA Champions League",
          "LaLiga",
          "LaLiga",
          "LaLiga",
          "LaLiga",
          "LaLiga",
          "LaLiga",
          "LaLiga",
          "LaLiga",
          "LaLiga",
          "LaLiga",
          "LaLiga",
          "UEFA Champions League",
          "UEFA Champions League",
          "UEFA Champions League",
          "UEFA Champions League",
          "UEFA Champions League",
          "LaLiga",
          "LaLiga",
          "LaLiga",
          "UEFA Champions League",
          "UEFA Champions League",
          "LaLiga",
          "LaLiga",
          "UEFA Champions League",
          "UEFA Champions League",
          "UEFA Champions League",
          "UEFA Champions League",
          "LaLiga",
          "LaLiga",
          "LaLiga",
          "LaLiga",
          "LaLiga",
          "LaLiga",
          "LaLiga",
          "LaLiga",
          "LaLiga",
          "LaLiga",
          "LaLiga",
          "UEFA Champions League",
          "LaLiga",
          "LaLiga",
          "LaLiga",
          "LaLiga",
          "LaLiga",
          "LaLiga",
          "UEFA Champions League",
          "LaLiga",
          "LaLiga",
          "LaLiga",
          "UEFA Champions League",
          "UEFA Champions League",
          "UEFA Champions League",
          "LaLiga",
          "LaLiga",
          "LaLiga",
          "LaLiga",
          "LaLiga",
          "LaLiga",
          "UEFA Champions League",
          "UEFA Champions League",
          "LaLiga",
          "LaLiga",
          "LaLiga",
          "LaLiga",
          "LaLiga",
          "LaLiga",
          "LaLiga",
          "LaLiga",
          "LaLiga",
          "FIFA Club World Cup",
          "FIFA Club World Cup",
          "FIFA Club World Cup",
          "FIFA Club World Cup",
          "LaLiga",
          "LaLiga",
          "Copa del Rey",
          "LaLiga",
          "LaLiga",
          "LaLiga",
          "LaLiga",
          "LaLiga",
          "LaLiga",
          "LaLiga",
          "UEFA Champions League",
          "UEFA Champions League",
          "UEFA Champions League",
          "UEFA Champions League",
          "UEFA Champions League",
          "LaLiga",
          "UEFA Champions League",
          "UEFA Champions League",
          "UEFA Champions League",
          "LaLiga",
          "LaLiga",
          "LaLiga",
          "LaLiga",
          "LaLiga",
          "UEFA Champions League",
          "UEFA Champions League",
          "Supercopa",
          "UEFA Champions League",
          "UEFA Champions League",
          "UEFA Champions League",
          "UEFA Champions League",
          "LaLiga",
          "UEFA Champions League",
          "UEFA Champions League",
          "UEFA Champions League",
          "UEFA Champions League",
          "LaLiga",
          "UEFA Champions League",
          "LaLiga",
          "LaLiga",
          "FIFA Club World Cup",
          "FIFA Club World Cup",
          "LaLiga",
          "LaLiga",
          "LaLiga",
          "LaLiga",
          "LaLiga",
          "LaLiga",
          "LaLiga",
          "UEFA Champions League",
          "UEFA Champions League",
          "LaLiga",
          "LaLiga",
          "LaLiga",
          "LaLiga",
          "LaLiga",
          "UEFA Champions League",
          "LaLiga",
          "LaLiga",
          "LaLiga",
          "LaLiga",
          "LaLiga",
          "LaLiga",
          "UEFA Champions League",
          "UEFA Champions League",
          "LaLiga",
          "UEFA Champions League",
          "LaLiga",
          "LaLiga",
          "LaLiga"
         ],
         "xaxis": "x",
         "yaxis": "y"
        },
        {
         "alignmentgroup": "True",
         "bingroup": "x",
         "hovertemplate": "Club=Juventus FC<br>Competition=%{x}<br>count=%{y}<extra></extra>",
         "legendgroup": "Juventus FC",
         "marker": {
          "color": "#ab63fa",
          "pattern": {
           "shape": ""
          }
         },
         "name": "Juventus FC",
         "offsetgroup": "Juventus FC",
         "orientation": "v",
         "showlegend": true,
         "type": "histogram",
         "x": [
          "Serie A",
          "Serie A",
          "Serie A",
          "Serie A",
          "Serie A",
          "Serie A",
          "Serie A",
          "UEFA Champions League",
          "Serie A",
          "Serie A",
          "Serie A",
          "Serie A",
          "Serie A",
          "Serie A",
          "Serie A",
          "Supercoppa Italiana",
          "Serie A",
          "Serie A",
          "Serie A",
          "Serie A",
          "Serie A",
          "UEFA Champions League",
          "UEFA Champions League",
          "UEFA Champions League",
          "UEFA Champions League",
          "UEFA Champions League",
          "Serie A",
          "Serie A",
          "Serie A",
          "Serie A",
          "Serie A",
          "UEFA Champions League",
          "Serie A",
          "Serie A",
          "Serie A",
          "Serie A",
          "UEFA Champions League",
          "Serie A",
          "Serie A",
          "Serie A",
          "Serie A",
          "Serie A",
          "Serie A",
          "Serie A",
          "Serie A",
          "Serie A",
          "Italy Cup",
          "Serie A",
          "Serie A",
          "Serie A",
          "Serie A",
          "Italy Cup",
          "Serie A",
          "Serie A",
          "Serie A",
          "Serie A",
          "Serie A",
          "Serie A",
          "Serie A",
          "Serie A",
          "Serie A",
          "Serie A",
          "Serie A",
          "UEFA Champions League",
          "UEFA Champions League",
          "Serie A",
          "Serie A",
          "Serie A",
          "Serie A",
          "Serie A",
          "Serie A",
          "Serie A",
          "Serie A",
          "UEFA Champions League",
          "UEFA Champions League",
          "UEFA Champions League",
          "UEFA Champions League",
          "Serie A",
          "Serie A",
          "Serie A",
          "Serie A",
          "Serie A",
          "Serie A",
          "Serie A",
          "Supercoppa Italiana",
          "Italy Cup",
          "Italy Cup",
          "Serie A",
          "Serie A",
          "Serie A",
          "Serie A",
          "Serie A",
          "Serie A",
          "Serie A",
          "Serie A",
          "Serie A",
          "Serie A",
          "Serie A",
          "Serie A",
          "Serie A",
          "Serie A"
         ],
         "xaxis": "x",
         "yaxis": "y"
        },
        {
         "alignmentgroup": "True",
         "bingroup": "x",
         "hovertemplate": "Club=Al-Nassr FC<br>Competition=%{x}<br>count=%{y}<extra></extra>",
         "legendgroup": "Al-Nassr FC",
         "marker": {
          "color": "#FFA15A",
          "pattern": {
           "shape": ""
          }
         },
         "name": "Al-Nassr FC",
         "offsetgroup": "Al-Nassr FC",
         "orientation": "v",
         "showlegend": true,
         "type": "histogram",
         "x": [
          "Saudi Pro League",
          "Saudi Pro League",
          "Saudi Pro League",
          "Saudi Pro League",
          "Saudi Pro League",
          "Saudi Pro League",
          "Saudi Pro League",
          "Saudi Pro League",
          "Saudi Pro League"
         ],
         "xaxis": "x",
         "yaxis": "y"
        }
       ],
       "layout": {
        "barmode": "relative",
        "height": 500,
        "legend": {
         "title": {
          "text": "Club"
         },
         "tracegroupgap": 0
        },
        "template": {
         "data": {
          "bar": [
           {
            "error_x": {
             "color": "#2a3f5f"
            },
            "error_y": {
             "color": "#2a3f5f"
            },
            "marker": {
             "line": {
              "color": "#E5ECF6",
              "width": 0.5
             },
             "pattern": {
              "fillmode": "overlay",
              "size": 10,
              "solidity": 0.2
             }
            },
            "type": "bar"
           }
          ],
          "barpolar": [
           {
            "marker": {
             "line": {
              "color": "#E5ECF6",
              "width": 0.5
             },
             "pattern": {
              "fillmode": "overlay",
              "size": 10,
              "solidity": 0.2
             }
            },
            "type": "barpolar"
           }
          ],
          "carpet": [
           {
            "aaxis": {
             "endlinecolor": "#2a3f5f",
             "gridcolor": "white",
             "linecolor": "white",
             "minorgridcolor": "white",
             "startlinecolor": "#2a3f5f"
            },
            "baxis": {
             "endlinecolor": "#2a3f5f",
             "gridcolor": "white",
             "linecolor": "white",
             "minorgridcolor": "white",
             "startlinecolor": "#2a3f5f"
            },
            "type": "carpet"
           }
          ],
          "choropleth": [
           {
            "colorbar": {
             "outlinewidth": 0,
             "ticks": ""
            },
            "type": "choropleth"
           }
          ],
          "contour": [
           {
            "colorbar": {
             "outlinewidth": 0,
             "ticks": ""
            },
            "colorscale": [
             [
              0,
              "#0d0887"
             ],
             [
              0.1111111111111111,
              "#46039f"
             ],
             [
              0.2222222222222222,
              "#7201a8"
             ],
             [
              0.3333333333333333,
              "#9c179e"
             ],
             [
              0.4444444444444444,
              "#bd3786"
             ],
             [
              0.5555555555555556,
              "#d8576b"
             ],
             [
              0.6666666666666666,
              "#ed7953"
             ],
             [
              0.7777777777777778,
              "#fb9f3a"
             ],
             [
              0.8888888888888888,
              "#fdca26"
             ],
             [
              1,
              "#f0f921"
             ]
            ],
            "type": "contour"
           }
          ],
          "contourcarpet": [
           {
            "colorbar": {
             "outlinewidth": 0,
             "ticks": ""
            },
            "type": "contourcarpet"
           }
          ],
          "heatmap": [
           {
            "colorbar": {
             "outlinewidth": 0,
             "ticks": ""
            },
            "colorscale": [
             [
              0,
              "#0d0887"
             ],
             [
              0.1111111111111111,
              "#46039f"
             ],
             [
              0.2222222222222222,
              "#7201a8"
             ],
             [
              0.3333333333333333,
              "#9c179e"
             ],
             [
              0.4444444444444444,
              "#bd3786"
             ],
             [
              0.5555555555555556,
              "#d8576b"
             ],
             [
              0.6666666666666666,
              "#ed7953"
             ],
             [
              0.7777777777777778,
              "#fb9f3a"
             ],
             [
              0.8888888888888888,
              "#fdca26"
             ],
             [
              1,
              "#f0f921"
             ]
            ],
            "type": "heatmap"
           }
          ],
          "heatmapgl": [
           {
            "colorbar": {
             "outlinewidth": 0,
             "ticks": ""
            },
            "colorscale": [
             [
              0,
              "#0d0887"
             ],
             [
              0.1111111111111111,
              "#46039f"
             ],
             [
              0.2222222222222222,
              "#7201a8"
             ],
             [
              0.3333333333333333,
              "#9c179e"
             ],
             [
              0.4444444444444444,
              "#bd3786"
             ],
             [
              0.5555555555555556,
              "#d8576b"
             ],
             [
              0.6666666666666666,
              "#ed7953"
             ],
             [
              0.7777777777777778,
              "#fb9f3a"
             ],
             [
              0.8888888888888888,
              "#fdca26"
             ],
             [
              1,
              "#f0f921"
             ]
            ],
            "type": "heatmapgl"
           }
          ],
          "histogram": [
           {
            "marker": {
             "pattern": {
              "fillmode": "overlay",
              "size": 10,
              "solidity": 0.2
             }
            },
            "type": "histogram"
           }
          ],
          "histogram2d": [
           {
            "colorbar": {
             "outlinewidth": 0,
             "ticks": ""
            },
            "colorscale": [
             [
              0,
              "#0d0887"
             ],
             [
              0.1111111111111111,
              "#46039f"
             ],
             [
              0.2222222222222222,
              "#7201a8"
             ],
             [
              0.3333333333333333,
              "#9c179e"
             ],
             [
              0.4444444444444444,
              "#bd3786"
             ],
             [
              0.5555555555555556,
              "#d8576b"
             ],
             [
              0.6666666666666666,
              "#ed7953"
             ],
             [
              0.7777777777777778,
              "#fb9f3a"
             ],
             [
              0.8888888888888888,
              "#fdca26"
             ],
             [
              1,
              "#f0f921"
             ]
            ],
            "type": "histogram2d"
           }
          ],
          "histogram2dcontour": [
           {
            "colorbar": {
             "outlinewidth": 0,
             "ticks": ""
            },
            "colorscale": [
             [
              0,
              "#0d0887"
             ],
             [
              0.1111111111111111,
              "#46039f"
             ],
             [
              0.2222222222222222,
              "#7201a8"
             ],
             [
              0.3333333333333333,
              "#9c179e"
             ],
             [
              0.4444444444444444,
              "#bd3786"
             ],
             [
              0.5555555555555556,
              "#d8576b"
             ],
             [
              0.6666666666666666,
              "#ed7953"
             ],
             [
              0.7777777777777778,
              "#fb9f3a"
             ],
             [
              0.8888888888888888,
              "#fdca26"
             ],
             [
              1,
              "#f0f921"
             ]
            ],
            "type": "histogram2dcontour"
           }
          ],
          "mesh3d": [
           {
            "colorbar": {
             "outlinewidth": 0,
             "ticks": ""
            },
            "type": "mesh3d"
           }
          ],
          "parcoords": [
           {
            "line": {
             "colorbar": {
              "outlinewidth": 0,
              "ticks": ""
             }
            },
            "type": "parcoords"
           }
          ],
          "pie": [
           {
            "automargin": true,
            "type": "pie"
           }
          ],
          "scatter": [
           {
            "fillpattern": {
             "fillmode": "overlay",
             "size": 10,
             "solidity": 0.2
            },
            "type": "scatter"
           }
          ],
          "scatter3d": [
           {
            "line": {
             "colorbar": {
              "outlinewidth": 0,
              "ticks": ""
             }
            },
            "marker": {
             "colorbar": {
              "outlinewidth": 0,
              "ticks": ""
             }
            },
            "type": "scatter3d"
           }
          ],
          "scattercarpet": [
           {
            "marker": {
             "colorbar": {
              "outlinewidth": 0,
              "ticks": ""
             }
            },
            "type": "scattercarpet"
           }
          ],
          "scattergeo": [
           {
            "marker": {
             "colorbar": {
              "outlinewidth": 0,
              "ticks": ""
             }
            },
            "type": "scattergeo"
           }
          ],
          "scattergl": [
           {
            "marker": {
             "colorbar": {
              "outlinewidth": 0,
              "ticks": ""
             }
            },
            "type": "scattergl"
           }
          ],
          "scattermapbox": [
           {
            "marker": {
             "colorbar": {
              "outlinewidth": 0,
              "ticks": ""
             }
            },
            "type": "scattermapbox"
           }
          ],
          "scatterpolar": [
           {
            "marker": {
             "colorbar": {
              "outlinewidth": 0,
              "ticks": ""
             }
            },
            "type": "scatterpolar"
           }
          ],
          "scatterpolargl": [
           {
            "marker": {
             "colorbar": {
              "outlinewidth": 0,
              "ticks": ""
             }
            },
            "type": "scatterpolargl"
           }
          ],
          "scatterternary": [
           {
            "marker": {
             "colorbar": {
              "outlinewidth": 0,
              "ticks": ""
             }
            },
            "type": "scatterternary"
           }
          ],
          "surface": [
           {
            "colorbar": {
             "outlinewidth": 0,
             "ticks": ""
            },
            "colorscale": [
             [
              0,
              "#0d0887"
             ],
             [
              0.1111111111111111,
              "#46039f"
             ],
             [
              0.2222222222222222,
              "#7201a8"
             ],
             [
              0.3333333333333333,
              "#9c179e"
             ],
             [
              0.4444444444444444,
              "#bd3786"
             ],
             [
              0.5555555555555556,
              "#d8576b"
             ],
             [
              0.6666666666666666,
              "#ed7953"
             ],
             [
              0.7777777777777778,
              "#fb9f3a"
             ],
             [
              0.8888888888888888,
              "#fdca26"
             ],
             [
              1,
              "#f0f921"
             ]
            ],
            "type": "surface"
           }
          ],
          "table": [
           {
            "cells": {
             "fill": {
              "color": "#EBF0F8"
             },
             "line": {
              "color": "white"
             }
            },
            "header": {
             "fill": {
              "color": "#C8D4E3"
             },
             "line": {
              "color": "white"
             }
            },
            "type": "table"
           }
          ]
         },
         "layout": {
          "annotationdefaults": {
           "arrowcolor": "#2a3f5f",
           "arrowhead": 0,
           "arrowwidth": 1
          },
          "autotypenumbers": "strict",
          "coloraxis": {
           "colorbar": {
            "outlinewidth": 0,
            "ticks": ""
           }
          },
          "colorscale": {
           "diverging": [
            [
             0,
             "#8e0152"
            ],
            [
             0.1,
             "#c51b7d"
            ],
            [
             0.2,
             "#de77ae"
            ],
            [
             0.3,
             "#f1b6da"
            ],
            [
             0.4,
             "#fde0ef"
            ],
            [
             0.5,
             "#f7f7f7"
            ],
            [
             0.6,
             "#e6f5d0"
            ],
            [
             0.7,
             "#b8e186"
            ],
            [
             0.8,
             "#7fbc41"
            ],
            [
             0.9,
             "#4d9221"
            ],
            [
             1,
             "#276419"
            ]
           ],
           "sequential": [
            [
             0,
             "#0d0887"
            ],
            [
             0.1111111111111111,
             "#46039f"
            ],
            [
             0.2222222222222222,
             "#7201a8"
            ],
            [
             0.3333333333333333,
             "#9c179e"
            ],
            [
             0.4444444444444444,
             "#bd3786"
            ],
            [
             0.5555555555555556,
             "#d8576b"
            ],
            [
             0.6666666666666666,
             "#ed7953"
            ],
            [
             0.7777777777777778,
             "#fb9f3a"
            ],
            [
             0.8888888888888888,
             "#fdca26"
            ],
            [
             1,
             "#f0f921"
            ]
           ],
           "sequentialminus": [
            [
             0,
             "#0d0887"
            ],
            [
             0.1111111111111111,
             "#46039f"
            ],
            [
             0.2222222222222222,
             "#7201a8"
            ],
            [
             0.3333333333333333,
             "#9c179e"
            ],
            [
             0.4444444444444444,
             "#bd3786"
            ],
            [
             0.5555555555555556,
             "#d8576b"
            ],
            [
             0.6666666666666666,
             "#ed7953"
            ],
            [
             0.7777777777777778,
             "#fb9f3a"
            ],
            [
             0.8888888888888888,
             "#fdca26"
            ],
            [
             1,
             "#f0f921"
            ]
           ]
          },
          "colorway": [
           "#636efa",
           "#EF553B",
           "#00cc96",
           "#ab63fa",
           "#FFA15A",
           "#19d3f3",
           "#FF6692",
           "#B6E880",
           "#FF97FF",
           "#FECB52"
          ],
          "font": {
           "color": "#2a3f5f"
          },
          "geo": {
           "bgcolor": "white",
           "lakecolor": "white",
           "landcolor": "#E5ECF6",
           "showlakes": true,
           "showland": true,
           "subunitcolor": "white"
          },
          "hoverlabel": {
           "align": "left"
          },
          "hovermode": "closest",
          "mapbox": {
           "style": "light"
          },
          "paper_bgcolor": "white",
          "plot_bgcolor": "#E5ECF6",
          "polar": {
           "angularaxis": {
            "gridcolor": "white",
            "linecolor": "white",
            "ticks": ""
           },
           "bgcolor": "#E5ECF6",
           "radialaxis": {
            "gridcolor": "white",
            "linecolor": "white",
            "ticks": ""
           }
          },
          "scene": {
           "xaxis": {
            "backgroundcolor": "#E5ECF6",
            "gridcolor": "white",
            "gridwidth": 2,
            "linecolor": "white",
            "showbackground": true,
            "ticks": "",
            "zerolinecolor": "white"
           },
           "yaxis": {
            "backgroundcolor": "#E5ECF6",
            "gridcolor": "white",
            "gridwidth": 2,
            "linecolor": "white",
            "showbackground": true,
            "ticks": "",
            "zerolinecolor": "white"
           },
           "zaxis": {
            "backgroundcolor": "#E5ECF6",
            "gridcolor": "white",
            "gridwidth": 2,
            "linecolor": "white",
            "showbackground": true,
            "ticks": "",
            "zerolinecolor": "white"
           }
          },
          "shapedefaults": {
           "line": {
            "color": "#2a3f5f"
           }
          },
          "ternary": {
           "aaxis": {
            "gridcolor": "white",
            "linecolor": "white",
            "ticks": ""
           },
           "baxis": {
            "gridcolor": "white",
            "linecolor": "white",
            "ticks": ""
           },
           "bgcolor": "#E5ECF6",
           "caxis": {
            "gridcolor": "white",
            "linecolor": "white",
            "ticks": ""
           }
          },
          "title": {
           "x": 0.05
          },
          "xaxis": {
           "automargin": true,
           "gridcolor": "white",
           "linecolor": "white",
           "ticks": "",
           "title": {
            "standoff": 15
           },
           "zerolinecolor": "white",
           "zerolinewidth": 2
          },
          "yaxis": {
           "automargin": true,
           "gridcolor": "white",
           "linecolor": "white",
           "ticks": "",
           "title": {
            "standoff": 15
           },
           "zerolinecolor": "white",
           "zerolinewidth": 2
          }
         }
        },
        "title": {
         "text": "Goals per competition"
        },
        "xaxis": {
         "anchor": "y",
         "domain": [
          0,
          1
         ],
         "title": {
          "text": "Competition"
         }
        },
        "yaxis": {
         "anchor": "x",
         "domain": [
          0,
          1
         ],
         "title": {
          "text": "count"
         }
        }
       }
      },
      "text/html": [
       "<div>                            <div id=\"882cd198-f0a7-453a-a4a7-1cee05aba6fe\" class=\"plotly-graph-div\" style=\"height:500px; width:100%;\"></div>            <script type=\"text/javascript\">                require([\"plotly\"], function(Plotly) {                    window.PLOTLYENV=window.PLOTLYENV || {};                                    if (document.getElementById(\"882cd198-f0a7-453a-a4a7-1cee05aba6fe\")) {                    Plotly.newPlot(                        \"882cd198-f0a7-453a-a4a7-1cee05aba6fe\",                        [{\"alignmentgroup\":\"True\",\"bingroup\":\"x\",\"hovertemplate\":\"Club=Sporting CP<br>Competition=%{x}<br>count=%{y}<extra></extra>\",\"legendgroup\":\"Sporting CP\",\"marker\":{\"color\":\"#636efa\",\"pattern\":{\"shape\":\"\"}},\"name\":\"Sporting CP\",\"offsetgroup\":\"Sporting CP\",\"orientation\":\"v\",\"showlegend\":true,\"x\":[\"Liga Portugal\",\"Liga Portugal\",\"Liga Portugal\",\"Taca de Portugal Placard\",\"Taca de Portugal Placard\"],\"xaxis\":\"x\",\"yaxis\":\"y\",\"type\":\"histogram\"},{\"alignmentgroup\":\"True\",\"bingroup\":\"x\",\"hovertemplate\":\"Club=Manchester United<br>Competition=%{x}<br>count=%{y}<extra></extra>\",\"legendgroup\":\"Manchester United\",\"marker\":{\"color\":\"#EF553B\",\"pattern\":{\"shape\":\"\"}},\"name\":\"Manchester United\",\"offsetgroup\":\"Manchester United\",\"orientation\":\"v\",\"showlegend\":true,\"x\":[\"Premier League\",\"FA Cup\",\"Premier League\",\"Premier League\",\"Premier League\",\"FA Cup\",\"Premier League\",\"FA Cup\",\"Premier League\",\"Premier League\",\"Premier League\",\"FA Cup\",\"FA Cup\",\"Premier League\",\"FA Cup\",\"UEFA Champions League Qualifying\",\"Premier League\",\"EFL Cup\",\"Premier League\",\"Premier League\",\"Premier League\",\"Premier League\",\"Premier League\",\"Premier League\",\"EFL Cup\",\"Premier League\",\"Premier League\",\"Premier League\",\"Premier League\",\"Premier League\",\"Premier League\",\"Premier League\",\"Premier League\",\"Premier League\",\"Premier League\",\"Premier League\",\"Premier League\",\"Premier League\",\"Premier League\",\"Premier League\",\"Premier League\",\"Premier League\",\"Premier League\",\"FA Cup\",\"FA Cup\",\"UEFA Champions League\",\"UEFA Champions League\",\"FA Cup\",\"UEFA Champions League\",\"Premier League\",\"UEFA Champions League\",\"Premier League\",\"Premier League\",\"Premier League\",\"UEFA Champions League\",\"UEFA Champions League\",\"Premier League\",\"UEFA Champions League\",\"Premier League\",\"Premier League\",\"UEFA Champions League\",\"Premier League\",\"Premier League\",\"Premier League\",\"Premier League\",\"Premier League\",\"Premier League\",\"Premier League\",\"FA Cup\",\"Premier League\",\"Premier League\",\"Premier League\",\"Premier League\",\"FA Cup\",\"FA Cup\",\"Premier League\",\"Premier League\",\"Premier League\",\"Premier League\",\"UEFA Champions League\",\"Premier League\",\"Premier League\",\"Premier League\",\"Premier League\",\"Premier League\",\"UEFA Champions League\",\"Premier League\",\"Premier League\",\"Premier League\",\"Premier League\",\"Premier League\",\"UEFA Champions League\",\"EFL Cup\",\"Premier League\",\"Premier League\",\"Premier League\",\"Premier League\",\"Premier League\",\"Premier League\",\"Premier League\",\"Premier League\",\"FIFA Club World Cup\",\"EFL Cup\",\"Premier League\",\"Premier League\",\"Premier League\",\"FA Cup\",\"Premier League\",\"UEFA Champions League\",\"Premier League\",\"Premier League\",\"Premier League\",\"UEFA Champions League\",\"Premier League\",\"Premier League\",\"UEFA Champions League\",\"UEFA Champions League\",\"Premier League\",\"Premier League\",\"Premier League\",\"UEFA Champions League\",\"Premier League\",\"UEFA Champions League\",\"UEFA Champions League\",\"Premier League\",\"UEFA Champions League\",\"UEFA Champions League\",\"UEFA Champions League\",\"Premier League\",\"Premier League\",\"Premier League\",\"Premier League\",\"Premier League\",\"Premier League\",\"Premier League\",\"Premier League\",\"Premier League\",\"Premier League\",\"Premier League\",\"Premier League\",\"Premier League\",\"Premier League\",\"Europa League\",\"Premier League\",\"Europa League\"],\"xaxis\":\"x\",\"yaxis\":\"y\",\"type\":\"histogram\"},{\"alignmentgroup\":\"True\",\"bingroup\":\"x\",\"hovertemplate\":\"Club=Real Madrid<br>Competition=%{x}<br>count=%{y}<extra></extra>\",\"legendgroup\":\"Real Madrid\",\"marker\":{\"color\":\"#00cc96\",\"pattern\":{\"shape\":\"\"}},\"name\":\"Real Madrid\",\"offsetgroup\":\"Real Madrid\",\"orientation\":\"v\",\"showlegend\":true,\"x\":[\"LaLiga\",\"LaLiga\",\"UEFA Champions League\",\"UEFA Champions League\",\"LaLiga\",\"LaLiga\",\"LaLiga\",\"UEFA Champions League\",\"UEFA Champions League\",\"LaLiga\",\"UEFA Champions League\",\"UEFA Champions League\",\"LaLiga\",\"LaLiga\",\"LaLiga\",\"LaLiga\",\"LaLiga\",\"LaLiga\",\"LaLiga\",\"LaLiga\",\"UEFA Champions League\",\"LaLiga\",\"LaLiga\",\"LaLiga\",\"LaLiga\",\"LaLiga\",\"LaLiga\",\"LaLiga\",\"LaLiga\",\"LaLiga\",\"LaLiga\",\"LaLiga\",\"LaLiga\",\"LaLiga\",\"LaLiga\",\"LaLiga\",\"LaLiga\",\"LaLiga\",\"UEFA Champions League\",\"LaLiga\",\"LaLiga\",\"LaLiga\",\"LaLiga\",\"LaLiga\",\"LaLiga\",\"Copa del Rey\",\"LaLiga\",\"LaLiga\",\"LaLiga\",\"UEFA Champions League\",\"UEFA Champions League\",\"LaLiga\",\"LaLiga\",\"UEFA Champions League\",\"LaLiga\",\"Copa del Rey\",\"Copa del Rey\",\"Copa del Rey\",\"LaLiga\",\"LaLiga\",\"LaLiga\",\"LaLiga\",\"LaLiga\",\"Copa del Rey\",\"Copa del Rey\",\"LaLiga\",\"LaLiga\",\"LaLiga\",\"LaLiga\",\"LaLiga\",\"UEFA Champions League\",\"LaLiga\",\"UEFA Champions League\",\"LaLiga\",\"Copa del Rey\",\"LaLiga\",\"LaLiga\",\"LaLiga\",\"LaLiga\",\"LaLiga\",\"LaLiga\",\"LaLiga\",\"LaLiga\",\"LaLiga\",\"LaLiga\",\"LaLiga\",\"Supercopa\",\"LaLiga\",\"LaLiga\",\"LaLiga\",\"LaLiga\",\"LaLiga\",\"LaLiga\",\"LaLiga\",\"UEFA Champions League\",\"LaLiga\",\"LaLiga\",\"LaLiga\",\"UEFA Champions League\",\"UEFA Champions League\",\"LaLiga\",\"LaLiga\",\"LaLiga\",\"LaLiga\",\"LaLiga\",\"LaLiga\",\"LaLiga\",\"Copa del Rey\",\"LaLiga\",\"LaLiga\",\"LaLiga\",\"LaLiga\",\"Copa del Rey\",\"LaLiga\",\"LaLiga\",\"Copa del Rey\",\"LaLiga\",\"LaLiga\",\"LaLiga\",\"LaLiga\",\"LaLiga\",\"UEFA Champions League\",\"LaLiga\",\"LaLiga\",\"LaLiga\",\"LaLiga\",\"UEFA Champions League\",\"UEFA Champions League\",\"LaLiga\",\"LaLiga\",\"LaLiga\",\"LaLiga\",\"LaLiga\",\"UEFA Champions League\",\"UEFA Champions League\",\"LaLiga\",\"LaLiga\",\"LaLiga\",\"LaLiga\",\"LaLiga\",\"UEFA Champions League\",\"UEFA Champions League\",\"LaLiga\",\"LaLiga\",\"LaLiga\",\"LaLiga\",\"Supercopa\",\"Supercopa\",\"LaLiga\",\"LaLiga\",\"UEFA Champions League\",\"LaLiga\",\"LaLiga\",\"LaLiga\",\"LaLiga\",\"UEFA Champions League\",\"UEFA Champions League\",\"UEFA Champions League\",\"LaLiga\",\"LaLiga\",\"LaLiga\",\"UEFA Champions League\",\"LaLiga\",\"LaLiga\",\"LaLiga\",\"LaLiga\",\"UEFA Champions League\",\"Copa del Rey\",\"LaLiga\",\"LaLiga\",\"LaLiga\",\"Copa del Rey\",\"Copa del Rey\",\"Copa del Rey\",\"LaLiga\",\"LaLiga\",\"LaLiga\",\"LaLiga\",\"LaLiga\",\"LaLiga\",\"LaLiga\",\"LaLiga\",\"UEFA Champions League\",\"Copa del Rey\",\"Copa del Rey\",\"UEFA Champions League\",\"LaLiga\",\"LaLiga\",\"LaLiga\",\"LaLiga\",\"UEFA Champions League\",\"LaLiga\",\"UEFA Champions League\",\"UEFA Champions League\",\"LaLiga\",\"LaLiga\",\"UEFA Champions League\",\"LaLiga\",\"LaLiga\",\"LaLiga\",\"Copa del Rey\",\"LaLiga\",\"LaLiga\",\"UEFA Champions League\",\"UEFA Champions League\",\"UEFA Champions League\",\"LaLiga\",\"LaLiga\",\"LaLiga\",\"LaLiga\",\"UEFA Champions League\",\"UEFA Champions League\",\"LaLiga\",\"LaLiga\",\"UEFA Champions League\",\"UEFA Champions League\",\"LaLiga\",\"LaLiga\",\"LaLiga\",\"LaLiga\",\"LaLiga\",\"UEFA Champions League\",\"LaLiga\",\"LaLiga\",\"LaLiga\",\"LaLiga\",\"UEFA Champions League\",\"LaLiga\",\"LaLiga\",\"LaLiga\",\"Copa del Rey\",\"LaLiga\",\"LaLiga\",\"Copa del Rey\",\"Copa del Rey\",\"UEFA Champions League\",\"UEFA Champions League\",\"LaLiga\",\"LaLiga\",\"LaLiga\",\"UEFA Champions League\",\"UEFA Champions League\",\"LaLiga\",\"LaLiga\",\"LaLiga\",\"UEFA Champions League\",\"LaLiga\",\"LaLiga\",\"UEFA Champions League\",\"UEFA Champions League\",\"LaLiga\",\"UEFA Champions League\",\"UEFA Super Cup\",\"UEFA Super Cup\",\"LaLiga\",\"LaLiga\",\"UEFA Champions League\",\"LaLiga\",\"LaLiga\",\"LaLiga\",\"LaLiga\",\"LaLiga\",\"LaLiga\",\"LaLiga\",\"LaLiga\",\"UEFA Champions League\",\"LaLiga\",\"LaLiga\",\"LaLiga\",\"LaLiga\",\"LaLiga\",\"UEFA Champions League\",\"LaLiga\",\"LaLiga\",\"LaLiga\",\"LaLiga\",\"LaLiga\",\"UEFA Champions League\",\"LaLiga\",\"LaLiga\",\"LaLiga\",\"UEFA Champions League\",\"LaLiga\",\"LaLiga\",\"LaLiga\",\"Copa del Rey\",\"LaLiga\",\"LaLiga\",\"UEFA Champions League\",\"LaLiga\",\"LaLiga\",\"UEFA Champions League\",\"UEFA Champions League\",\"LaLiga\",\"LaLiga\",\"LaLiga\",\"LaLiga\",\"LaLiga\",\"LaLiga\",\"LaLiga\",\"LaLiga\",\"LaLiga\",\"LaLiga\",\"LaLiga\",\"LaLiga\",\"UEFA Champions League\",\"UEFA Champions League\",\"LaLiga\",\"LaLiga\",\"LaLiga\",\"LaLiga\",\"LaLiga\",\"LaLiga\",\"LaLiga\",\"LaLiga\",\"LaLiga\",\"LaLiga\",\"LaLiga\",\"UEFA Champions League\",\"UEFA Champions League\",\"UEFA Champions League\",\"UEFA Champions League\",\"UEFA Champions League\",\"LaLiga\",\"LaLiga\",\"LaLiga\",\"UEFA Champions League\",\"UEFA Champions League\",\"LaLiga\",\"LaLiga\",\"UEFA Champions League\",\"UEFA Champions League\",\"UEFA Champions League\",\"UEFA Champions League\",\"LaLiga\",\"LaLiga\",\"LaLiga\",\"LaLiga\",\"LaLiga\",\"LaLiga\",\"LaLiga\",\"LaLiga\",\"LaLiga\",\"LaLiga\",\"LaLiga\",\"UEFA Champions League\",\"LaLiga\",\"LaLiga\",\"LaLiga\",\"LaLiga\",\"LaLiga\",\"LaLiga\",\"UEFA Champions League\",\"LaLiga\",\"LaLiga\",\"LaLiga\",\"UEFA Champions League\",\"UEFA Champions League\",\"UEFA Champions League\",\"LaLiga\",\"LaLiga\",\"LaLiga\",\"LaLiga\",\"LaLiga\",\"LaLiga\",\"UEFA Champions League\",\"UEFA Champions League\",\"LaLiga\",\"LaLiga\",\"LaLiga\",\"LaLiga\",\"LaLiga\",\"LaLiga\",\"LaLiga\",\"LaLiga\",\"LaLiga\",\"FIFA Club World Cup\",\"FIFA Club World Cup\",\"FIFA Club World Cup\",\"FIFA Club World Cup\",\"LaLiga\",\"LaLiga\",\"Copa del Rey\",\"LaLiga\",\"LaLiga\",\"LaLiga\",\"LaLiga\",\"LaLiga\",\"LaLiga\",\"LaLiga\",\"UEFA Champions League\",\"UEFA Champions League\",\"UEFA Champions League\",\"UEFA Champions League\",\"UEFA Champions League\",\"LaLiga\",\"UEFA Champions League\",\"UEFA Champions League\",\"UEFA Champions League\",\"LaLiga\",\"LaLiga\",\"LaLiga\",\"LaLiga\",\"LaLiga\",\"UEFA Champions League\",\"UEFA Champions League\",\"Supercopa\",\"UEFA Champions League\",\"UEFA Champions League\",\"UEFA Champions League\",\"UEFA Champions League\",\"LaLiga\",\"UEFA Champions League\",\"UEFA Champions League\",\"UEFA Champions League\",\"UEFA Champions League\",\"LaLiga\",\"UEFA Champions League\",\"LaLiga\",\"LaLiga\",\"FIFA Club World Cup\",\"FIFA Club World Cup\",\"LaLiga\",\"LaLiga\",\"LaLiga\",\"LaLiga\",\"LaLiga\",\"LaLiga\",\"LaLiga\",\"UEFA Champions League\",\"UEFA Champions League\",\"LaLiga\",\"LaLiga\",\"LaLiga\",\"LaLiga\",\"LaLiga\",\"UEFA Champions League\",\"LaLiga\",\"LaLiga\",\"LaLiga\",\"LaLiga\",\"LaLiga\",\"LaLiga\",\"UEFA Champions League\",\"UEFA Champions League\",\"LaLiga\",\"UEFA Champions League\",\"LaLiga\",\"LaLiga\",\"LaLiga\"],\"xaxis\":\"x\",\"yaxis\":\"y\",\"type\":\"histogram\"},{\"alignmentgroup\":\"True\",\"bingroup\":\"x\",\"hovertemplate\":\"Club=Juventus FC<br>Competition=%{x}<br>count=%{y}<extra></extra>\",\"legendgroup\":\"Juventus FC\",\"marker\":{\"color\":\"#ab63fa\",\"pattern\":{\"shape\":\"\"}},\"name\":\"Juventus FC\",\"offsetgroup\":\"Juventus FC\",\"orientation\":\"v\",\"showlegend\":true,\"x\":[\"Serie A\",\"Serie A\",\"Serie A\",\"Serie A\",\"Serie A\",\"Serie A\",\"Serie A\",\"UEFA Champions League\",\"Serie A\",\"Serie A\",\"Serie A\",\"Serie A\",\"Serie A\",\"Serie A\",\"Serie A\",\"Supercoppa Italiana\",\"Serie A\",\"Serie A\",\"Serie A\",\"Serie A\",\"Serie A\",\"UEFA Champions League\",\"UEFA Champions League\",\"UEFA Champions League\",\"UEFA Champions League\",\"UEFA Champions League\",\"Serie A\",\"Serie A\",\"Serie A\",\"Serie A\",\"Serie A\",\"UEFA Champions League\",\"Serie A\",\"Serie A\",\"Serie A\",\"Serie A\",\"UEFA Champions League\",\"Serie A\",\"Serie A\",\"Serie A\",\"Serie A\",\"Serie A\",\"Serie A\",\"Serie A\",\"Serie A\",\"Serie A\",\"Italy Cup\",\"Serie A\",\"Serie A\",\"Serie A\",\"Serie A\",\"Italy Cup\",\"Serie A\",\"Serie A\",\"Serie A\",\"Serie A\",\"Serie A\",\"Serie A\",\"Serie A\",\"Serie A\",\"Serie A\",\"Serie A\",\"Serie A\",\"UEFA Champions League\",\"UEFA Champions League\",\"Serie A\",\"Serie A\",\"Serie A\",\"Serie A\",\"Serie A\",\"Serie A\",\"Serie A\",\"Serie A\",\"UEFA Champions League\",\"UEFA Champions League\",\"UEFA Champions League\",\"UEFA Champions League\",\"Serie A\",\"Serie A\",\"Serie A\",\"Serie A\",\"Serie A\",\"Serie A\",\"Serie A\",\"Supercoppa Italiana\",\"Italy Cup\",\"Italy Cup\",\"Serie A\",\"Serie A\",\"Serie A\",\"Serie A\",\"Serie A\",\"Serie A\",\"Serie A\",\"Serie A\",\"Serie A\",\"Serie A\",\"Serie A\",\"Serie A\",\"Serie A\",\"Serie A\"],\"xaxis\":\"x\",\"yaxis\":\"y\",\"type\":\"histogram\"},{\"alignmentgroup\":\"True\",\"bingroup\":\"x\",\"hovertemplate\":\"Club=Al-Nassr FC<br>Competition=%{x}<br>count=%{y}<extra></extra>\",\"legendgroup\":\"Al-Nassr FC\",\"marker\":{\"color\":\"#FFA15A\",\"pattern\":{\"shape\":\"\"}},\"name\":\"Al-Nassr FC\",\"offsetgroup\":\"Al-Nassr FC\",\"orientation\":\"v\",\"showlegend\":true,\"x\":[\"Saudi Pro League\",\"Saudi Pro League\",\"Saudi Pro League\",\"Saudi Pro League\",\"Saudi Pro League\",\"Saudi Pro League\",\"Saudi Pro League\",\"Saudi Pro League\",\"Saudi Pro League\"],\"xaxis\":\"x\",\"yaxis\":\"y\",\"type\":\"histogram\"}],                        {\"template\":{\"data\":{\"histogram2dcontour\":[{\"type\":\"histogram2dcontour\",\"colorbar\":{\"outlinewidth\":0,\"ticks\":\"\"},\"colorscale\":[[0.0,\"#0d0887\"],[0.1111111111111111,\"#46039f\"],[0.2222222222222222,\"#7201a8\"],[0.3333333333333333,\"#9c179e\"],[0.4444444444444444,\"#bd3786\"],[0.5555555555555556,\"#d8576b\"],[0.6666666666666666,\"#ed7953\"],[0.7777777777777778,\"#fb9f3a\"],[0.8888888888888888,\"#fdca26\"],[1.0,\"#f0f921\"]]}],\"choropleth\":[{\"type\":\"choropleth\",\"colorbar\":{\"outlinewidth\":0,\"ticks\":\"\"}}],\"histogram2d\":[{\"type\":\"histogram2d\",\"colorbar\":{\"outlinewidth\":0,\"ticks\":\"\"},\"colorscale\":[[0.0,\"#0d0887\"],[0.1111111111111111,\"#46039f\"],[0.2222222222222222,\"#7201a8\"],[0.3333333333333333,\"#9c179e\"],[0.4444444444444444,\"#bd3786\"],[0.5555555555555556,\"#d8576b\"],[0.6666666666666666,\"#ed7953\"],[0.7777777777777778,\"#fb9f3a\"],[0.8888888888888888,\"#fdca26\"],[1.0,\"#f0f921\"]]}],\"heatmap\":[{\"type\":\"heatmap\",\"colorbar\":{\"outlinewidth\":0,\"ticks\":\"\"},\"colorscale\":[[0.0,\"#0d0887\"],[0.1111111111111111,\"#46039f\"],[0.2222222222222222,\"#7201a8\"],[0.3333333333333333,\"#9c179e\"],[0.4444444444444444,\"#bd3786\"],[0.5555555555555556,\"#d8576b\"],[0.6666666666666666,\"#ed7953\"],[0.7777777777777778,\"#fb9f3a\"],[0.8888888888888888,\"#fdca26\"],[1.0,\"#f0f921\"]]}],\"heatmapgl\":[{\"type\":\"heatmapgl\",\"colorbar\":{\"outlinewidth\":0,\"ticks\":\"\"},\"colorscale\":[[0.0,\"#0d0887\"],[0.1111111111111111,\"#46039f\"],[0.2222222222222222,\"#7201a8\"],[0.3333333333333333,\"#9c179e\"],[0.4444444444444444,\"#bd3786\"],[0.5555555555555556,\"#d8576b\"],[0.6666666666666666,\"#ed7953\"],[0.7777777777777778,\"#fb9f3a\"],[0.8888888888888888,\"#fdca26\"],[1.0,\"#f0f921\"]]}],\"contourcarpet\":[{\"type\":\"contourcarpet\",\"colorbar\":{\"outlinewidth\":0,\"ticks\":\"\"}}],\"contour\":[{\"type\":\"contour\",\"colorbar\":{\"outlinewidth\":0,\"ticks\":\"\"},\"colorscale\":[[0.0,\"#0d0887\"],[0.1111111111111111,\"#46039f\"],[0.2222222222222222,\"#7201a8\"],[0.3333333333333333,\"#9c179e\"],[0.4444444444444444,\"#bd3786\"],[0.5555555555555556,\"#d8576b\"],[0.6666666666666666,\"#ed7953\"],[0.7777777777777778,\"#fb9f3a\"],[0.8888888888888888,\"#fdca26\"],[1.0,\"#f0f921\"]]}],\"surface\":[{\"type\":\"surface\",\"colorbar\":{\"outlinewidth\":0,\"ticks\":\"\"},\"colorscale\":[[0.0,\"#0d0887\"],[0.1111111111111111,\"#46039f\"],[0.2222222222222222,\"#7201a8\"],[0.3333333333333333,\"#9c179e\"],[0.4444444444444444,\"#bd3786\"],[0.5555555555555556,\"#d8576b\"],[0.6666666666666666,\"#ed7953\"],[0.7777777777777778,\"#fb9f3a\"],[0.8888888888888888,\"#fdca26\"],[1.0,\"#f0f921\"]]}],\"mesh3d\":[{\"type\":\"mesh3d\",\"colorbar\":{\"outlinewidth\":0,\"ticks\":\"\"}}],\"scatter\":[{\"fillpattern\":{\"fillmode\":\"overlay\",\"size\":10,\"solidity\":0.2},\"type\":\"scatter\"}],\"parcoords\":[{\"type\":\"parcoords\",\"line\":{\"colorbar\":{\"outlinewidth\":0,\"ticks\":\"\"}}}],\"scatterpolargl\":[{\"type\":\"scatterpolargl\",\"marker\":{\"colorbar\":{\"outlinewidth\":0,\"ticks\":\"\"}}}],\"bar\":[{\"error_x\":{\"color\":\"#2a3f5f\"},\"error_y\":{\"color\":\"#2a3f5f\"},\"marker\":{\"line\":{\"color\":\"#E5ECF6\",\"width\":0.5},\"pattern\":{\"fillmode\":\"overlay\",\"size\":10,\"solidity\":0.2}},\"type\":\"bar\"}],\"scattergeo\":[{\"type\":\"scattergeo\",\"marker\":{\"colorbar\":{\"outlinewidth\":0,\"ticks\":\"\"}}}],\"scatterpolar\":[{\"type\":\"scatterpolar\",\"marker\":{\"colorbar\":{\"outlinewidth\":0,\"ticks\":\"\"}}}],\"histogram\":[{\"marker\":{\"pattern\":{\"fillmode\":\"overlay\",\"size\":10,\"solidity\":0.2}},\"type\":\"histogram\"}],\"scattergl\":[{\"type\":\"scattergl\",\"marker\":{\"colorbar\":{\"outlinewidth\":0,\"ticks\":\"\"}}}],\"scatter3d\":[{\"type\":\"scatter3d\",\"line\":{\"colorbar\":{\"outlinewidth\":0,\"ticks\":\"\"}},\"marker\":{\"colorbar\":{\"outlinewidth\":0,\"ticks\":\"\"}}}],\"scattermapbox\":[{\"type\":\"scattermapbox\",\"marker\":{\"colorbar\":{\"outlinewidth\":0,\"ticks\":\"\"}}}],\"scatterternary\":[{\"type\":\"scatterternary\",\"marker\":{\"colorbar\":{\"outlinewidth\":0,\"ticks\":\"\"}}}],\"scattercarpet\":[{\"type\":\"scattercarpet\",\"marker\":{\"colorbar\":{\"outlinewidth\":0,\"ticks\":\"\"}}}],\"carpet\":[{\"aaxis\":{\"endlinecolor\":\"#2a3f5f\",\"gridcolor\":\"white\",\"linecolor\":\"white\",\"minorgridcolor\":\"white\",\"startlinecolor\":\"#2a3f5f\"},\"baxis\":{\"endlinecolor\":\"#2a3f5f\",\"gridcolor\":\"white\",\"linecolor\":\"white\",\"minorgridcolor\":\"white\",\"startlinecolor\":\"#2a3f5f\"},\"type\":\"carpet\"}],\"table\":[{\"cells\":{\"fill\":{\"color\":\"#EBF0F8\"},\"line\":{\"color\":\"white\"}},\"header\":{\"fill\":{\"color\":\"#C8D4E3\"},\"line\":{\"color\":\"white\"}},\"type\":\"table\"}],\"barpolar\":[{\"marker\":{\"line\":{\"color\":\"#E5ECF6\",\"width\":0.5},\"pattern\":{\"fillmode\":\"overlay\",\"size\":10,\"solidity\":0.2}},\"type\":\"barpolar\"}],\"pie\":[{\"automargin\":true,\"type\":\"pie\"}]},\"layout\":{\"autotypenumbers\":\"strict\",\"colorway\":[\"#636efa\",\"#EF553B\",\"#00cc96\",\"#ab63fa\",\"#FFA15A\",\"#19d3f3\",\"#FF6692\",\"#B6E880\",\"#FF97FF\",\"#FECB52\"],\"font\":{\"color\":\"#2a3f5f\"},\"hovermode\":\"closest\",\"hoverlabel\":{\"align\":\"left\"},\"paper_bgcolor\":\"white\",\"plot_bgcolor\":\"#E5ECF6\",\"polar\":{\"bgcolor\":\"#E5ECF6\",\"angularaxis\":{\"gridcolor\":\"white\",\"linecolor\":\"white\",\"ticks\":\"\"},\"radialaxis\":{\"gridcolor\":\"white\",\"linecolor\":\"white\",\"ticks\":\"\"}},\"ternary\":{\"bgcolor\":\"#E5ECF6\",\"aaxis\":{\"gridcolor\":\"white\",\"linecolor\":\"white\",\"ticks\":\"\"},\"baxis\":{\"gridcolor\":\"white\",\"linecolor\":\"white\",\"ticks\":\"\"},\"caxis\":{\"gridcolor\":\"white\",\"linecolor\":\"white\",\"ticks\":\"\"}},\"coloraxis\":{\"colorbar\":{\"outlinewidth\":0,\"ticks\":\"\"}},\"colorscale\":{\"sequential\":[[0.0,\"#0d0887\"],[0.1111111111111111,\"#46039f\"],[0.2222222222222222,\"#7201a8\"],[0.3333333333333333,\"#9c179e\"],[0.4444444444444444,\"#bd3786\"],[0.5555555555555556,\"#d8576b\"],[0.6666666666666666,\"#ed7953\"],[0.7777777777777778,\"#fb9f3a\"],[0.8888888888888888,\"#fdca26\"],[1.0,\"#f0f921\"]],\"sequentialminus\":[[0.0,\"#0d0887\"],[0.1111111111111111,\"#46039f\"],[0.2222222222222222,\"#7201a8\"],[0.3333333333333333,\"#9c179e\"],[0.4444444444444444,\"#bd3786\"],[0.5555555555555556,\"#d8576b\"],[0.6666666666666666,\"#ed7953\"],[0.7777777777777778,\"#fb9f3a\"],[0.8888888888888888,\"#fdca26\"],[1.0,\"#f0f921\"]],\"diverging\":[[0,\"#8e0152\"],[0.1,\"#c51b7d\"],[0.2,\"#de77ae\"],[0.3,\"#f1b6da\"],[0.4,\"#fde0ef\"],[0.5,\"#f7f7f7\"],[0.6,\"#e6f5d0\"],[0.7,\"#b8e186\"],[0.8,\"#7fbc41\"],[0.9,\"#4d9221\"],[1,\"#276419\"]]},\"xaxis\":{\"gridcolor\":\"white\",\"linecolor\":\"white\",\"ticks\":\"\",\"title\":{\"standoff\":15},\"zerolinecolor\":\"white\",\"automargin\":true,\"zerolinewidth\":2},\"yaxis\":{\"gridcolor\":\"white\",\"linecolor\":\"white\",\"ticks\":\"\",\"title\":{\"standoff\":15},\"zerolinecolor\":\"white\",\"automargin\":true,\"zerolinewidth\":2},\"scene\":{\"xaxis\":{\"backgroundcolor\":\"#E5ECF6\",\"gridcolor\":\"white\",\"linecolor\":\"white\",\"showbackground\":true,\"ticks\":\"\",\"zerolinecolor\":\"white\",\"gridwidth\":2},\"yaxis\":{\"backgroundcolor\":\"#E5ECF6\",\"gridcolor\":\"white\",\"linecolor\":\"white\",\"showbackground\":true,\"ticks\":\"\",\"zerolinecolor\":\"white\",\"gridwidth\":2},\"zaxis\":{\"backgroundcolor\":\"#E5ECF6\",\"gridcolor\":\"white\",\"linecolor\":\"white\",\"showbackground\":true,\"ticks\":\"\",\"zerolinecolor\":\"white\",\"gridwidth\":2}},\"shapedefaults\":{\"line\":{\"color\":\"#2a3f5f\"}},\"annotationdefaults\":{\"arrowcolor\":\"#2a3f5f\",\"arrowhead\":0,\"arrowwidth\":1},\"geo\":{\"bgcolor\":\"white\",\"landcolor\":\"#E5ECF6\",\"subunitcolor\":\"white\",\"showland\":true,\"showlakes\":true,\"lakecolor\":\"white\"},\"title\":{\"x\":0.05},\"mapbox\":{\"style\":\"light\"}}},\"xaxis\":{\"anchor\":\"y\",\"domain\":[0.0,1.0],\"title\":{\"text\":\"Competition\"}},\"yaxis\":{\"anchor\":\"x\",\"domain\":[0.0,1.0],\"title\":{\"text\":\"count\"}},\"legend\":{\"title\":{\"text\":\"Club\"},\"tracegroupgap\":0},\"title\":{\"text\":\"Goals per competition\"},\"barmode\":\"relative\",\"height\":500},                        {\"responsive\": true}                    ).then(function(){\n",
       "                            \n",
       "var gd = document.getElementById('882cd198-f0a7-453a-a4a7-1cee05aba6fe');\n",
       "var x = new MutationObserver(function (mutations, observer) {{\n",
       "        var display = window.getComputedStyle(gd).display;\n",
       "        if (!display || display === 'none') {{\n",
       "            console.log([gd, 'removed!']);\n",
       "            Plotly.purge(gd);\n",
       "            observer.disconnect();\n",
       "        }}\n",
       "}});\n",
       "\n",
       "// Listen for the removal of the full notebook cells\n",
       "var notebookContainer = gd.closest('#notebook-container');\n",
       "if (notebookContainer) {{\n",
       "    x.observe(notebookContainer, {childList: true});\n",
       "}}\n",
       "\n",
       "// Listen for the clearing of the current output cell\n",
       "var outputEl = gd.closest('.output');\n",
       "if (outputEl) {{\n",
       "    x.observe(outputEl, {childList: true});\n",
       "}}\n",
       "\n",
       "                        })                };                });            </script>        </div>"
      ]
     },
     "metadata": {},
     "output_type": "display_data"
    }
   ],
   "source": [
    "px.histogram(\n",
    "    df,\n",
    "    x='Competition',\n",
    "    title=\"Goals per competition\",\n",
    "    log_x=False,\n",
    "    log_y=False,\n",
    "    #symbol='title',\n",
    "    #markers=True,\n",
    "    #width=800, \n",
    "    height=500,\n",
    "    color='Club',\n",
    "    hover_name='Club',\n",
    "    hover_data=['Competition','Club'])"
   ]
  },
  {
   "cell_type": "code",
   "execution_count": 9,
   "id": "a0844463",
   "metadata": {},
   "outputs": [
    {
     "data": {
      "text/html": [
       "<div>\n",
       "<style scoped>\n",
       "    .dataframe tbody tr th:only-of-type {\n",
       "        vertical-align: middle;\n",
       "    }\n",
       "\n",
       "    .dataframe tbody tr th {\n",
       "        vertical-align: top;\n",
       "    }\n",
       "\n",
       "    .dataframe thead th {\n",
       "        text-align: right;\n",
       "    }\n",
       "</style>\n",
       "<table border=\"1\" class=\"dataframe\">\n",
       "  <thead>\n",
       "    <tr style=\"text-align: right;\">\n",
       "      <th></th>\n",
       "      <th>Competition</th>\n",
       "    </tr>\n",
       "  </thead>\n",
       "  <tbody>\n",
       "    <tr>\n",
       "      <th>LaLiga</th>\n",
       "      <td>311</td>\n",
       "    </tr>\n",
       "    <tr>\n",
       "      <th>UEFA Champions League</th>\n",
       "      <td>140</td>\n",
       "    </tr>\n",
       "    <tr>\n",
       "      <th>Premier League</th>\n",
       "      <td>103</td>\n",
       "    </tr>\n",
       "    <tr>\n",
       "      <th>Serie A</th>\n",
       "      <td>81</td>\n",
       "    </tr>\n",
       "    <tr>\n",
       "      <th>Copa del Rey</th>\n",
       "      <td>22</td>\n",
       "    </tr>\n",
       "    <tr>\n",
       "      <th>FA Cup</th>\n",
       "      <td>13</td>\n",
       "    </tr>\n",
       "    <tr>\n",
       "      <th>Saudi Pro League</th>\n",
       "      <td>9</td>\n",
       "    </tr>\n",
       "    <tr>\n",
       "      <th>FIFA Club World Cup</th>\n",
       "      <td>7</td>\n",
       "    </tr>\n",
       "    <tr>\n",
       "      <th>EFL Cup</th>\n",
       "      <td>4</td>\n",
       "    </tr>\n",
       "    <tr>\n",
       "      <th>Supercopa</th>\n",
       "      <td>4</td>\n",
       "    </tr>\n",
       "    <tr>\n",
       "      <th>Italy Cup</th>\n",
       "      <td>4</td>\n",
       "    </tr>\n",
       "    <tr>\n",
       "      <th>Liga Portugal</th>\n",
       "      <td>3</td>\n",
       "    </tr>\n",
       "    <tr>\n",
       "      <th>Taca de Portugal Placard</th>\n",
       "      <td>2</td>\n",
       "    </tr>\n",
       "    <tr>\n",
       "      <th>UEFA Super Cup</th>\n",
       "      <td>2</td>\n",
       "    </tr>\n",
       "    <tr>\n",
       "      <th>Supercoppa Italiana</th>\n",
       "      <td>2</td>\n",
       "    </tr>\n",
       "    <tr>\n",
       "      <th>Europa League</th>\n",
       "      <td>2</td>\n",
       "    </tr>\n",
       "    <tr>\n",
       "      <th>UEFA Champions League Qualifying</th>\n",
       "      <td>1</td>\n",
       "    </tr>\n",
       "  </tbody>\n",
       "</table>\n",
       "</div>"
      ],
      "text/plain": [
       "                                  Competition\n",
       "LaLiga                                    311\n",
       "UEFA Champions League                     140\n",
       "Premier League                            103\n",
       "Serie A                                    81\n",
       "Copa del Rey                               22\n",
       "FA Cup                                     13\n",
       "Saudi Pro League                            9\n",
       "FIFA Club World Cup                         7\n",
       "EFL Cup                                     4\n",
       "Supercopa                                   4\n",
       "Italy Cup                                   4\n",
       "Liga Portugal                               3\n",
       "Taca de Portugal Placard                    2\n",
       "UEFA Super Cup                              2\n",
       "Supercoppa Italiana                         2\n",
       "Europa League                               2\n",
       "UEFA Champions League Qualifying            1"
      ]
     },
     "execution_count": 9,
     "metadata": {},
     "output_type": "execute_result"
    }
   ],
   "source": [
    "pd.DataFrame(df.Competition.value_counts())"
   ]
  },
  {
   "cell_type": "code",
   "execution_count": 10,
   "id": "aaded867",
   "metadata": {},
   "outputs": [
    {
     "data": {
      "application/vnd.plotly.v1+json": {
       "config": {
        "plotlyServerURL": "https://plot.ly"
       },
       "data": [
        {
         "alignmentgroup": "True",
         "bingroup": "x",
         "hovertemplate": "Club=Sporting CP<br>Season=%{x}<br>count=%{y}<extra></extra>",
         "legendgroup": "Sporting CP",
         "marker": {
          "color": "#636efa",
          "pattern": {
           "shape": ""
          }
         },
         "name": "Sporting CP",
         "offsetgroup": "Sporting CP",
         "orientation": "v",
         "showlegend": true,
         "type": "histogram",
         "x": [
          "02/03",
          "02/03",
          "02/03",
          "02/03",
          "02/03"
         ],
         "xaxis": "x",
         "yaxis": "y"
        },
        {
         "alignmentgroup": "True",
         "bingroup": "x",
         "hovertemplate": "Club=Manchester United<br>Season=%{x}<br>count=%{y}<extra></extra>",
         "legendgroup": "Manchester United",
         "marker": {
          "color": "#EF553B",
          "pattern": {
           "shape": ""
          }
         },
         "name": "Manchester United",
         "offsetgroup": "Manchester United",
         "orientation": "v",
         "showlegend": true,
         "type": "histogram",
         "x": [
          "03/04",
          "03/04",
          "03/04",
          "03/04",
          "03/04",
          "03/04",
          "04/05",
          "04/05",
          "04/05",
          "04/05",
          "04/05",
          "04/05",
          "04/05",
          "04/05",
          "04/05",
          "05/06",
          "05/06",
          "05/06",
          "05/06",
          "05/06",
          "05/06",
          "05/06",
          "05/06",
          "05/06",
          "05/06",
          "05/06",
          "05/06",
          "06/07",
          "06/07",
          "06/07",
          "06/07",
          "06/07",
          "06/07",
          "06/07",
          "06/07",
          "06/07",
          "06/07",
          "06/07",
          "06/07",
          "06/07",
          "06/07",
          "06/07",
          "06/07",
          "06/07",
          "06/07",
          "06/07",
          "06/07",
          "06/07",
          "06/07",
          "06/07",
          "07/08",
          "07/08",
          "07/08",
          "07/08",
          "07/08",
          "07/08",
          "07/08",
          "07/08",
          "07/08",
          "07/08",
          "07/08",
          "07/08",
          "07/08",
          "07/08",
          "07/08",
          "07/08",
          "07/08",
          "07/08",
          "07/08",
          "07/08",
          "07/08",
          "07/08",
          "07/08",
          "07/08",
          "07/08",
          "07/08",
          "07/08",
          "07/08",
          "07/08",
          "07/08",
          "07/08",
          "07/08",
          "07/08",
          "07/08",
          "07/08",
          "07/08",
          "07/08",
          "07/08",
          "07/08",
          "07/08",
          "07/08",
          "07/08",
          "08/09",
          "08/09",
          "08/09",
          "08/09",
          "08/09",
          "08/09",
          "08/09",
          "08/09",
          "08/09",
          "08/09",
          "08/09",
          "08/09",
          "08/09",
          "08/09",
          "08/09",
          "08/09",
          "08/09",
          "08/09",
          "08/09",
          "08/09",
          "08/09",
          "08/09",
          "08/09",
          "08/09",
          "08/09",
          "08/09",
          "21/22",
          "21/22",
          "21/22",
          "21/22",
          "21/22",
          "21/22",
          "21/22",
          "21/22",
          "21/22",
          "21/22",
          "21/22",
          "21/22",
          "21/22",
          "21/22",
          "21/22",
          "21/22",
          "21/22",
          "21/22",
          "21/22",
          "21/22",
          "21/22",
          "21/22",
          "21/22",
          "21/22",
          "22/23",
          "22/23",
          "22/23"
         ],
         "xaxis": "x",
         "yaxis": "y"
        },
        {
         "alignmentgroup": "True",
         "bingroup": "x",
         "hovertemplate": "Club=Real Madrid<br>Season=%{x}<br>count=%{y}<extra></extra>",
         "legendgroup": "Real Madrid",
         "marker": {
          "color": "#00cc96",
          "pattern": {
           "shape": ""
          }
         },
         "name": "Real Madrid",
         "offsetgroup": "Real Madrid",
         "orientation": "v",
         "showlegend": true,
         "type": "histogram",
         "x": [
          "09/10",
          "09/10",
          "09/10",
          "09/10",
          "09/10",
          "09/10",
          "09/10",
          "09/10",
          "09/10",
          "09/10",
          "09/10",
          "09/10",
          "09/10",
          "09/10",
          "09/10",
          "09/10",
          "09/10",
          "09/10",
          "09/10",
          "09/10",
          "09/10",
          "09/10",
          "09/10",
          "09/10",
          "09/10",
          "09/10",
          "09/10",
          "09/10",
          "09/10",
          "09/10",
          "09/10",
          "09/10",
          "09/10",
          "10/11",
          "10/11",
          "10/11",
          "10/11",
          "10/11",
          "10/11",
          "10/11",
          "10/11",
          "10/11",
          "10/11",
          "10/11",
          "10/11",
          "10/11",
          "10/11",
          "10/11",
          "10/11",
          "10/11",
          "10/11",
          "10/11",
          "10/11",
          "10/11",
          "10/11",
          "10/11",
          "10/11",
          "10/11",
          "10/11",
          "10/11",
          "10/11",
          "10/11",
          "10/11",
          "10/11",
          "10/11",
          "10/11",
          "10/11",
          "10/11",
          "10/11",
          "10/11",
          "10/11",
          "10/11",
          "10/11",
          "10/11",
          "10/11",
          "10/11",
          "10/11",
          "10/11",
          "10/11",
          "10/11",
          "10/11",
          "10/11",
          "10/11",
          "10/11",
          "10/11",
          "10/11",
          "11/12",
          "11/12",
          "11/12",
          "11/12",
          "11/12",
          "11/12",
          "11/12",
          "11/12",
          "11/12",
          "11/12",
          "11/12",
          "11/12",
          "11/12",
          "11/12",
          "11/12",
          "11/12",
          "11/12",
          "11/12",
          "11/12",
          "11/12",
          "11/12",
          "11/12",
          "11/12",
          "11/12",
          "11/12",
          "11/12",
          "11/12",
          "11/12",
          "11/12",
          "11/12",
          "11/12",
          "11/12",
          "11/12",
          "11/12",
          "11/12",
          "11/12",
          "11/12",
          "11/12",
          "11/12",
          "11/12",
          "11/12",
          "11/12",
          "11/12",
          "11/12",
          "11/12",
          "11/12",
          "11/12",
          "11/12",
          "11/12",
          "11/12",
          "11/12",
          "11/12",
          "11/12",
          "11/12",
          "11/12",
          "11/12",
          "11/12",
          "11/12",
          "11/12",
          "11/12",
          "Dec-13",
          "Dec-13",
          "Dec-13",
          "Dec-13",
          "Dec-13",
          "Dec-13",
          "Dec-13",
          "Dec-13",
          "Dec-13",
          "Dec-13",
          "Dec-13",
          "Dec-13",
          "Dec-13",
          "Dec-13",
          "Dec-13",
          "Dec-13",
          "Dec-13",
          "Dec-13",
          "Dec-13",
          "Dec-13",
          "Dec-13",
          "Dec-13",
          "Dec-13",
          "Dec-13",
          "Dec-13",
          "Dec-13",
          "Dec-13",
          "Dec-13",
          "Dec-13",
          "Dec-13",
          "Dec-13",
          "Dec-13",
          "Dec-13",
          "Dec-13",
          "Dec-13",
          "Dec-13",
          "Dec-13",
          "Dec-13",
          "Dec-13",
          "Dec-13",
          "Dec-13",
          "Dec-13",
          "Dec-13",
          "Dec-13",
          "Dec-13",
          "Dec-13",
          "Dec-13",
          "Dec-13",
          "Dec-13",
          "Dec-13",
          "Dec-13",
          "Dec-13",
          "Dec-13",
          "Dec-13",
          "Dec-13",
          "13/14",
          "13/14",
          "13/14",
          "13/14",
          "13/14",
          "13/14",
          "13/14",
          "13/14",
          "13/14",
          "13/14",
          "13/14",
          "13/14",
          "13/14",
          "13/14",
          "13/14",
          "13/14",
          "13/14",
          "13/14",
          "13/14",
          "13/14",
          "13/14",
          "13/14",
          "13/14",
          "13/14",
          "13/14",
          "13/14",
          "13/14",
          "13/14",
          "13/14",
          "13/14",
          "13/14",
          "13/14",
          "13/14",
          "13/14",
          "13/14",
          "13/14",
          "13/14",
          "13/14",
          "13/14",
          "13/14",
          "13/14",
          "13/14",
          "13/14",
          "13/14",
          "13/14",
          "13/14",
          "13/14",
          "13/14",
          "13/14",
          "13/14",
          "13/14",
          "14/15",
          "14/15",
          "14/15",
          "14/15",
          "14/15",
          "14/15",
          "14/15",
          "14/15",
          "14/15",
          "14/15",
          "14/15",
          "14/15",
          "14/15",
          "14/15",
          "14/15",
          "14/15",
          "14/15",
          "14/15",
          "14/15",
          "14/15",
          "14/15",
          "14/15",
          "14/15",
          "14/15",
          "14/15",
          "14/15",
          "14/15",
          "14/15",
          "14/15",
          "14/15",
          "14/15",
          "14/15",
          "14/15",
          "14/15",
          "14/15",
          "14/15",
          "14/15",
          "14/15",
          "14/15",
          "14/15",
          "14/15",
          "14/15",
          "14/15",
          "14/15",
          "14/15",
          "14/15",
          "14/15",
          "14/15",
          "14/15",
          "14/15",
          "14/15",
          "14/15",
          "14/15",
          "14/15",
          "14/15",
          "14/15",
          "14/15",
          "14/15",
          "14/15",
          "14/15",
          "14/15",
          "15/16",
          "15/16",
          "15/16",
          "15/16",
          "15/16",
          "15/16",
          "15/16",
          "15/16",
          "15/16",
          "15/16",
          "15/16",
          "15/16",
          "15/16",
          "15/16",
          "15/16",
          "15/16",
          "15/16",
          "15/16",
          "15/16",
          "15/16",
          "15/16",
          "15/16",
          "15/16",
          "15/16",
          "15/16",
          "15/16",
          "15/16",
          "15/16",
          "15/16",
          "15/16",
          "15/16",
          "15/16",
          "15/16",
          "15/16",
          "15/16",
          "15/16",
          "15/16",
          "15/16",
          "15/16",
          "15/16",
          "15/16",
          "15/16",
          "15/16",
          "15/16",
          "15/16",
          "15/16",
          "15/16",
          "15/16",
          "15/16",
          "15/16",
          "15/16",
          "16/17",
          "16/17",
          "16/17",
          "16/17",
          "16/17",
          "16/17",
          "16/17",
          "16/17",
          "16/17",
          "16/17",
          "16/17",
          "16/17",
          "16/17",
          "16/17",
          "16/17",
          "16/17",
          "16/17",
          "16/17",
          "16/17",
          "16/17",
          "16/17",
          "16/17",
          "16/17",
          "16/17",
          "16/17",
          "16/17",
          "16/17",
          "16/17",
          "16/17",
          "16/17",
          "16/17",
          "16/17",
          "16/17",
          "16/17",
          "16/17",
          "16/17",
          "16/17",
          "16/17",
          "16/17",
          "16/17",
          "16/17",
          "16/17",
          "17/18",
          "17/18",
          "17/18",
          "17/18",
          "17/18",
          "17/18",
          "17/18",
          "17/18",
          "17/18",
          "17/18",
          "17/18",
          "17/18",
          "17/18",
          "17/18",
          "17/18",
          "17/18",
          "17/18",
          "17/18",
          "17/18",
          "17/18",
          "17/18",
          "17/18",
          "17/18",
          "17/18",
          "17/18",
          "17/18",
          "17/18",
          "17/18",
          "17/18",
          "17/18",
          "17/18",
          "17/18",
          "17/18",
          "17/18",
          "17/18",
          "17/18",
          "17/18",
          "17/18",
          "17/18",
          "17/18",
          "17/18",
          "17/18",
          "17/18",
          "17/18"
         ],
         "xaxis": "x",
         "yaxis": "y"
        },
        {
         "alignmentgroup": "True",
         "bingroup": "x",
         "hovertemplate": "Club=Juventus FC<br>Season=%{x}<br>count=%{y}<extra></extra>",
         "legendgroup": "Juventus FC",
         "marker": {
          "color": "#ab63fa",
          "pattern": {
           "shape": ""
          }
         },
         "name": "Juventus FC",
         "offsetgroup": "Juventus FC",
         "orientation": "v",
         "showlegend": true,
         "type": "histogram",
         "x": [
          "18/19",
          "18/19",
          "18/19",
          "18/19",
          "18/19",
          "18/19",
          "18/19",
          "18/19",
          "18/19",
          "18/19",
          "18/19",
          "18/19",
          "18/19",
          "18/19",
          "18/19",
          "18/19",
          "18/19",
          "18/19",
          "18/19",
          "18/19",
          "18/19",
          "18/19",
          "18/19",
          "18/19",
          "18/19",
          "18/19",
          "18/19",
          "18/19",
          "19/20",
          "19/20",
          "19/20",
          "19/20",
          "19/20",
          "19/20",
          "19/20",
          "19/20",
          "19/20",
          "19/20",
          "19/20",
          "19/20",
          "19/20",
          "19/20",
          "19/20",
          "19/20",
          "19/20",
          "19/20",
          "19/20",
          "19/20",
          "19/20",
          "19/20",
          "19/20",
          "19/20",
          "19/20",
          "19/20",
          "19/20",
          "19/20",
          "19/20",
          "19/20",
          "19/20",
          "19/20",
          "19/20",
          "19/20",
          "19/20",
          "19/20",
          "19/20",
          "20/21",
          "20/21",
          "20/21",
          "20/21",
          "20/21",
          "20/21",
          "20/21",
          "20/21",
          "20/21",
          "20/21",
          "20/21",
          "20/21",
          "20/21",
          "20/21",
          "20/21",
          "20/21",
          "20/21",
          "20/21",
          "20/21",
          "20/21",
          "20/21",
          "20/21",
          "20/21",
          "20/21",
          "20/21",
          "20/21",
          "20/21",
          "20/21",
          "20/21",
          "20/21",
          "20/21",
          "20/21",
          "20/21",
          "20/21",
          "20/21",
          "20/21"
         ],
         "xaxis": "x",
         "yaxis": "y"
        },
        {
         "alignmentgroup": "True",
         "bingroup": "x",
         "hovertemplate": "Club=Al-Nassr FC<br>Season=%{x}<br>count=%{y}<extra></extra>",
         "legendgroup": "Al-Nassr FC",
         "marker": {
          "color": "#FFA15A",
          "pattern": {
           "shape": ""
          }
         },
         "name": "Al-Nassr FC",
         "offsetgroup": "Al-Nassr FC",
         "orientation": "v",
         "showlegend": true,
         "type": "histogram",
         "x": [
          "22/23",
          "22/23",
          "22/23",
          "22/23",
          "22/23",
          "22/23",
          "22/23",
          "22/23",
          "22/23"
         ],
         "xaxis": "x",
         "yaxis": "y"
        }
       ],
       "layout": {
        "barmode": "relative",
        "height": 500,
        "legend": {
         "title": {
          "text": "Club"
         },
         "tracegroupgap": 0
        },
        "template": {
         "data": {
          "bar": [
           {
            "error_x": {
             "color": "#2a3f5f"
            },
            "error_y": {
             "color": "#2a3f5f"
            },
            "marker": {
             "line": {
              "color": "#E5ECF6",
              "width": 0.5
             },
             "pattern": {
              "fillmode": "overlay",
              "size": 10,
              "solidity": 0.2
             }
            },
            "type": "bar"
           }
          ],
          "barpolar": [
           {
            "marker": {
             "line": {
              "color": "#E5ECF6",
              "width": 0.5
             },
             "pattern": {
              "fillmode": "overlay",
              "size": 10,
              "solidity": 0.2
             }
            },
            "type": "barpolar"
           }
          ],
          "carpet": [
           {
            "aaxis": {
             "endlinecolor": "#2a3f5f",
             "gridcolor": "white",
             "linecolor": "white",
             "minorgridcolor": "white",
             "startlinecolor": "#2a3f5f"
            },
            "baxis": {
             "endlinecolor": "#2a3f5f",
             "gridcolor": "white",
             "linecolor": "white",
             "minorgridcolor": "white",
             "startlinecolor": "#2a3f5f"
            },
            "type": "carpet"
           }
          ],
          "choropleth": [
           {
            "colorbar": {
             "outlinewidth": 0,
             "ticks": ""
            },
            "type": "choropleth"
           }
          ],
          "contour": [
           {
            "colorbar": {
             "outlinewidth": 0,
             "ticks": ""
            },
            "colorscale": [
             [
              0,
              "#0d0887"
             ],
             [
              0.1111111111111111,
              "#46039f"
             ],
             [
              0.2222222222222222,
              "#7201a8"
             ],
             [
              0.3333333333333333,
              "#9c179e"
             ],
             [
              0.4444444444444444,
              "#bd3786"
             ],
             [
              0.5555555555555556,
              "#d8576b"
             ],
             [
              0.6666666666666666,
              "#ed7953"
             ],
             [
              0.7777777777777778,
              "#fb9f3a"
             ],
             [
              0.8888888888888888,
              "#fdca26"
             ],
             [
              1,
              "#f0f921"
             ]
            ],
            "type": "contour"
           }
          ],
          "contourcarpet": [
           {
            "colorbar": {
             "outlinewidth": 0,
             "ticks": ""
            },
            "type": "contourcarpet"
           }
          ],
          "heatmap": [
           {
            "colorbar": {
             "outlinewidth": 0,
             "ticks": ""
            },
            "colorscale": [
             [
              0,
              "#0d0887"
             ],
             [
              0.1111111111111111,
              "#46039f"
             ],
             [
              0.2222222222222222,
              "#7201a8"
             ],
             [
              0.3333333333333333,
              "#9c179e"
             ],
             [
              0.4444444444444444,
              "#bd3786"
             ],
             [
              0.5555555555555556,
              "#d8576b"
             ],
             [
              0.6666666666666666,
              "#ed7953"
             ],
             [
              0.7777777777777778,
              "#fb9f3a"
             ],
             [
              0.8888888888888888,
              "#fdca26"
             ],
             [
              1,
              "#f0f921"
             ]
            ],
            "type": "heatmap"
           }
          ],
          "heatmapgl": [
           {
            "colorbar": {
             "outlinewidth": 0,
             "ticks": ""
            },
            "colorscale": [
             [
              0,
              "#0d0887"
             ],
             [
              0.1111111111111111,
              "#46039f"
             ],
             [
              0.2222222222222222,
              "#7201a8"
             ],
             [
              0.3333333333333333,
              "#9c179e"
             ],
             [
              0.4444444444444444,
              "#bd3786"
             ],
             [
              0.5555555555555556,
              "#d8576b"
             ],
             [
              0.6666666666666666,
              "#ed7953"
             ],
             [
              0.7777777777777778,
              "#fb9f3a"
             ],
             [
              0.8888888888888888,
              "#fdca26"
             ],
             [
              1,
              "#f0f921"
             ]
            ],
            "type": "heatmapgl"
           }
          ],
          "histogram": [
           {
            "marker": {
             "pattern": {
              "fillmode": "overlay",
              "size": 10,
              "solidity": 0.2
             }
            },
            "type": "histogram"
           }
          ],
          "histogram2d": [
           {
            "colorbar": {
             "outlinewidth": 0,
             "ticks": ""
            },
            "colorscale": [
             [
              0,
              "#0d0887"
             ],
             [
              0.1111111111111111,
              "#46039f"
             ],
             [
              0.2222222222222222,
              "#7201a8"
             ],
             [
              0.3333333333333333,
              "#9c179e"
             ],
             [
              0.4444444444444444,
              "#bd3786"
             ],
             [
              0.5555555555555556,
              "#d8576b"
             ],
             [
              0.6666666666666666,
              "#ed7953"
             ],
             [
              0.7777777777777778,
              "#fb9f3a"
             ],
             [
              0.8888888888888888,
              "#fdca26"
             ],
             [
              1,
              "#f0f921"
             ]
            ],
            "type": "histogram2d"
           }
          ],
          "histogram2dcontour": [
           {
            "colorbar": {
             "outlinewidth": 0,
             "ticks": ""
            },
            "colorscale": [
             [
              0,
              "#0d0887"
             ],
             [
              0.1111111111111111,
              "#46039f"
             ],
             [
              0.2222222222222222,
              "#7201a8"
             ],
             [
              0.3333333333333333,
              "#9c179e"
             ],
             [
              0.4444444444444444,
              "#bd3786"
             ],
             [
              0.5555555555555556,
              "#d8576b"
             ],
             [
              0.6666666666666666,
              "#ed7953"
             ],
             [
              0.7777777777777778,
              "#fb9f3a"
             ],
             [
              0.8888888888888888,
              "#fdca26"
             ],
             [
              1,
              "#f0f921"
             ]
            ],
            "type": "histogram2dcontour"
           }
          ],
          "mesh3d": [
           {
            "colorbar": {
             "outlinewidth": 0,
             "ticks": ""
            },
            "type": "mesh3d"
           }
          ],
          "parcoords": [
           {
            "line": {
             "colorbar": {
              "outlinewidth": 0,
              "ticks": ""
             }
            },
            "type": "parcoords"
           }
          ],
          "pie": [
           {
            "automargin": true,
            "type": "pie"
           }
          ],
          "scatter": [
           {
            "fillpattern": {
             "fillmode": "overlay",
             "size": 10,
             "solidity": 0.2
            },
            "type": "scatter"
           }
          ],
          "scatter3d": [
           {
            "line": {
             "colorbar": {
              "outlinewidth": 0,
              "ticks": ""
             }
            },
            "marker": {
             "colorbar": {
              "outlinewidth": 0,
              "ticks": ""
             }
            },
            "type": "scatter3d"
           }
          ],
          "scattercarpet": [
           {
            "marker": {
             "colorbar": {
              "outlinewidth": 0,
              "ticks": ""
             }
            },
            "type": "scattercarpet"
           }
          ],
          "scattergeo": [
           {
            "marker": {
             "colorbar": {
              "outlinewidth": 0,
              "ticks": ""
             }
            },
            "type": "scattergeo"
           }
          ],
          "scattergl": [
           {
            "marker": {
             "colorbar": {
              "outlinewidth": 0,
              "ticks": ""
             }
            },
            "type": "scattergl"
           }
          ],
          "scattermapbox": [
           {
            "marker": {
             "colorbar": {
              "outlinewidth": 0,
              "ticks": ""
             }
            },
            "type": "scattermapbox"
           }
          ],
          "scatterpolar": [
           {
            "marker": {
             "colorbar": {
              "outlinewidth": 0,
              "ticks": ""
             }
            },
            "type": "scatterpolar"
           }
          ],
          "scatterpolargl": [
           {
            "marker": {
             "colorbar": {
              "outlinewidth": 0,
              "ticks": ""
             }
            },
            "type": "scatterpolargl"
           }
          ],
          "scatterternary": [
           {
            "marker": {
             "colorbar": {
              "outlinewidth": 0,
              "ticks": ""
             }
            },
            "type": "scatterternary"
           }
          ],
          "surface": [
           {
            "colorbar": {
             "outlinewidth": 0,
             "ticks": ""
            },
            "colorscale": [
             [
              0,
              "#0d0887"
             ],
             [
              0.1111111111111111,
              "#46039f"
             ],
             [
              0.2222222222222222,
              "#7201a8"
             ],
             [
              0.3333333333333333,
              "#9c179e"
             ],
             [
              0.4444444444444444,
              "#bd3786"
             ],
             [
              0.5555555555555556,
              "#d8576b"
             ],
             [
              0.6666666666666666,
              "#ed7953"
             ],
             [
              0.7777777777777778,
              "#fb9f3a"
             ],
             [
              0.8888888888888888,
              "#fdca26"
             ],
             [
              1,
              "#f0f921"
             ]
            ],
            "type": "surface"
           }
          ],
          "table": [
           {
            "cells": {
             "fill": {
              "color": "#EBF0F8"
             },
             "line": {
              "color": "white"
             }
            },
            "header": {
             "fill": {
              "color": "#C8D4E3"
             },
             "line": {
              "color": "white"
             }
            },
            "type": "table"
           }
          ]
         },
         "layout": {
          "annotationdefaults": {
           "arrowcolor": "#2a3f5f",
           "arrowhead": 0,
           "arrowwidth": 1
          },
          "autotypenumbers": "strict",
          "coloraxis": {
           "colorbar": {
            "outlinewidth": 0,
            "ticks": ""
           }
          },
          "colorscale": {
           "diverging": [
            [
             0,
             "#8e0152"
            ],
            [
             0.1,
             "#c51b7d"
            ],
            [
             0.2,
             "#de77ae"
            ],
            [
             0.3,
             "#f1b6da"
            ],
            [
             0.4,
             "#fde0ef"
            ],
            [
             0.5,
             "#f7f7f7"
            ],
            [
             0.6,
             "#e6f5d0"
            ],
            [
             0.7,
             "#b8e186"
            ],
            [
             0.8,
             "#7fbc41"
            ],
            [
             0.9,
             "#4d9221"
            ],
            [
             1,
             "#276419"
            ]
           ],
           "sequential": [
            [
             0,
             "#0d0887"
            ],
            [
             0.1111111111111111,
             "#46039f"
            ],
            [
             0.2222222222222222,
             "#7201a8"
            ],
            [
             0.3333333333333333,
             "#9c179e"
            ],
            [
             0.4444444444444444,
             "#bd3786"
            ],
            [
             0.5555555555555556,
             "#d8576b"
            ],
            [
             0.6666666666666666,
             "#ed7953"
            ],
            [
             0.7777777777777778,
             "#fb9f3a"
            ],
            [
             0.8888888888888888,
             "#fdca26"
            ],
            [
             1,
             "#f0f921"
            ]
           ],
           "sequentialminus": [
            [
             0,
             "#0d0887"
            ],
            [
             0.1111111111111111,
             "#46039f"
            ],
            [
             0.2222222222222222,
             "#7201a8"
            ],
            [
             0.3333333333333333,
             "#9c179e"
            ],
            [
             0.4444444444444444,
             "#bd3786"
            ],
            [
             0.5555555555555556,
             "#d8576b"
            ],
            [
             0.6666666666666666,
             "#ed7953"
            ],
            [
             0.7777777777777778,
             "#fb9f3a"
            ],
            [
             0.8888888888888888,
             "#fdca26"
            ],
            [
             1,
             "#f0f921"
            ]
           ]
          },
          "colorway": [
           "#636efa",
           "#EF553B",
           "#00cc96",
           "#ab63fa",
           "#FFA15A",
           "#19d3f3",
           "#FF6692",
           "#B6E880",
           "#FF97FF",
           "#FECB52"
          ],
          "font": {
           "color": "#2a3f5f"
          },
          "geo": {
           "bgcolor": "white",
           "lakecolor": "white",
           "landcolor": "#E5ECF6",
           "showlakes": true,
           "showland": true,
           "subunitcolor": "white"
          },
          "hoverlabel": {
           "align": "left"
          },
          "hovermode": "closest",
          "mapbox": {
           "style": "light"
          },
          "paper_bgcolor": "white",
          "plot_bgcolor": "#E5ECF6",
          "polar": {
           "angularaxis": {
            "gridcolor": "white",
            "linecolor": "white",
            "ticks": ""
           },
           "bgcolor": "#E5ECF6",
           "radialaxis": {
            "gridcolor": "white",
            "linecolor": "white",
            "ticks": ""
           }
          },
          "scene": {
           "xaxis": {
            "backgroundcolor": "#E5ECF6",
            "gridcolor": "white",
            "gridwidth": 2,
            "linecolor": "white",
            "showbackground": true,
            "ticks": "",
            "zerolinecolor": "white"
           },
           "yaxis": {
            "backgroundcolor": "#E5ECF6",
            "gridcolor": "white",
            "gridwidth": 2,
            "linecolor": "white",
            "showbackground": true,
            "ticks": "",
            "zerolinecolor": "white"
           },
           "zaxis": {
            "backgroundcolor": "#E5ECF6",
            "gridcolor": "white",
            "gridwidth": 2,
            "linecolor": "white",
            "showbackground": true,
            "ticks": "",
            "zerolinecolor": "white"
           }
          },
          "shapedefaults": {
           "line": {
            "color": "#2a3f5f"
           }
          },
          "ternary": {
           "aaxis": {
            "gridcolor": "white",
            "linecolor": "white",
            "ticks": ""
           },
           "baxis": {
            "gridcolor": "white",
            "linecolor": "white",
            "ticks": ""
           },
           "bgcolor": "#E5ECF6",
           "caxis": {
            "gridcolor": "white",
            "linecolor": "white",
            "ticks": ""
           }
          },
          "title": {
           "x": 0.05
          },
          "xaxis": {
           "automargin": true,
           "gridcolor": "white",
           "linecolor": "white",
           "ticks": "",
           "title": {
            "standoff": 15
           },
           "zerolinecolor": "white",
           "zerolinewidth": 2
          },
          "yaxis": {
           "automargin": true,
           "gridcolor": "white",
           "linecolor": "white",
           "ticks": "",
           "title": {
            "standoff": 15
           },
           "zerolinecolor": "white",
           "zerolinewidth": 2
          }
         }
        },
        "title": {
         "text": "Goals per season"
        },
        "xaxis": {
         "anchor": "y",
         "domain": [
          0,
          1
         ],
         "title": {
          "text": "Season"
         }
        },
        "yaxis": {
         "anchor": "x",
         "domain": [
          0,
          1
         ],
         "title": {
          "text": "count"
         }
        }
       }
      },
      "text/html": [
       "<div>                            <div id=\"cc976e38-efa6-4525-8218-fd0fd12b3e62\" class=\"plotly-graph-div\" style=\"height:500px; width:100%;\"></div>            <script type=\"text/javascript\">                require([\"plotly\"], function(Plotly) {                    window.PLOTLYENV=window.PLOTLYENV || {};                                    if (document.getElementById(\"cc976e38-efa6-4525-8218-fd0fd12b3e62\")) {                    Plotly.newPlot(                        \"cc976e38-efa6-4525-8218-fd0fd12b3e62\",                        [{\"alignmentgroup\":\"True\",\"bingroup\":\"x\",\"hovertemplate\":\"Club=Sporting CP<br>Season=%{x}<br>count=%{y}<extra></extra>\",\"legendgroup\":\"Sporting CP\",\"marker\":{\"color\":\"#636efa\",\"pattern\":{\"shape\":\"\"}},\"name\":\"Sporting CP\",\"offsetgroup\":\"Sporting CP\",\"orientation\":\"v\",\"showlegend\":true,\"x\":[\"02/03\",\"02/03\",\"02/03\",\"02/03\",\"02/03\"],\"xaxis\":\"x\",\"yaxis\":\"y\",\"type\":\"histogram\"},{\"alignmentgroup\":\"True\",\"bingroup\":\"x\",\"hovertemplate\":\"Club=Manchester United<br>Season=%{x}<br>count=%{y}<extra></extra>\",\"legendgroup\":\"Manchester United\",\"marker\":{\"color\":\"#EF553B\",\"pattern\":{\"shape\":\"\"}},\"name\":\"Manchester United\",\"offsetgroup\":\"Manchester United\",\"orientation\":\"v\",\"showlegend\":true,\"x\":[\"03/04\",\"03/04\",\"03/04\",\"03/04\",\"03/04\",\"03/04\",\"04/05\",\"04/05\",\"04/05\",\"04/05\",\"04/05\",\"04/05\",\"04/05\",\"04/05\",\"04/05\",\"05/06\",\"05/06\",\"05/06\",\"05/06\",\"05/06\",\"05/06\",\"05/06\",\"05/06\",\"05/06\",\"05/06\",\"05/06\",\"05/06\",\"06/07\",\"06/07\",\"06/07\",\"06/07\",\"06/07\",\"06/07\",\"06/07\",\"06/07\",\"06/07\",\"06/07\",\"06/07\",\"06/07\",\"06/07\",\"06/07\",\"06/07\",\"06/07\",\"06/07\",\"06/07\",\"06/07\",\"06/07\",\"06/07\",\"06/07\",\"06/07\",\"07/08\",\"07/08\",\"07/08\",\"07/08\",\"07/08\",\"07/08\",\"07/08\",\"07/08\",\"07/08\",\"07/08\",\"07/08\",\"07/08\",\"07/08\",\"07/08\",\"07/08\",\"07/08\",\"07/08\",\"07/08\",\"07/08\",\"07/08\",\"07/08\",\"07/08\",\"07/08\",\"07/08\",\"07/08\",\"07/08\",\"07/08\",\"07/08\",\"07/08\",\"07/08\",\"07/08\",\"07/08\",\"07/08\",\"07/08\",\"07/08\",\"07/08\",\"07/08\",\"07/08\",\"07/08\",\"07/08\",\"07/08\",\"07/08\",\"08/09\",\"08/09\",\"08/09\",\"08/09\",\"08/09\",\"08/09\",\"08/09\",\"08/09\",\"08/09\",\"08/09\",\"08/09\",\"08/09\",\"08/09\",\"08/09\",\"08/09\",\"08/09\",\"08/09\",\"08/09\",\"08/09\",\"08/09\",\"08/09\",\"08/09\",\"08/09\",\"08/09\",\"08/09\",\"08/09\",\"21/22\",\"21/22\",\"21/22\",\"21/22\",\"21/22\",\"21/22\",\"21/22\",\"21/22\",\"21/22\",\"21/22\",\"21/22\",\"21/22\",\"21/22\",\"21/22\",\"21/22\",\"21/22\",\"21/22\",\"21/22\",\"21/22\",\"21/22\",\"21/22\",\"21/22\",\"21/22\",\"21/22\",\"22/23\",\"22/23\",\"22/23\"],\"xaxis\":\"x\",\"yaxis\":\"y\",\"type\":\"histogram\"},{\"alignmentgroup\":\"True\",\"bingroup\":\"x\",\"hovertemplate\":\"Club=Real Madrid<br>Season=%{x}<br>count=%{y}<extra></extra>\",\"legendgroup\":\"Real Madrid\",\"marker\":{\"color\":\"#00cc96\",\"pattern\":{\"shape\":\"\"}},\"name\":\"Real Madrid\",\"offsetgroup\":\"Real Madrid\",\"orientation\":\"v\",\"showlegend\":true,\"x\":[\"09/10\",\"09/10\",\"09/10\",\"09/10\",\"09/10\",\"09/10\",\"09/10\",\"09/10\",\"09/10\",\"09/10\",\"09/10\",\"09/10\",\"09/10\",\"09/10\",\"09/10\",\"09/10\",\"09/10\",\"09/10\",\"09/10\",\"09/10\",\"09/10\",\"09/10\",\"09/10\",\"09/10\",\"09/10\",\"09/10\",\"09/10\",\"09/10\",\"09/10\",\"09/10\",\"09/10\",\"09/10\",\"09/10\",\"10/11\",\"10/11\",\"10/11\",\"10/11\",\"10/11\",\"10/11\",\"10/11\",\"10/11\",\"10/11\",\"10/11\",\"10/11\",\"10/11\",\"10/11\",\"10/11\",\"10/11\",\"10/11\",\"10/11\",\"10/11\",\"10/11\",\"10/11\",\"10/11\",\"10/11\",\"10/11\",\"10/11\",\"10/11\",\"10/11\",\"10/11\",\"10/11\",\"10/11\",\"10/11\",\"10/11\",\"10/11\",\"10/11\",\"10/11\",\"10/11\",\"10/11\",\"10/11\",\"10/11\",\"10/11\",\"10/11\",\"10/11\",\"10/11\",\"10/11\",\"10/11\",\"10/11\",\"10/11\",\"10/11\",\"10/11\",\"10/11\",\"10/11\",\"10/11\",\"10/11\",\"10/11\",\"11/12\",\"11/12\",\"11/12\",\"11/12\",\"11/12\",\"11/12\",\"11/12\",\"11/12\",\"11/12\",\"11/12\",\"11/12\",\"11/12\",\"11/12\",\"11/12\",\"11/12\",\"11/12\",\"11/12\",\"11/12\",\"11/12\",\"11/12\",\"11/12\",\"11/12\",\"11/12\",\"11/12\",\"11/12\",\"11/12\",\"11/12\",\"11/12\",\"11/12\",\"11/12\",\"11/12\",\"11/12\",\"11/12\",\"11/12\",\"11/12\",\"11/12\",\"11/12\",\"11/12\",\"11/12\",\"11/12\",\"11/12\",\"11/12\",\"11/12\",\"11/12\",\"11/12\",\"11/12\",\"11/12\",\"11/12\",\"11/12\",\"11/12\",\"11/12\",\"11/12\",\"11/12\",\"11/12\",\"11/12\",\"11/12\",\"11/12\",\"11/12\",\"11/12\",\"11/12\",\"Dec-13\",\"Dec-13\",\"Dec-13\",\"Dec-13\",\"Dec-13\",\"Dec-13\",\"Dec-13\",\"Dec-13\",\"Dec-13\",\"Dec-13\",\"Dec-13\",\"Dec-13\",\"Dec-13\",\"Dec-13\",\"Dec-13\",\"Dec-13\",\"Dec-13\",\"Dec-13\",\"Dec-13\",\"Dec-13\",\"Dec-13\",\"Dec-13\",\"Dec-13\",\"Dec-13\",\"Dec-13\",\"Dec-13\",\"Dec-13\",\"Dec-13\",\"Dec-13\",\"Dec-13\",\"Dec-13\",\"Dec-13\",\"Dec-13\",\"Dec-13\",\"Dec-13\",\"Dec-13\",\"Dec-13\",\"Dec-13\",\"Dec-13\",\"Dec-13\",\"Dec-13\",\"Dec-13\",\"Dec-13\",\"Dec-13\",\"Dec-13\",\"Dec-13\",\"Dec-13\",\"Dec-13\",\"Dec-13\",\"Dec-13\",\"Dec-13\",\"Dec-13\",\"Dec-13\",\"Dec-13\",\"Dec-13\",\"13/14\",\"13/14\",\"13/14\",\"13/14\",\"13/14\",\"13/14\",\"13/14\",\"13/14\",\"13/14\",\"13/14\",\"13/14\",\"13/14\",\"13/14\",\"13/14\",\"13/14\",\"13/14\",\"13/14\",\"13/14\",\"13/14\",\"13/14\",\"13/14\",\"13/14\",\"13/14\",\"13/14\",\"13/14\",\"13/14\",\"13/14\",\"13/14\",\"13/14\",\"13/14\",\"13/14\",\"13/14\",\"13/14\",\"13/14\",\"13/14\",\"13/14\",\"13/14\",\"13/14\",\"13/14\",\"13/14\",\"13/14\",\"13/14\",\"13/14\",\"13/14\",\"13/14\",\"13/14\",\"13/14\",\"13/14\",\"13/14\",\"13/14\",\"13/14\",\"14/15\",\"14/15\",\"14/15\",\"14/15\",\"14/15\",\"14/15\",\"14/15\",\"14/15\",\"14/15\",\"14/15\",\"14/15\",\"14/15\",\"14/15\",\"14/15\",\"14/15\",\"14/15\",\"14/15\",\"14/15\",\"14/15\",\"14/15\",\"14/15\",\"14/15\",\"14/15\",\"14/15\",\"14/15\",\"14/15\",\"14/15\",\"14/15\",\"14/15\",\"14/15\",\"14/15\",\"14/15\",\"14/15\",\"14/15\",\"14/15\",\"14/15\",\"14/15\",\"14/15\",\"14/15\",\"14/15\",\"14/15\",\"14/15\",\"14/15\",\"14/15\",\"14/15\",\"14/15\",\"14/15\",\"14/15\",\"14/15\",\"14/15\",\"14/15\",\"14/15\",\"14/15\",\"14/15\",\"14/15\",\"14/15\",\"14/15\",\"14/15\",\"14/15\",\"14/15\",\"14/15\",\"15/16\",\"15/16\",\"15/16\",\"15/16\",\"15/16\",\"15/16\",\"15/16\",\"15/16\",\"15/16\",\"15/16\",\"15/16\",\"15/16\",\"15/16\",\"15/16\",\"15/16\",\"15/16\",\"15/16\",\"15/16\",\"15/16\",\"15/16\",\"15/16\",\"15/16\",\"15/16\",\"15/16\",\"15/16\",\"15/16\",\"15/16\",\"15/16\",\"15/16\",\"15/16\",\"15/16\",\"15/16\",\"15/16\",\"15/16\",\"15/16\",\"15/16\",\"15/16\",\"15/16\",\"15/16\",\"15/16\",\"15/16\",\"15/16\",\"15/16\",\"15/16\",\"15/16\",\"15/16\",\"15/16\",\"15/16\",\"15/16\",\"15/16\",\"15/16\",\"16/17\",\"16/17\",\"16/17\",\"16/17\",\"16/17\",\"16/17\",\"16/17\",\"16/17\",\"16/17\",\"16/17\",\"16/17\",\"16/17\",\"16/17\",\"16/17\",\"16/17\",\"16/17\",\"16/17\",\"16/17\",\"16/17\",\"16/17\",\"16/17\",\"16/17\",\"16/17\",\"16/17\",\"16/17\",\"16/17\",\"16/17\",\"16/17\",\"16/17\",\"16/17\",\"16/17\",\"16/17\",\"16/17\",\"16/17\",\"16/17\",\"16/17\",\"16/17\",\"16/17\",\"16/17\",\"16/17\",\"16/17\",\"16/17\",\"17/18\",\"17/18\",\"17/18\",\"17/18\",\"17/18\",\"17/18\",\"17/18\",\"17/18\",\"17/18\",\"17/18\",\"17/18\",\"17/18\",\"17/18\",\"17/18\",\"17/18\",\"17/18\",\"17/18\",\"17/18\",\"17/18\",\"17/18\",\"17/18\",\"17/18\",\"17/18\",\"17/18\",\"17/18\",\"17/18\",\"17/18\",\"17/18\",\"17/18\",\"17/18\",\"17/18\",\"17/18\",\"17/18\",\"17/18\",\"17/18\",\"17/18\",\"17/18\",\"17/18\",\"17/18\",\"17/18\",\"17/18\",\"17/18\",\"17/18\",\"17/18\"],\"xaxis\":\"x\",\"yaxis\":\"y\",\"type\":\"histogram\"},{\"alignmentgroup\":\"True\",\"bingroup\":\"x\",\"hovertemplate\":\"Club=Juventus FC<br>Season=%{x}<br>count=%{y}<extra></extra>\",\"legendgroup\":\"Juventus FC\",\"marker\":{\"color\":\"#ab63fa\",\"pattern\":{\"shape\":\"\"}},\"name\":\"Juventus FC\",\"offsetgroup\":\"Juventus FC\",\"orientation\":\"v\",\"showlegend\":true,\"x\":[\"18/19\",\"18/19\",\"18/19\",\"18/19\",\"18/19\",\"18/19\",\"18/19\",\"18/19\",\"18/19\",\"18/19\",\"18/19\",\"18/19\",\"18/19\",\"18/19\",\"18/19\",\"18/19\",\"18/19\",\"18/19\",\"18/19\",\"18/19\",\"18/19\",\"18/19\",\"18/19\",\"18/19\",\"18/19\",\"18/19\",\"18/19\",\"18/19\",\"19/20\",\"19/20\",\"19/20\",\"19/20\",\"19/20\",\"19/20\",\"19/20\",\"19/20\",\"19/20\",\"19/20\",\"19/20\",\"19/20\",\"19/20\",\"19/20\",\"19/20\",\"19/20\",\"19/20\",\"19/20\",\"19/20\",\"19/20\",\"19/20\",\"19/20\",\"19/20\",\"19/20\",\"19/20\",\"19/20\",\"19/20\",\"19/20\",\"19/20\",\"19/20\",\"19/20\",\"19/20\",\"19/20\",\"19/20\",\"19/20\",\"19/20\",\"19/20\",\"20/21\",\"20/21\",\"20/21\",\"20/21\",\"20/21\",\"20/21\",\"20/21\",\"20/21\",\"20/21\",\"20/21\",\"20/21\",\"20/21\",\"20/21\",\"20/21\",\"20/21\",\"20/21\",\"20/21\",\"20/21\",\"20/21\",\"20/21\",\"20/21\",\"20/21\",\"20/21\",\"20/21\",\"20/21\",\"20/21\",\"20/21\",\"20/21\",\"20/21\",\"20/21\",\"20/21\",\"20/21\",\"20/21\",\"20/21\",\"20/21\",\"20/21\"],\"xaxis\":\"x\",\"yaxis\":\"y\",\"type\":\"histogram\"},{\"alignmentgroup\":\"True\",\"bingroup\":\"x\",\"hovertemplate\":\"Club=Al-Nassr FC<br>Season=%{x}<br>count=%{y}<extra></extra>\",\"legendgroup\":\"Al-Nassr FC\",\"marker\":{\"color\":\"#FFA15A\",\"pattern\":{\"shape\":\"\"}},\"name\":\"Al-Nassr FC\",\"offsetgroup\":\"Al-Nassr FC\",\"orientation\":\"v\",\"showlegend\":true,\"x\":[\"22/23\",\"22/23\",\"22/23\",\"22/23\",\"22/23\",\"22/23\",\"22/23\",\"22/23\",\"22/23\"],\"xaxis\":\"x\",\"yaxis\":\"y\",\"type\":\"histogram\"}],                        {\"template\":{\"data\":{\"histogram2dcontour\":[{\"type\":\"histogram2dcontour\",\"colorbar\":{\"outlinewidth\":0,\"ticks\":\"\"},\"colorscale\":[[0.0,\"#0d0887\"],[0.1111111111111111,\"#46039f\"],[0.2222222222222222,\"#7201a8\"],[0.3333333333333333,\"#9c179e\"],[0.4444444444444444,\"#bd3786\"],[0.5555555555555556,\"#d8576b\"],[0.6666666666666666,\"#ed7953\"],[0.7777777777777778,\"#fb9f3a\"],[0.8888888888888888,\"#fdca26\"],[1.0,\"#f0f921\"]]}],\"choropleth\":[{\"type\":\"choropleth\",\"colorbar\":{\"outlinewidth\":0,\"ticks\":\"\"}}],\"histogram2d\":[{\"type\":\"histogram2d\",\"colorbar\":{\"outlinewidth\":0,\"ticks\":\"\"},\"colorscale\":[[0.0,\"#0d0887\"],[0.1111111111111111,\"#46039f\"],[0.2222222222222222,\"#7201a8\"],[0.3333333333333333,\"#9c179e\"],[0.4444444444444444,\"#bd3786\"],[0.5555555555555556,\"#d8576b\"],[0.6666666666666666,\"#ed7953\"],[0.7777777777777778,\"#fb9f3a\"],[0.8888888888888888,\"#fdca26\"],[1.0,\"#f0f921\"]]}],\"heatmap\":[{\"type\":\"heatmap\",\"colorbar\":{\"outlinewidth\":0,\"ticks\":\"\"},\"colorscale\":[[0.0,\"#0d0887\"],[0.1111111111111111,\"#46039f\"],[0.2222222222222222,\"#7201a8\"],[0.3333333333333333,\"#9c179e\"],[0.4444444444444444,\"#bd3786\"],[0.5555555555555556,\"#d8576b\"],[0.6666666666666666,\"#ed7953\"],[0.7777777777777778,\"#fb9f3a\"],[0.8888888888888888,\"#fdca26\"],[1.0,\"#f0f921\"]]}],\"heatmapgl\":[{\"type\":\"heatmapgl\",\"colorbar\":{\"outlinewidth\":0,\"ticks\":\"\"},\"colorscale\":[[0.0,\"#0d0887\"],[0.1111111111111111,\"#46039f\"],[0.2222222222222222,\"#7201a8\"],[0.3333333333333333,\"#9c179e\"],[0.4444444444444444,\"#bd3786\"],[0.5555555555555556,\"#d8576b\"],[0.6666666666666666,\"#ed7953\"],[0.7777777777777778,\"#fb9f3a\"],[0.8888888888888888,\"#fdca26\"],[1.0,\"#f0f921\"]]}],\"contourcarpet\":[{\"type\":\"contourcarpet\",\"colorbar\":{\"outlinewidth\":0,\"ticks\":\"\"}}],\"contour\":[{\"type\":\"contour\",\"colorbar\":{\"outlinewidth\":0,\"ticks\":\"\"},\"colorscale\":[[0.0,\"#0d0887\"],[0.1111111111111111,\"#46039f\"],[0.2222222222222222,\"#7201a8\"],[0.3333333333333333,\"#9c179e\"],[0.4444444444444444,\"#bd3786\"],[0.5555555555555556,\"#d8576b\"],[0.6666666666666666,\"#ed7953\"],[0.7777777777777778,\"#fb9f3a\"],[0.8888888888888888,\"#fdca26\"],[1.0,\"#f0f921\"]]}],\"surface\":[{\"type\":\"surface\",\"colorbar\":{\"outlinewidth\":0,\"ticks\":\"\"},\"colorscale\":[[0.0,\"#0d0887\"],[0.1111111111111111,\"#46039f\"],[0.2222222222222222,\"#7201a8\"],[0.3333333333333333,\"#9c179e\"],[0.4444444444444444,\"#bd3786\"],[0.5555555555555556,\"#d8576b\"],[0.6666666666666666,\"#ed7953\"],[0.7777777777777778,\"#fb9f3a\"],[0.8888888888888888,\"#fdca26\"],[1.0,\"#f0f921\"]]}],\"mesh3d\":[{\"type\":\"mesh3d\",\"colorbar\":{\"outlinewidth\":0,\"ticks\":\"\"}}],\"scatter\":[{\"fillpattern\":{\"fillmode\":\"overlay\",\"size\":10,\"solidity\":0.2},\"type\":\"scatter\"}],\"parcoords\":[{\"type\":\"parcoords\",\"line\":{\"colorbar\":{\"outlinewidth\":0,\"ticks\":\"\"}}}],\"scatterpolargl\":[{\"type\":\"scatterpolargl\",\"marker\":{\"colorbar\":{\"outlinewidth\":0,\"ticks\":\"\"}}}],\"bar\":[{\"error_x\":{\"color\":\"#2a3f5f\"},\"error_y\":{\"color\":\"#2a3f5f\"},\"marker\":{\"line\":{\"color\":\"#E5ECF6\",\"width\":0.5},\"pattern\":{\"fillmode\":\"overlay\",\"size\":10,\"solidity\":0.2}},\"type\":\"bar\"}],\"scattergeo\":[{\"type\":\"scattergeo\",\"marker\":{\"colorbar\":{\"outlinewidth\":0,\"ticks\":\"\"}}}],\"scatterpolar\":[{\"type\":\"scatterpolar\",\"marker\":{\"colorbar\":{\"outlinewidth\":0,\"ticks\":\"\"}}}],\"histogram\":[{\"marker\":{\"pattern\":{\"fillmode\":\"overlay\",\"size\":10,\"solidity\":0.2}},\"type\":\"histogram\"}],\"scattergl\":[{\"type\":\"scattergl\",\"marker\":{\"colorbar\":{\"outlinewidth\":0,\"ticks\":\"\"}}}],\"scatter3d\":[{\"type\":\"scatter3d\",\"line\":{\"colorbar\":{\"outlinewidth\":0,\"ticks\":\"\"}},\"marker\":{\"colorbar\":{\"outlinewidth\":0,\"ticks\":\"\"}}}],\"scattermapbox\":[{\"type\":\"scattermapbox\",\"marker\":{\"colorbar\":{\"outlinewidth\":0,\"ticks\":\"\"}}}],\"scatterternary\":[{\"type\":\"scatterternary\",\"marker\":{\"colorbar\":{\"outlinewidth\":0,\"ticks\":\"\"}}}],\"scattercarpet\":[{\"type\":\"scattercarpet\",\"marker\":{\"colorbar\":{\"outlinewidth\":0,\"ticks\":\"\"}}}],\"carpet\":[{\"aaxis\":{\"endlinecolor\":\"#2a3f5f\",\"gridcolor\":\"white\",\"linecolor\":\"white\",\"minorgridcolor\":\"white\",\"startlinecolor\":\"#2a3f5f\"},\"baxis\":{\"endlinecolor\":\"#2a3f5f\",\"gridcolor\":\"white\",\"linecolor\":\"white\",\"minorgridcolor\":\"white\",\"startlinecolor\":\"#2a3f5f\"},\"type\":\"carpet\"}],\"table\":[{\"cells\":{\"fill\":{\"color\":\"#EBF0F8\"},\"line\":{\"color\":\"white\"}},\"header\":{\"fill\":{\"color\":\"#C8D4E3\"},\"line\":{\"color\":\"white\"}},\"type\":\"table\"}],\"barpolar\":[{\"marker\":{\"line\":{\"color\":\"#E5ECF6\",\"width\":0.5},\"pattern\":{\"fillmode\":\"overlay\",\"size\":10,\"solidity\":0.2}},\"type\":\"barpolar\"}],\"pie\":[{\"automargin\":true,\"type\":\"pie\"}]},\"layout\":{\"autotypenumbers\":\"strict\",\"colorway\":[\"#636efa\",\"#EF553B\",\"#00cc96\",\"#ab63fa\",\"#FFA15A\",\"#19d3f3\",\"#FF6692\",\"#B6E880\",\"#FF97FF\",\"#FECB52\"],\"font\":{\"color\":\"#2a3f5f\"},\"hovermode\":\"closest\",\"hoverlabel\":{\"align\":\"left\"},\"paper_bgcolor\":\"white\",\"plot_bgcolor\":\"#E5ECF6\",\"polar\":{\"bgcolor\":\"#E5ECF6\",\"angularaxis\":{\"gridcolor\":\"white\",\"linecolor\":\"white\",\"ticks\":\"\"},\"radialaxis\":{\"gridcolor\":\"white\",\"linecolor\":\"white\",\"ticks\":\"\"}},\"ternary\":{\"bgcolor\":\"#E5ECF6\",\"aaxis\":{\"gridcolor\":\"white\",\"linecolor\":\"white\",\"ticks\":\"\"},\"baxis\":{\"gridcolor\":\"white\",\"linecolor\":\"white\",\"ticks\":\"\"},\"caxis\":{\"gridcolor\":\"white\",\"linecolor\":\"white\",\"ticks\":\"\"}},\"coloraxis\":{\"colorbar\":{\"outlinewidth\":0,\"ticks\":\"\"}},\"colorscale\":{\"sequential\":[[0.0,\"#0d0887\"],[0.1111111111111111,\"#46039f\"],[0.2222222222222222,\"#7201a8\"],[0.3333333333333333,\"#9c179e\"],[0.4444444444444444,\"#bd3786\"],[0.5555555555555556,\"#d8576b\"],[0.6666666666666666,\"#ed7953\"],[0.7777777777777778,\"#fb9f3a\"],[0.8888888888888888,\"#fdca26\"],[1.0,\"#f0f921\"]],\"sequentialminus\":[[0.0,\"#0d0887\"],[0.1111111111111111,\"#46039f\"],[0.2222222222222222,\"#7201a8\"],[0.3333333333333333,\"#9c179e\"],[0.4444444444444444,\"#bd3786\"],[0.5555555555555556,\"#d8576b\"],[0.6666666666666666,\"#ed7953\"],[0.7777777777777778,\"#fb9f3a\"],[0.8888888888888888,\"#fdca26\"],[1.0,\"#f0f921\"]],\"diverging\":[[0,\"#8e0152\"],[0.1,\"#c51b7d\"],[0.2,\"#de77ae\"],[0.3,\"#f1b6da\"],[0.4,\"#fde0ef\"],[0.5,\"#f7f7f7\"],[0.6,\"#e6f5d0\"],[0.7,\"#b8e186\"],[0.8,\"#7fbc41\"],[0.9,\"#4d9221\"],[1,\"#276419\"]]},\"xaxis\":{\"gridcolor\":\"white\",\"linecolor\":\"white\",\"ticks\":\"\",\"title\":{\"standoff\":15},\"zerolinecolor\":\"white\",\"automargin\":true,\"zerolinewidth\":2},\"yaxis\":{\"gridcolor\":\"white\",\"linecolor\":\"white\",\"ticks\":\"\",\"title\":{\"standoff\":15},\"zerolinecolor\":\"white\",\"automargin\":true,\"zerolinewidth\":2},\"scene\":{\"xaxis\":{\"backgroundcolor\":\"#E5ECF6\",\"gridcolor\":\"white\",\"linecolor\":\"white\",\"showbackground\":true,\"ticks\":\"\",\"zerolinecolor\":\"white\",\"gridwidth\":2},\"yaxis\":{\"backgroundcolor\":\"#E5ECF6\",\"gridcolor\":\"white\",\"linecolor\":\"white\",\"showbackground\":true,\"ticks\":\"\",\"zerolinecolor\":\"white\",\"gridwidth\":2},\"zaxis\":{\"backgroundcolor\":\"#E5ECF6\",\"gridcolor\":\"white\",\"linecolor\":\"white\",\"showbackground\":true,\"ticks\":\"\",\"zerolinecolor\":\"white\",\"gridwidth\":2}},\"shapedefaults\":{\"line\":{\"color\":\"#2a3f5f\"}},\"annotationdefaults\":{\"arrowcolor\":\"#2a3f5f\",\"arrowhead\":0,\"arrowwidth\":1},\"geo\":{\"bgcolor\":\"white\",\"landcolor\":\"#E5ECF6\",\"subunitcolor\":\"white\",\"showland\":true,\"showlakes\":true,\"lakecolor\":\"white\"},\"title\":{\"x\":0.05},\"mapbox\":{\"style\":\"light\"}}},\"xaxis\":{\"anchor\":\"y\",\"domain\":[0.0,1.0],\"title\":{\"text\":\"Season\"}},\"yaxis\":{\"anchor\":\"x\",\"domain\":[0.0,1.0],\"title\":{\"text\":\"count\"}},\"legend\":{\"title\":{\"text\":\"Club\"},\"tracegroupgap\":0},\"title\":{\"text\":\"Goals per season\"},\"barmode\":\"relative\",\"height\":500},                        {\"responsive\": true}                    ).then(function(){\n",
       "                            \n",
       "var gd = document.getElementById('cc976e38-efa6-4525-8218-fd0fd12b3e62');\n",
       "var x = new MutationObserver(function (mutations, observer) {{\n",
       "        var display = window.getComputedStyle(gd).display;\n",
       "        if (!display || display === 'none') {{\n",
       "            console.log([gd, 'removed!']);\n",
       "            Plotly.purge(gd);\n",
       "            observer.disconnect();\n",
       "        }}\n",
       "}});\n",
       "\n",
       "// Listen for the removal of the full notebook cells\n",
       "var notebookContainer = gd.closest('#notebook-container');\n",
       "if (notebookContainer) {{\n",
       "    x.observe(notebookContainer, {childList: true});\n",
       "}}\n",
       "\n",
       "// Listen for the clearing of the current output cell\n",
       "var outputEl = gd.closest('.output');\n",
       "if (outputEl) {{\n",
       "    x.observe(outputEl, {childList: true});\n",
       "}}\n",
       "\n",
       "                        })                };                });            </script>        </div>"
      ]
     },
     "metadata": {},
     "output_type": "display_data"
    }
   ],
   "source": [
    "px.histogram(\n",
    "    df,\n",
    "    x='Season',\n",
    "    title=\"Goals per season\",\n",
    "    log_x=False,\n",
    "    log_y=False,\n",
    "    #symbol='title',\n",
    "    #markers=True,\n",
    "    #width=800, \n",
    "    height=500,\n",
    "    color='Club',\n",
    "    hover_name='Club',\n",
    "    hover_data=['Competition','Season','Club'])\n"
   ]
  },
  {
   "cell_type": "code",
   "execution_count": 11,
   "id": "9339122b",
   "metadata": {},
   "outputs": [
    {
     "data": {
      "application/vnd.plotly.v1+json": {
       "config": {
        "plotlyServerURL": "https://plot.ly"
       },
       "data": [
        {
         "alignmentgroup": "True",
         "bingroup": "x",
         "hovertemplate": "Season=02/03<br>Club=%{x}<br>count=%{y}<extra></extra>",
         "legendgroup": "02/03",
         "marker": {
          "color": "#636efa",
          "pattern": {
           "shape": ""
          }
         },
         "name": "02/03",
         "offsetgroup": "02/03",
         "orientation": "v",
         "showlegend": true,
         "type": "histogram",
         "x": [
          "Sporting CP",
          "Sporting CP",
          "Sporting CP",
          "Sporting CP",
          "Sporting CP"
         ],
         "xaxis": "x",
         "yaxis": "y"
        },
        {
         "alignmentgroup": "True",
         "bingroup": "x",
         "hovertemplate": "Season=03/04<br>Club=%{x}<br>count=%{y}<extra></extra>",
         "legendgroup": "03/04",
         "marker": {
          "color": "#EF553B",
          "pattern": {
           "shape": ""
          }
         },
         "name": "03/04",
         "offsetgroup": "03/04",
         "orientation": "v",
         "showlegend": true,
         "type": "histogram",
         "x": [
          "Manchester United",
          "Manchester United",
          "Manchester United",
          "Manchester United",
          "Manchester United",
          "Manchester United"
         ],
         "xaxis": "x",
         "yaxis": "y"
        },
        {
         "alignmentgroup": "True",
         "bingroup": "x",
         "hovertemplate": "Season=04/05<br>Club=%{x}<br>count=%{y}<extra></extra>",
         "legendgroup": "04/05",
         "marker": {
          "color": "#00cc96",
          "pattern": {
           "shape": ""
          }
         },
         "name": "04/05",
         "offsetgroup": "04/05",
         "orientation": "v",
         "showlegend": true,
         "type": "histogram",
         "x": [
          "Manchester United",
          "Manchester United",
          "Manchester United",
          "Manchester United",
          "Manchester United",
          "Manchester United",
          "Manchester United",
          "Manchester United",
          "Manchester United"
         ],
         "xaxis": "x",
         "yaxis": "y"
        },
        {
         "alignmentgroup": "True",
         "bingroup": "x",
         "hovertemplate": "Season=05/06<br>Club=%{x}<br>count=%{y}<extra></extra>",
         "legendgroup": "05/06",
         "marker": {
          "color": "#ab63fa",
          "pattern": {
           "shape": ""
          }
         },
         "name": "05/06",
         "offsetgroup": "05/06",
         "orientation": "v",
         "showlegend": true,
         "type": "histogram",
         "x": [
          "Manchester United",
          "Manchester United",
          "Manchester United",
          "Manchester United",
          "Manchester United",
          "Manchester United",
          "Manchester United",
          "Manchester United",
          "Manchester United",
          "Manchester United",
          "Manchester United",
          "Manchester United"
         ],
         "xaxis": "x",
         "yaxis": "y"
        },
        {
         "alignmentgroup": "True",
         "bingroup": "x",
         "hovertemplate": "Season=06/07<br>Club=%{x}<br>count=%{y}<extra></extra>",
         "legendgroup": "06/07",
         "marker": {
          "color": "#FFA15A",
          "pattern": {
           "shape": ""
          }
         },
         "name": "06/07",
         "offsetgroup": "06/07",
         "orientation": "v",
         "showlegend": true,
         "type": "histogram",
         "x": [
          "Manchester United",
          "Manchester United",
          "Manchester United",
          "Manchester United",
          "Manchester United",
          "Manchester United",
          "Manchester United",
          "Manchester United",
          "Manchester United",
          "Manchester United",
          "Manchester United",
          "Manchester United",
          "Manchester United",
          "Manchester United",
          "Manchester United",
          "Manchester United",
          "Manchester United",
          "Manchester United",
          "Manchester United",
          "Manchester United",
          "Manchester United",
          "Manchester United",
          "Manchester United"
         ],
         "xaxis": "x",
         "yaxis": "y"
        },
        {
         "alignmentgroup": "True",
         "bingroup": "x",
         "hovertemplate": "Season=07/08<br>Club=%{x}<br>count=%{y}<extra></extra>",
         "legendgroup": "07/08",
         "marker": {
          "color": "#19d3f3",
          "pattern": {
           "shape": ""
          }
         },
         "name": "07/08",
         "offsetgroup": "07/08",
         "orientation": "v",
         "showlegend": true,
         "type": "histogram",
         "x": [
          "Manchester United",
          "Manchester United",
          "Manchester United",
          "Manchester United",
          "Manchester United",
          "Manchester United",
          "Manchester United",
          "Manchester United",
          "Manchester United",
          "Manchester United",
          "Manchester United",
          "Manchester United",
          "Manchester United",
          "Manchester United",
          "Manchester United",
          "Manchester United",
          "Manchester United",
          "Manchester United",
          "Manchester United",
          "Manchester United",
          "Manchester United",
          "Manchester United",
          "Manchester United",
          "Manchester United",
          "Manchester United",
          "Manchester United",
          "Manchester United",
          "Manchester United",
          "Manchester United",
          "Manchester United",
          "Manchester United",
          "Manchester United",
          "Manchester United",
          "Manchester United",
          "Manchester United",
          "Manchester United",
          "Manchester United",
          "Manchester United",
          "Manchester United",
          "Manchester United",
          "Manchester United",
          "Manchester United"
         ],
         "xaxis": "x",
         "yaxis": "y"
        },
        {
         "alignmentgroup": "True",
         "bingroup": "x",
         "hovertemplate": "Season=08/09<br>Club=%{x}<br>count=%{y}<extra></extra>",
         "legendgroup": "08/09",
         "marker": {
          "color": "#FF6692",
          "pattern": {
           "shape": ""
          }
         },
         "name": "08/09",
         "offsetgroup": "08/09",
         "orientation": "v",
         "showlegend": true,
         "type": "histogram",
         "x": [
          "Manchester United",
          "Manchester United",
          "Manchester United",
          "Manchester United",
          "Manchester United",
          "Manchester United",
          "Manchester United",
          "Manchester United",
          "Manchester United",
          "Manchester United",
          "Manchester United",
          "Manchester United",
          "Manchester United",
          "Manchester United",
          "Manchester United",
          "Manchester United",
          "Manchester United",
          "Manchester United",
          "Manchester United",
          "Manchester United",
          "Manchester United",
          "Manchester United",
          "Manchester United",
          "Manchester United",
          "Manchester United",
          "Manchester United"
         ],
         "xaxis": "x",
         "yaxis": "y"
        },
        {
         "alignmentgroup": "True",
         "bingroup": "x",
         "hovertemplate": "Season=09/10<br>Club=%{x}<br>count=%{y}<extra></extra>",
         "legendgroup": "09/10",
         "marker": {
          "color": "#B6E880",
          "pattern": {
           "shape": ""
          }
         },
         "name": "09/10",
         "offsetgroup": "09/10",
         "orientation": "v",
         "showlegend": true,
         "type": "histogram",
         "x": [
          "Real Madrid",
          "Real Madrid",
          "Real Madrid",
          "Real Madrid",
          "Real Madrid",
          "Real Madrid",
          "Real Madrid",
          "Real Madrid",
          "Real Madrid",
          "Real Madrid",
          "Real Madrid",
          "Real Madrid",
          "Real Madrid",
          "Real Madrid",
          "Real Madrid",
          "Real Madrid",
          "Real Madrid",
          "Real Madrid",
          "Real Madrid",
          "Real Madrid",
          "Real Madrid",
          "Real Madrid",
          "Real Madrid",
          "Real Madrid",
          "Real Madrid",
          "Real Madrid",
          "Real Madrid",
          "Real Madrid",
          "Real Madrid",
          "Real Madrid",
          "Real Madrid",
          "Real Madrid",
          "Real Madrid"
         ],
         "xaxis": "x",
         "yaxis": "y"
        },
        {
         "alignmentgroup": "True",
         "bingroup": "x",
         "hovertemplate": "Season=10/11<br>Club=%{x}<br>count=%{y}<extra></extra>",
         "legendgroup": "10/11",
         "marker": {
          "color": "#FF97FF",
          "pattern": {
           "shape": ""
          }
         },
         "name": "10/11",
         "offsetgroup": "10/11",
         "orientation": "v",
         "showlegend": true,
         "type": "histogram",
         "x": [
          "Real Madrid",
          "Real Madrid",
          "Real Madrid",
          "Real Madrid",
          "Real Madrid",
          "Real Madrid",
          "Real Madrid",
          "Real Madrid",
          "Real Madrid",
          "Real Madrid",
          "Real Madrid",
          "Real Madrid",
          "Real Madrid",
          "Real Madrid",
          "Real Madrid",
          "Real Madrid",
          "Real Madrid",
          "Real Madrid",
          "Real Madrid",
          "Real Madrid",
          "Real Madrid",
          "Real Madrid",
          "Real Madrid",
          "Real Madrid",
          "Real Madrid",
          "Real Madrid",
          "Real Madrid",
          "Real Madrid",
          "Real Madrid",
          "Real Madrid",
          "Real Madrid",
          "Real Madrid",
          "Real Madrid",
          "Real Madrid",
          "Real Madrid",
          "Real Madrid",
          "Real Madrid",
          "Real Madrid",
          "Real Madrid",
          "Real Madrid",
          "Real Madrid",
          "Real Madrid",
          "Real Madrid",
          "Real Madrid",
          "Real Madrid",
          "Real Madrid",
          "Real Madrid",
          "Real Madrid",
          "Real Madrid",
          "Real Madrid",
          "Real Madrid",
          "Real Madrid",
          "Real Madrid"
         ],
         "xaxis": "x",
         "yaxis": "y"
        },
        {
         "alignmentgroup": "True",
         "bingroup": "x",
         "hovertemplate": "Season=11/12<br>Club=%{x}<br>count=%{y}<extra></extra>",
         "legendgroup": "11/12",
         "marker": {
          "color": "#FECB52",
          "pattern": {
           "shape": ""
          }
         },
         "name": "11/12",
         "offsetgroup": "11/12",
         "orientation": "v",
         "showlegend": true,
         "type": "histogram",
         "x": [
          "Real Madrid",
          "Real Madrid",
          "Real Madrid",
          "Real Madrid",
          "Real Madrid",
          "Real Madrid",
          "Real Madrid",
          "Real Madrid",
          "Real Madrid",
          "Real Madrid",
          "Real Madrid",
          "Real Madrid",
          "Real Madrid",
          "Real Madrid",
          "Real Madrid",
          "Real Madrid",
          "Real Madrid",
          "Real Madrid",
          "Real Madrid",
          "Real Madrid",
          "Real Madrid",
          "Real Madrid",
          "Real Madrid",
          "Real Madrid",
          "Real Madrid",
          "Real Madrid",
          "Real Madrid",
          "Real Madrid",
          "Real Madrid",
          "Real Madrid",
          "Real Madrid",
          "Real Madrid",
          "Real Madrid",
          "Real Madrid",
          "Real Madrid",
          "Real Madrid",
          "Real Madrid",
          "Real Madrid",
          "Real Madrid",
          "Real Madrid",
          "Real Madrid",
          "Real Madrid",
          "Real Madrid",
          "Real Madrid",
          "Real Madrid",
          "Real Madrid",
          "Real Madrid",
          "Real Madrid",
          "Real Madrid",
          "Real Madrid",
          "Real Madrid",
          "Real Madrid",
          "Real Madrid",
          "Real Madrid",
          "Real Madrid",
          "Real Madrid",
          "Real Madrid",
          "Real Madrid",
          "Real Madrid",
          "Real Madrid"
         ],
         "xaxis": "x",
         "yaxis": "y"
        },
        {
         "alignmentgroup": "True",
         "bingroup": "x",
         "hovertemplate": "Season=Dec-13<br>Club=%{x}<br>count=%{y}<extra></extra>",
         "legendgroup": "Dec-13",
         "marker": {
          "color": "#636efa",
          "pattern": {
           "shape": ""
          }
         },
         "name": "Dec-13",
         "offsetgroup": "Dec-13",
         "orientation": "v",
         "showlegend": true,
         "type": "histogram",
         "x": [
          "Real Madrid",
          "Real Madrid",
          "Real Madrid",
          "Real Madrid",
          "Real Madrid",
          "Real Madrid",
          "Real Madrid",
          "Real Madrid",
          "Real Madrid",
          "Real Madrid",
          "Real Madrid",
          "Real Madrid",
          "Real Madrid",
          "Real Madrid",
          "Real Madrid",
          "Real Madrid",
          "Real Madrid",
          "Real Madrid",
          "Real Madrid",
          "Real Madrid",
          "Real Madrid",
          "Real Madrid",
          "Real Madrid",
          "Real Madrid",
          "Real Madrid",
          "Real Madrid",
          "Real Madrid",
          "Real Madrid",
          "Real Madrid",
          "Real Madrid",
          "Real Madrid",
          "Real Madrid",
          "Real Madrid",
          "Real Madrid",
          "Real Madrid",
          "Real Madrid",
          "Real Madrid",
          "Real Madrid",
          "Real Madrid",
          "Real Madrid",
          "Real Madrid",
          "Real Madrid",
          "Real Madrid",
          "Real Madrid",
          "Real Madrid",
          "Real Madrid",
          "Real Madrid",
          "Real Madrid",
          "Real Madrid",
          "Real Madrid",
          "Real Madrid",
          "Real Madrid",
          "Real Madrid",
          "Real Madrid",
          "Real Madrid"
         ],
         "xaxis": "x",
         "yaxis": "y"
        },
        {
         "alignmentgroup": "True",
         "bingroup": "x",
         "hovertemplate": "Season=13/14<br>Club=%{x}<br>count=%{y}<extra></extra>",
         "legendgroup": "13/14",
         "marker": {
          "color": "#EF553B",
          "pattern": {
           "shape": ""
          }
         },
         "name": "13/14",
         "offsetgroup": "13/14",
         "orientation": "v",
         "showlegend": true,
         "type": "histogram",
         "x": [
          "Real Madrid",
          "Real Madrid",
          "Real Madrid",
          "Real Madrid",
          "Real Madrid",
          "Real Madrid",
          "Real Madrid",
          "Real Madrid",
          "Real Madrid",
          "Real Madrid",
          "Real Madrid",
          "Real Madrid",
          "Real Madrid",
          "Real Madrid",
          "Real Madrid",
          "Real Madrid",
          "Real Madrid",
          "Real Madrid",
          "Real Madrid",
          "Real Madrid",
          "Real Madrid",
          "Real Madrid",
          "Real Madrid",
          "Real Madrid",
          "Real Madrid",
          "Real Madrid",
          "Real Madrid",
          "Real Madrid",
          "Real Madrid",
          "Real Madrid",
          "Real Madrid",
          "Real Madrid",
          "Real Madrid",
          "Real Madrid",
          "Real Madrid",
          "Real Madrid",
          "Real Madrid",
          "Real Madrid",
          "Real Madrid",
          "Real Madrid",
          "Real Madrid",
          "Real Madrid",
          "Real Madrid",
          "Real Madrid",
          "Real Madrid",
          "Real Madrid",
          "Real Madrid",
          "Real Madrid",
          "Real Madrid",
          "Real Madrid",
          "Real Madrid"
         ],
         "xaxis": "x",
         "yaxis": "y"
        },
        {
         "alignmentgroup": "True",
         "bingroup": "x",
         "hovertemplate": "Season=14/15<br>Club=%{x}<br>count=%{y}<extra></extra>",
         "legendgroup": "14/15",
         "marker": {
          "color": "#00cc96",
          "pattern": {
           "shape": ""
          }
         },
         "name": "14/15",
         "offsetgroup": "14/15",
         "orientation": "v",
         "showlegend": true,
         "type": "histogram",
         "x": [
          "Real Madrid",
          "Real Madrid",
          "Real Madrid",
          "Real Madrid",
          "Real Madrid",
          "Real Madrid",
          "Real Madrid",
          "Real Madrid",
          "Real Madrid",
          "Real Madrid",
          "Real Madrid",
          "Real Madrid",
          "Real Madrid",
          "Real Madrid",
          "Real Madrid",
          "Real Madrid",
          "Real Madrid",
          "Real Madrid",
          "Real Madrid",
          "Real Madrid",
          "Real Madrid",
          "Real Madrid",
          "Real Madrid",
          "Real Madrid",
          "Real Madrid",
          "Real Madrid",
          "Real Madrid",
          "Real Madrid",
          "Real Madrid",
          "Real Madrid",
          "Real Madrid",
          "Real Madrid",
          "Real Madrid",
          "Real Madrid",
          "Real Madrid",
          "Real Madrid",
          "Real Madrid",
          "Real Madrid",
          "Real Madrid",
          "Real Madrid",
          "Real Madrid",
          "Real Madrid",
          "Real Madrid",
          "Real Madrid",
          "Real Madrid",
          "Real Madrid",
          "Real Madrid",
          "Real Madrid",
          "Real Madrid",
          "Real Madrid",
          "Real Madrid",
          "Real Madrid",
          "Real Madrid",
          "Real Madrid",
          "Real Madrid",
          "Real Madrid",
          "Real Madrid",
          "Real Madrid",
          "Real Madrid",
          "Real Madrid",
          "Real Madrid"
         ],
         "xaxis": "x",
         "yaxis": "y"
        },
        {
         "alignmentgroup": "True",
         "bingroup": "x",
         "hovertemplate": "Season=15/16<br>Club=%{x}<br>count=%{y}<extra></extra>",
         "legendgroup": "15/16",
         "marker": {
          "color": "#ab63fa",
          "pattern": {
           "shape": ""
          }
         },
         "name": "15/16",
         "offsetgroup": "15/16",
         "orientation": "v",
         "showlegend": true,
         "type": "histogram",
         "x": [
          "Real Madrid",
          "Real Madrid",
          "Real Madrid",
          "Real Madrid",
          "Real Madrid",
          "Real Madrid",
          "Real Madrid",
          "Real Madrid",
          "Real Madrid",
          "Real Madrid",
          "Real Madrid",
          "Real Madrid",
          "Real Madrid",
          "Real Madrid",
          "Real Madrid",
          "Real Madrid",
          "Real Madrid",
          "Real Madrid",
          "Real Madrid",
          "Real Madrid",
          "Real Madrid",
          "Real Madrid",
          "Real Madrid",
          "Real Madrid",
          "Real Madrid",
          "Real Madrid",
          "Real Madrid",
          "Real Madrid",
          "Real Madrid",
          "Real Madrid",
          "Real Madrid",
          "Real Madrid",
          "Real Madrid",
          "Real Madrid",
          "Real Madrid",
          "Real Madrid",
          "Real Madrid",
          "Real Madrid",
          "Real Madrid",
          "Real Madrid",
          "Real Madrid",
          "Real Madrid",
          "Real Madrid",
          "Real Madrid",
          "Real Madrid",
          "Real Madrid",
          "Real Madrid",
          "Real Madrid",
          "Real Madrid",
          "Real Madrid",
          "Real Madrid"
         ],
         "xaxis": "x",
         "yaxis": "y"
        },
        {
         "alignmentgroup": "True",
         "bingroup": "x",
         "hovertemplate": "Season=16/17<br>Club=%{x}<br>count=%{y}<extra></extra>",
         "legendgroup": "16/17",
         "marker": {
          "color": "#FFA15A",
          "pattern": {
           "shape": ""
          }
         },
         "name": "16/17",
         "offsetgroup": "16/17",
         "orientation": "v",
         "showlegend": true,
         "type": "histogram",
         "x": [
          "Real Madrid",
          "Real Madrid",
          "Real Madrid",
          "Real Madrid",
          "Real Madrid",
          "Real Madrid",
          "Real Madrid",
          "Real Madrid",
          "Real Madrid",
          "Real Madrid",
          "Real Madrid",
          "Real Madrid",
          "Real Madrid",
          "Real Madrid",
          "Real Madrid",
          "Real Madrid",
          "Real Madrid",
          "Real Madrid",
          "Real Madrid",
          "Real Madrid",
          "Real Madrid",
          "Real Madrid",
          "Real Madrid",
          "Real Madrid",
          "Real Madrid",
          "Real Madrid",
          "Real Madrid",
          "Real Madrid",
          "Real Madrid",
          "Real Madrid",
          "Real Madrid",
          "Real Madrid",
          "Real Madrid",
          "Real Madrid",
          "Real Madrid",
          "Real Madrid",
          "Real Madrid",
          "Real Madrid",
          "Real Madrid",
          "Real Madrid",
          "Real Madrid",
          "Real Madrid"
         ],
         "xaxis": "x",
         "yaxis": "y"
        },
        {
         "alignmentgroup": "True",
         "bingroup": "x",
         "hovertemplate": "Season=17/18<br>Club=%{x}<br>count=%{y}<extra></extra>",
         "legendgroup": "17/18",
         "marker": {
          "color": "#19d3f3",
          "pattern": {
           "shape": ""
          }
         },
         "name": "17/18",
         "offsetgroup": "17/18",
         "orientation": "v",
         "showlegend": true,
         "type": "histogram",
         "x": [
          "Real Madrid",
          "Real Madrid",
          "Real Madrid",
          "Real Madrid",
          "Real Madrid",
          "Real Madrid",
          "Real Madrid",
          "Real Madrid",
          "Real Madrid",
          "Real Madrid",
          "Real Madrid",
          "Real Madrid",
          "Real Madrid",
          "Real Madrid",
          "Real Madrid",
          "Real Madrid",
          "Real Madrid",
          "Real Madrid",
          "Real Madrid",
          "Real Madrid",
          "Real Madrid",
          "Real Madrid",
          "Real Madrid",
          "Real Madrid",
          "Real Madrid",
          "Real Madrid",
          "Real Madrid",
          "Real Madrid",
          "Real Madrid",
          "Real Madrid",
          "Real Madrid",
          "Real Madrid",
          "Real Madrid",
          "Real Madrid",
          "Real Madrid",
          "Real Madrid",
          "Real Madrid",
          "Real Madrid",
          "Real Madrid",
          "Real Madrid",
          "Real Madrid",
          "Real Madrid",
          "Real Madrid",
          "Real Madrid"
         ],
         "xaxis": "x",
         "yaxis": "y"
        },
        {
         "alignmentgroup": "True",
         "bingroup": "x",
         "hovertemplate": "Season=18/19<br>Club=%{x}<br>count=%{y}<extra></extra>",
         "legendgroup": "18/19",
         "marker": {
          "color": "#FF6692",
          "pattern": {
           "shape": ""
          }
         },
         "name": "18/19",
         "offsetgroup": "18/19",
         "orientation": "v",
         "showlegend": true,
         "type": "histogram",
         "x": [
          "Juventus FC",
          "Juventus FC",
          "Juventus FC",
          "Juventus FC",
          "Juventus FC",
          "Juventus FC",
          "Juventus FC",
          "Juventus FC",
          "Juventus FC",
          "Juventus FC",
          "Juventus FC",
          "Juventus FC",
          "Juventus FC",
          "Juventus FC",
          "Juventus FC",
          "Juventus FC",
          "Juventus FC",
          "Juventus FC",
          "Juventus FC",
          "Juventus FC",
          "Juventus FC",
          "Juventus FC",
          "Juventus FC",
          "Juventus FC",
          "Juventus FC",
          "Juventus FC",
          "Juventus FC",
          "Juventus FC"
         ],
         "xaxis": "x",
         "yaxis": "y"
        },
        {
         "alignmentgroup": "True",
         "bingroup": "x",
         "hovertemplate": "Season=19/20<br>Club=%{x}<br>count=%{y}<extra></extra>",
         "legendgroup": "19/20",
         "marker": {
          "color": "#B6E880",
          "pattern": {
           "shape": ""
          }
         },
         "name": "19/20",
         "offsetgroup": "19/20",
         "orientation": "v",
         "showlegend": true,
         "type": "histogram",
         "x": [
          "Juventus FC",
          "Juventus FC",
          "Juventus FC",
          "Juventus FC",
          "Juventus FC",
          "Juventus FC",
          "Juventus FC",
          "Juventus FC",
          "Juventus FC",
          "Juventus FC",
          "Juventus FC",
          "Juventus FC",
          "Juventus FC",
          "Juventus FC",
          "Juventus FC",
          "Juventus FC",
          "Juventus FC",
          "Juventus FC",
          "Juventus FC",
          "Juventus FC",
          "Juventus FC",
          "Juventus FC",
          "Juventus FC",
          "Juventus FC",
          "Juventus FC",
          "Juventus FC",
          "Juventus FC",
          "Juventus FC",
          "Juventus FC",
          "Juventus FC",
          "Juventus FC",
          "Juventus FC",
          "Juventus FC",
          "Juventus FC",
          "Juventus FC",
          "Juventus FC",
          "Juventus FC"
         ],
         "xaxis": "x",
         "yaxis": "y"
        },
        {
         "alignmentgroup": "True",
         "bingroup": "x",
         "hovertemplate": "Season=20/21<br>Club=%{x}<br>count=%{y}<extra></extra>",
         "legendgroup": "20/21",
         "marker": {
          "color": "#FF97FF",
          "pattern": {
           "shape": ""
          }
         },
         "name": "20/21",
         "offsetgroup": "20/21",
         "orientation": "v",
         "showlegend": true,
         "type": "histogram",
         "x": [
          "Juventus FC",
          "Juventus FC",
          "Juventus FC",
          "Juventus FC",
          "Juventus FC",
          "Juventus FC",
          "Juventus FC",
          "Juventus FC",
          "Juventus FC",
          "Juventus FC",
          "Juventus FC",
          "Juventus FC",
          "Juventus FC",
          "Juventus FC",
          "Juventus FC",
          "Juventus FC",
          "Juventus FC",
          "Juventus FC",
          "Juventus FC",
          "Juventus FC",
          "Juventus FC",
          "Juventus FC",
          "Juventus FC",
          "Juventus FC",
          "Juventus FC",
          "Juventus FC",
          "Juventus FC",
          "Juventus FC",
          "Juventus FC",
          "Juventus FC",
          "Juventus FC",
          "Juventus FC",
          "Juventus FC",
          "Juventus FC",
          "Juventus FC",
          "Juventus FC"
         ],
         "xaxis": "x",
         "yaxis": "y"
        },
        {
         "alignmentgroup": "True",
         "bingroup": "x",
         "hovertemplate": "Season=21/22<br>Club=%{x}<br>count=%{y}<extra></extra>",
         "legendgroup": "21/22",
         "marker": {
          "color": "#FECB52",
          "pattern": {
           "shape": ""
          }
         },
         "name": "21/22",
         "offsetgroup": "21/22",
         "orientation": "v",
         "showlegend": true,
         "type": "histogram",
         "x": [
          "Manchester United",
          "Manchester United",
          "Manchester United",
          "Manchester United",
          "Manchester United",
          "Manchester United",
          "Manchester United",
          "Manchester United",
          "Manchester United",
          "Manchester United",
          "Manchester United",
          "Manchester United",
          "Manchester United",
          "Manchester United",
          "Manchester United",
          "Manchester United",
          "Manchester United",
          "Manchester United",
          "Manchester United",
          "Manchester United",
          "Manchester United",
          "Manchester United",
          "Manchester United",
          "Manchester United"
         ],
         "xaxis": "x",
         "yaxis": "y"
        },
        {
         "alignmentgroup": "True",
         "bingroup": "x",
         "hovertemplate": "Season=22/23<br>Club=%{x}<br>count=%{y}<extra></extra>",
         "legendgroup": "22/23",
         "marker": {
          "color": "#636efa",
          "pattern": {
           "shape": ""
          }
         },
         "name": "22/23",
         "offsetgroup": "22/23",
         "orientation": "v",
         "showlegend": true,
         "type": "histogram",
         "x": [
          "Manchester United",
          "Manchester United",
          "Manchester United",
          "Al-Nassr FC",
          "Al-Nassr FC",
          "Al-Nassr FC",
          "Al-Nassr FC",
          "Al-Nassr FC",
          "Al-Nassr FC",
          "Al-Nassr FC",
          "Al-Nassr FC",
          "Al-Nassr FC"
         ],
         "xaxis": "x",
         "yaxis": "y"
        }
       ],
       "layout": {
        "barmode": "relative",
        "height": 500,
        "legend": {
         "title": {
          "text": "Season"
         },
         "tracegroupgap": 0
        },
        "template": {
         "data": {
          "bar": [
           {
            "error_x": {
             "color": "#2a3f5f"
            },
            "error_y": {
             "color": "#2a3f5f"
            },
            "marker": {
             "line": {
              "color": "#E5ECF6",
              "width": 0.5
             },
             "pattern": {
              "fillmode": "overlay",
              "size": 10,
              "solidity": 0.2
             }
            },
            "type": "bar"
           }
          ],
          "barpolar": [
           {
            "marker": {
             "line": {
              "color": "#E5ECF6",
              "width": 0.5
             },
             "pattern": {
              "fillmode": "overlay",
              "size": 10,
              "solidity": 0.2
             }
            },
            "type": "barpolar"
           }
          ],
          "carpet": [
           {
            "aaxis": {
             "endlinecolor": "#2a3f5f",
             "gridcolor": "white",
             "linecolor": "white",
             "minorgridcolor": "white",
             "startlinecolor": "#2a3f5f"
            },
            "baxis": {
             "endlinecolor": "#2a3f5f",
             "gridcolor": "white",
             "linecolor": "white",
             "minorgridcolor": "white",
             "startlinecolor": "#2a3f5f"
            },
            "type": "carpet"
           }
          ],
          "choropleth": [
           {
            "colorbar": {
             "outlinewidth": 0,
             "ticks": ""
            },
            "type": "choropleth"
           }
          ],
          "contour": [
           {
            "colorbar": {
             "outlinewidth": 0,
             "ticks": ""
            },
            "colorscale": [
             [
              0,
              "#0d0887"
             ],
             [
              0.1111111111111111,
              "#46039f"
             ],
             [
              0.2222222222222222,
              "#7201a8"
             ],
             [
              0.3333333333333333,
              "#9c179e"
             ],
             [
              0.4444444444444444,
              "#bd3786"
             ],
             [
              0.5555555555555556,
              "#d8576b"
             ],
             [
              0.6666666666666666,
              "#ed7953"
             ],
             [
              0.7777777777777778,
              "#fb9f3a"
             ],
             [
              0.8888888888888888,
              "#fdca26"
             ],
             [
              1,
              "#f0f921"
             ]
            ],
            "type": "contour"
           }
          ],
          "contourcarpet": [
           {
            "colorbar": {
             "outlinewidth": 0,
             "ticks": ""
            },
            "type": "contourcarpet"
           }
          ],
          "heatmap": [
           {
            "colorbar": {
             "outlinewidth": 0,
             "ticks": ""
            },
            "colorscale": [
             [
              0,
              "#0d0887"
             ],
             [
              0.1111111111111111,
              "#46039f"
             ],
             [
              0.2222222222222222,
              "#7201a8"
             ],
             [
              0.3333333333333333,
              "#9c179e"
             ],
             [
              0.4444444444444444,
              "#bd3786"
             ],
             [
              0.5555555555555556,
              "#d8576b"
             ],
             [
              0.6666666666666666,
              "#ed7953"
             ],
             [
              0.7777777777777778,
              "#fb9f3a"
             ],
             [
              0.8888888888888888,
              "#fdca26"
             ],
             [
              1,
              "#f0f921"
             ]
            ],
            "type": "heatmap"
           }
          ],
          "heatmapgl": [
           {
            "colorbar": {
             "outlinewidth": 0,
             "ticks": ""
            },
            "colorscale": [
             [
              0,
              "#0d0887"
             ],
             [
              0.1111111111111111,
              "#46039f"
             ],
             [
              0.2222222222222222,
              "#7201a8"
             ],
             [
              0.3333333333333333,
              "#9c179e"
             ],
             [
              0.4444444444444444,
              "#bd3786"
             ],
             [
              0.5555555555555556,
              "#d8576b"
             ],
             [
              0.6666666666666666,
              "#ed7953"
             ],
             [
              0.7777777777777778,
              "#fb9f3a"
             ],
             [
              0.8888888888888888,
              "#fdca26"
             ],
             [
              1,
              "#f0f921"
             ]
            ],
            "type": "heatmapgl"
           }
          ],
          "histogram": [
           {
            "marker": {
             "pattern": {
              "fillmode": "overlay",
              "size": 10,
              "solidity": 0.2
             }
            },
            "type": "histogram"
           }
          ],
          "histogram2d": [
           {
            "colorbar": {
             "outlinewidth": 0,
             "ticks": ""
            },
            "colorscale": [
             [
              0,
              "#0d0887"
             ],
             [
              0.1111111111111111,
              "#46039f"
             ],
             [
              0.2222222222222222,
              "#7201a8"
             ],
             [
              0.3333333333333333,
              "#9c179e"
             ],
             [
              0.4444444444444444,
              "#bd3786"
             ],
             [
              0.5555555555555556,
              "#d8576b"
             ],
             [
              0.6666666666666666,
              "#ed7953"
             ],
             [
              0.7777777777777778,
              "#fb9f3a"
             ],
             [
              0.8888888888888888,
              "#fdca26"
             ],
             [
              1,
              "#f0f921"
             ]
            ],
            "type": "histogram2d"
           }
          ],
          "histogram2dcontour": [
           {
            "colorbar": {
             "outlinewidth": 0,
             "ticks": ""
            },
            "colorscale": [
             [
              0,
              "#0d0887"
             ],
             [
              0.1111111111111111,
              "#46039f"
             ],
             [
              0.2222222222222222,
              "#7201a8"
             ],
             [
              0.3333333333333333,
              "#9c179e"
             ],
             [
              0.4444444444444444,
              "#bd3786"
             ],
             [
              0.5555555555555556,
              "#d8576b"
             ],
             [
              0.6666666666666666,
              "#ed7953"
             ],
             [
              0.7777777777777778,
              "#fb9f3a"
             ],
             [
              0.8888888888888888,
              "#fdca26"
             ],
             [
              1,
              "#f0f921"
             ]
            ],
            "type": "histogram2dcontour"
           }
          ],
          "mesh3d": [
           {
            "colorbar": {
             "outlinewidth": 0,
             "ticks": ""
            },
            "type": "mesh3d"
           }
          ],
          "parcoords": [
           {
            "line": {
             "colorbar": {
              "outlinewidth": 0,
              "ticks": ""
             }
            },
            "type": "parcoords"
           }
          ],
          "pie": [
           {
            "automargin": true,
            "type": "pie"
           }
          ],
          "scatter": [
           {
            "fillpattern": {
             "fillmode": "overlay",
             "size": 10,
             "solidity": 0.2
            },
            "type": "scatter"
           }
          ],
          "scatter3d": [
           {
            "line": {
             "colorbar": {
              "outlinewidth": 0,
              "ticks": ""
             }
            },
            "marker": {
             "colorbar": {
              "outlinewidth": 0,
              "ticks": ""
             }
            },
            "type": "scatter3d"
           }
          ],
          "scattercarpet": [
           {
            "marker": {
             "colorbar": {
              "outlinewidth": 0,
              "ticks": ""
             }
            },
            "type": "scattercarpet"
           }
          ],
          "scattergeo": [
           {
            "marker": {
             "colorbar": {
              "outlinewidth": 0,
              "ticks": ""
             }
            },
            "type": "scattergeo"
           }
          ],
          "scattergl": [
           {
            "marker": {
             "colorbar": {
              "outlinewidth": 0,
              "ticks": ""
             }
            },
            "type": "scattergl"
           }
          ],
          "scattermapbox": [
           {
            "marker": {
             "colorbar": {
              "outlinewidth": 0,
              "ticks": ""
             }
            },
            "type": "scattermapbox"
           }
          ],
          "scatterpolar": [
           {
            "marker": {
             "colorbar": {
              "outlinewidth": 0,
              "ticks": ""
             }
            },
            "type": "scatterpolar"
           }
          ],
          "scatterpolargl": [
           {
            "marker": {
             "colorbar": {
              "outlinewidth": 0,
              "ticks": ""
             }
            },
            "type": "scatterpolargl"
           }
          ],
          "scatterternary": [
           {
            "marker": {
             "colorbar": {
              "outlinewidth": 0,
              "ticks": ""
             }
            },
            "type": "scatterternary"
           }
          ],
          "surface": [
           {
            "colorbar": {
             "outlinewidth": 0,
             "ticks": ""
            },
            "colorscale": [
             [
              0,
              "#0d0887"
             ],
             [
              0.1111111111111111,
              "#46039f"
             ],
             [
              0.2222222222222222,
              "#7201a8"
             ],
             [
              0.3333333333333333,
              "#9c179e"
             ],
             [
              0.4444444444444444,
              "#bd3786"
             ],
             [
              0.5555555555555556,
              "#d8576b"
             ],
             [
              0.6666666666666666,
              "#ed7953"
             ],
             [
              0.7777777777777778,
              "#fb9f3a"
             ],
             [
              0.8888888888888888,
              "#fdca26"
             ],
             [
              1,
              "#f0f921"
             ]
            ],
            "type": "surface"
           }
          ],
          "table": [
           {
            "cells": {
             "fill": {
              "color": "#EBF0F8"
             },
             "line": {
              "color": "white"
             }
            },
            "header": {
             "fill": {
              "color": "#C8D4E3"
             },
             "line": {
              "color": "white"
             }
            },
            "type": "table"
           }
          ]
         },
         "layout": {
          "annotationdefaults": {
           "arrowcolor": "#2a3f5f",
           "arrowhead": 0,
           "arrowwidth": 1
          },
          "autotypenumbers": "strict",
          "coloraxis": {
           "colorbar": {
            "outlinewidth": 0,
            "ticks": ""
           }
          },
          "colorscale": {
           "diverging": [
            [
             0,
             "#8e0152"
            ],
            [
             0.1,
             "#c51b7d"
            ],
            [
             0.2,
             "#de77ae"
            ],
            [
             0.3,
             "#f1b6da"
            ],
            [
             0.4,
             "#fde0ef"
            ],
            [
             0.5,
             "#f7f7f7"
            ],
            [
             0.6,
             "#e6f5d0"
            ],
            [
             0.7,
             "#b8e186"
            ],
            [
             0.8,
             "#7fbc41"
            ],
            [
             0.9,
             "#4d9221"
            ],
            [
             1,
             "#276419"
            ]
           ],
           "sequential": [
            [
             0,
             "#0d0887"
            ],
            [
             0.1111111111111111,
             "#46039f"
            ],
            [
             0.2222222222222222,
             "#7201a8"
            ],
            [
             0.3333333333333333,
             "#9c179e"
            ],
            [
             0.4444444444444444,
             "#bd3786"
            ],
            [
             0.5555555555555556,
             "#d8576b"
            ],
            [
             0.6666666666666666,
             "#ed7953"
            ],
            [
             0.7777777777777778,
             "#fb9f3a"
            ],
            [
             0.8888888888888888,
             "#fdca26"
            ],
            [
             1,
             "#f0f921"
            ]
           ],
           "sequentialminus": [
            [
             0,
             "#0d0887"
            ],
            [
             0.1111111111111111,
             "#46039f"
            ],
            [
             0.2222222222222222,
             "#7201a8"
            ],
            [
             0.3333333333333333,
             "#9c179e"
            ],
            [
             0.4444444444444444,
             "#bd3786"
            ],
            [
             0.5555555555555556,
             "#d8576b"
            ],
            [
             0.6666666666666666,
             "#ed7953"
            ],
            [
             0.7777777777777778,
             "#fb9f3a"
            ],
            [
             0.8888888888888888,
             "#fdca26"
            ],
            [
             1,
             "#f0f921"
            ]
           ]
          },
          "colorway": [
           "#636efa",
           "#EF553B",
           "#00cc96",
           "#ab63fa",
           "#FFA15A",
           "#19d3f3",
           "#FF6692",
           "#B6E880",
           "#FF97FF",
           "#FECB52"
          ],
          "font": {
           "color": "#2a3f5f"
          },
          "geo": {
           "bgcolor": "white",
           "lakecolor": "white",
           "landcolor": "#E5ECF6",
           "showlakes": true,
           "showland": true,
           "subunitcolor": "white"
          },
          "hoverlabel": {
           "align": "left"
          },
          "hovermode": "closest",
          "mapbox": {
           "style": "light"
          },
          "paper_bgcolor": "white",
          "plot_bgcolor": "#E5ECF6",
          "polar": {
           "angularaxis": {
            "gridcolor": "white",
            "linecolor": "white",
            "ticks": ""
           },
           "bgcolor": "#E5ECF6",
           "radialaxis": {
            "gridcolor": "white",
            "linecolor": "white",
            "ticks": ""
           }
          },
          "scene": {
           "xaxis": {
            "backgroundcolor": "#E5ECF6",
            "gridcolor": "white",
            "gridwidth": 2,
            "linecolor": "white",
            "showbackground": true,
            "ticks": "",
            "zerolinecolor": "white"
           },
           "yaxis": {
            "backgroundcolor": "#E5ECF6",
            "gridcolor": "white",
            "gridwidth": 2,
            "linecolor": "white",
            "showbackground": true,
            "ticks": "",
            "zerolinecolor": "white"
           },
           "zaxis": {
            "backgroundcolor": "#E5ECF6",
            "gridcolor": "white",
            "gridwidth": 2,
            "linecolor": "white",
            "showbackground": true,
            "ticks": "",
            "zerolinecolor": "white"
           }
          },
          "shapedefaults": {
           "line": {
            "color": "#2a3f5f"
           }
          },
          "ternary": {
           "aaxis": {
            "gridcolor": "white",
            "linecolor": "white",
            "ticks": ""
           },
           "baxis": {
            "gridcolor": "white",
            "linecolor": "white",
            "ticks": ""
           },
           "bgcolor": "#E5ECF6",
           "caxis": {
            "gridcolor": "white",
            "linecolor": "white",
            "ticks": ""
           }
          },
          "title": {
           "x": 0.05
          },
          "xaxis": {
           "automargin": true,
           "gridcolor": "white",
           "linecolor": "white",
           "ticks": "",
           "title": {
            "standoff": 15
           },
           "zerolinecolor": "white",
           "zerolinewidth": 2
          },
          "yaxis": {
           "automargin": true,
           "gridcolor": "white",
           "linecolor": "white",
           "ticks": "",
           "title": {
            "standoff": 15
           },
           "zerolinecolor": "white",
           "zerolinewidth": 2
          }
         }
        },
        "title": {
         "text": "Goals per Clubs - Seasons"
        },
        "xaxis": {
         "anchor": "y",
         "domain": [
          0,
          1
         ],
         "title": {
          "text": "Club"
         }
        },
        "yaxis": {
         "anchor": "x",
         "domain": [
          0,
          1
         ],
         "title": {
          "text": "count"
         }
        }
       }
      },
      "text/html": [
       "<div>                            <div id=\"04af763f-ddb0-4fd8-89f6-7c31de8f160e\" class=\"plotly-graph-div\" style=\"height:500px; width:100%;\"></div>            <script type=\"text/javascript\">                require([\"plotly\"], function(Plotly) {                    window.PLOTLYENV=window.PLOTLYENV || {};                                    if (document.getElementById(\"04af763f-ddb0-4fd8-89f6-7c31de8f160e\")) {                    Plotly.newPlot(                        \"04af763f-ddb0-4fd8-89f6-7c31de8f160e\",                        [{\"alignmentgroup\":\"True\",\"bingroup\":\"x\",\"hovertemplate\":\"Season=02/03<br>Club=%{x}<br>count=%{y}<extra></extra>\",\"legendgroup\":\"02/03\",\"marker\":{\"color\":\"#636efa\",\"pattern\":{\"shape\":\"\"}},\"name\":\"02/03\",\"offsetgroup\":\"02/03\",\"orientation\":\"v\",\"showlegend\":true,\"x\":[\"Sporting CP\",\"Sporting CP\",\"Sporting CP\",\"Sporting CP\",\"Sporting CP\"],\"xaxis\":\"x\",\"yaxis\":\"y\",\"type\":\"histogram\"},{\"alignmentgroup\":\"True\",\"bingroup\":\"x\",\"hovertemplate\":\"Season=03/04<br>Club=%{x}<br>count=%{y}<extra></extra>\",\"legendgroup\":\"03/04\",\"marker\":{\"color\":\"#EF553B\",\"pattern\":{\"shape\":\"\"}},\"name\":\"03/04\",\"offsetgroup\":\"03/04\",\"orientation\":\"v\",\"showlegend\":true,\"x\":[\"Manchester United\",\"Manchester United\",\"Manchester United\",\"Manchester United\",\"Manchester United\",\"Manchester United\"],\"xaxis\":\"x\",\"yaxis\":\"y\",\"type\":\"histogram\"},{\"alignmentgroup\":\"True\",\"bingroup\":\"x\",\"hovertemplate\":\"Season=04/05<br>Club=%{x}<br>count=%{y}<extra></extra>\",\"legendgroup\":\"04/05\",\"marker\":{\"color\":\"#00cc96\",\"pattern\":{\"shape\":\"\"}},\"name\":\"04/05\",\"offsetgroup\":\"04/05\",\"orientation\":\"v\",\"showlegend\":true,\"x\":[\"Manchester United\",\"Manchester United\",\"Manchester United\",\"Manchester United\",\"Manchester United\",\"Manchester United\",\"Manchester United\",\"Manchester United\",\"Manchester United\"],\"xaxis\":\"x\",\"yaxis\":\"y\",\"type\":\"histogram\"},{\"alignmentgroup\":\"True\",\"bingroup\":\"x\",\"hovertemplate\":\"Season=05/06<br>Club=%{x}<br>count=%{y}<extra></extra>\",\"legendgroup\":\"05/06\",\"marker\":{\"color\":\"#ab63fa\",\"pattern\":{\"shape\":\"\"}},\"name\":\"05/06\",\"offsetgroup\":\"05/06\",\"orientation\":\"v\",\"showlegend\":true,\"x\":[\"Manchester United\",\"Manchester United\",\"Manchester United\",\"Manchester United\",\"Manchester United\",\"Manchester United\",\"Manchester United\",\"Manchester United\",\"Manchester United\",\"Manchester United\",\"Manchester United\",\"Manchester United\"],\"xaxis\":\"x\",\"yaxis\":\"y\",\"type\":\"histogram\"},{\"alignmentgroup\":\"True\",\"bingroup\":\"x\",\"hovertemplate\":\"Season=06/07<br>Club=%{x}<br>count=%{y}<extra></extra>\",\"legendgroup\":\"06/07\",\"marker\":{\"color\":\"#FFA15A\",\"pattern\":{\"shape\":\"\"}},\"name\":\"06/07\",\"offsetgroup\":\"06/07\",\"orientation\":\"v\",\"showlegend\":true,\"x\":[\"Manchester United\",\"Manchester United\",\"Manchester United\",\"Manchester United\",\"Manchester United\",\"Manchester United\",\"Manchester United\",\"Manchester United\",\"Manchester United\",\"Manchester United\",\"Manchester United\",\"Manchester United\",\"Manchester United\",\"Manchester United\",\"Manchester United\",\"Manchester United\",\"Manchester United\",\"Manchester United\",\"Manchester United\",\"Manchester United\",\"Manchester United\",\"Manchester United\",\"Manchester United\"],\"xaxis\":\"x\",\"yaxis\":\"y\",\"type\":\"histogram\"},{\"alignmentgroup\":\"True\",\"bingroup\":\"x\",\"hovertemplate\":\"Season=07/08<br>Club=%{x}<br>count=%{y}<extra></extra>\",\"legendgroup\":\"07/08\",\"marker\":{\"color\":\"#19d3f3\",\"pattern\":{\"shape\":\"\"}},\"name\":\"07/08\",\"offsetgroup\":\"07/08\",\"orientation\":\"v\",\"showlegend\":true,\"x\":[\"Manchester United\",\"Manchester United\",\"Manchester United\",\"Manchester United\",\"Manchester United\",\"Manchester United\",\"Manchester United\",\"Manchester United\",\"Manchester United\",\"Manchester United\",\"Manchester United\",\"Manchester United\",\"Manchester United\",\"Manchester United\",\"Manchester United\",\"Manchester United\",\"Manchester United\",\"Manchester United\",\"Manchester United\",\"Manchester United\",\"Manchester United\",\"Manchester United\",\"Manchester United\",\"Manchester United\",\"Manchester United\",\"Manchester United\",\"Manchester United\",\"Manchester United\",\"Manchester United\",\"Manchester United\",\"Manchester United\",\"Manchester United\",\"Manchester United\",\"Manchester United\",\"Manchester United\",\"Manchester United\",\"Manchester United\",\"Manchester United\",\"Manchester United\",\"Manchester United\",\"Manchester United\",\"Manchester United\"],\"xaxis\":\"x\",\"yaxis\":\"y\",\"type\":\"histogram\"},{\"alignmentgroup\":\"True\",\"bingroup\":\"x\",\"hovertemplate\":\"Season=08/09<br>Club=%{x}<br>count=%{y}<extra></extra>\",\"legendgroup\":\"08/09\",\"marker\":{\"color\":\"#FF6692\",\"pattern\":{\"shape\":\"\"}},\"name\":\"08/09\",\"offsetgroup\":\"08/09\",\"orientation\":\"v\",\"showlegend\":true,\"x\":[\"Manchester United\",\"Manchester United\",\"Manchester United\",\"Manchester United\",\"Manchester United\",\"Manchester United\",\"Manchester United\",\"Manchester United\",\"Manchester United\",\"Manchester United\",\"Manchester United\",\"Manchester United\",\"Manchester United\",\"Manchester United\",\"Manchester United\",\"Manchester United\",\"Manchester United\",\"Manchester United\",\"Manchester United\",\"Manchester United\",\"Manchester United\",\"Manchester United\",\"Manchester United\",\"Manchester United\",\"Manchester United\",\"Manchester United\"],\"xaxis\":\"x\",\"yaxis\":\"y\",\"type\":\"histogram\"},{\"alignmentgroup\":\"True\",\"bingroup\":\"x\",\"hovertemplate\":\"Season=09/10<br>Club=%{x}<br>count=%{y}<extra></extra>\",\"legendgroup\":\"09/10\",\"marker\":{\"color\":\"#B6E880\",\"pattern\":{\"shape\":\"\"}},\"name\":\"09/10\",\"offsetgroup\":\"09/10\",\"orientation\":\"v\",\"showlegend\":true,\"x\":[\"Real Madrid\",\"Real Madrid\",\"Real Madrid\",\"Real Madrid\",\"Real Madrid\",\"Real Madrid\",\"Real Madrid\",\"Real Madrid\",\"Real Madrid\",\"Real Madrid\",\"Real Madrid\",\"Real Madrid\",\"Real Madrid\",\"Real Madrid\",\"Real Madrid\",\"Real Madrid\",\"Real Madrid\",\"Real Madrid\",\"Real Madrid\",\"Real Madrid\",\"Real Madrid\",\"Real Madrid\",\"Real Madrid\",\"Real Madrid\",\"Real Madrid\",\"Real Madrid\",\"Real Madrid\",\"Real Madrid\",\"Real Madrid\",\"Real Madrid\",\"Real Madrid\",\"Real Madrid\",\"Real Madrid\"],\"xaxis\":\"x\",\"yaxis\":\"y\",\"type\":\"histogram\"},{\"alignmentgroup\":\"True\",\"bingroup\":\"x\",\"hovertemplate\":\"Season=10/11<br>Club=%{x}<br>count=%{y}<extra></extra>\",\"legendgroup\":\"10/11\",\"marker\":{\"color\":\"#FF97FF\",\"pattern\":{\"shape\":\"\"}},\"name\":\"10/11\",\"offsetgroup\":\"10/11\",\"orientation\":\"v\",\"showlegend\":true,\"x\":[\"Real Madrid\",\"Real Madrid\",\"Real Madrid\",\"Real Madrid\",\"Real Madrid\",\"Real Madrid\",\"Real Madrid\",\"Real Madrid\",\"Real Madrid\",\"Real Madrid\",\"Real Madrid\",\"Real Madrid\",\"Real Madrid\",\"Real Madrid\",\"Real Madrid\",\"Real Madrid\",\"Real Madrid\",\"Real Madrid\",\"Real Madrid\",\"Real Madrid\",\"Real Madrid\",\"Real Madrid\",\"Real Madrid\",\"Real Madrid\",\"Real Madrid\",\"Real Madrid\",\"Real Madrid\",\"Real Madrid\",\"Real Madrid\",\"Real Madrid\",\"Real Madrid\",\"Real Madrid\",\"Real Madrid\",\"Real Madrid\",\"Real Madrid\",\"Real Madrid\",\"Real Madrid\",\"Real Madrid\",\"Real Madrid\",\"Real Madrid\",\"Real Madrid\",\"Real Madrid\",\"Real Madrid\",\"Real Madrid\",\"Real Madrid\",\"Real Madrid\",\"Real Madrid\",\"Real Madrid\",\"Real Madrid\",\"Real Madrid\",\"Real Madrid\",\"Real Madrid\",\"Real Madrid\"],\"xaxis\":\"x\",\"yaxis\":\"y\",\"type\":\"histogram\"},{\"alignmentgroup\":\"True\",\"bingroup\":\"x\",\"hovertemplate\":\"Season=11/12<br>Club=%{x}<br>count=%{y}<extra></extra>\",\"legendgroup\":\"11/12\",\"marker\":{\"color\":\"#FECB52\",\"pattern\":{\"shape\":\"\"}},\"name\":\"11/12\",\"offsetgroup\":\"11/12\",\"orientation\":\"v\",\"showlegend\":true,\"x\":[\"Real Madrid\",\"Real Madrid\",\"Real Madrid\",\"Real Madrid\",\"Real Madrid\",\"Real Madrid\",\"Real Madrid\",\"Real Madrid\",\"Real Madrid\",\"Real Madrid\",\"Real Madrid\",\"Real Madrid\",\"Real Madrid\",\"Real Madrid\",\"Real Madrid\",\"Real Madrid\",\"Real Madrid\",\"Real Madrid\",\"Real Madrid\",\"Real Madrid\",\"Real Madrid\",\"Real Madrid\",\"Real Madrid\",\"Real Madrid\",\"Real Madrid\",\"Real Madrid\",\"Real Madrid\",\"Real Madrid\",\"Real Madrid\",\"Real Madrid\",\"Real Madrid\",\"Real Madrid\",\"Real Madrid\",\"Real Madrid\",\"Real Madrid\",\"Real Madrid\",\"Real Madrid\",\"Real Madrid\",\"Real Madrid\",\"Real Madrid\",\"Real Madrid\",\"Real Madrid\",\"Real Madrid\",\"Real Madrid\",\"Real Madrid\",\"Real Madrid\",\"Real Madrid\",\"Real Madrid\",\"Real Madrid\",\"Real Madrid\",\"Real Madrid\",\"Real Madrid\",\"Real Madrid\",\"Real Madrid\",\"Real Madrid\",\"Real Madrid\",\"Real Madrid\",\"Real Madrid\",\"Real Madrid\",\"Real Madrid\"],\"xaxis\":\"x\",\"yaxis\":\"y\",\"type\":\"histogram\"},{\"alignmentgroup\":\"True\",\"bingroup\":\"x\",\"hovertemplate\":\"Season=Dec-13<br>Club=%{x}<br>count=%{y}<extra></extra>\",\"legendgroup\":\"Dec-13\",\"marker\":{\"color\":\"#636efa\",\"pattern\":{\"shape\":\"\"}},\"name\":\"Dec-13\",\"offsetgroup\":\"Dec-13\",\"orientation\":\"v\",\"showlegend\":true,\"x\":[\"Real Madrid\",\"Real Madrid\",\"Real Madrid\",\"Real Madrid\",\"Real Madrid\",\"Real Madrid\",\"Real Madrid\",\"Real Madrid\",\"Real Madrid\",\"Real Madrid\",\"Real Madrid\",\"Real Madrid\",\"Real Madrid\",\"Real Madrid\",\"Real Madrid\",\"Real Madrid\",\"Real Madrid\",\"Real Madrid\",\"Real Madrid\",\"Real Madrid\",\"Real Madrid\",\"Real Madrid\",\"Real Madrid\",\"Real Madrid\",\"Real Madrid\",\"Real Madrid\",\"Real Madrid\",\"Real Madrid\",\"Real Madrid\",\"Real Madrid\",\"Real Madrid\",\"Real Madrid\",\"Real Madrid\",\"Real Madrid\",\"Real Madrid\",\"Real Madrid\",\"Real Madrid\",\"Real Madrid\",\"Real Madrid\",\"Real Madrid\",\"Real Madrid\",\"Real Madrid\",\"Real Madrid\",\"Real Madrid\",\"Real Madrid\",\"Real Madrid\",\"Real Madrid\",\"Real Madrid\",\"Real Madrid\",\"Real Madrid\",\"Real Madrid\",\"Real Madrid\",\"Real Madrid\",\"Real Madrid\",\"Real Madrid\"],\"xaxis\":\"x\",\"yaxis\":\"y\",\"type\":\"histogram\"},{\"alignmentgroup\":\"True\",\"bingroup\":\"x\",\"hovertemplate\":\"Season=13/14<br>Club=%{x}<br>count=%{y}<extra></extra>\",\"legendgroup\":\"13/14\",\"marker\":{\"color\":\"#EF553B\",\"pattern\":{\"shape\":\"\"}},\"name\":\"13/14\",\"offsetgroup\":\"13/14\",\"orientation\":\"v\",\"showlegend\":true,\"x\":[\"Real Madrid\",\"Real Madrid\",\"Real Madrid\",\"Real Madrid\",\"Real Madrid\",\"Real Madrid\",\"Real Madrid\",\"Real Madrid\",\"Real Madrid\",\"Real Madrid\",\"Real Madrid\",\"Real Madrid\",\"Real Madrid\",\"Real Madrid\",\"Real Madrid\",\"Real Madrid\",\"Real Madrid\",\"Real Madrid\",\"Real Madrid\",\"Real Madrid\",\"Real Madrid\",\"Real Madrid\",\"Real Madrid\",\"Real Madrid\",\"Real Madrid\",\"Real Madrid\",\"Real Madrid\",\"Real Madrid\",\"Real Madrid\",\"Real Madrid\",\"Real Madrid\",\"Real Madrid\",\"Real Madrid\",\"Real Madrid\",\"Real Madrid\",\"Real Madrid\",\"Real Madrid\",\"Real Madrid\",\"Real Madrid\",\"Real Madrid\",\"Real Madrid\",\"Real Madrid\",\"Real Madrid\",\"Real Madrid\",\"Real Madrid\",\"Real Madrid\",\"Real Madrid\",\"Real Madrid\",\"Real Madrid\",\"Real Madrid\",\"Real Madrid\"],\"xaxis\":\"x\",\"yaxis\":\"y\",\"type\":\"histogram\"},{\"alignmentgroup\":\"True\",\"bingroup\":\"x\",\"hovertemplate\":\"Season=14/15<br>Club=%{x}<br>count=%{y}<extra></extra>\",\"legendgroup\":\"14/15\",\"marker\":{\"color\":\"#00cc96\",\"pattern\":{\"shape\":\"\"}},\"name\":\"14/15\",\"offsetgroup\":\"14/15\",\"orientation\":\"v\",\"showlegend\":true,\"x\":[\"Real Madrid\",\"Real Madrid\",\"Real Madrid\",\"Real Madrid\",\"Real Madrid\",\"Real Madrid\",\"Real Madrid\",\"Real Madrid\",\"Real Madrid\",\"Real Madrid\",\"Real Madrid\",\"Real Madrid\",\"Real Madrid\",\"Real Madrid\",\"Real Madrid\",\"Real Madrid\",\"Real Madrid\",\"Real Madrid\",\"Real Madrid\",\"Real Madrid\",\"Real Madrid\",\"Real Madrid\",\"Real Madrid\",\"Real Madrid\",\"Real Madrid\",\"Real Madrid\",\"Real Madrid\",\"Real Madrid\",\"Real Madrid\",\"Real Madrid\",\"Real Madrid\",\"Real Madrid\",\"Real Madrid\",\"Real Madrid\",\"Real Madrid\",\"Real Madrid\",\"Real Madrid\",\"Real Madrid\",\"Real Madrid\",\"Real Madrid\",\"Real Madrid\",\"Real Madrid\",\"Real Madrid\",\"Real Madrid\",\"Real Madrid\",\"Real Madrid\",\"Real Madrid\",\"Real Madrid\",\"Real Madrid\",\"Real Madrid\",\"Real Madrid\",\"Real Madrid\",\"Real Madrid\",\"Real Madrid\",\"Real Madrid\",\"Real Madrid\",\"Real Madrid\",\"Real Madrid\",\"Real Madrid\",\"Real Madrid\",\"Real Madrid\"],\"xaxis\":\"x\",\"yaxis\":\"y\",\"type\":\"histogram\"},{\"alignmentgroup\":\"True\",\"bingroup\":\"x\",\"hovertemplate\":\"Season=15/16<br>Club=%{x}<br>count=%{y}<extra></extra>\",\"legendgroup\":\"15/16\",\"marker\":{\"color\":\"#ab63fa\",\"pattern\":{\"shape\":\"\"}},\"name\":\"15/16\",\"offsetgroup\":\"15/16\",\"orientation\":\"v\",\"showlegend\":true,\"x\":[\"Real Madrid\",\"Real Madrid\",\"Real Madrid\",\"Real Madrid\",\"Real Madrid\",\"Real Madrid\",\"Real Madrid\",\"Real Madrid\",\"Real Madrid\",\"Real Madrid\",\"Real Madrid\",\"Real Madrid\",\"Real Madrid\",\"Real Madrid\",\"Real Madrid\",\"Real Madrid\",\"Real Madrid\",\"Real Madrid\",\"Real Madrid\",\"Real Madrid\",\"Real Madrid\",\"Real Madrid\",\"Real Madrid\",\"Real Madrid\",\"Real Madrid\",\"Real Madrid\",\"Real Madrid\",\"Real Madrid\",\"Real Madrid\",\"Real Madrid\",\"Real Madrid\",\"Real Madrid\",\"Real Madrid\",\"Real Madrid\",\"Real Madrid\",\"Real Madrid\",\"Real Madrid\",\"Real Madrid\",\"Real Madrid\",\"Real Madrid\",\"Real Madrid\",\"Real Madrid\",\"Real Madrid\",\"Real Madrid\",\"Real Madrid\",\"Real Madrid\",\"Real Madrid\",\"Real Madrid\",\"Real Madrid\",\"Real Madrid\",\"Real Madrid\"],\"xaxis\":\"x\",\"yaxis\":\"y\",\"type\":\"histogram\"},{\"alignmentgroup\":\"True\",\"bingroup\":\"x\",\"hovertemplate\":\"Season=16/17<br>Club=%{x}<br>count=%{y}<extra></extra>\",\"legendgroup\":\"16/17\",\"marker\":{\"color\":\"#FFA15A\",\"pattern\":{\"shape\":\"\"}},\"name\":\"16/17\",\"offsetgroup\":\"16/17\",\"orientation\":\"v\",\"showlegend\":true,\"x\":[\"Real Madrid\",\"Real Madrid\",\"Real Madrid\",\"Real Madrid\",\"Real Madrid\",\"Real Madrid\",\"Real Madrid\",\"Real Madrid\",\"Real Madrid\",\"Real Madrid\",\"Real Madrid\",\"Real Madrid\",\"Real Madrid\",\"Real Madrid\",\"Real Madrid\",\"Real Madrid\",\"Real Madrid\",\"Real Madrid\",\"Real Madrid\",\"Real Madrid\",\"Real Madrid\",\"Real Madrid\",\"Real Madrid\",\"Real Madrid\",\"Real Madrid\",\"Real Madrid\",\"Real Madrid\",\"Real Madrid\",\"Real Madrid\",\"Real Madrid\",\"Real Madrid\",\"Real Madrid\",\"Real Madrid\",\"Real Madrid\",\"Real Madrid\",\"Real Madrid\",\"Real Madrid\",\"Real Madrid\",\"Real Madrid\",\"Real Madrid\",\"Real Madrid\",\"Real Madrid\"],\"xaxis\":\"x\",\"yaxis\":\"y\",\"type\":\"histogram\"},{\"alignmentgroup\":\"True\",\"bingroup\":\"x\",\"hovertemplate\":\"Season=17/18<br>Club=%{x}<br>count=%{y}<extra></extra>\",\"legendgroup\":\"17/18\",\"marker\":{\"color\":\"#19d3f3\",\"pattern\":{\"shape\":\"\"}},\"name\":\"17/18\",\"offsetgroup\":\"17/18\",\"orientation\":\"v\",\"showlegend\":true,\"x\":[\"Real Madrid\",\"Real Madrid\",\"Real Madrid\",\"Real Madrid\",\"Real Madrid\",\"Real Madrid\",\"Real Madrid\",\"Real Madrid\",\"Real Madrid\",\"Real Madrid\",\"Real Madrid\",\"Real Madrid\",\"Real Madrid\",\"Real Madrid\",\"Real Madrid\",\"Real Madrid\",\"Real Madrid\",\"Real Madrid\",\"Real Madrid\",\"Real Madrid\",\"Real Madrid\",\"Real Madrid\",\"Real Madrid\",\"Real Madrid\",\"Real Madrid\",\"Real Madrid\",\"Real Madrid\",\"Real Madrid\",\"Real Madrid\",\"Real Madrid\",\"Real Madrid\",\"Real Madrid\",\"Real Madrid\",\"Real Madrid\",\"Real Madrid\",\"Real Madrid\",\"Real Madrid\",\"Real Madrid\",\"Real Madrid\",\"Real Madrid\",\"Real Madrid\",\"Real Madrid\",\"Real Madrid\",\"Real Madrid\"],\"xaxis\":\"x\",\"yaxis\":\"y\",\"type\":\"histogram\"},{\"alignmentgroup\":\"True\",\"bingroup\":\"x\",\"hovertemplate\":\"Season=18/19<br>Club=%{x}<br>count=%{y}<extra></extra>\",\"legendgroup\":\"18/19\",\"marker\":{\"color\":\"#FF6692\",\"pattern\":{\"shape\":\"\"}},\"name\":\"18/19\",\"offsetgroup\":\"18/19\",\"orientation\":\"v\",\"showlegend\":true,\"x\":[\"Juventus FC\",\"Juventus FC\",\"Juventus FC\",\"Juventus FC\",\"Juventus FC\",\"Juventus FC\",\"Juventus FC\",\"Juventus FC\",\"Juventus FC\",\"Juventus FC\",\"Juventus FC\",\"Juventus FC\",\"Juventus FC\",\"Juventus FC\",\"Juventus FC\",\"Juventus FC\",\"Juventus FC\",\"Juventus FC\",\"Juventus FC\",\"Juventus FC\",\"Juventus FC\",\"Juventus FC\",\"Juventus FC\",\"Juventus FC\",\"Juventus FC\",\"Juventus FC\",\"Juventus FC\",\"Juventus FC\"],\"xaxis\":\"x\",\"yaxis\":\"y\",\"type\":\"histogram\"},{\"alignmentgroup\":\"True\",\"bingroup\":\"x\",\"hovertemplate\":\"Season=19/20<br>Club=%{x}<br>count=%{y}<extra></extra>\",\"legendgroup\":\"19/20\",\"marker\":{\"color\":\"#B6E880\",\"pattern\":{\"shape\":\"\"}},\"name\":\"19/20\",\"offsetgroup\":\"19/20\",\"orientation\":\"v\",\"showlegend\":true,\"x\":[\"Juventus FC\",\"Juventus FC\",\"Juventus FC\",\"Juventus FC\",\"Juventus FC\",\"Juventus FC\",\"Juventus FC\",\"Juventus FC\",\"Juventus FC\",\"Juventus FC\",\"Juventus FC\",\"Juventus FC\",\"Juventus FC\",\"Juventus FC\",\"Juventus FC\",\"Juventus FC\",\"Juventus FC\",\"Juventus FC\",\"Juventus FC\",\"Juventus FC\",\"Juventus FC\",\"Juventus FC\",\"Juventus FC\",\"Juventus FC\",\"Juventus FC\",\"Juventus FC\",\"Juventus FC\",\"Juventus FC\",\"Juventus FC\",\"Juventus FC\",\"Juventus FC\",\"Juventus FC\",\"Juventus FC\",\"Juventus FC\",\"Juventus FC\",\"Juventus FC\",\"Juventus FC\"],\"xaxis\":\"x\",\"yaxis\":\"y\",\"type\":\"histogram\"},{\"alignmentgroup\":\"True\",\"bingroup\":\"x\",\"hovertemplate\":\"Season=20/21<br>Club=%{x}<br>count=%{y}<extra></extra>\",\"legendgroup\":\"20/21\",\"marker\":{\"color\":\"#FF97FF\",\"pattern\":{\"shape\":\"\"}},\"name\":\"20/21\",\"offsetgroup\":\"20/21\",\"orientation\":\"v\",\"showlegend\":true,\"x\":[\"Juventus FC\",\"Juventus FC\",\"Juventus FC\",\"Juventus FC\",\"Juventus FC\",\"Juventus FC\",\"Juventus FC\",\"Juventus FC\",\"Juventus FC\",\"Juventus FC\",\"Juventus FC\",\"Juventus FC\",\"Juventus FC\",\"Juventus FC\",\"Juventus FC\",\"Juventus FC\",\"Juventus FC\",\"Juventus FC\",\"Juventus FC\",\"Juventus FC\",\"Juventus FC\",\"Juventus FC\",\"Juventus FC\",\"Juventus FC\",\"Juventus FC\",\"Juventus FC\",\"Juventus FC\",\"Juventus FC\",\"Juventus FC\",\"Juventus FC\",\"Juventus FC\",\"Juventus FC\",\"Juventus FC\",\"Juventus FC\",\"Juventus FC\",\"Juventus FC\"],\"xaxis\":\"x\",\"yaxis\":\"y\",\"type\":\"histogram\"},{\"alignmentgroup\":\"True\",\"bingroup\":\"x\",\"hovertemplate\":\"Season=21/22<br>Club=%{x}<br>count=%{y}<extra></extra>\",\"legendgroup\":\"21/22\",\"marker\":{\"color\":\"#FECB52\",\"pattern\":{\"shape\":\"\"}},\"name\":\"21/22\",\"offsetgroup\":\"21/22\",\"orientation\":\"v\",\"showlegend\":true,\"x\":[\"Manchester United\",\"Manchester United\",\"Manchester United\",\"Manchester United\",\"Manchester United\",\"Manchester United\",\"Manchester United\",\"Manchester United\",\"Manchester United\",\"Manchester United\",\"Manchester United\",\"Manchester United\",\"Manchester United\",\"Manchester United\",\"Manchester United\",\"Manchester United\",\"Manchester United\",\"Manchester United\",\"Manchester United\",\"Manchester United\",\"Manchester United\",\"Manchester United\",\"Manchester United\",\"Manchester United\"],\"xaxis\":\"x\",\"yaxis\":\"y\",\"type\":\"histogram\"},{\"alignmentgroup\":\"True\",\"bingroup\":\"x\",\"hovertemplate\":\"Season=22/23<br>Club=%{x}<br>count=%{y}<extra></extra>\",\"legendgroup\":\"22/23\",\"marker\":{\"color\":\"#636efa\",\"pattern\":{\"shape\":\"\"}},\"name\":\"22/23\",\"offsetgroup\":\"22/23\",\"orientation\":\"v\",\"showlegend\":true,\"x\":[\"Manchester United\",\"Manchester United\",\"Manchester United\",\"Al-Nassr FC\",\"Al-Nassr FC\",\"Al-Nassr FC\",\"Al-Nassr FC\",\"Al-Nassr FC\",\"Al-Nassr FC\",\"Al-Nassr FC\",\"Al-Nassr FC\",\"Al-Nassr FC\"],\"xaxis\":\"x\",\"yaxis\":\"y\",\"type\":\"histogram\"}],                        {\"template\":{\"data\":{\"histogram2dcontour\":[{\"type\":\"histogram2dcontour\",\"colorbar\":{\"outlinewidth\":0,\"ticks\":\"\"},\"colorscale\":[[0.0,\"#0d0887\"],[0.1111111111111111,\"#46039f\"],[0.2222222222222222,\"#7201a8\"],[0.3333333333333333,\"#9c179e\"],[0.4444444444444444,\"#bd3786\"],[0.5555555555555556,\"#d8576b\"],[0.6666666666666666,\"#ed7953\"],[0.7777777777777778,\"#fb9f3a\"],[0.8888888888888888,\"#fdca26\"],[1.0,\"#f0f921\"]]}],\"choropleth\":[{\"type\":\"choropleth\",\"colorbar\":{\"outlinewidth\":0,\"ticks\":\"\"}}],\"histogram2d\":[{\"type\":\"histogram2d\",\"colorbar\":{\"outlinewidth\":0,\"ticks\":\"\"},\"colorscale\":[[0.0,\"#0d0887\"],[0.1111111111111111,\"#46039f\"],[0.2222222222222222,\"#7201a8\"],[0.3333333333333333,\"#9c179e\"],[0.4444444444444444,\"#bd3786\"],[0.5555555555555556,\"#d8576b\"],[0.6666666666666666,\"#ed7953\"],[0.7777777777777778,\"#fb9f3a\"],[0.8888888888888888,\"#fdca26\"],[1.0,\"#f0f921\"]]}],\"heatmap\":[{\"type\":\"heatmap\",\"colorbar\":{\"outlinewidth\":0,\"ticks\":\"\"},\"colorscale\":[[0.0,\"#0d0887\"],[0.1111111111111111,\"#46039f\"],[0.2222222222222222,\"#7201a8\"],[0.3333333333333333,\"#9c179e\"],[0.4444444444444444,\"#bd3786\"],[0.5555555555555556,\"#d8576b\"],[0.6666666666666666,\"#ed7953\"],[0.7777777777777778,\"#fb9f3a\"],[0.8888888888888888,\"#fdca26\"],[1.0,\"#f0f921\"]]}],\"heatmapgl\":[{\"type\":\"heatmapgl\",\"colorbar\":{\"outlinewidth\":0,\"ticks\":\"\"},\"colorscale\":[[0.0,\"#0d0887\"],[0.1111111111111111,\"#46039f\"],[0.2222222222222222,\"#7201a8\"],[0.3333333333333333,\"#9c179e\"],[0.4444444444444444,\"#bd3786\"],[0.5555555555555556,\"#d8576b\"],[0.6666666666666666,\"#ed7953\"],[0.7777777777777778,\"#fb9f3a\"],[0.8888888888888888,\"#fdca26\"],[1.0,\"#f0f921\"]]}],\"contourcarpet\":[{\"type\":\"contourcarpet\",\"colorbar\":{\"outlinewidth\":0,\"ticks\":\"\"}}],\"contour\":[{\"type\":\"contour\",\"colorbar\":{\"outlinewidth\":0,\"ticks\":\"\"},\"colorscale\":[[0.0,\"#0d0887\"],[0.1111111111111111,\"#46039f\"],[0.2222222222222222,\"#7201a8\"],[0.3333333333333333,\"#9c179e\"],[0.4444444444444444,\"#bd3786\"],[0.5555555555555556,\"#d8576b\"],[0.6666666666666666,\"#ed7953\"],[0.7777777777777778,\"#fb9f3a\"],[0.8888888888888888,\"#fdca26\"],[1.0,\"#f0f921\"]]}],\"surface\":[{\"type\":\"surface\",\"colorbar\":{\"outlinewidth\":0,\"ticks\":\"\"},\"colorscale\":[[0.0,\"#0d0887\"],[0.1111111111111111,\"#46039f\"],[0.2222222222222222,\"#7201a8\"],[0.3333333333333333,\"#9c179e\"],[0.4444444444444444,\"#bd3786\"],[0.5555555555555556,\"#d8576b\"],[0.6666666666666666,\"#ed7953\"],[0.7777777777777778,\"#fb9f3a\"],[0.8888888888888888,\"#fdca26\"],[1.0,\"#f0f921\"]]}],\"mesh3d\":[{\"type\":\"mesh3d\",\"colorbar\":{\"outlinewidth\":0,\"ticks\":\"\"}}],\"scatter\":[{\"fillpattern\":{\"fillmode\":\"overlay\",\"size\":10,\"solidity\":0.2},\"type\":\"scatter\"}],\"parcoords\":[{\"type\":\"parcoords\",\"line\":{\"colorbar\":{\"outlinewidth\":0,\"ticks\":\"\"}}}],\"scatterpolargl\":[{\"type\":\"scatterpolargl\",\"marker\":{\"colorbar\":{\"outlinewidth\":0,\"ticks\":\"\"}}}],\"bar\":[{\"error_x\":{\"color\":\"#2a3f5f\"},\"error_y\":{\"color\":\"#2a3f5f\"},\"marker\":{\"line\":{\"color\":\"#E5ECF6\",\"width\":0.5},\"pattern\":{\"fillmode\":\"overlay\",\"size\":10,\"solidity\":0.2}},\"type\":\"bar\"}],\"scattergeo\":[{\"type\":\"scattergeo\",\"marker\":{\"colorbar\":{\"outlinewidth\":0,\"ticks\":\"\"}}}],\"scatterpolar\":[{\"type\":\"scatterpolar\",\"marker\":{\"colorbar\":{\"outlinewidth\":0,\"ticks\":\"\"}}}],\"histogram\":[{\"marker\":{\"pattern\":{\"fillmode\":\"overlay\",\"size\":10,\"solidity\":0.2}},\"type\":\"histogram\"}],\"scattergl\":[{\"type\":\"scattergl\",\"marker\":{\"colorbar\":{\"outlinewidth\":0,\"ticks\":\"\"}}}],\"scatter3d\":[{\"type\":\"scatter3d\",\"line\":{\"colorbar\":{\"outlinewidth\":0,\"ticks\":\"\"}},\"marker\":{\"colorbar\":{\"outlinewidth\":0,\"ticks\":\"\"}}}],\"scattermapbox\":[{\"type\":\"scattermapbox\",\"marker\":{\"colorbar\":{\"outlinewidth\":0,\"ticks\":\"\"}}}],\"scatterternary\":[{\"type\":\"scatterternary\",\"marker\":{\"colorbar\":{\"outlinewidth\":0,\"ticks\":\"\"}}}],\"scattercarpet\":[{\"type\":\"scattercarpet\",\"marker\":{\"colorbar\":{\"outlinewidth\":0,\"ticks\":\"\"}}}],\"carpet\":[{\"aaxis\":{\"endlinecolor\":\"#2a3f5f\",\"gridcolor\":\"white\",\"linecolor\":\"white\",\"minorgridcolor\":\"white\",\"startlinecolor\":\"#2a3f5f\"},\"baxis\":{\"endlinecolor\":\"#2a3f5f\",\"gridcolor\":\"white\",\"linecolor\":\"white\",\"minorgridcolor\":\"white\",\"startlinecolor\":\"#2a3f5f\"},\"type\":\"carpet\"}],\"table\":[{\"cells\":{\"fill\":{\"color\":\"#EBF0F8\"},\"line\":{\"color\":\"white\"}},\"header\":{\"fill\":{\"color\":\"#C8D4E3\"},\"line\":{\"color\":\"white\"}},\"type\":\"table\"}],\"barpolar\":[{\"marker\":{\"line\":{\"color\":\"#E5ECF6\",\"width\":0.5},\"pattern\":{\"fillmode\":\"overlay\",\"size\":10,\"solidity\":0.2}},\"type\":\"barpolar\"}],\"pie\":[{\"automargin\":true,\"type\":\"pie\"}]},\"layout\":{\"autotypenumbers\":\"strict\",\"colorway\":[\"#636efa\",\"#EF553B\",\"#00cc96\",\"#ab63fa\",\"#FFA15A\",\"#19d3f3\",\"#FF6692\",\"#B6E880\",\"#FF97FF\",\"#FECB52\"],\"font\":{\"color\":\"#2a3f5f\"},\"hovermode\":\"closest\",\"hoverlabel\":{\"align\":\"left\"},\"paper_bgcolor\":\"white\",\"plot_bgcolor\":\"#E5ECF6\",\"polar\":{\"bgcolor\":\"#E5ECF6\",\"angularaxis\":{\"gridcolor\":\"white\",\"linecolor\":\"white\",\"ticks\":\"\"},\"radialaxis\":{\"gridcolor\":\"white\",\"linecolor\":\"white\",\"ticks\":\"\"}},\"ternary\":{\"bgcolor\":\"#E5ECF6\",\"aaxis\":{\"gridcolor\":\"white\",\"linecolor\":\"white\",\"ticks\":\"\"},\"baxis\":{\"gridcolor\":\"white\",\"linecolor\":\"white\",\"ticks\":\"\"},\"caxis\":{\"gridcolor\":\"white\",\"linecolor\":\"white\",\"ticks\":\"\"}},\"coloraxis\":{\"colorbar\":{\"outlinewidth\":0,\"ticks\":\"\"}},\"colorscale\":{\"sequential\":[[0.0,\"#0d0887\"],[0.1111111111111111,\"#46039f\"],[0.2222222222222222,\"#7201a8\"],[0.3333333333333333,\"#9c179e\"],[0.4444444444444444,\"#bd3786\"],[0.5555555555555556,\"#d8576b\"],[0.6666666666666666,\"#ed7953\"],[0.7777777777777778,\"#fb9f3a\"],[0.8888888888888888,\"#fdca26\"],[1.0,\"#f0f921\"]],\"sequentialminus\":[[0.0,\"#0d0887\"],[0.1111111111111111,\"#46039f\"],[0.2222222222222222,\"#7201a8\"],[0.3333333333333333,\"#9c179e\"],[0.4444444444444444,\"#bd3786\"],[0.5555555555555556,\"#d8576b\"],[0.6666666666666666,\"#ed7953\"],[0.7777777777777778,\"#fb9f3a\"],[0.8888888888888888,\"#fdca26\"],[1.0,\"#f0f921\"]],\"diverging\":[[0,\"#8e0152\"],[0.1,\"#c51b7d\"],[0.2,\"#de77ae\"],[0.3,\"#f1b6da\"],[0.4,\"#fde0ef\"],[0.5,\"#f7f7f7\"],[0.6,\"#e6f5d0\"],[0.7,\"#b8e186\"],[0.8,\"#7fbc41\"],[0.9,\"#4d9221\"],[1,\"#276419\"]]},\"xaxis\":{\"gridcolor\":\"white\",\"linecolor\":\"white\",\"ticks\":\"\",\"title\":{\"standoff\":15},\"zerolinecolor\":\"white\",\"automargin\":true,\"zerolinewidth\":2},\"yaxis\":{\"gridcolor\":\"white\",\"linecolor\":\"white\",\"ticks\":\"\",\"title\":{\"standoff\":15},\"zerolinecolor\":\"white\",\"automargin\":true,\"zerolinewidth\":2},\"scene\":{\"xaxis\":{\"backgroundcolor\":\"#E5ECF6\",\"gridcolor\":\"white\",\"linecolor\":\"white\",\"showbackground\":true,\"ticks\":\"\",\"zerolinecolor\":\"white\",\"gridwidth\":2},\"yaxis\":{\"backgroundcolor\":\"#E5ECF6\",\"gridcolor\":\"white\",\"linecolor\":\"white\",\"showbackground\":true,\"ticks\":\"\",\"zerolinecolor\":\"white\",\"gridwidth\":2},\"zaxis\":{\"backgroundcolor\":\"#E5ECF6\",\"gridcolor\":\"white\",\"linecolor\":\"white\",\"showbackground\":true,\"ticks\":\"\",\"zerolinecolor\":\"white\",\"gridwidth\":2}},\"shapedefaults\":{\"line\":{\"color\":\"#2a3f5f\"}},\"annotationdefaults\":{\"arrowcolor\":\"#2a3f5f\",\"arrowhead\":0,\"arrowwidth\":1},\"geo\":{\"bgcolor\":\"white\",\"landcolor\":\"#E5ECF6\",\"subunitcolor\":\"white\",\"showland\":true,\"showlakes\":true,\"lakecolor\":\"white\"},\"title\":{\"x\":0.05},\"mapbox\":{\"style\":\"light\"}}},\"xaxis\":{\"anchor\":\"y\",\"domain\":[0.0,1.0],\"title\":{\"text\":\"Club\"}},\"yaxis\":{\"anchor\":\"x\",\"domain\":[0.0,1.0],\"title\":{\"text\":\"count\"}},\"legend\":{\"title\":{\"text\":\"Season\"},\"tracegroupgap\":0},\"title\":{\"text\":\"Goals per Clubs - Seasons\"},\"barmode\":\"relative\",\"height\":500},                        {\"responsive\": true}                    ).then(function(){\n",
       "                            \n",
       "var gd = document.getElementById('04af763f-ddb0-4fd8-89f6-7c31de8f160e');\n",
       "var x = new MutationObserver(function (mutations, observer) {{\n",
       "        var display = window.getComputedStyle(gd).display;\n",
       "        if (!display || display === 'none') {{\n",
       "            console.log([gd, 'removed!']);\n",
       "            Plotly.purge(gd);\n",
       "            observer.disconnect();\n",
       "        }}\n",
       "}});\n",
       "\n",
       "// Listen for the removal of the full notebook cells\n",
       "var notebookContainer = gd.closest('#notebook-container');\n",
       "if (notebookContainer) {{\n",
       "    x.observe(notebookContainer, {childList: true});\n",
       "}}\n",
       "\n",
       "// Listen for the clearing of the current output cell\n",
       "var outputEl = gd.closest('.output');\n",
       "if (outputEl) {{\n",
       "    x.observe(outputEl, {childList: true});\n",
       "}}\n",
       "\n",
       "                        })                };                });            </script>        </div>"
      ]
     },
     "metadata": {},
     "output_type": "display_data"
    }
   ],
   "source": [
    "px.histogram(\n",
    "    df,\n",
    "    x='Club',\n",
    "    title=\"Goals per Clubs - Seasons\",\n",
    "    log_x=False,\n",
    "    log_y=False,\n",
    "    #symbol='title',\n",
    "    #markers=True,\n",
    "    #width=800, \n",
    "    height=500,\n",
    "    color='Season',\n",
    "    hover_name='Season',\n",
    "    hover_data=['Competition','Season','Club'])"
   ]
  },
  {
   "cell_type": "code",
   "execution_count": 12,
   "id": "eb6a1910",
   "metadata": {},
   "outputs": [
    {
     "data": {
      "application/vnd.plotly.v1+json": {
       "config": {
        "plotlyServerURL": "https://plot.ly"
       },
       "data": [
        {
         "alignmentgroup": "True",
         "bingroup": "x",
         "hovertemplate": "Competition=Liga Portugal<br>Club=%{x}<br>count=%{y}<extra></extra>",
         "legendgroup": "Liga Portugal",
         "marker": {
          "color": "#636efa",
          "pattern": {
           "shape": ""
          }
         },
         "name": "Liga Portugal",
         "offsetgroup": "Liga Portugal",
         "orientation": "v",
         "showlegend": true,
         "type": "histogram",
         "x": [
          "Sporting CP",
          "Sporting CP",
          "Sporting CP"
         ],
         "xaxis": "x",
         "yaxis": "y"
        },
        {
         "alignmentgroup": "True",
         "bingroup": "x",
         "hovertemplate": "Competition=Taca de Portugal Placard<br>Club=%{x}<br>count=%{y}<extra></extra>",
         "legendgroup": "Taca de Portugal Placard",
         "marker": {
          "color": "#EF553B",
          "pattern": {
           "shape": ""
          }
         },
         "name": "Taca de Portugal Placard",
         "offsetgroup": "Taca de Portugal Placard",
         "orientation": "v",
         "showlegend": true,
         "type": "histogram",
         "x": [
          "Sporting CP",
          "Sporting CP"
         ],
         "xaxis": "x",
         "yaxis": "y"
        },
        {
         "alignmentgroup": "True",
         "bingroup": "x",
         "hovertemplate": "Competition=Premier League<br>Club=%{x}<br>count=%{y}<extra></extra>",
         "legendgroup": "Premier League",
         "marker": {
          "color": "#00cc96",
          "pattern": {
           "shape": ""
          }
         },
         "name": "Premier League",
         "offsetgroup": "Premier League",
         "orientation": "v",
         "showlegend": true,
         "type": "histogram",
         "x": [
          "Manchester United",
          "Manchester United",
          "Manchester United",
          "Manchester United",
          "Manchester United",
          "Manchester United",
          "Manchester United",
          "Manchester United",
          "Manchester United",
          "Manchester United",
          "Manchester United",
          "Manchester United",
          "Manchester United",
          "Manchester United",
          "Manchester United",
          "Manchester United",
          "Manchester United",
          "Manchester United",
          "Manchester United",
          "Manchester United",
          "Manchester United",
          "Manchester United",
          "Manchester United",
          "Manchester United",
          "Manchester United",
          "Manchester United",
          "Manchester United",
          "Manchester United",
          "Manchester United",
          "Manchester United",
          "Manchester United",
          "Manchester United",
          "Manchester United",
          "Manchester United",
          "Manchester United",
          "Manchester United",
          "Manchester United",
          "Manchester United",
          "Manchester United",
          "Manchester United",
          "Manchester United",
          "Manchester United",
          "Manchester United",
          "Manchester United",
          "Manchester United",
          "Manchester United",
          "Manchester United",
          "Manchester United",
          "Manchester United",
          "Manchester United",
          "Manchester United",
          "Manchester United",
          "Manchester United",
          "Manchester United",
          "Manchester United",
          "Manchester United",
          "Manchester United",
          "Manchester United",
          "Manchester United",
          "Manchester United",
          "Manchester United",
          "Manchester United",
          "Manchester United",
          "Manchester United",
          "Manchester United",
          "Manchester United",
          "Manchester United",
          "Manchester United",
          "Manchester United",
          "Manchester United",
          "Manchester United",
          "Manchester United",
          "Manchester United",
          "Manchester United",
          "Manchester United",
          "Manchester United",
          "Manchester United",
          "Manchester United",
          "Manchester United",
          "Manchester United",
          "Manchester United",
          "Manchester United",
          "Manchester United",
          "Manchester United",
          "Manchester United",
          "Manchester United",
          "Manchester United",
          "Manchester United",
          "Manchester United",
          "Manchester United",
          "Manchester United",
          "Manchester United",
          "Manchester United",
          "Manchester United",
          "Manchester United",
          "Manchester United",
          "Manchester United",
          "Manchester United",
          "Manchester United",
          "Manchester United",
          "Manchester United",
          "Manchester United",
          "Manchester United"
         ],
         "xaxis": "x",
         "yaxis": "y"
        },
        {
         "alignmentgroup": "True",
         "bingroup": "x",
         "hovertemplate": "Competition=FA Cup<br>Club=%{x}<br>count=%{y}<extra></extra>",
         "legendgroup": "FA Cup",
         "marker": {
          "color": "#ab63fa",
          "pattern": {
           "shape": ""
          }
         },
         "name": "FA Cup",
         "offsetgroup": "FA Cup",
         "orientation": "v",
         "showlegend": true,
         "type": "histogram",
         "x": [
          "Manchester United",
          "Manchester United",
          "Manchester United",
          "Manchester United",
          "Manchester United",
          "Manchester United",
          "Manchester United",
          "Manchester United",
          "Manchester United",
          "Manchester United",
          "Manchester United",
          "Manchester United",
          "Manchester United"
         ],
         "xaxis": "x",
         "yaxis": "y"
        },
        {
         "alignmentgroup": "True",
         "bingroup": "x",
         "hovertemplate": "Competition=UEFA Champions League Qualifying<br>Club=%{x}<br>count=%{y}<extra></extra>",
         "legendgroup": "UEFA Champions League Qualifying",
         "marker": {
          "color": "#FFA15A",
          "pattern": {
           "shape": ""
          }
         },
         "name": "UEFA Champions League Qualifying",
         "offsetgroup": "UEFA Champions League Qualifying",
         "orientation": "v",
         "showlegend": true,
         "type": "histogram",
         "x": [
          "Manchester United"
         ],
         "xaxis": "x",
         "yaxis": "y"
        },
        {
         "alignmentgroup": "True",
         "bingroup": "x",
         "hovertemplate": "Competition=EFL Cup<br>Club=%{x}<br>count=%{y}<extra></extra>",
         "legendgroup": "EFL Cup",
         "marker": {
          "color": "#19d3f3",
          "pattern": {
           "shape": ""
          }
         },
         "name": "EFL Cup",
         "offsetgroup": "EFL Cup",
         "orientation": "v",
         "showlegend": true,
         "type": "histogram",
         "x": [
          "Manchester United",
          "Manchester United",
          "Manchester United",
          "Manchester United"
         ],
         "xaxis": "x",
         "yaxis": "y"
        },
        {
         "alignmentgroup": "True",
         "bingroup": "x",
         "hovertemplate": "Competition=UEFA Champions League<br>Club=%{x}<br>count=%{y}<extra></extra>",
         "legendgroup": "UEFA Champions League",
         "marker": {
          "color": "#FF6692",
          "pattern": {
           "shape": ""
          }
         },
         "name": "UEFA Champions League",
         "offsetgroup": "UEFA Champions League",
         "orientation": "v",
         "showlegend": true,
         "type": "histogram",
         "x": [
          "Manchester United",
          "Manchester United",
          "Manchester United",
          "Manchester United",
          "Manchester United",
          "Manchester United",
          "Manchester United",
          "Manchester United",
          "Manchester United",
          "Manchester United",
          "Manchester United",
          "Manchester United",
          "Manchester United",
          "Manchester United",
          "Manchester United",
          "Real Madrid",
          "Real Madrid",
          "Real Madrid",
          "Real Madrid",
          "Real Madrid",
          "Real Madrid",
          "Real Madrid",
          "Real Madrid",
          "Real Madrid",
          "Real Madrid",
          "Real Madrid",
          "Real Madrid",
          "Real Madrid",
          "Real Madrid",
          "Real Madrid",
          "Real Madrid",
          "Real Madrid",
          "Real Madrid",
          "Real Madrid",
          "Real Madrid",
          "Real Madrid",
          "Real Madrid",
          "Real Madrid",
          "Real Madrid",
          "Real Madrid",
          "Real Madrid",
          "Real Madrid",
          "Real Madrid",
          "Real Madrid",
          "Real Madrid",
          "Real Madrid",
          "Real Madrid",
          "Real Madrid",
          "Real Madrid",
          "Real Madrid",
          "Real Madrid",
          "Real Madrid",
          "Real Madrid",
          "Real Madrid",
          "Real Madrid",
          "Real Madrid",
          "Real Madrid",
          "Real Madrid",
          "Real Madrid",
          "Real Madrid",
          "Real Madrid",
          "Real Madrid",
          "Real Madrid",
          "Real Madrid",
          "Real Madrid",
          "Real Madrid",
          "Real Madrid",
          "Real Madrid",
          "Real Madrid",
          "Real Madrid",
          "Real Madrid",
          "Real Madrid",
          "Real Madrid",
          "Real Madrid",
          "Real Madrid",
          "Real Madrid",
          "Real Madrid",
          "Real Madrid",
          "Real Madrid",
          "Real Madrid",
          "Real Madrid",
          "Real Madrid",
          "Real Madrid",
          "Real Madrid",
          "Real Madrid",
          "Real Madrid",
          "Real Madrid",
          "Real Madrid",
          "Real Madrid",
          "Real Madrid",
          "Real Madrid",
          "Real Madrid",
          "Real Madrid",
          "Real Madrid",
          "Real Madrid",
          "Real Madrid",
          "Real Madrid",
          "Real Madrid",
          "Real Madrid",
          "Real Madrid",
          "Real Madrid",
          "Real Madrid",
          "Real Madrid",
          "Real Madrid",
          "Real Madrid",
          "Real Madrid",
          "Real Madrid",
          "Real Madrid",
          "Real Madrid",
          "Real Madrid",
          "Real Madrid",
          "Real Madrid",
          "Real Madrid",
          "Real Madrid",
          "Real Madrid",
          "Real Madrid",
          "Real Madrid",
          "Real Madrid",
          "Real Madrid",
          "Real Madrid",
          "Juventus FC",
          "Juventus FC",
          "Juventus FC",
          "Juventus FC",
          "Juventus FC",
          "Juventus FC",
          "Juventus FC",
          "Juventus FC",
          "Juventus FC",
          "Juventus FC",
          "Juventus FC",
          "Juventus FC",
          "Juventus FC",
          "Juventus FC",
          "Manchester United",
          "Manchester United",
          "Manchester United",
          "Manchester United",
          "Manchester United",
          "Manchester United"
         ],
         "xaxis": "x",
         "yaxis": "y"
        },
        {
         "alignmentgroup": "True",
         "bingroup": "x",
         "hovertemplate": "Competition=FIFA Club World Cup<br>Club=%{x}<br>count=%{y}<extra></extra>",
         "legendgroup": "FIFA Club World Cup",
         "marker": {
          "color": "#B6E880",
          "pattern": {
           "shape": ""
          }
         },
         "name": "FIFA Club World Cup",
         "offsetgroup": "FIFA Club World Cup",
         "orientation": "v",
         "showlegend": true,
         "type": "histogram",
         "x": [
          "Manchester United",
          "Real Madrid",
          "Real Madrid",
          "Real Madrid",
          "Real Madrid",
          "Real Madrid",
          "Real Madrid"
         ],
         "xaxis": "x",
         "yaxis": "y"
        },
        {
         "alignmentgroup": "True",
         "bingroup": "x",
         "hovertemplate": "Competition=LaLiga<br>Club=%{x}<br>count=%{y}<extra></extra>",
         "legendgroup": "LaLiga",
         "marker": {
          "color": "#FF97FF",
          "pattern": {
           "shape": ""
          }
         },
         "name": "LaLiga",
         "offsetgroup": "LaLiga",
         "orientation": "v",
         "showlegend": true,
         "type": "histogram",
         "x": [
          "Real Madrid",
          "Real Madrid",
          "Real Madrid",
          "Real Madrid",
          "Real Madrid",
          "Real Madrid",
          "Real Madrid",
          "Real Madrid",
          "Real Madrid",
          "Real Madrid",
          "Real Madrid",
          "Real Madrid",
          "Real Madrid",
          "Real Madrid",
          "Real Madrid",
          "Real Madrid",
          "Real Madrid",
          "Real Madrid",
          "Real Madrid",
          "Real Madrid",
          "Real Madrid",
          "Real Madrid",
          "Real Madrid",
          "Real Madrid",
          "Real Madrid",
          "Real Madrid",
          "Real Madrid",
          "Real Madrid",
          "Real Madrid",
          "Real Madrid",
          "Real Madrid",
          "Real Madrid",
          "Real Madrid",
          "Real Madrid",
          "Real Madrid",
          "Real Madrid",
          "Real Madrid",
          "Real Madrid",
          "Real Madrid",
          "Real Madrid",
          "Real Madrid",
          "Real Madrid",
          "Real Madrid",
          "Real Madrid",
          "Real Madrid",
          "Real Madrid",
          "Real Madrid",
          "Real Madrid",
          "Real Madrid",
          "Real Madrid",
          "Real Madrid",
          "Real Madrid",
          "Real Madrid",
          "Real Madrid",
          "Real Madrid",
          "Real Madrid",
          "Real Madrid",
          "Real Madrid",
          "Real Madrid",
          "Real Madrid",
          "Real Madrid",
          "Real Madrid",
          "Real Madrid",
          "Real Madrid",
          "Real Madrid",
          "Real Madrid",
          "Real Madrid",
          "Real Madrid",
          "Real Madrid",
          "Real Madrid",
          "Real Madrid",
          "Real Madrid",
          "Real Madrid",
          "Real Madrid",
          "Real Madrid",
          "Real Madrid",
          "Real Madrid",
          "Real Madrid",
          "Real Madrid",
          "Real Madrid",
          "Real Madrid",
          "Real Madrid",
          "Real Madrid",
          "Real Madrid",
          "Real Madrid",
          "Real Madrid",
          "Real Madrid",
          "Real Madrid",
          "Real Madrid",
          "Real Madrid",
          "Real Madrid",
          "Real Madrid",
          "Real Madrid",
          "Real Madrid",
          "Real Madrid",
          "Real Madrid",
          "Real Madrid",
          "Real Madrid",
          "Real Madrid",
          "Real Madrid",
          "Real Madrid",
          "Real Madrid",
          "Real Madrid",
          "Real Madrid",
          "Real Madrid",
          "Real Madrid",
          "Real Madrid",
          "Real Madrid",
          "Real Madrid",
          "Real Madrid",
          "Real Madrid",
          "Real Madrid",
          "Real Madrid",
          "Real Madrid",
          "Real Madrid",
          "Real Madrid",
          "Real Madrid",
          "Real Madrid",
          "Real Madrid",
          "Real Madrid",
          "Real Madrid",
          "Real Madrid",
          "Real Madrid",
          "Real Madrid",
          "Real Madrid",
          "Real Madrid",
          "Real Madrid",
          "Real Madrid",
          "Real Madrid",
          "Real Madrid",
          "Real Madrid",
          "Real Madrid",
          "Real Madrid",
          "Real Madrid",
          "Real Madrid",
          "Real Madrid",
          "Real Madrid",
          "Real Madrid",
          "Real Madrid",
          "Real Madrid",
          "Real Madrid",
          "Real Madrid",
          "Real Madrid",
          "Real Madrid",
          "Real Madrid",
          "Real Madrid",
          "Real Madrid",
          "Real Madrid",
          "Real Madrid",
          "Real Madrid",
          "Real Madrid",
          "Real Madrid",
          "Real Madrid",
          "Real Madrid",
          "Real Madrid",
          "Real Madrid",
          "Real Madrid",
          "Real Madrid",
          "Real Madrid",
          "Real Madrid",
          "Real Madrid",
          "Real Madrid",
          "Real Madrid",
          "Real Madrid",
          "Real Madrid",
          "Real Madrid",
          "Real Madrid",
          "Real Madrid",
          "Real Madrid",
          "Real Madrid",
          "Real Madrid",
          "Real Madrid",
          "Real Madrid",
          "Real Madrid",
          "Real Madrid",
          "Real Madrid",
          "Real Madrid",
          "Real Madrid",
          "Real Madrid",
          "Real Madrid",
          "Real Madrid",
          "Real Madrid",
          "Real Madrid",
          "Real Madrid",
          "Real Madrid",
          "Real Madrid",
          "Real Madrid",
          "Real Madrid",
          "Real Madrid",
          "Real Madrid",
          "Real Madrid",
          "Real Madrid",
          "Real Madrid",
          "Real Madrid",
          "Real Madrid",
          "Real Madrid",
          "Real Madrid",
          "Real Madrid",
          "Real Madrid",
          "Real Madrid",
          "Real Madrid",
          "Real Madrid",
          "Real Madrid",
          "Real Madrid",
          "Real Madrid",
          "Real Madrid",
          "Real Madrid",
          "Real Madrid",
          "Real Madrid",
          "Real Madrid",
          "Real Madrid",
          "Real Madrid",
          "Real Madrid",
          "Real Madrid",
          "Real Madrid",
          "Real Madrid",
          "Real Madrid",
          "Real Madrid",
          "Real Madrid",
          "Real Madrid",
          "Real Madrid",
          "Real Madrid",
          "Real Madrid",
          "Real Madrid",
          "Real Madrid",
          "Real Madrid",
          "Real Madrid",
          "Real Madrid",
          "Real Madrid",
          "Real Madrid",
          "Real Madrid",
          "Real Madrid",
          "Real Madrid",
          "Real Madrid",
          "Real Madrid",
          "Real Madrid",
          "Real Madrid",
          "Real Madrid",
          "Real Madrid",
          "Real Madrid",
          "Real Madrid",
          "Real Madrid",
          "Real Madrid",
          "Real Madrid",
          "Real Madrid",
          "Real Madrid",
          "Real Madrid",
          "Real Madrid",
          "Real Madrid",
          "Real Madrid",
          "Real Madrid",
          "Real Madrid",
          "Real Madrid",
          "Real Madrid",
          "Real Madrid",
          "Real Madrid",
          "Real Madrid",
          "Real Madrid",
          "Real Madrid",
          "Real Madrid",
          "Real Madrid",
          "Real Madrid",
          "Real Madrid",
          "Real Madrid",
          "Real Madrid",
          "Real Madrid",
          "Real Madrid",
          "Real Madrid",
          "Real Madrid",
          "Real Madrid",
          "Real Madrid",
          "Real Madrid",
          "Real Madrid",
          "Real Madrid",
          "Real Madrid",
          "Real Madrid",
          "Real Madrid",
          "Real Madrid",
          "Real Madrid",
          "Real Madrid",
          "Real Madrid",
          "Real Madrid",
          "Real Madrid",
          "Real Madrid",
          "Real Madrid",
          "Real Madrid",
          "Real Madrid",
          "Real Madrid",
          "Real Madrid",
          "Real Madrid",
          "Real Madrid",
          "Real Madrid",
          "Real Madrid",
          "Real Madrid",
          "Real Madrid",
          "Real Madrid",
          "Real Madrid",
          "Real Madrid",
          "Real Madrid",
          "Real Madrid",
          "Real Madrid",
          "Real Madrid",
          "Real Madrid",
          "Real Madrid",
          "Real Madrid",
          "Real Madrid",
          "Real Madrid",
          "Real Madrid",
          "Real Madrid",
          "Real Madrid",
          "Real Madrid"
         ],
         "xaxis": "x",
         "yaxis": "y"
        },
        {
         "alignmentgroup": "True",
         "bingroup": "x",
         "hovertemplate": "Competition=Copa del Rey<br>Club=%{x}<br>count=%{y}<extra></extra>",
         "legendgroup": "Copa del Rey",
         "marker": {
          "color": "#FECB52",
          "pattern": {
           "shape": ""
          }
         },
         "name": "Copa del Rey",
         "offsetgroup": "Copa del Rey",
         "orientation": "v",
         "showlegend": true,
         "type": "histogram",
         "x": [
          "Real Madrid",
          "Real Madrid",
          "Real Madrid",
          "Real Madrid",
          "Real Madrid",
          "Real Madrid",
          "Real Madrid",
          "Real Madrid",
          "Real Madrid",
          "Real Madrid",
          "Real Madrid",
          "Real Madrid",
          "Real Madrid",
          "Real Madrid",
          "Real Madrid",
          "Real Madrid",
          "Real Madrid",
          "Real Madrid",
          "Real Madrid",
          "Real Madrid",
          "Real Madrid",
          "Real Madrid"
         ],
         "xaxis": "x",
         "yaxis": "y"
        },
        {
         "alignmentgroup": "True",
         "bingroup": "x",
         "hovertemplate": "Competition=Supercopa<br>Club=%{x}<br>count=%{y}<extra></extra>",
         "legendgroup": "Supercopa",
         "marker": {
          "color": "#636efa",
          "pattern": {
           "shape": ""
          }
         },
         "name": "Supercopa",
         "offsetgroup": "Supercopa",
         "orientation": "v",
         "showlegend": true,
         "type": "histogram",
         "x": [
          "Real Madrid",
          "Real Madrid",
          "Real Madrid",
          "Real Madrid"
         ],
         "xaxis": "x",
         "yaxis": "y"
        },
        {
         "alignmentgroup": "True",
         "bingroup": "x",
         "hovertemplate": "Competition=UEFA Super Cup<br>Club=%{x}<br>count=%{y}<extra></extra>",
         "legendgroup": "UEFA Super Cup",
         "marker": {
          "color": "#EF553B",
          "pattern": {
           "shape": ""
          }
         },
         "name": "UEFA Super Cup",
         "offsetgroup": "UEFA Super Cup",
         "orientation": "v",
         "showlegend": true,
         "type": "histogram",
         "x": [
          "Real Madrid",
          "Real Madrid"
         ],
         "xaxis": "x",
         "yaxis": "y"
        },
        {
         "alignmentgroup": "True",
         "bingroup": "x",
         "hovertemplate": "Competition=Serie A<br>Club=%{x}<br>count=%{y}<extra></extra>",
         "legendgroup": "Serie A",
         "marker": {
          "color": "#00cc96",
          "pattern": {
           "shape": ""
          }
         },
         "name": "Serie A",
         "offsetgroup": "Serie A",
         "orientation": "v",
         "showlegend": true,
         "type": "histogram",
         "x": [
          "Juventus FC",
          "Juventus FC",
          "Juventus FC",
          "Juventus FC",
          "Juventus FC",
          "Juventus FC",
          "Juventus FC",
          "Juventus FC",
          "Juventus FC",
          "Juventus FC",
          "Juventus FC",
          "Juventus FC",
          "Juventus FC",
          "Juventus FC",
          "Juventus FC",
          "Juventus FC",
          "Juventus FC",
          "Juventus FC",
          "Juventus FC",
          "Juventus FC",
          "Juventus FC",
          "Juventus FC",
          "Juventus FC",
          "Juventus FC",
          "Juventus FC",
          "Juventus FC",
          "Juventus FC",
          "Juventus FC",
          "Juventus FC",
          "Juventus FC",
          "Juventus FC",
          "Juventus FC",
          "Juventus FC",
          "Juventus FC",
          "Juventus FC",
          "Juventus FC",
          "Juventus FC",
          "Juventus FC",
          "Juventus FC",
          "Juventus FC",
          "Juventus FC",
          "Juventus FC",
          "Juventus FC",
          "Juventus FC",
          "Juventus FC",
          "Juventus FC",
          "Juventus FC",
          "Juventus FC",
          "Juventus FC",
          "Juventus FC",
          "Juventus FC",
          "Juventus FC",
          "Juventus FC",
          "Juventus FC",
          "Juventus FC",
          "Juventus FC",
          "Juventus FC",
          "Juventus FC",
          "Juventus FC",
          "Juventus FC",
          "Juventus FC",
          "Juventus FC",
          "Juventus FC",
          "Juventus FC",
          "Juventus FC",
          "Juventus FC",
          "Juventus FC",
          "Juventus FC",
          "Juventus FC",
          "Juventus FC",
          "Juventus FC",
          "Juventus FC",
          "Juventus FC",
          "Juventus FC",
          "Juventus FC",
          "Juventus FC",
          "Juventus FC",
          "Juventus FC",
          "Juventus FC",
          "Juventus FC",
          "Juventus FC"
         ],
         "xaxis": "x",
         "yaxis": "y"
        },
        {
         "alignmentgroup": "True",
         "bingroup": "x",
         "hovertemplate": "Competition=Supercoppa Italiana<br>Club=%{x}<br>count=%{y}<extra></extra>",
         "legendgroup": "Supercoppa Italiana",
         "marker": {
          "color": "#ab63fa",
          "pattern": {
           "shape": ""
          }
         },
         "name": "Supercoppa Italiana",
         "offsetgroup": "Supercoppa Italiana",
         "orientation": "v",
         "showlegend": true,
         "type": "histogram",
         "x": [
          "Juventus FC",
          "Juventus FC"
         ],
         "xaxis": "x",
         "yaxis": "y"
        },
        {
         "alignmentgroup": "True",
         "bingroup": "x",
         "hovertemplate": "Competition=Italy Cup<br>Club=%{x}<br>count=%{y}<extra></extra>",
         "legendgroup": "Italy Cup",
         "marker": {
          "color": "#FFA15A",
          "pattern": {
           "shape": ""
          }
         },
         "name": "Italy Cup",
         "offsetgroup": "Italy Cup",
         "orientation": "v",
         "showlegend": true,
         "type": "histogram",
         "x": [
          "Juventus FC",
          "Juventus FC",
          "Juventus FC",
          "Juventus FC"
         ],
         "xaxis": "x",
         "yaxis": "y"
        },
        {
         "alignmentgroup": "True",
         "bingroup": "x",
         "hovertemplate": "Competition=Europa League<br>Club=%{x}<br>count=%{y}<extra></extra>",
         "legendgroup": "Europa League",
         "marker": {
          "color": "#19d3f3",
          "pattern": {
           "shape": ""
          }
         },
         "name": "Europa League",
         "offsetgroup": "Europa League",
         "orientation": "v",
         "showlegend": true,
         "type": "histogram",
         "x": [
          "Manchester United",
          "Manchester United"
         ],
         "xaxis": "x",
         "yaxis": "y"
        },
        {
         "alignmentgroup": "True",
         "bingroup": "x",
         "hovertemplate": "Competition=Saudi Pro League<br>Club=%{x}<br>count=%{y}<extra></extra>",
         "legendgroup": "Saudi Pro League",
         "marker": {
          "color": "#FF6692",
          "pattern": {
           "shape": ""
          }
         },
         "name": "Saudi Pro League",
         "offsetgroup": "Saudi Pro League",
         "orientation": "v",
         "showlegend": true,
         "type": "histogram",
         "x": [
          "Al-Nassr FC",
          "Al-Nassr FC",
          "Al-Nassr FC",
          "Al-Nassr FC",
          "Al-Nassr FC",
          "Al-Nassr FC",
          "Al-Nassr FC",
          "Al-Nassr FC",
          "Al-Nassr FC"
         ],
         "xaxis": "x",
         "yaxis": "y"
        }
       ],
       "layout": {
        "barmode": "relative",
        "height": 500,
        "legend": {
         "title": {
          "text": "Competition"
         },
         "tracegroupgap": 0
        },
        "template": {
         "data": {
          "bar": [
           {
            "error_x": {
             "color": "#2a3f5f"
            },
            "error_y": {
             "color": "#2a3f5f"
            },
            "marker": {
             "line": {
              "color": "#E5ECF6",
              "width": 0.5
             },
             "pattern": {
              "fillmode": "overlay",
              "size": 10,
              "solidity": 0.2
             }
            },
            "type": "bar"
           }
          ],
          "barpolar": [
           {
            "marker": {
             "line": {
              "color": "#E5ECF6",
              "width": 0.5
             },
             "pattern": {
              "fillmode": "overlay",
              "size": 10,
              "solidity": 0.2
             }
            },
            "type": "barpolar"
           }
          ],
          "carpet": [
           {
            "aaxis": {
             "endlinecolor": "#2a3f5f",
             "gridcolor": "white",
             "linecolor": "white",
             "minorgridcolor": "white",
             "startlinecolor": "#2a3f5f"
            },
            "baxis": {
             "endlinecolor": "#2a3f5f",
             "gridcolor": "white",
             "linecolor": "white",
             "minorgridcolor": "white",
             "startlinecolor": "#2a3f5f"
            },
            "type": "carpet"
           }
          ],
          "choropleth": [
           {
            "colorbar": {
             "outlinewidth": 0,
             "ticks": ""
            },
            "type": "choropleth"
           }
          ],
          "contour": [
           {
            "colorbar": {
             "outlinewidth": 0,
             "ticks": ""
            },
            "colorscale": [
             [
              0,
              "#0d0887"
             ],
             [
              0.1111111111111111,
              "#46039f"
             ],
             [
              0.2222222222222222,
              "#7201a8"
             ],
             [
              0.3333333333333333,
              "#9c179e"
             ],
             [
              0.4444444444444444,
              "#bd3786"
             ],
             [
              0.5555555555555556,
              "#d8576b"
             ],
             [
              0.6666666666666666,
              "#ed7953"
             ],
             [
              0.7777777777777778,
              "#fb9f3a"
             ],
             [
              0.8888888888888888,
              "#fdca26"
             ],
             [
              1,
              "#f0f921"
             ]
            ],
            "type": "contour"
           }
          ],
          "contourcarpet": [
           {
            "colorbar": {
             "outlinewidth": 0,
             "ticks": ""
            },
            "type": "contourcarpet"
           }
          ],
          "heatmap": [
           {
            "colorbar": {
             "outlinewidth": 0,
             "ticks": ""
            },
            "colorscale": [
             [
              0,
              "#0d0887"
             ],
             [
              0.1111111111111111,
              "#46039f"
             ],
             [
              0.2222222222222222,
              "#7201a8"
             ],
             [
              0.3333333333333333,
              "#9c179e"
             ],
             [
              0.4444444444444444,
              "#bd3786"
             ],
             [
              0.5555555555555556,
              "#d8576b"
             ],
             [
              0.6666666666666666,
              "#ed7953"
             ],
             [
              0.7777777777777778,
              "#fb9f3a"
             ],
             [
              0.8888888888888888,
              "#fdca26"
             ],
             [
              1,
              "#f0f921"
             ]
            ],
            "type": "heatmap"
           }
          ],
          "heatmapgl": [
           {
            "colorbar": {
             "outlinewidth": 0,
             "ticks": ""
            },
            "colorscale": [
             [
              0,
              "#0d0887"
             ],
             [
              0.1111111111111111,
              "#46039f"
             ],
             [
              0.2222222222222222,
              "#7201a8"
             ],
             [
              0.3333333333333333,
              "#9c179e"
             ],
             [
              0.4444444444444444,
              "#bd3786"
             ],
             [
              0.5555555555555556,
              "#d8576b"
             ],
             [
              0.6666666666666666,
              "#ed7953"
             ],
             [
              0.7777777777777778,
              "#fb9f3a"
             ],
             [
              0.8888888888888888,
              "#fdca26"
             ],
             [
              1,
              "#f0f921"
             ]
            ],
            "type": "heatmapgl"
           }
          ],
          "histogram": [
           {
            "marker": {
             "pattern": {
              "fillmode": "overlay",
              "size": 10,
              "solidity": 0.2
             }
            },
            "type": "histogram"
           }
          ],
          "histogram2d": [
           {
            "colorbar": {
             "outlinewidth": 0,
             "ticks": ""
            },
            "colorscale": [
             [
              0,
              "#0d0887"
             ],
             [
              0.1111111111111111,
              "#46039f"
             ],
             [
              0.2222222222222222,
              "#7201a8"
             ],
             [
              0.3333333333333333,
              "#9c179e"
             ],
             [
              0.4444444444444444,
              "#bd3786"
             ],
             [
              0.5555555555555556,
              "#d8576b"
             ],
             [
              0.6666666666666666,
              "#ed7953"
             ],
             [
              0.7777777777777778,
              "#fb9f3a"
             ],
             [
              0.8888888888888888,
              "#fdca26"
             ],
             [
              1,
              "#f0f921"
             ]
            ],
            "type": "histogram2d"
           }
          ],
          "histogram2dcontour": [
           {
            "colorbar": {
             "outlinewidth": 0,
             "ticks": ""
            },
            "colorscale": [
             [
              0,
              "#0d0887"
             ],
             [
              0.1111111111111111,
              "#46039f"
             ],
             [
              0.2222222222222222,
              "#7201a8"
             ],
             [
              0.3333333333333333,
              "#9c179e"
             ],
             [
              0.4444444444444444,
              "#bd3786"
             ],
             [
              0.5555555555555556,
              "#d8576b"
             ],
             [
              0.6666666666666666,
              "#ed7953"
             ],
             [
              0.7777777777777778,
              "#fb9f3a"
             ],
             [
              0.8888888888888888,
              "#fdca26"
             ],
             [
              1,
              "#f0f921"
             ]
            ],
            "type": "histogram2dcontour"
           }
          ],
          "mesh3d": [
           {
            "colorbar": {
             "outlinewidth": 0,
             "ticks": ""
            },
            "type": "mesh3d"
           }
          ],
          "parcoords": [
           {
            "line": {
             "colorbar": {
              "outlinewidth": 0,
              "ticks": ""
             }
            },
            "type": "parcoords"
           }
          ],
          "pie": [
           {
            "automargin": true,
            "type": "pie"
           }
          ],
          "scatter": [
           {
            "fillpattern": {
             "fillmode": "overlay",
             "size": 10,
             "solidity": 0.2
            },
            "type": "scatter"
           }
          ],
          "scatter3d": [
           {
            "line": {
             "colorbar": {
              "outlinewidth": 0,
              "ticks": ""
             }
            },
            "marker": {
             "colorbar": {
              "outlinewidth": 0,
              "ticks": ""
             }
            },
            "type": "scatter3d"
           }
          ],
          "scattercarpet": [
           {
            "marker": {
             "colorbar": {
              "outlinewidth": 0,
              "ticks": ""
             }
            },
            "type": "scattercarpet"
           }
          ],
          "scattergeo": [
           {
            "marker": {
             "colorbar": {
              "outlinewidth": 0,
              "ticks": ""
             }
            },
            "type": "scattergeo"
           }
          ],
          "scattergl": [
           {
            "marker": {
             "colorbar": {
              "outlinewidth": 0,
              "ticks": ""
             }
            },
            "type": "scattergl"
           }
          ],
          "scattermapbox": [
           {
            "marker": {
             "colorbar": {
              "outlinewidth": 0,
              "ticks": ""
             }
            },
            "type": "scattermapbox"
           }
          ],
          "scatterpolar": [
           {
            "marker": {
             "colorbar": {
              "outlinewidth": 0,
              "ticks": ""
             }
            },
            "type": "scatterpolar"
           }
          ],
          "scatterpolargl": [
           {
            "marker": {
             "colorbar": {
              "outlinewidth": 0,
              "ticks": ""
             }
            },
            "type": "scatterpolargl"
           }
          ],
          "scatterternary": [
           {
            "marker": {
             "colorbar": {
              "outlinewidth": 0,
              "ticks": ""
             }
            },
            "type": "scatterternary"
           }
          ],
          "surface": [
           {
            "colorbar": {
             "outlinewidth": 0,
             "ticks": ""
            },
            "colorscale": [
             [
              0,
              "#0d0887"
             ],
             [
              0.1111111111111111,
              "#46039f"
             ],
             [
              0.2222222222222222,
              "#7201a8"
             ],
             [
              0.3333333333333333,
              "#9c179e"
             ],
             [
              0.4444444444444444,
              "#bd3786"
             ],
             [
              0.5555555555555556,
              "#d8576b"
             ],
             [
              0.6666666666666666,
              "#ed7953"
             ],
             [
              0.7777777777777778,
              "#fb9f3a"
             ],
             [
              0.8888888888888888,
              "#fdca26"
             ],
             [
              1,
              "#f0f921"
             ]
            ],
            "type": "surface"
           }
          ],
          "table": [
           {
            "cells": {
             "fill": {
              "color": "#EBF0F8"
             },
             "line": {
              "color": "white"
             }
            },
            "header": {
             "fill": {
              "color": "#C8D4E3"
             },
             "line": {
              "color": "white"
             }
            },
            "type": "table"
           }
          ]
         },
         "layout": {
          "annotationdefaults": {
           "arrowcolor": "#2a3f5f",
           "arrowhead": 0,
           "arrowwidth": 1
          },
          "autotypenumbers": "strict",
          "coloraxis": {
           "colorbar": {
            "outlinewidth": 0,
            "ticks": ""
           }
          },
          "colorscale": {
           "diverging": [
            [
             0,
             "#8e0152"
            ],
            [
             0.1,
             "#c51b7d"
            ],
            [
             0.2,
             "#de77ae"
            ],
            [
             0.3,
             "#f1b6da"
            ],
            [
             0.4,
             "#fde0ef"
            ],
            [
             0.5,
             "#f7f7f7"
            ],
            [
             0.6,
             "#e6f5d0"
            ],
            [
             0.7,
             "#b8e186"
            ],
            [
             0.8,
             "#7fbc41"
            ],
            [
             0.9,
             "#4d9221"
            ],
            [
             1,
             "#276419"
            ]
           ],
           "sequential": [
            [
             0,
             "#0d0887"
            ],
            [
             0.1111111111111111,
             "#46039f"
            ],
            [
             0.2222222222222222,
             "#7201a8"
            ],
            [
             0.3333333333333333,
             "#9c179e"
            ],
            [
             0.4444444444444444,
             "#bd3786"
            ],
            [
             0.5555555555555556,
             "#d8576b"
            ],
            [
             0.6666666666666666,
             "#ed7953"
            ],
            [
             0.7777777777777778,
             "#fb9f3a"
            ],
            [
             0.8888888888888888,
             "#fdca26"
            ],
            [
             1,
             "#f0f921"
            ]
           ],
           "sequentialminus": [
            [
             0,
             "#0d0887"
            ],
            [
             0.1111111111111111,
             "#46039f"
            ],
            [
             0.2222222222222222,
             "#7201a8"
            ],
            [
             0.3333333333333333,
             "#9c179e"
            ],
            [
             0.4444444444444444,
             "#bd3786"
            ],
            [
             0.5555555555555556,
             "#d8576b"
            ],
            [
             0.6666666666666666,
             "#ed7953"
            ],
            [
             0.7777777777777778,
             "#fb9f3a"
            ],
            [
             0.8888888888888888,
             "#fdca26"
            ],
            [
             1,
             "#f0f921"
            ]
           ]
          },
          "colorway": [
           "#636efa",
           "#EF553B",
           "#00cc96",
           "#ab63fa",
           "#FFA15A",
           "#19d3f3",
           "#FF6692",
           "#B6E880",
           "#FF97FF",
           "#FECB52"
          ],
          "font": {
           "color": "#2a3f5f"
          },
          "geo": {
           "bgcolor": "white",
           "lakecolor": "white",
           "landcolor": "#E5ECF6",
           "showlakes": true,
           "showland": true,
           "subunitcolor": "white"
          },
          "hoverlabel": {
           "align": "left"
          },
          "hovermode": "closest",
          "mapbox": {
           "style": "light"
          },
          "paper_bgcolor": "white",
          "plot_bgcolor": "#E5ECF6",
          "polar": {
           "angularaxis": {
            "gridcolor": "white",
            "linecolor": "white",
            "ticks": ""
           },
           "bgcolor": "#E5ECF6",
           "radialaxis": {
            "gridcolor": "white",
            "linecolor": "white",
            "ticks": ""
           }
          },
          "scene": {
           "xaxis": {
            "backgroundcolor": "#E5ECF6",
            "gridcolor": "white",
            "gridwidth": 2,
            "linecolor": "white",
            "showbackground": true,
            "ticks": "",
            "zerolinecolor": "white"
           },
           "yaxis": {
            "backgroundcolor": "#E5ECF6",
            "gridcolor": "white",
            "gridwidth": 2,
            "linecolor": "white",
            "showbackground": true,
            "ticks": "",
            "zerolinecolor": "white"
           },
           "zaxis": {
            "backgroundcolor": "#E5ECF6",
            "gridcolor": "white",
            "gridwidth": 2,
            "linecolor": "white",
            "showbackground": true,
            "ticks": "",
            "zerolinecolor": "white"
           }
          },
          "shapedefaults": {
           "line": {
            "color": "#2a3f5f"
           }
          },
          "ternary": {
           "aaxis": {
            "gridcolor": "white",
            "linecolor": "white",
            "ticks": ""
           },
           "baxis": {
            "gridcolor": "white",
            "linecolor": "white",
            "ticks": ""
           },
           "bgcolor": "#E5ECF6",
           "caxis": {
            "gridcolor": "white",
            "linecolor": "white",
            "ticks": ""
           }
          },
          "title": {
           "x": 0.05
          },
          "xaxis": {
           "automargin": true,
           "gridcolor": "white",
           "linecolor": "white",
           "ticks": "",
           "title": {
            "standoff": 15
           },
           "zerolinecolor": "white",
           "zerolinewidth": 2
          },
          "yaxis": {
           "automargin": true,
           "gridcolor": "white",
           "linecolor": "white",
           "ticks": "",
           "title": {
            "standoff": 15
           },
           "zerolinecolor": "white",
           "zerolinewidth": 2
          }
         }
        },
        "title": {
         "text": "Goals per Clubs - Competition"
        },
        "xaxis": {
         "anchor": "y",
         "domain": [
          0,
          1
         ],
         "title": {
          "text": "Club"
         }
        },
        "yaxis": {
         "anchor": "x",
         "domain": [
          0,
          1
         ],
         "title": {
          "text": "count"
         }
        }
       }
      },
      "text/html": [
       "<div>                            <div id=\"a0f0041d-2d1b-49f3-bb0b-f686b8e2daa5\" class=\"plotly-graph-div\" style=\"height:500px; width:100%;\"></div>            <script type=\"text/javascript\">                require([\"plotly\"], function(Plotly) {                    window.PLOTLYENV=window.PLOTLYENV || {};                                    if (document.getElementById(\"a0f0041d-2d1b-49f3-bb0b-f686b8e2daa5\")) {                    Plotly.newPlot(                        \"a0f0041d-2d1b-49f3-bb0b-f686b8e2daa5\",                        [{\"alignmentgroup\":\"True\",\"bingroup\":\"x\",\"hovertemplate\":\"Competition=Liga Portugal<br>Club=%{x}<br>count=%{y}<extra></extra>\",\"legendgroup\":\"Liga Portugal\",\"marker\":{\"color\":\"#636efa\",\"pattern\":{\"shape\":\"\"}},\"name\":\"Liga Portugal\",\"offsetgroup\":\"Liga Portugal\",\"orientation\":\"v\",\"showlegend\":true,\"x\":[\"Sporting CP\",\"Sporting CP\",\"Sporting CP\"],\"xaxis\":\"x\",\"yaxis\":\"y\",\"type\":\"histogram\"},{\"alignmentgroup\":\"True\",\"bingroup\":\"x\",\"hovertemplate\":\"Competition=Taca de Portugal Placard<br>Club=%{x}<br>count=%{y}<extra></extra>\",\"legendgroup\":\"Taca de Portugal Placard\",\"marker\":{\"color\":\"#EF553B\",\"pattern\":{\"shape\":\"\"}},\"name\":\"Taca de Portugal Placard\",\"offsetgroup\":\"Taca de Portugal Placard\",\"orientation\":\"v\",\"showlegend\":true,\"x\":[\"Sporting CP\",\"Sporting CP\"],\"xaxis\":\"x\",\"yaxis\":\"y\",\"type\":\"histogram\"},{\"alignmentgroup\":\"True\",\"bingroup\":\"x\",\"hovertemplate\":\"Competition=Premier League<br>Club=%{x}<br>count=%{y}<extra></extra>\",\"legendgroup\":\"Premier League\",\"marker\":{\"color\":\"#00cc96\",\"pattern\":{\"shape\":\"\"}},\"name\":\"Premier League\",\"offsetgroup\":\"Premier League\",\"orientation\":\"v\",\"showlegend\":true,\"x\":[\"Manchester United\",\"Manchester United\",\"Manchester United\",\"Manchester United\",\"Manchester United\",\"Manchester United\",\"Manchester United\",\"Manchester United\",\"Manchester United\",\"Manchester United\",\"Manchester United\",\"Manchester United\",\"Manchester United\",\"Manchester United\",\"Manchester United\",\"Manchester United\",\"Manchester United\",\"Manchester United\",\"Manchester United\",\"Manchester United\",\"Manchester United\",\"Manchester United\",\"Manchester United\",\"Manchester United\",\"Manchester United\",\"Manchester United\",\"Manchester United\",\"Manchester United\",\"Manchester United\",\"Manchester United\",\"Manchester United\",\"Manchester United\",\"Manchester United\",\"Manchester United\",\"Manchester United\",\"Manchester United\",\"Manchester United\",\"Manchester United\",\"Manchester United\",\"Manchester United\",\"Manchester United\",\"Manchester United\",\"Manchester United\",\"Manchester United\",\"Manchester United\",\"Manchester United\",\"Manchester United\",\"Manchester United\",\"Manchester United\",\"Manchester United\",\"Manchester United\",\"Manchester United\",\"Manchester United\",\"Manchester United\",\"Manchester United\",\"Manchester United\",\"Manchester United\",\"Manchester United\",\"Manchester United\",\"Manchester United\",\"Manchester United\",\"Manchester United\",\"Manchester United\",\"Manchester United\",\"Manchester United\",\"Manchester United\",\"Manchester United\",\"Manchester United\",\"Manchester United\",\"Manchester United\",\"Manchester United\",\"Manchester United\",\"Manchester United\",\"Manchester United\",\"Manchester United\",\"Manchester United\",\"Manchester United\",\"Manchester United\",\"Manchester United\",\"Manchester United\",\"Manchester United\",\"Manchester United\",\"Manchester United\",\"Manchester United\",\"Manchester United\",\"Manchester United\",\"Manchester United\",\"Manchester United\",\"Manchester United\",\"Manchester United\",\"Manchester United\",\"Manchester United\",\"Manchester United\",\"Manchester United\",\"Manchester United\",\"Manchester United\",\"Manchester United\",\"Manchester United\",\"Manchester United\",\"Manchester United\",\"Manchester United\",\"Manchester United\",\"Manchester United\"],\"xaxis\":\"x\",\"yaxis\":\"y\",\"type\":\"histogram\"},{\"alignmentgroup\":\"True\",\"bingroup\":\"x\",\"hovertemplate\":\"Competition=FA Cup<br>Club=%{x}<br>count=%{y}<extra></extra>\",\"legendgroup\":\"FA Cup\",\"marker\":{\"color\":\"#ab63fa\",\"pattern\":{\"shape\":\"\"}},\"name\":\"FA Cup\",\"offsetgroup\":\"FA Cup\",\"orientation\":\"v\",\"showlegend\":true,\"x\":[\"Manchester United\",\"Manchester United\",\"Manchester United\",\"Manchester United\",\"Manchester United\",\"Manchester United\",\"Manchester United\",\"Manchester United\",\"Manchester United\",\"Manchester United\",\"Manchester United\",\"Manchester United\",\"Manchester United\"],\"xaxis\":\"x\",\"yaxis\":\"y\",\"type\":\"histogram\"},{\"alignmentgroup\":\"True\",\"bingroup\":\"x\",\"hovertemplate\":\"Competition=UEFA Champions League Qualifying<br>Club=%{x}<br>count=%{y}<extra></extra>\",\"legendgroup\":\"UEFA Champions League Qualifying\",\"marker\":{\"color\":\"#FFA15A\",\"pattern\":{\"shape\":\"\"}},\"name\":\"UEFA Champions League Qualifying\",\"offsetgroup\":\"UEFA Champions League Qualifying\",\"orientation\":\"v\",\"showlegend\":true,\"x\":[\"Manchester United\"],\"xaxis\":\"x\",\"yaxis\":\"y\",\"type\":\"histogram\"},{\"alignmentgroup\":\"True\",\"bingroup\":\"x\",\"hovertemplate\":\"Competition=EFL Cup<br>Club=%{x}<br>count=%{y}<extra></extra>\",\"legendgroup\":\"EFL Cup\",\"marker\":{\"color\":\"#19d3f3\",\"pattern\":{\"shape\":\"\"}},\"name\":\"EFL Cup\",\"offsetgroup\":\"EFL Cup\",\"orientation\":\"v\",\"showlegend\":true,\"x\":[\"Manchester United\",\"Manchester United\",\"Manchester United\",\"Manchester United\"],\"xaxis\":\"x\",\"yaxis\":\"y\",\"type\":\"histogram\"},{\"alignmentgroup\":\"True\",\"bingroup\":\"x\",\"hovertemplate\":\"Competition=UEFA Champions League<br>Club=%{x}<br>count=%{y}<extra></extra>\",\"legendgroup\":\"UEFA Champions League\",\"marker\":{\"color\":\"#FF6692\",\"pattern\":{\"shape\":\"\"}},\"name\":\"UEFA Champions League\",\"offsetgroup\":\"UEFA Champions League\",\"orientation\":\"v\",\"showlegend\":true,\"x\":[\"Manchester United\",\"Manchester United\",\"Manchester United\",\"Manchester United\",\"Manchester United\",\"Manchester United\",\"Manchester United\",\"Manchester United\",\"Manchester United\",\"Manchester United\",\"Manchester United\",\"Manchester United\",\"Manchester United\",\"Manchester United\",\"Manchester United\",\"Real Madrid\",\"Real Madrid\",\"Real Madrid\",\"Real Madrid\",\"Real Madrid\",\"Real Madrid\",\"Real Madrid\",\"Real Madrid\",\"Real Madrid\",\"Real Madrid\",\"Real Madrid\",\"Real Madrid\",\"Real Madrid\",\"Real Madrid\",\"Real Madrid\",\"Real Madrid\",\"Real Madrid\",\"Real Madrid\",\"Real Madrid\",\"Real Madrid\",\"Real Madrid\",\"Real Madrid\",\"Real Madrid\",\"Real Madrid\",\"Real Madrid\",\"Real Madrid\",\"Real Madrid\",\"Real Madrid\",\"Real Madrid\",\"Real Madrid\",\"Real Madrid\",\"Real Madrid\",\"Real Madrid\",\"Real Madrid\",\"Real Madrid\",\"Real Madrid\",\"Real Madrid\",\"Real Madrid\",\"Real Madrid\",\"Real Madrid\",\"Real Madrid\",\"Real Madrid\",\"Real Madrid\",\"Real Madrid\",\"Real Madrid\",\"Real Madrid\",\"Real Madrid\",\"Real Madrid\",\"Real Madrid\",\"Real Madrid\",\"Real Madrid\",\"Real Madrid\",\"Real Madrid\",\"Real Madrid\",\"Real Madrid\",\"Real Madrid\",\"Real Madrid\",\"Real Madrid\",\"Real Madrid\",\"Real Madrid\",\"Real Madrid\",\"Real Madrid\",\"Real Madrid\",\"Real Madrid\",\"Real Madrid\",\"Real Madrid\",\"Real Madrid\",\"Real Madrid\",\"Real Madrid\",\"Real Madrid\",\"Real Madrid\",\"Real Madrid\",\"Real Madrid\",\"Real Madrid\",\"Real Madrid\",\"Real Madrid\",\"Real Madrid\",\"Real Madrid\",\"Real Madrid\",\"Real Madrid\",\"Real Madrid\",\"Real Madrid\",\"Real Madrid\",\"Real Madrid\",\"Real Madrid\",\"Real Madrid\",\"Real Madrid\",\"Real Madrid\",\"Real Madrid\",\"Real Madrid\",\"Real Madrid\",\"Real Madrid\",\"Real Madrid\",\"Real Madrid\",\"Real Madrid\",\"Real Madrid\",\"Real Madrid\",\"Real Madrid\",\"Real Madrid\",\"Real Madrid\",\"Real Madrid\",\"Real Madrid\",\"Real Madrid\",\"Real Madrid\",\"Real Madrid\",\"Juventus FC\",\"Juventus FC\",\"Juventus FC\",\"Juventus FC\",\"Juventus FC\",\"Juventus FC\",\"Juventus FC\",\"Juventus FC\",\"Juventus FC\",\"Juventus FC\",\"Juventus FC\",\"Juventus FC\",\"Juventus FC\",\"Juventus FC\",\"Manchester United\",\"Manchester United\",\"Manchester United\",\"Manchester United\",\"Manchester United\",\"Manchester United\"],\"xaxis\":\"x\",\"yaxis\":\"y\",\"type\":\"histogram\"},{\"alignmentgroup\":\"True\",\"bingroup\":\"x\",\"hovertemplate\":\"Competition=FIFA Club World Cup<br>Club=%{x}<br>count=%{y}<extra></extra>\",\"legendgroup\":\"FIFA Club World Cup\",\"marker\":{\"color\":\"#B6E880\",\"pattern\":{\"shape\":\"\"}},\"name\":\"FIFA Club World Cup\",\"offsetgroup\":\"FIFA Club World Cup\",\"orientation\":\"v\",\"showlegend\":true,\"x\":[\"Manchester United\",\"Real Madrid\",\"Real Madrid\",\"Real Madrid\",\"Real Madrid\",\"Real Madrid\",\"Real Madrid\"],\"xaxis\":\"x\",\"yaxis\":\"y\",\"type\":\"histogram\"},{\"alignmentgroup\":\"True\",\"bingroup\":\"x\",\"hovertemplate\":\"Competition=LaLiga<br>Club=%{x}<br>count=%{y}<extra></extra>\",\"legendgroup\":\"LaLiga\",\"marker\":{\"color\":\"#FF97FF\",\"pattern\":{\"shape\":\"\"}},\"name\":\"LaLiga\",\"offsetgroup\":\"LaLiga\",\"orientation\":\"v\",\"showlegend\":true,\"x\":[\"Real Madrid\",\"Real Madrid\",\"Real Madrid\",\"Real Madrid\",\"Real Madrid\",\"Real Madrid\",\"Real Madrid\",\"Real Madrid\",\"Real Madrid\",\"Real Madrid\",\"Real Madrid\",\"Real Madrid\",\"Real Madrid\",\"Real Madrid\",\"Real Madrid\",\"Real Madrid\",\"Real Madrid\",\"Real Madrid\",\"Real Madrid\",\"Real Madrid\",\"Real Madrid\",\"Real Madrid\",\"Real Madrid\",\"Real Madrid\",\"Real Madrid\",\"Real Madrid\",\"Real Madrid\",\"Real Madrid\",\"Real Madrid\",\"Real Madrid\",\"Real Madrid\",\"Real Madrid\",\"Real Madrid\",\"Real Madrid\",\"Real Madrid\",\"Real Madrid\",\"Real Madrid\",\"Real Madrid\",\"Real Madrid\",\"Real Madrid\",\"Real Madrid\",\"Real Madrid\",\"Real Madrid\",\"Real Madrid\",\"Real Madrid\",\"Real Madrid\",\"Real Madrid\",\"Real Madrid\",\"Real Madrid\",\"Real Madrid\",\"Real Madrid\",\"Real Madrid\",\"Real Madrid\",\"Real Madrid\",\"Real Madrid\",\"Real Madrid\",\"Real Madrid\",\"Real Madrid\",\"Real Madrid\",\"Real Madrid\",\"Real Madrid\",\"Real Madrid\",\"Real Madrid\",\"Real Madrid\",\"Real Madrid\",\"Real Madrid\",\"Real Madrid\",\"Real Madrid\",\"Real Madrid\",\"Real Madrid\",\"Real Madrid\",\"Real Madrid\",\"Real Madrid\",\"Real Madrid\",\"Real Madrid\",\"Real Madrid\",\"Real Madrid\",\"Real Madrid\",\"Real Madrid\",\"Real Madrid\",\"Real Madrid\",\"Real Madrid\",\"Real Madrid\",\"Real Madrid\",\"Real Madrid\",\"Real Madrid\",\"Real Madrid\",\"Real Madrid\",\"Real Madrid\",\"Real Madrid\",\"Real Madrid\",\"Real Madrid\",\"Real Madrid\",\"Real Madrid\",\"Real Madrid\",\"Real Madrid\",\"Real Madrid\",\"Real Madrid\",\"Real Madrid\",\"Real Madrid\",\"Real Madrid\",\"Real Madrid\",\"Real Madrid\",\"Real Madrid\",\"Real Madrid\",\"Real Madrid\",\"Real Madrid\",\"Real Madrid\",\"Real Madrid\",\"Real Madrid\",\"Real Madrid\",\"Real Madrid\",\"Real Madrid\",\"Real Madrid\",\"Real Madrid\",\"Real Madrid\",\"Real Madrid\",\"Real Madrid\",\"Real Madrid\",\"Real Madrid\",\"Real Madrid\",\"Real Madrid\",\"Real Madrid\",\"Real Madrid\",\"Real Madrid\",\"Real Madrid\",\"Real Madrid\",\"Real Madrid\",\"Real Madrid\",\"Real Madrid\",\"Real Madrid\",\"Real Madrid\",\"Real Madrid\",\"Real Madrid\",\"Real Madrid\",\"Real Madrid\",\"Real Madrid\",\"Real Madrid\",\"Real Madrid\",\"Real Madrid\",\"Real Madrid\",\"Real Madrid\",\"Real Madrid\",\"Real Madrid\",\"Real Madrid\",\"Real Madrid\",\"Real Madrid\",\"Real Madrid\",\"Real Madrid\",\"Real Madrid\",\"Real Madrid\",\"Real Madrid\",\"Real Madrid\",\"Real Madrid\",\"Real Madrid\",\"Real Madrid\",\"Real Madrid\",\"Real Madrid\",\"Real Madrid\",\"Real Madrid\",\"Real Madrid\",\"Real Madrid\",\"Real Madrid\",\"Real Madrid\",\"Real Madrid\",\"Real Madrid\",\"Real Madrid\",\"Real Madrid\",\"Real Madrid\",\"Real Madrid\",\"Real Madrid\",\"Real Madrid\",\"Real Madrid\",\"Real Madrid\",\"Real Madrid\",\"Real Madrid\",\"Real Madrid\",\"Real Madrid\",\"Real Madrid\",\"Real Madrid\",\"Real Madrid\",\"Real Madrid\",\"Real Madrid\",\"Real Madrid\",\"Real Madrid\",\"Real Madrid\",\"Real Madrid\",\"Real Madrid\",\"Real Madrid\",\"Real Madrid\",\"Real Madrid\",\"Real Madrid\",\"Real Madrid\",\"Real Madrid\",\"Real Madrid\",\"Real Madrid\",\"Real Madrid\",\"Real Madrid\",\"Real Madrid\",\"Real Madrid\",\"Real Madrid\",\"Real Madrid\",\"Real Madrid\",\"Real Madrid\",\"Real Madrid\",\"Real Madrid\",\"Real Madrid\",\"Real Madrid\",\"Real Madrid\",\"Real Madrid\",\"Real Madrid\",\"Real Madrid\",\"Real Madrid\",\"Real Madrid\",\"Real Madrid\",\"Real Madrid\",\"Real Madrid\",\"Real Madrid\",\"Real Madrid\",\"Real Madrid\",\"Real Madrid\",\"Real Madrid\",\"Real Madrid\",\"Real Madrid\",\"Real Madrid\",\"Real Madrid\",\"Real Madrid\",\"Real Madrid\",\"Real Madrid\",\"Real Madrid\",\"Real Madrid\",\"Real Madrid\",\"Real Madrid\",\"Real Madrid\",\"Real Madrid\",\"Real Madrid\",\"Real Madrid\",\"Real Madrid\",\"Real Madrid\",\"Real Madrid\",\"Real Madrid\",\"Real Madrid\",\"Real Madrid\",\"Real Madrid\",\"Real Madrid\",\"Real Madrid\",\"Real Madrid\",\"Real Madrid\",\"Real Madrid\",\"Real Madrid\",\"Real Madrid\",\"Real Madrid\",\"Real Madrid\",\"Real Madrid\",\"Real Madrid\",\"Real Madrid\",\"Real Madrid\",\"Real Madrid\",\"Real Madrid\",\"Real Madrid\",\"Real Madrid\",\"Real Madrid\",\"Real Madrid\",\"Real Madrid\",\"Real Madrid\",\"Real Madrid\",\"Real Madrid\",\"Real Madrid\",\"Real Madrid\",\"Real Madrid\",\"Real Madrid\",\"Real Madrid\",\"Real Madrid\",\"Real Madrid\",\"Real Madrid\",\"Real Madrid\",\"Real Madrid\",\"Real Madrid\",\"Real Madrid\",\"Real Madrid\",\"Real Madrid\",\"Real Madrid\",\"Real Madrid\",\"Real Madrid\",\"Real Madrid\",\"Real Madrid\",\"Real Madrid\",\"Real Madrid\",\"Real Madrid\",\"Real Madrid\",\"Real Madrid\",\"Real Madrid\",\"Real Madrid\",\"Real Madrid\",\"Real Madrid\",\"Real Madrid\",\"Real Madrid\",\"Real Madrid\",\"Real Madrid\",\"Real Madrid\",\"Real Madrid\",\"Real Madrid\",\"Real Madrid\",\"Real Madrid\",\"Real Madrid\",\"Real Madrid\",\"Real Madrid\",\"Real Madrid\",\"Real Madrid\",\"Real Madrid\",\"Real Madrid\"],\"xaxis\":\"x\",\"yaxis\":\"y\",\"type\":\"histogram\"},{\"alignmentgroup\":\"True\",\"bingroup\":\"x\",\"hovertemplate\":\"Competition=Copa del Rey<br>Club=%{x}<br>count=%{y}<extra></extra>\",\"legendgroup\":\"Copa del Rey\",\"marker\":{\"color\":\"#FECB52\",\"pattern\":{\"shape\":\"\"}},\"name\":\"Copa del Rey\",\"offsetgroup\":\"Copa del Rey\",\"orientation\":\"v\",\"showlegend\":true,\"x\":[\"Real Madrid\",\"Real Madrid\",\"Real Madrid\",\"Real Madrid\",\"Real Madrid\",\"Real Madrid\",\"Real Madrid\",\"Real Madrid\",\"Real Madrid\",\"Real Madrid\",\"Real Madrid\",\"Real Madrid\",\"Real Madrid\",\"Real Madrid\",\"Real Madrid\",\"Real Madrid\",\"Real Madrid\",\"Real Madrid\",\"Real Madrid\",\"Real Madrid\",\"Real Madrid\",\"Real Madrid\"],\"xaxis\":\"x\",\"yaxis\":\"y\",\"type\":\"histogram\"},{\"alignmentgroup\":\"True\",\"bingroup\":\"x\",\"hovertemplate\":\"Competition=Supercopa<br>Club=%{x}<br>count=%{y}<extra></extra>\",\"legendgroup\":\"Supercopa\",\"marker\":{\"color\":\"#636efa\",\"pattern\":{\"shape\":\"\"}},\"name\":\"Supercopa\",\"offsetgroup\":\"Supercopa\",\"orientation\":\"v\",\"showlegend\":true,\"x\":[\"Real Madrid\",\"Real Madrid\",\"Real Madrid\",\"Real Madrid\"],\"xaxis\":\"x\",\"yaxis\":\"y\",\"type\":\"histogram\"},{\"alignmentgroup\":\"True\",\"bingroup\":\"x\",\"hovertemplate\":\"Competition=UEFA Super Cup<br>Club=%{x}<br>count=%{y}<extra></extra>\",\"legendgroup\":\"UEFA Super Cup\",\"marker\":{\"color\":\"#EF553B\",\"pattern\":{\"shape\":\"\"}},\"name\":\"UEFA Super Cup\",\"offsetgroup\":\"UEFA Super Cup\",\"orientation\":\"v\",\"showlegend\":true,\"x\":[\"Real Madrid\",\"Real Madrid\"],\"xaxis\":\"x\",\"yaxis\":\"y\",\"type\":\"histogram\"},{\"alignmentgroup\":\"True\",\"bingroup\":\"x\",\"hovertemplate\":\"Competition=Serie A<br>Club=%{x}<br>count=%{y}<extra></extra>\",\"legendgroup\":\"Serie A\",\"marker\":{\"color\":\"#00cc96\",\"pattern\":{\"shape\":\"\"}},\"name\":\"Serie A\",\"offsetgroup\":\"Serie A\",\"orientation\":\"v\",\"showlegend\":true,\"x\":[\"Juventus FC\",\"Juventus FC\",\"Juventus FC\",\"Juventus FC\",\"Juventus FC\",\"Juventus FC\",\"Juventus FC\",\"Juventus FC\",\"Juventus FC\",\"Juventus FC\",\"Juventus FC\",\"Juventus FC\",\"Juventus FC\",\"Juventus FC\",\"Juventus FC\",\"Juventus FC\",\"Juventus FC\",\"Juventus FC\",\"Juventus FC\",\"Juventus FC\",\"Juventus FC\",\"Juventus FC\",\"Juventus FC\",\"Juventus FC\",\"Juventus FC\",\"Juventus FC\",\"Juventus FC\",\"Juventus FC\",\"Juventus FC\",\"Juventus FC\",\"Juventus FC\",\"Juventus FC\",\"Juventus FC\",\"Juventus FC\",\"Juventus FC\",\"Juventus FC\",\"Juventus FC\",\"Juventus FC\",\"Juventus FC\",\"Juventus FC\",\"Juventus FC\",\"Juventus FC\",\"Juventus FC\",\"Juventus FC\",\"Juventus FC\",\"Juventus FC\",\"Juventus FC\",\"Juventus FC\",\"Juventus FC\",\"Juventus FC\",\"Juventus FC\",\"Juventus FC\",\"Juventus FC\",\"Juventus FC\",\"Juventus FC\",\"Juventus FC\",\"Juventus FC\",\"Juventus FC\",\"Juventus FC\",\"Juventus FC\",\"Juventus FC\",\"Juventus FC\",\"Juventus FC\",\"Juventus FC\",\"Juventus FC\",\"Juventus FC\",\"Juventus FC\",\"Juventus FC\",\"Juventus FC\",\"Juventus FC\",\"Juventus FC\",\"Juventus FC\",\"Juventus FC\",\"Juventus FC\",\"Juventus FC\",\"Juventus FC\",\"Juventus FC\",\"Juventus FC\",\"Juventus FC\",\"Juventus FC\",\"Juventus FC\"],\"xaxis\":\"x\",\"yaxis\":\"y\",\"type\":\"histogram\"},{\"alignmentgroup\":\"True\",\"bingroup\":\"x\",\"hovertemplate\":\"Competition=Supercoppa Italiana<br>Club=%{x}<br>count=%{y}<extra></extra>\",\"legendgroup\":\"Supercoppa Italiana\",\"marker\":{\"color\":\"#ab63fa\",\"pattern\":{\"shape\":\"\"}},\"name\":\"Supercoppa Italiana\",\"offsetgroup\":\"Supercoppa Italiana\",\"orientation\":\"v\",\"showlegend\":true,\"x\":[\"Juventus FC\",\"Juventus FC\"],\"xaxis\":\"x\",\"yaxis\":\"y\",\"type\":\"histogram\"},{\"alignmentgroup\":\"True\",\"bingroup\":\"x\",\"hovertemplate\":\"Competition=Italy Cup<br>Club=%{x}<br>count=%{y}<extra></extra>\",\"legendgroup\":\"Italy Cup\",\"marker\":{\"color\":\"#FFA15A\",\"pattern\":{\"shape\":\"\"}},\"name\":\"Italy Cup\",\"offsetgroup\":\"Italy Cup\",\"orientation\":\"v\",\"showlegend\":true,\"x\":[\"Juventus FC\",\"Juventus FC\",\"Juventus FC\",\"Juventus FC\"],\"xaxis\":\"x\",\"yaxis\":\"y\",\"type\":\"histogram\"},{\"alignmentgroup\":\"True\",\"bingroup\":\"x\",\"hovertemplate\":\"Competition=Europa League<br>Club=%{x}<br>count=%{y}<extra></extra>\",\"legendgroup\":\"Europa League\",\"marker\":{\"color\":\"#19d3f3\",\"pattern\":{\"shape\":\"\"}},\"name\":\"Europa League\",\"offsetgroup\":\"Europa League\",\"orientation\":\"v\",\"showlegend\":true,\"x\":[\"Manchester United\",\"Manchester United\"],\"xaxis\":\"x\",\"yaxis\":\"y\",\"type\":\"histogram\"},{\"alignmentgroup\":\"True\",\"bingroup\":\"x\",\"hovertemplate\":\"Competition=Saudi Pro League<br>Club=%{x}<br>count=%{y}<extra></extra>\",\"legendgroup\":\"Saudi Pro League\",\"marker\":{\"color\":\"#FF6692\",\"pattern\":{\"shape\":\"\"}},\"name\":\"Saudi Pro League\",\"offsetgroup\":\"Saudi Pro League\",\"orientation\":\"v\",\"showlegend\":true,\"x\":[\"Al-Nassr FC\",\"Al-Nassr FC\",\"Al-Nassr FC\",\"Al-Nassr FC\",\"Al-Nassr FC\",\"Al-Nassr FC\",\"Al-Nassr FC\",\"Al-Nassr FC\",\"Al-Nassr FC\"],\"xaxis\":\"x\",\"yaxis\":\"y\",\"type\":\"histogram\"}],                        {\"template\":{\"data\":{\"histogram2dcontour\":[{\"type\":\"histogram2dcontour\",\"colorbar\":{\"outlinewidth\":0,\"ticks\":\"\"},\"colorscale\":[[0.0,\"#0d0887\"],[0.1111111111111111,\"#46039f\"],[0.2222222222222222,\"#7201a8\"],[0.3333333333333333,\"#9c179e\"],[0.4444444444444444,\"#bd3786\"],[0.5555555555555556,\"#d8576b\"],[0.6666666666666666,\"#ed7953\"],[0.7777777777777778,\"#fb9f3a\"],[0.8888888888888888,\"#fdca26\"],[1.0,\"#f0f921\"]]}],\"choropleth\":[{\"type\":\"choropleth\",\"colorbar\":{\"outlinewidth\":0,\"ticks\":\"\"}}],\"histogram2d\":[{\"type\":\"histogram2d\",\"colorbar\":{\"outlinewidth\":0,\"ticks\":\"\"},\"colorscale\":[[0.0,\"#0d0887\"],[0.1111111111111111,\"#46039f\"],[0.2222222222222222,\"#7201a8\"],[0.3333333333333333,\"#9c179e\"],[0.4444444444444444,\"#bd3786\"],[0.5555555555555556,\"#d8576b\"],[0.6666666666666666,\"#ed7953\"],[0.7777777777777778,\"#fb9f3a\"],[0.8888888888888888,\"#fdca26\"],[1.0,\"#f0f921\"]]}],\"heatmap\":[{\"type\":\"heatmap\",\"colorbar\":{\"outlinewidth\":0,\"ticks\":\"\"},\"colorscale\":[[0.0,\"#0d0887\"],[0.1111111111111111,\"#46039f\"],[0.2222222222222222,\"#7201a8\"],[0.3333333333333333,\"#9c179e\"],[0.4444444444444444,\"#bd3786\"],[0.5555555555555556,\"#d8576b\"],[0.6666666666666666,\"#ed7953\"],[0.7777777777777778,\"#fb9f3a\"],[0.8888888888888888,\"#fdca26\"],[1.0,\"#f0f921\"]]}],\"heatmapgl\":[{\"type\":\"heatmapgl\",\"colorbar\":{\"outlinewidth\":0,\"ticks\":\"\"},\"colorscale\":[[0.0,\"#0d0887\"],[0.1111111111111111,\"#46039f\"],[0.2222222222222222,\"#7201a8\"],[0.3333333333333333,\"#9c179e\"],[0.4444444444444444,\"#bd3786\"],[0.5555555555555556,\"#d8576b\"],[0.6666666666666666,\"#ed7953\"],[0.7777777777777778,\"#fb9f3a\"],[0.8888888888888888,\"#fdca26\"],[1.0,\"#f0f921\"]]}],\"contourcarpet\":[{\"type\":\"contourcarpet\",\"colorbar\":{\"outlinewidth\":0,\"ticks\":\"\"}}],\"contour\":[{\"type\":\"contour\",\"colorbar\":{\"outlinewidth\":0,\"ticks\":\"\"},\"colorscale\":[[0.0,\"#0d0887\"],[0.1111111111111111,\"#46039f\"],[0.2222222222222222,\"#7201a8\"],[0.3333333333333333,\"#9c179e\"],[0.4444444444444444,\"#bd3786\"],[0.5555555555555556,\"#d8576b\"],[0.6666666666666666,\"#ed7953\"],[0.7777777777777778,\"#fb9f3a\"],[0.8888888888888888,\"#fdca26\"],[1.0,\"#f0f921\"]]}],\"surface\":[{\"type\":\"surface\",\"colorbar\":{\"outlinewidth\":0,\"ticks\":\"\"},\"colorscale\":[[0.0,\"#0d0887\"],[0.1111111111111111,\"#46039f\"],[0.2222222222222222,\"#7201a8\"],[0.3333333333333333,\"#9c179e\"],[0.4444444444444444,\"#bd3786\"],[0.5555555555555556,\"#d8576b\"],[0.6666666666666666,\"#ed7953\"],[0.7777777777777778,\"#fb9f3a\"],[0.8888888888888888,\"#fdca26\"],[1.0,\"#f0f921\"]]}],\"mesh3d\":[{\"type\":\"mesh3d\",\"colorbar\":{\"outlinewidth\":0,\"ticks\":\"\"}}],\"scatter\":[{\"fillpattern\":{\"fillmode\":\"overlay\",\"size\":10,\"solidity\":0.2},\"type\":\"scatter\"}],\"parcoords\":[{\"type\":\"parcoords\",\"line\":{\"colorbar\":{\"outlinewidth\":0,\"ticks\":\"\"}}}],\"scatterpolargl\":[{\"type\":\"scatterpolargl\",\"marker\":{\"colorbar\":{\"outlinewidth\":0,\"ticks\":\"\"}}}],\"bar\":[{\"error_x\":{\"color\":\"#2a3f5f\"},\"error_y\":{\"color\":\"#2a3f5f\"},\"marker\":{\"line\":{\"color\":\"#E5ECF6\",\"width\":0.5},\"pattern\":{\"fillmode\":\"overlay\",\"size\":10,\"solidity\":0.2}},\"type\":\"bar\"}],\"scattergeo\":[{\"type\":\"scattergeo\",\"marker\":{\"colorbar\":{\"outlinewidth\":0,\"ticks\":\"\"}}}],\"scatterpolar\":[{\"type\":\"scatterpolar\",\"marker\":{\"colorbar\":{\"outlinewidth\":0,\"ticks\":\"\"}}}],\"histogram\":[{\"marker\":{\"pattern\":{\"fillmode\":\"overlay\",\"size\":10,\"solidity\":0.2}},\"type\":\"histogram\"}],\"scattergl\":[{\"type\":\"scattergl\",\"marker\":{\"colorbar\":{\"outlinewidth\":0,\"ticks\":\"\"}}}],\"scatter3d\":[{\"type\":\"scatter3d\",\"line\":{\"colorbar\":{\"outlinewidth\":0,\"ticks\":\"\"}},\"marker\":{\"colorbar\":{\"outlinewidth\":0,\"ticks\":\"\"}}}],\"scattermapbox\":[{\"type\":\"scattermapbox\",\"marker\":{\"colorbar\":{\"outlinewidth\":0,\"ticks\":\"\"}}}],\"scatterternary\":[{\"type\":\"scatterternary\",\"marker\":{\"colorbar\":{\"outlinewidth\":0,\"ticks\":\"\"}}}],\"scattercarpet\":[{\"type\":\"scattercarpet\",\"marker\":{\"colorbar\":{\"outlinewidth\":0,\"ticks\":\"\"}}}],\"carpet\":[{\"aaxis\":{\"endlinecolor\":\"#2a3f5f\",\"gridcolor\":\"white\",\"linecolor\":\"white\",\"minorgridcolor\":\"white\",\"startlinecolor\":\"#2a3f5f\"},\"baxis\":{\"endlinecolor\":\"#2a3f5f\",\"gridcolor\":\"white\",\"linecolor\":\"white\",\"minorgridcolor\":\"white\",\"startlinecolor\":\"#2a3f5f\"},\"type\":\"carpet\"}],\"table\":[{\"cells\":{\"fill\":{\"color\":\"#EBF0F8\"},\"line\":{\"color\":\"white\"}},\"header\":{\"fill\":{\"color\":\"#C8D4E3\"},\"line\":{\"color\":\"white\"}},\"type\":\"table\"}],\"barpolar\":[{\"marker\":{\"line\":{\"color\":\"#E5ECF6\",\"width\":0.5},\"pattern\":{\"fillmode\":\"overlay\",\"size\":10,\"solidity\":0.2}},\"type\":\"barpolar\"}],\"pie\":[{\"automargin\":true,\"type\":\"pie\"}]},\"layout\":{\"autotypenumbers\":\"strict\",\"colorway\":[\"#636efa\",\"#EF553B\",\"#00cc96\",\"#ab63fa\",\"#FFA15A\",\"#19d3f3\",\"#FF6692\",\"#B6E880\",\"#FF97FF\",\"#FECB52\"],\"font\":{\"color\":\"#2a3f5f\"},\"hovermode\":\"closest\",\"hoverlabel\":{\"align\":\"left\"},\"paper_bgcolor\":\"white\",\"plot_bgcolor\":\"#E5ECF6\",\"polar\":{\"bgcolor\":\"#E5ECF6\",\"angularaxis\":{\"gridcolor\":\"white\",\"linecolor\":\"white\",\"ticks\":\"\"},\"radialaxis\":{\"gridcolor\":\"white\",\"linecolor\":\"white\",\"ticks\":\"\"}},\"ternary\":{\"bgcolor\":\"#E5ECF6\",\"aaxis\":{\"gridcolor\":\"white\",\"linecolor\":\"white\",\"ticks\":\"\"},\"baxis\":{\"gridcolor\":\"white\",\"linecolor\":\"white\",\"ticks\":\"\"},\"caxis\":{\"gridcolor\":\"white\",\"linecolor\":\"white\",\"ticks\":\"\"}},\"coloraxis\":{\"colorbar\":{\"outlinewidth\":0,\"ticks\":\"\"}},\"colorscale\":{\"sequential\":[[0.0,\"#0d0887\"],[0.1111111111111111,\"#46039f\"],[0.2222222222222222,\"#7201a8\"],[0.3333333333333333,\"#9c179e\"],[0.4444444444444444,\"#bd3786\"],[0.5555555555555556,\"#d8576b\"],[0.6666666666666666,\"#ed7953\"],[0.7777777777777778,\"#fb9f3a\"],[0.8888888888888888,\"#fdca26\"],[1.0,\"#f0f921\"]],\"sequentialminus\":[[0.0,\"#0d0887\"],[0.1111111111111111,\"#46039f\"],[0.2222222222222222,\"#7201a8\"],[0.3333333333333333,\"#9c179e\"],[0.4444444444444444,\"#bd3786\"],[0.5555555555555556,\"#d8576b\"],[0.6666666666666666,\"#ed7953\"],[0.7777777777777778,\"#fb9f3a\"],[0.8888888888888888,\"#fdca26\"],[1.0,\"#f0f921\"]],\"diverging\":[[0,\"#8e0152\"],[0.1,\"#c51b7d\"],[0.2,\"#de77ae\"],[0.3,\"#f1b6da\"],[0.4,\"#fde0ef\"],[0.5,\"#f7f7f7\"],[0.6,\"#e6f5d0\"],[0.7,\"#b8e186\"],[0.8,\"#7fbc41\"],[0.9,\"#4d9221\"],[1,\"#276419\"]]},\"xaxis\":{\"gridcolor\":\"white\",\"linecolor\":\"white\",\"ticks\":\"\",\"title\":{\"standoff\":15},\"zerolinecolor\":\"white\",\"automargin\":true,\"zerolinewidth\":2},\"yaxis\":{\"gridcolor\":\"white\",\"linecolor\":\"white\",\"ticks\":\"\",\"title\":{\"standoff\":15},\"zerolinecolor\":\"white\",\"automargin\":true,\"zerolinewidth\":2},\"scene\":{\"xaxis\":{\"backgroundcolor\":\"#E5ECF6\",\"gridcolor\":\"white\",\"linecolor\":\"white\",\"showbackground\":true,\"ticks\":\"\",\"zerolinecolor\":\"white\",\"gridwidth\":2},\"yaxis\":{\"backgroundcolor\":\"#E5ECF6\",\"gridcolor\":\"white\",\"linecolor\":\"white\",\"showbackground\":true,\"ticks\":\"\",\"zerolinecolor\":\"white\",\"gridwidth\":2},\"zaxis\":{\"backgroundcolor\":\"#E5ECF6\",\"gridcolor\":\"white\",\"linecolor\":\"white\",\"showbackground\":true,\"ticks\":\"\",\"zerolinecolor\":\"white\",\"gridwidth\":2}},\"shapedefaults\":{\"line\":{\"color\":\"#2a3f5f\"}},\"annotationdefaults\":{\"arrowcolor\":\"#2a3f5f\",\"arrowhead\":0,\"arrowwidth\":1},\"geo\":{\"bgcolor\":\"white\",\"landcolor\":\"#E5ECF6\",\"subunitcolor\":\"white\",\"showland\":true,\"showlakes\":true,\"lakecolor\":\"white\"},\"title\":{\"x\":0.05},\"mapbox\":{\"style\":\"light\"}}},\"xaxis\":{\"anchor\":\"y\",\"domain\":[0.0,1.0],\"title\":{\"text\":\"Club\"}},\"yaxis\":{\"anchor\":\"x\",\"domain\":[0.0,1.0],\"title\":{\"text\":\"count\"}},\"legend\":{\"title\":{\"text\":\"Competition\"},\"tracegroupgap\":0},\"title\":{\"text\":\"Goals per Clubs - Competition\"},\"barmode\":\"relative\",\"height\":500},                        {\"responsive\": true}                    ).then(function(){\n",
       "                            \n",
       "var gd = document.getElementById('a0f0041d-2d1b-49f3-bb0b-f686b8e2daa5');\n",
       "var x = new MutationObserver(function (mutations, observer) {{\n",
       "        var display = window.getComputedStyle(gd).display;\n",
       "        if (!display || display === 'none') {{\n",
       "            console.log([gd, 'removed!']);\n",
       "            Plotly.purge(gd);\n",
       "            observer.disconnect();\n",
       "        }}\n",
       "}});\n",
       "\n",
       "// Listen for the removal of the full notebook cells\n",
       "var notebookContainer = gd.closest('#notebook-container');\n",
       "if (notebookContainer) {{\n",
       "    x.observe(notebookContainer, {childList: true});\n",
       "}}\n",
       "\n",
       "// Listen for the clearing of the current output cell\n",
       "var outputEl = gd.closest('.output');\n",
       "if (outputEl) {{\n",
       "    x.observe(outputEl, {childList: true});\n",
       "}}\n",
       "\n",
       "                        })                };                });            </script>        </div>"
      ]
     },
     "metadata": {},
     "output_type": "display_data"
    }
   ],
   "source": [
    "px.histogram(\n",
    "    df,\n",
    "    x='Club',\n",
    "    title=\"Goals per Clubs - Competition\",\n",
    "    log_x=False,\n",
    "    log_y=False,\n",
    "    #symbol='title',\n",
    "    #markers=True,\n",
    "    #width=800, \n",
    "    height=500,\n",
    "    color='Competition',\n",
    "    hover_name='Competition',\n",
    "    hover_data=['Competition','Season','Club'])"
   ]
  },
  {
   "cell_type": "code",
   "execution_count": 13,
   "id": "9cba06fc",
   "metadata": {},
   "outputs": [
    {
     "data": {
      "application/vnd.plotly.v1+json": {
       "config": {
        "plotlyServerURL": "https://plot.ly"
       },
       "data": [
        {
         "alignmentgroup": "True",
         "bingroup": "x",
         "hovertemplate": "Club=Sporting CP<br>Playing_Position=%{x}<br>count=%{y}<extra></extra>",
         "legendgroup": "Sporting CP",
         "marker": {
          "color": "#636efa",
          "pattern": {
           "shape": ""
          }
         },
         "name": "Sporting CP",
         "offsetgroup": "Sporting CP",
         "orientation": "v",
         "showlegend": true,
         "type": "histogram",
         "x": [
          "LW",
          "LW",
          null,
          null,
          null
         ],
         "xaxis": "x",
         "yaxis": "y"
        },
        {
         "alignmentgroup": "True",
         "bingroup": "x",
         "hovertemplate": "Club=Manchester United<br>Playing_Position=%{x}<br>count=%{y}<extra></extra>",
         "legendgroup": "Manchester United",
         "marker": {
          "color": "#EF553B",
          "pattern": {
           "shape": ""
          }
         },
         "name": "Manchester United",
         "offsetgroup": "Manchester United",
         "orientation": "v",
         "showlegend": true,
         "type": "histogram",
         "x": [
          "RW",
          "RW",
          null,
          null,
          null,
          "RW",
          null,
          null,
          null,
          "RW",
          "RW",
          null,
          null,
          null,
          "RW",
          null,
          null,
          "RW",
          null,
          null,
          null,
          null,
          "RW",
          "RW",
          "RW",
          null,
          "RW",
          null,
          "CF",
          null,
          "RW",
          null,
          null,
          null,
          null,
          null,
          null,
          "RW",
          "RW",
          null,
          "RW",
          "RW",
          null,
          "RW",
          null,
          "RW",
          "RW",
          null,
          "RW",
          "RW",
          "RW",
          "RW",
          "RW",
          "RW",
          "RW",
          "RW",
          "RW",
          "RW",
          "RW",
          "RW",
          "RW",
          null,
          null,
          null,
          "RW",
          "RW",
          null,
          "RW",
          null,
          "RW",
          "RW",
          "RW",
          "RW",
          "RW",
          "RW",
          "RW",
          "RW",
          "RW",
          "RW",
          "RW",
          null,
          null,
          null,
          "RW",
          "RW",
          "RW",
          "RW",
          "RW",
          "RW",
          "RW",
          "RW",
          "LW",
          null,
          "RW",
          "RW",
          "RW",
          "RW",
          "RW",
          "RW",
          "RW",
          "RW",
          "LW",
          null,
          "LW",
          "LW",
          "LW",
          "CF",
          null,
          "RW",
          "RW",
          "RW",
          "RW",
          "RW",
          "RW",
          "RW",
          "CF",
          "CF",
          "RW",
          "CF",
          "CF",
          "CF",
          "CF",
          "CF",
          "CF",
          "CF",
          "CF",
          "CF",
          "CF",
          "CF",
          "CF",
          "CF",
          "CF",
          "CF",
          "CF",
          "CF",
          "CF",
          "CF",
          "CF",
          "CF",
          "CF",
          "CF",
          "CF",
          "CF",
          null,
          "CF"
         ],
         "xaxis": "x",
         "yaxis": "y"
        },
        {
         "alignmentgroup": "True",
         "bingroup": "x",
         "hovertemplate": "Club=Real Madrid<br>Playing_Position=%{x}<br>count=%{y}<extra></extra>",
         "legendgroup": "Real Madrid",
         "marker": {
          "color": "#00cc96",
          "pattern": {
           "shape": ""
          }
         },
         "name": "Real Madrid",
         "offsetgroup": "Real Madrid",
         "orientation": "v",
         "showlegend": true,
         "type": "histogram",
         "x": [
          "RW",
          null,
          "CF",
          "CF",
          "RW",
          "RW",
          "CF",
          "CF",
          "CF",
          "CF",
          "CF",
          "CF",
          "CF",
          "RW",
          "RW",
          null,
          null,
          null,
          null,
          "CF",
          "LW",
          "CF",
          null,
          null,
          null,
          null,
          "CF",
          null,
          null,
          null,
          null,
          null,
          "CF",
          "LW",
          "LW",
          "LW",
          "LW",
          "LW",
          "LW",
          "LW",
          "LW",
          "LW",
          "LW",
          "LW",
          "LW",
          null,
          "LW",
          "LW",
          "LW",
          "LW",
          "LW",
          "LW",
          "LW",
          "LW",
          "LW",
          "LW",
          "LW",
          "LW",
          "LW",
          "LW",
          "LW",
          "LW",
          "LW",
          "LW",
          "CF",
          "LW",
          "LW",
          "LW",
          "LW",
          "LW",
          "LW",
          "CF",
          "RW",
          "LW",
          "CF",
          "LW",
          "LW",
          "LW",
          "LW",
          "LW",
          "LW",
          "LW",
          "CF",
          "CF",
          "LW",
          "LW",
          "LW",
          "LW",
          "LW",
          "LW",
          "LW",
          "LW",
          "LW",
          "LW",
          "LW",
          "LW",
          "LW",
          "LW",
          "LW",
          "LW",
          "LW",
          "LW",
          "LW",
          "LW",
          "LW",
          "LW",
          "LW",
          "LW",
          "LW",
          "LW",
          "LW",
          "LW",
          "LW",
          "LW",
          "LW",
          "LW",
          "LW",
          "LW",
          "LW",
          "LW",
          "LW",
          "LW",
          "LW",
          "LW",
          "LW",
          "LW",
          "LW",
          "LW",
          "LW",
          "LW",
          "LW",
          "LW",
          "LW",
          "LW",
          "LW",
          "LW",
          "LW",
          "LW",
          "LW",
          "LW",
          "LW",
          "LW",
          "LW",
          "LW",
          "LW",
          "LW",
          "LW",
          "LW",
          "LW",
          "LW",
          "LW",
          "LW",
          "LW",
          "LW",
          "LW",
          "LW",
          "LW",
          "LW",
          "LW",
          "LW",
          "LW",
          "LW",
          "LW",
          "LW",
          "CF",
          "LW",
          "LW",
          "LW",
          "CF",
          "LW ",
          "LW ",
          "LW",
          "LW",
          "LW",
          "LW",
          "LW",
          "LW",
          "LW",
          "LW",
          "LW",
          "LW",
          "LW",
          "LW",
          "LW",
          "LW",
          "LW",
          "LW",
          "LW",
          "LW",
          "LW",
          "LW",
          "CF",
          "LW",
          "LW",
          "LW",
          "LW",
          "LW",
          "LW",
          "LW",
          "LW ",
          "LW",
          "LW",
          "LW",
          "LW",
          "LW",
          "LW",
          "LW",
          "LW",
          "LW",
          "LW",
          "LW",
          "LW",
          "LW",
          "LW",
          "LW",
          "LW",
          "LW",
          "LW",
          "LW",
          "LW",
          "LW",
          "LW",
          "LW",
          "LW",
          "LW",
          "LW",
          "LW",
          "LW",
          "LW",
          "LW",
          "LW",
          "LW",
          "LW",
          "LW",
          "LW",
          "LW",
          "LW",
          "LW",
          "LW",
          "LW",
          "LW",
          "LW",
          "LW",
          "LW",
          "LW",
          "LW",
          "LW",
          "LW",
          "LW",
          "LW",
          "LW",
          "LW",
          "LW",
          "LW",
          "LW",
          "LW",
          "LW",
          "RW",
          "RW",
          "RW",
          "CF",
          "CF",
          "CF",
          "CF",
          "CF",
          "CF",
          "LW",
          "LW",
          "LW",
          "CF",
          "CF",
          "CF",
          "CF",
          "CF",
          "CF",
          "CF",
          "CF",
          "LW",
          "CF",
          "CF",
          "CF",
          "CF ",
          "CF",
          "CF",
          "LW",
          "CF",
          "LW",
          "LW",
          "LW",
          "CF",
          "CF",
          "CF",
          "CF",
          "LW",
          "CF",
          "CF",
          "CF",
          "CF",
          "CF",
          "LW",
          "LW",
          "CF",
          "CF",
          "CF",
          "CF",
          "CF",
          "LW",
          "LW",
          "LW",
          "LW",
          "LW",
          "LW",
          "LW",
          "LW",
          "LW",
          "LW",
          "LW",
          "LW",
          "LW",
          "LW",
          "LW",
          "LW ",
          "LW ",
          "CF",
          "CF",
          "CF",
          "CF",
          "CF",
          "CF",
          "LW",
          "LW",
          "LW",
          "LW",
          "LW",
          "LW",
          "LW",
          "LW",
          "LW",
          "LW",
          "LW",
          "LW",
          "LW",
          "LW",
          "LW",
          "LW",
          "LW",
          "LW",
          "LW",
          "LW",
          "LW",
          "LW",
          "LW",
          "CF",
          "LW",
          "LW",
          "CF",
          "LW",
          "LW",
          "LW",
          "LW",
          "LW",
          "LW",
          "LW",
          "LW",
          "LW",
          "LW",
          "LW",
          "LW",
          "LW",
          "LW",
          "LW",
          "CF",
          "CF",
          "CF",
          "LW",
          "LW",
          "LW",
          "LW",
          "LW",
          "LW",
          "LW",
          "CF",
          "CF",
          "LW",
          "CF",
          "LW",
          "LW",
          "LW",
          "LW",
          "LW",
          "LW",
          "LW",
          "CF",
          "CF",
          "CF",
          "LW",
          "CF",
          "CF",
          "CF",
          "LW",
          "LW",
          "CF",
          "CF",
          "CF",
          "CF",
          "CF",
          "CF",
          "CF",
          "CF",
          "CF",
          "CF",
          "CF",
          "LW",
          "LW",
          "LW",
          "LW",
          "CF",
          "LW",
          "CF",
          "CF",
          "LW",
          "LW",
          "LW",
          "LW",
          "LW",
          "LW",
          "CF",
          "CF",
          "CF",
          "LW",
          "LW",
          "CF",
          "CF ",
          "CF ",
          "CF",
          "CF",
          "CF",
          "CF",
          "CF",
          "CF",
          "CF",
          "CF",
          "CF",
          "CF",
          "CF",
          "CF",
          "CF",
          "CF",
          "LW",
          "CF"
         ],
         "xaxis": "x",
         "yaxis": "y"
        },
        {
         "alignmentgroup": "True",
         "bingroup": "x",
         "hovertemplate": "Club=Juventus FC<br>Playing_Position=%{x}<br>count=%{y}<extra></extra>",
         "legendgroup": "Juventus FC",
         "marker": {
          "color": "#ab63fa",
          "pattern": {
           "shape": ""
          }
         },
         "name": "Juventus FC",
         "offsetgroup": "Juventus FC",
         "orientation": "v",
         "showlegend": true,
         "type": "histogram",
         "x": [
          "CF",
          "CF",
          "LW",
          "LW",
          "LW",
          "CF",
          "CF",
          "CF",
          "LW",
          "CF",
          "LW",
          "LW",
          "CF",
          "LW",
          "LW",
          "LW",
          "LW",
          "LW",
          "LW",
          "LW",
          "LW",
          "CF",
          "CF",
          "CF",
          "LW",
          "LW",
          "CF",
          "CF",
          "LW",
          "LW",
          "CF",
          "CF",
          "CF",
          "CF",
          "CF",
          "CF",
          "CF",
          "CF",
          "CF",
          "LW",
          "CF",
          "CF",
          "CF",
          "CF",
          "CF",
          "CF",
          "LW",
          "LW",
          "LW",
          "LW",
          "LW",
          "LW",
          "LW",
          "LW",
          "LW",
          "LW",
          "LW",
          "LW",
          "LW",
          "LW",
          "LW",
          "LW",
          "LW",
          "LW",
          "LW",
          "CF",
          "CF",
          "CF",
          "CF",
          "CF",
          "LW",
          "CF",
          "CF",
          "CF",
          "CF",
          "CF",
          "CF",
          "CF",
          "CF",
          "CF",
          "CF",
          "CF",
          "CF",
          "CF",
          "CF",
          "CF",
          "CF",
          "CF",
          "CF",
          "CF",
          "CF",
          "CF",
          "CF",
          "CF",
          "CF",
          "CF",
          "CF",
          "CF",
          "CF",
          "CF",
          "CF"
         ],
         "xaxis": "x",
         "yaxis": "y"
        },
        {
         "alignmentgroup": "True",
         "bingroup": "x",
         "hovertemplate": "Club=Al-Nassr FC<br>Playing_Position=%{x}<br>count=%{y}<extra></extra>",
         "legendgroup": "Al-Nassr FC",
         "marker": {
          "color": "#FFA15A",
          "pattern": {
           "shape": ""
          }
         },
         "name": "Al-Nassr FC",
         "offsetgroup": "Al-Nassr FC",
         "orientation": "v",
         "showlegend": true,
         "type": "histogram",
         "x": [
          "CF",
          "CF",
          "CF",
          "CF",
          "CF",
          "CF",
          "CF",
          "CF",
          "CF"
         ],
         "xaxis": "x",
         "yaxis": "y"
        }
       ],
       "layout": {
        "barmode": "relative",
        "height": 500,
        "legend": {
         "title": {
          "text": "Club"
         },
         "tracegroupgap": 0
        },
        "template": {
         "data": {
          "bar": [
           {
            "error_x": {
             "color": "#2a3f5f"
            },
            "error_y": {
             "color": "#2a3f5f"
            },
            "marker": {
             "line": {
              "color": "#E5ECF6",
              "width": 0.5
             },
             "pattern": {
              "fillmode": "overlay",
              "size": 10,
              "solidity": 0.2
             }
            },
            "type": "bar"
           }
          ],
          "barpolar": [
           {
            "marker": {
             "line": {
              "color": "#E5ECF6",
              "width": 0.5
             },
             "pattern": {
              "fillmode": "overlay",
              "size": 10,
              "solidity": 0.2
             }
            },
            "type": "barpolar"
           }
          ],
          "carpet": [
           {
            "aaxis": {
             "endlinecolor": "#2a3f5f",
             "gridcolor": "white",
             "linecolor": "white",
             "minorgridcolor": "white",
             "startlinecolor": "#2a3f5f"
            },
            "baxis": {
             "endlinecolor": "#2a3f5f",
             "gridcolor": "white",
             "linecolor": "white",
             "minorgridcolor": "white",
             "startlinecolor": "#2a3f5f"
            },
            "type": "carpet"
           }
          ],
          "choropleth": [
           {
            "colorbar": {
             "outlinewidth": 0,
             "ticks": ""
            },
            "type": "choropleth"
           }
          ],
          "contour": [
           {
            "colorbar": {
             "outlinewidth": 0,
             "ticks": ""
            },
            "colorscale": [
             [
              0,
              "#0d0887"
             ],
             [
              0.1111111111111111,
              "#46039f"
             ],
             [
              0.2222222222222222,
              "#7201a8"
             ],
             [
              0.3333333333333333,
              "#9c179e"
             ],
             [
              0.4444444444444444,
              "#bd3786"
             ],
             [
              0.5555555555555556,
              "#d8576b"
             ],
             [
              0.6666666666666666,
              "#ed7953"
             ],
             [
              0.7777777777777778,
              "#fb9f3a"
             ],
             [
              0.8888888888888888,
              "#fdca26"
             ],
             [
              1,
              "#f0f921"
             ]
            ],
            "type": "contour"
           }
          ],
          "contourcarpet": [
           {
            "colorbar": {
             "outlinewidth": 0,
             "ticks": ""
            },
            "type": "contourcarpet"
           }
          ],
          "heatmap": [
           {
            "colorbar": {
             "outlinewidth": 0,
             "ticks": ""
            },
            "colorscale": [
             [
              0,
              "#0d0887"
             ],
             [
              0.1111111111111111,
              "#46039f"
             ],
             [
              0.2222222222222222,
              "#7201a8"
             ],
             [
              0.3333333333333333,
              "#9c179e"
             ],
             [
              0.4444444444444444,
              "#bd3786"
             ],
             [
              0.5555555555555556,
              "#d8576b"
             ],
             [
              0.6666666666666666,
              "#ed7953"
             ],
             [
              0.7777777777777778,
              "#fb9f3a"
             ],
             [
              0.8888888888888888,
              "#fdca26"
             ],
             [
              1,
              "#f0f921"
             ]
            ],
            "type": "heatmap"
           }
          ],
          "heatmapgl": [
           {
            "colorbar": {
             "outlinewidth": 0,
             "ticks": ""
            },
            "colorscale": [
             [
              0,
              "#0d0887"
             ],
             [
              0.1111111111111111,
              "#46039f"
             ],
             [
              0.2222222222222222,
              "#7201a8"
             ],
             [
              0.3333333333333333,
              "#9c179e"
             ],
             [
              0.4444444444444444,
              "#bd3786"
             ],
             [
              0.5555555555555556,
              "#d8576b"
             ],
             [
              0.6666666666666666,
              "#ed7953"
             ],
             [
              0.7777777777777778,
              "#fb9f3a"
             ],
             [
              0.8888888888888888,
              "#fdca26"
             ],
             [
              1,
              "#f0f921"
             ]
            ],
            "type": "heatmapgl"
           }
          ],
          "histogram": [
           {
            "marker": {
             "pattern": {
              "fillmode": "overlay",
              "size": 10,
              "solidity": 0.2
             }
            },
            "type": "histogram"
           }
          ],
          "histogram2d": [
           {
            "colorbar": {
             "outlinewidth": 0,
             "ticks": ""
            },
            "colorscale": [
             [
              0,
              "#0d0887"
             ],
             [
              0.1111111111111111,
              "#46039f"
             ],
             [
              0.2222222222222222,
              "#7201a8"
             ],
             [
              0.3333333333333333,
              "#9c179e"
             ],
             [
              0.4444444444444444,
              "#bd3786"
             ],
             [
              0.5555555555555556,
              "#d8576b"
             ],
             [
              0.6666666666666666,
              "#ed7953"
             ],
             [
              0.7777777777777778,
              "#fb9f3a"
             ],
             [
              0.8888888888888888,
              "#fdca26"
             ],
             [
              1,
              "#f0f921"
             ]
            ],
            "type": "histogram2d"
           }
          ],
          "histogram2dcontour": [
           {
            "colorbar": {
             "outlinewidth": 0,
             "ticks": ""
            },
            "colorscale": [
             [
              0,
              "#0d0887"
             ],
             [
              0.1111111111111111,
              "#46039f"
             ],
             [
              0.2222222222222222,
              "#7201a8"
             ],
             [
              0.3333333333333333,
              "#9c179e"
             ],
             [
              0.4444444444444444,
              "#bd3786"
             ],
             [
              0.5555555555555556,
              "#d8576b"
             ],
             [
              0.6666666666666666,
              "#ed7953"
             ],
             [
              0.7777777777777778,
              "#fb9f3a"
             ],
             [
              0.8888888888888888,
              "#fdca26"
             ],
             [
              1,
              "#f0f921"
             ]
            ],
            "type": "histogram2dcontour"
           }
          ],
          "mesh3d": [
           {
            "colorbar": {
             "outlinewidth": 0,
             "ticks": ""
            },
            "type": "mesh3d"
           }
          ],
          "parcoords": [
           {
            "line": {
             "colorbar": {
              "outlinewidth": 0,
              "ticks": ""
             }
            },
            "type": "parcoords"
           }
          ],
          "pie": [
           {
            "automargin": true,
            "type": "pie"
           }
          ],
          "scatter": [
           {
            "fillpattern": {
             "fillmode": "overlay",
             "size": 10,
             "solidity": 0.2
            },
            "type": "scatter"
           }
          ],
          "scatter3d": [
           {
            "line": {
             "colorbar": {
              "outlinewidth": 0,
              "ticks": ""
             }
            },
            "marker": {
             "colorbar": {
              "outlinewidth": 0,
              "ticks": ""
             }
            },
            "type": "scatter3d"
           }
          ],
          "scattercarpet": [
           {
            "marker": {
             "colorbar": {
              "outlinewidth": 0,
              "ticks": ""
             }
            },
            "type": "scattercarpet"
           }
          ],
          "scattergeo": [
           {
            "marker": {
             "colorbar": {
              "outlinewidth": 0,
              "ticks": ""
             }
            },
            "type": "scattergeo"
           }
          ],
          "scattergl": [
           {
            "marker": {
             "colorbar": {
              "outlinewidth": 0,
              "ticks": ""
             }
            },
            "type": "scattergl"
           }
          ],
          "scattermapbox": [
           {
            "marker": {
             "colorbar": {
              "outlinewidth": 0,
              "ticks": ""
             }
            },
            "type": "scattermapbox"
           }
          ],
          "scatterpolar": [
           {
            "marker": {
             "colorbar": {
              "outlinewidth": 0,
              "ticks": ""
             }
            },
            "type": "scatterpolar"
           }
          ],
          "scatterpolargl": [
           {
            "marker": {
             "colorbar": {
              "outlinewidth": 0,
              "ticks": ""
             }
            },
            "type": "scatterpolargl"
           }
          ],
          "scatterternary": [
           {
            "marker": {
             "colorbar": {
              "outlinewidth": 0,
              "ticks": ""
             }
            },
            "type": "scatterternary"
           }
          ],
          "surface": [
           {
            "colorbar": {
             "outlinewidth": 0,
             "ticks": ""
            },
            "colorscale": [
             [
              0,
              "#0d0887"
             ],
             [
              0.1111111111111111,
              "#46039f"
             ],
             [
              0.2222222222222222,
              "#7201a8"
             ],
             [
              0.3333333333333333,
              "#9c179e"
             ],
             [
              0.4444444444444444,
              "#bd3786"
             ],
             [
              0.5555555555555556,
              "#d8576b"
             ],
             [
              0.6666666666666666,
              "#ed7953"
             ],
             [
              0.7777777777777778,
              "#fb9f3a"
             ],
             [
              0.8888888888888888,
              "#fdca26"
             ],
             [
              1,
              "#f0f921"
             ]
            ],
            "type": "surface"
           }
          ],
          "table": [
           {
            "cells": {
             "fill": {
              "color": "#EBF0F8"
             },
             "line": {
              "color": "white"
             }
            },
            "header": {
             "fill": {
              "color": "#C8D4E3"
             },
             "line": {
              "color": "white"
             }
            },
            "type": "table"
           }
          ]
         },
         "layout": {
          "annotationdefaults": {
           "arrowcolor": "#2a3f5f",
           "arrowhead": 0,
           "arrowwidth": 1
          },
          "autotypenumbers": "strict",
          "coloraxis": {
           "colorbar": {
            "outlinewidth": 0,
            "ticks": ""
           }
          },
          "colorscale": {
           "diverging": [
            [
             0,
             "#8e0152"
            ],
            [
             0.1,
             "#c51b7d"
            ],
            [
             0.2,
             "#de77ae"
            ],
            [
             0.3,
             "#f1b6da"
            ],
            [
             0.4,
             "#fde0ef"
            ],
            [
             0.5,
             "#f7f7f7"
            ],
            [
             0.6,
             "#e6f5d0"
            ],
            [
             0.7,
             "#b8e186"
            ],
            [
             0.8,
             "#7fbc41"
            ],
            [
             0.9,
             "#4d9221"
            ],
            [
             1,
             "#276419"
            ]
           ],
           "sequential": [
            [
             0,
             "#0d0887"
            ],
            [
             0.1111111111111111,
             "#46039f"
            ],
            [
             0.2222222222222222,
             "#7201a8"
            ],
            [
             0.3333333333333333,
             "#9c179e"
            ],
            [
             0.4444444444444444,
             "#bd3786"
            ],
            [
             0.5555555555555556,
             "#d8576b"
            ],
            [
             0.6666666666666666,
             "#ed7953"
            ],
            [
             0.7777777777777778,
             "#fb9f3a"
            ],
            [
             0.8888888888888888,
             "#fdca26"
            ],
            [
             1,
             "#f0f921"
            ]
           ],
           "sequentialminus": [
            [
             0,
             "#0d0887"
            ],
            [
             0.1111111111111111,
             "#46039f"
            ],
            [
             0.2222222222222222,
             "#7201a8"
            ],
            [
             0.3333333333333333,
             "#9c179e"
            ],
            [
             0.4444444444444444,
             "#bd3786"
            ],
            [
             0.5555555555555556,
             "#d8576b"
            ],
            [
             0.6666666666666666,
             "#ed7953"
            ],
            [
             0.7777777777777778,
             "#fb9f3a"
            ],
            [
             0.8888888888888888,
             "#fdca26"
            ],
            [
             1,
             "#f0f921"
            ]
           ]
          },
          "colorway": [
           "#636efa",
           "#EF553B",
           "#00cc96",
           "#ab63fa",
           "#FFA15A",
           "#19d3f3",
           "#FF6692",
           "#B6E880",
           "#FF97FF",
           "#FECB52"
          ],
          "font": {
           "color": "#2a3f5f"
          },
          "geo": {
           "bgcolor": "white",
           "lakecolor": "white",
           "landcolor": "#E5ECF6",
           "showlakes": true,
           "showland": true,
           "subunitcolor": "white"
          },
          "hoverlabel": {
           "align": "left"
          },
          "hovermode": "closest",
          "mapbox": {
           "style": "light"
          },
          "paper_bgcolor": "white",
          "plot_bgcolor": "#E5ECF6",
          "polar": {
           "angularaxis": {
            "gridcolor": "white",
            "linecolor": "white",
            "ticks": ""
           },
           "bgcolor": "#E5ECF6",
           "radialaxis": {
            "gridcolor": "white",
            "linecolor": "white",
            "ticks": ""
           }
          },
          "scene": {
           "xaxis": {
            "backgroundcolor": "#E5ECF6",
            "gridcolor": "white",
            "gridwidth": 2,
            "linecolor": "white",
            "showbackground": true,
            "ticks": "",
            "zerolinecolor": "white"
           },
           "yaxis": {
            "backgroundcolor": "#E5ECF6",
            "gridcolor": "white",
            "gridwidth": 2,
            "linecolor": "white",
            "showbackground": true,
            "ticks": "",
            "zerolinecolor": "white"
           },
           "zaxis": {
            "backgroundcolor": "#E5ECF6",
            "gridcolor": "white",
            "gridwidth": 2,
            "linecolor": "white",
            "showbackground": true,
            "ticks": "",
            "zerolinecolor": "white"
           }
          },
          "shapedefaults": {
           "line": {
            "color": "#2a3f5f"
           }
          },
          "ternary": {
           "aaxis": {
            "gridcolor": "white",
            "linecolor": "white",
            "ticks": ""
           },
           "baxis": {
            "gridcolor": "white",
            "linecolor": "white",
            "ticks": ""
           },
           "bgcolor": "#E5ECF6",
           "caxis": {
            "gridcolor": "white",
            "linecolor": "white",
            "ticks": ""
           }
          },
          "title": {
           "x": 0.05
          },
          "xaxis": {
           "automargin": true,
           "gridcolor": "white",
           "linecolor": "white",
           "ticks": "",
           "title": {
            "standoff": 15
           },
           "zerolinecolor": "white",
           "zerolinewidth": 2
          },
          "yaxis": {
           "automargin": true,
           "gridcolor": "white",
           "linecolor": "white",
           "ticks": "",
           "title": {
            "standoff": 15
           },
           "zerolinecolor": "white",
           "zerolinewidth": 2
          }
         }
        },
        "title": {
         "text": "Goals per playing Position"
        },
        "xaxis": {
         "anchor": "y",
         "domain": [
          0,
          1
         ],
         "title": {
          "text": "Playing_Position"
         }
        },
        "yaxis": {
         "anchor": "x",
         "domain": [
          0,
          1
         ],
         "title": {
          "text": "count"
         }
        }
       }
      },
      "text/html": [
       "<div>                            <div id=\"6ae15c14-2be1-4b31-b87c-9e2edff35ce1\" class=\"plotly-graph-div\" style=\"height:500px; width:100%;\"></div>            <script type=\"text/javascript\">                require([\"plotly\"], function(Plotly) {                    window.PLOTLYENV=window.PLOTLYENV || {};                                    if (document.getElementById(\"6ae15c14-2be1-4b31-b87c-9e2edff35ce1\")) {                    Plotly.newPlot(                        \"6ae15c14-2be1-4b31-b87c-9e2edff35ce1\",                        [{\"alignmentgroup\":\"True\",\"bingroup\":\"x\",\"hovertemplate\":\"Club=Sporting CP<br>Playing_Position=%{x}<br>count=%{y}<extra></extra>\",\"legendgroup\":\"Sporting CP\",\"marker\":{\"color\":\"#636efa\",\"pattern\":{\"shape\":\"\"}},\"name\":\"Sporting CP\",\"offsetgroup\":\"Sporting CP\",\"orientation\":\"v\",\"showlegend\":true,\"x\":[\"LW\",\"LW\",null,null,null],\"xaxis\":\"x\",\"yaxis\":\"y\",\"type\":\"histogram\"},{\"alignmentgroup\":\"True\",\"bingroup\":\"x\",\"hovertemplate\":\"Club=Manchester United<br>Playing_Position=%{x}<br>count=%{y}<extra></extra>\",\"legendgroup\":\"Manchester United\",\"marker\":{\"color\":\"#EF553B\",\"pattern\":{\"shape\":\"\"}},\"name\":\"Manchester United\",\"offsetgroup\":\"Manchester United\",\"orientation\":\"v\",\"showlegend\":true,\"x\":[\"RW\",\"RW\",null,null,null,\"RW\",null,null,null,\"RW\",\"RW\",null,null,null,\"RW\",null,null,\"RW\",null,null,null,null,\"RW\",\"RW\",\"RW\",null,\"RW\",null,\"CF\",null,\"RW\",null,null,null,null,null,null,\"RW\",\"RW\",null,\"RW\",\"RW\",null,\"RW\",null,\"RW\",\"RW\",null,\"RW\",\"RW\",\"RW\",\"RW\",\"RW\",\"RW\",\"RW\",\"RW\",\"RW\",\"RW\",\"RW\",\"RW\",\"RW\",null,null,null,\"RW\",\"RW\",null,\"RW\",null,\"RW\",\"RW\",\"RW\",\"RW\",\"RW\",\"RW\",\"RW\",\"RW\",\"RW\",\"RW\",\"RW\",null,null,null,\"RW\",\"RW\",\"RW\",\"RW\",\"RW\",\"RW\",\"RW\",\"RW\",\"LW\",null,\"RW\",\"RW\",\"RW\",\"RW\",\"RW\",\"RW\",\"RW\",\"RW\",\"LW\",null,\"LW\",\"LW\",\"LW\",\"CF\",null,\"RW\",\"RW\",\"RW\",\"RW\",\"RW\",\"RW\",\"RW\",\"CF\",\"CF\",\"RW\",\"CF\",\"CF\",\"CF\",\"CF\",\"CF\",\"CF\",\"CF\",\"CF\",\"CF\",\"CF\",\"CF\",\"CF\",\"CF\",\"CF\",\"CF\",\"CF\",\"CF\",\"CF\",\"CF\",\"CF\",\"CF\",\"CF\",\"CF\",\"CF\",\"CF\",null,\"CF\"],\"xaxis\":\"x\",\"yaxis\":\"y\",\"type\":\"histogram\"},{\"alignmentgroup\":\"True\",\"bingroup\":\"x\",\"hovertemplate\":\"Club=Real Madrid<br>Playing_Position=%{x}<br>count=%{y}<extra></extra>\",\"legendgroup\":\"Real Madrid\",\"marker\":{\"color\":\"#00cc96\",\"pattern\":{\"shape\":\"\"}},\"name\":\"Real Madrid\",\"offsetgroup\":\"Real Madrid\",\"orientation\":\"v\",\"showlegend\":true,\"x\":[\"RW\",null,\"CF\",\"CF\",\"RW\",\"RW\",\"CF\",\"CF\",\"CF\",\"CF\",\"CF\",\"CF\",\"CF\",\"RW\",\"RW\",null,null,null,null,\"CF\",\"LW\",\"CF\",null,null,null,null,\"CF\",null,null,null,null,null,\"CF\",\"LW\",\"LW\",\"LW\",\"LW\",\"LW\",\"LW\",\"LW\",\"LW\",\"LW\",\"LW\",\"LW\",\"LW\",null,\"LW\",\"LW\",\"LW\",\"LW\",\"LW\",\"LW\",\"LW\",\"LW\",\"LW\",\"LW\",\"LW\",\"LW\",\"LW\",\"LW\",\"LW\",\"LW\",\"LW\",\"LW\",\"CF\",\"LW\",\"LW\",\"LW\",\"LW\",\"LW\",\"LW\",\"CF\",\"RW\",\"LW\",\"CF\",\"LW\",\"LW\",\"LW\",\"LW\",\"LW\",\"LW\",\"LW\",\"CF\",\"CF\",\"LW\",\"LW\",\"LW\",\"LW\",\"LW\",\"LW\",\"LW\",\"LW\",\"LW\",\"LW\",\"LW\",\"LW\",\"LW\",\"LW\",\"LW\",\"LW\",\"LW\",\"LW\",\"LW\",\"LW\",\"LW\",\"LW\",\"LW\",\"LW\",\"LW\",\"LW\",\"LW\",\"LW\",\"LW\",\"LW\",\"LW\",\"LW\",\"LW\",\"LW\",\"LW\",\"LW\",\"LW\",\"LW\",\"LW\",\"LW\",\"LW\",\"LW\",\"LW\",\"LW\",\"LW\",\"LW\",\"LW\",\"LW\",\"LW\",\"LW\",\"LW\",\"LW\",\"LW\",\"LW\",\"LW\",\"LW\",\"LW\",\"LW\",\"LW\",\"LW\",\"LW\",\"LW\",\"LW\",\"LW\",\"LW\",\"LW\",\"LW\",\"LW\",\"LW\",\"LW\",\"LW\",\"LW\",\"LW\",\"LW\",\"LW\",\"LW\",\"LW\",\"LW\",\"LW\",\"LW\",\"CF\",\"LW\",\"LW\",\"LW\",\"CF\",\"LW \",\"LW \",\"LW\",\"LW\",\"LW\",\"LW\",\"LW\",\"LW\",\"LW\",\"LW\",\"LW\",\"LW\",\"LW\",\"LW\",\"LW\",\"LW\",\"LW\",\"LW\",\"LW\",\"LW\",\"LW\",\"LW\",\"CF\",\"LW\",\"LW\",\"LW\",\"LW\",\"LW\",\"LW\",\"LW\",\"LW \",\"LW\",\"LW\",\"LW\",\"LW\",\"LW\",\"LW\",\"LW\",\"LW\",\"LW\",\"LW\",\"LW\",\"LW\",\"LW\",\"LW\",\"LW\",\"LW\",\"LW\",\"LW\",\"LW\",\"LW\",\"LW\",\"LW\",\"LW\",\"LW\",\"LW\",\"LW\",\"LW\",\"LW\",\"LW\",\"LW\",\"LW\",\"LW\",\"LW\",\"LW\",\"LW\",\"LW\",\"LW\",\"LW\",\"LW\",\"LW\",\"LW\",\"LW\",\"LW\",\"LW\",\"LW\",\"LW\",\"LW\",\"LW\",\"LW\",\"LW\",\"LW\",\"LW\",\"LW\",\"LW\",\"LW\",\"LW\",\"LW\",\"RW\",\"RW\",\"RW\",\"CF\",\"CF\",\"CF\",\"CF\",\"CF\",\"CF\",\"LW\",\"LW\",\"LW\",\"CF\",\"CF\",\"CF\",\"CF\",\"CF\",\"CF\",\"CF\",\"CF\",\"LW\",\"CF\",\"CF\",\"CF\",\"CF \",\"CF\",\"CF\",\"LW\",\"CF\",\"LW\",\"LW\",\"LW\",\"CF\",\"CF\",\"CF\",\"CF\",\"LW\",\"CF\",\"CF\",\"CF\",\"CF\",\"CF\",\"LW\",\"LW\",\"CF\",\"CF\",\"CF\",\"CF\",\"CF\",\"LW\",\"LW\",\"LW\",\"LW\",\"LW\",\"LW\",\"LW\",\"LW\",\"LW\",\"LW\",\"LW\",\"LW\",\"LW\",\"LW\",\"LW\",\"LW \",\"LW \",\"CF\",\"CF\",\"CF\",\"CF\",\"CF\",\"CF\",\"LW\",\"LW\",\"LW\",\"LW\",\"LW\",\"LW\",\"LW\",\"LW\",\"LW\",\"LW\",\"LW\",\"LW\",\"LW\",\"LW\",\"LW\",\"LW\",\"LW\",\"LW\",\"LW\",\"LW\",\"LW\",\"LW\",\"LW\",\"CF\",\"LW\",\"LW\",\"CF\",\"LW\",\"LW\",\"LW\",\"LW\",\"LW\",\"LW\",\"LW\",\"LW\",\"LW\",\"LW\",\"LW\",\"LW\",\"LW\",\"LW\",\"LW\",\"CF\",\"CF\",\"CF\",\"LW\",\"LW\",\"LW\",\"LW\",\"LW\",\"LW\",\"LW\",\"CF\",\"CF\",\"LW\",\"CF\",\"LW\",\"LW\",\"LW\",\"LW\",\"LW\",\"LW\",\"LW\",\"CF\",\"CF\",\"CF\",\"LW\",\"CF\",\"CF\",\"CF\",\"LW\",\"LW\",\"CF\",\"CF\",\"CF\",\"CF\",\"CF\",\"CF\",\"CF\",\"CF\",\"CF\",\"CF\",\"CF\",\"LW\",\"LW\",\"LW\",\"LW\",\"CF\",\"LW\",\"CF\",\"CF\",\"LW\",\"LW\",\"LW\",\"LW\",\"LW\",\"LW\",\"CF\",\"CF\",\"CF\",\"LW\",\"LW\",\"CF\",\"CF \",\"CF \",\"CF\",\"CF\",\"CF\",\"CF\",\"CF\",\"CF\",\"CF\",\"CF\",\"CF\",\"CF\",\"CF\",\"CF\",\"CF\",\"CF\",\"LW\",\"CF\"],\"xaxis\":\"x\",\"yaxis\":\"y\",\"type\":\"histogram\"},{\"alignmentgroup\":\"True\",\"bingroup\":\"x\",\"hovertemplate\":\"Club=Juventus FC<br>Playing_Position=%{x}<br>count=%{y}<extra></extra>\",\"legendgroup\":\"Juventus FC\",\"marker\":{\"color\":\"#ab63fa\",\"pattern\":{\"shape\":\"\"}},\"name\":\"Juventus FC\",\"offsetgroup\":\"Juventus FC\",\"orientation\":\"v\",\"showlegend\":true,\"x\":[\"CF\",\"CF\",\"LW\",\"LW\",\"LW\",\"CF\",\"CF\",\"CF\",\"LW\",\"CF\",\"LW\",\"LW\",\"CF\",\"LW\",\"LW\",\"LW\",\"LW\",\"LW\",\"LW\",\"LW\",\"LW\",\"CF\",\"CF\",\"CF\",\"LW\",\"LW\",\"CF\",\"CF\",\"LW\",\"LW\",\"CF\",\"CF\",\"CF\",\"CF\",\"CF\",\"CF\",\"CF\",\"CF\",\"CF\",\"LW\",\"CF\",\"CF\",\"CF\",\"CF\",\"CF\",\"CF\",\"LW\",\"LW\",\"LW\",\"LW\",\"LW\",\"LW\",\"LW\",\"LW\",\"LW\",\"LW\",\"LW\",\"LW\",\"LW\",\"LW\",\"LW\",\"LW\",\"LW\",\"LW\",\"LW\",\"CF\",\"CF\",\"CF\",\"CF\",\"CF\",\"LW\",\"CF\",\"CF\",\"CF\",\"CF\",\"CF\",\"CF\",\"CF\",\"CF\",\"CF\",\"CF\",\"CF\",\"CF\",\"CF\",\"CF\",\"CF\",\"CF\",\"CF\",\"CF\",\"CF\",\"CF\",\"CF\",\"CF\",\"CF\",\"CF\",\"CF\",\"CF\",\"CF\",\"CF\",\"CF\",\"CF\"],\"xaxis\":\"x\",\"yaxis\":\"y\",\"type\":\"histogram\"},{\"alignmentgroup\":\"True\",\"bingroup\":\"x\",\"hovertemplate\":\"Club=Al-Nassr FC<br>Playing_Position=%{x}<br>count=%{y}<extra></extra>\",\"legendgroup\":\"Al-Nassr FC\",\"marker\":{\"color\":\"#FFA15A\",\"pattern\":{\"shape\":\"\"}},\"name\":\"Al-Nassr FC\",\"offsetgroup\":\"Al-Nassr FC\",\"orientation\":\"v\",\"showlegend\":true,\"x\":[\"CF\",\"CF\",\"CF\",\"CF\",\"CF\",\"CF\",\"CF\",\"CF\",\"CF\"],\"xaxis\":\"x\",\"yaxis\":\"y\",\"type\":\"histogram\"}],                        {\"template\":{\"data\":{\"histogram2dcontour\":[{\"type\":\"histogram2dcontour\",\"colorbar\":{\"outlinewidth\":0,\"ticks\":\"\"},\"colorscale\":[[0.0,\"#0d0887\"],[0.1111111111111111,\"#46039f\"],[0.2222222222222222,\"#7201a8\"],[0.3333333333333333,\"#9c179e\"],[0.4444444444444444,\"#bd3786\"],[0.5555555555555556,\"#d8576b\"],[0.6666666666666666,\"#ed7953\"],[0.7777777777777778,\"#fb9f3a\"],[0.8888888888888888,\"#fdca26\"],[1.0,\"#f0f921\"]]}],\"choropleth\":[{\"type\":\"choropleth\",\"colorbar\":{\"outlinewidth\":0,\"ticks\":\"\"}}],\"histogram2d\":[{\"type\":\"histogram2d\",\"colorbar\":{\"outlinewidth\":0,\"ticks\":\"\"},\"colorscale\":[[0.0,\"#0d0887\"],[0.1111111111111111,\"#46039f\"],[0.2222222222222222,\"#7201a8\"],[0.3333333333333333,\"#9c179e\"],[0.4444444444444444,\"#bd3786\"],[0.5555555555555556,\"#d8576b\"],[0.6666666666666666,\"#ed7953\"],[0.7777777777777778,\"#fb9f3a\"],[0.8888888888888888,\"#fdca26\"],[1.0,\"#f0f921\"]]}],\"heatmap\":[{\"type\":\"heatmap\",\"colorbar\":{\"outlinewidth\":0,\"ticks\":\"\"},\"colorscale\":[[0.0,\"#0d0887\"],[0.1111111111111111,\"#46039f\"],[0.2222222222222222,\"#7201a8\"],[0.3333333333333333,\"#9c179e\"],[0.4444444444444444,\"#bd3786\"],[0.5555555555555556,\"#d8576b\"],[0.6666666666666666,\"#ed7953\"],[0.7777777777777778,\"#fb9f3a\"],[0.8888888888888888,\"#fdca26\"],[1.0,\"#f0f921\"]]}],\"heatmapgl\":[{\"type\":\"heatmapgl\",\"colorbar\":{\"outlinewidth\":0,\"ticks\":\"\"},\"colorscale\":[[0.0,\"#0d0887\"],[0.1111111111111111,\"#46039f\"],[0.2222222222222222,\"#7201a8\"],[0.3333333333333333,\"#9c179e\"],[0.4444444444444444,\"#bd3786\"],[0.5555555555555556,\"#d8576b\"],[0.6666666666666666,\"#ed7953\"],[0.7777777777777778,\"#fb9f3a\"],[0.8888888888888888,\"#fdca26\"],[1.0,\"#f0f921\"]]}],\"contourcarpet\":[{\"type\":\"contourcarpet\",\"colorbar\":{\"outlinewidth\":0,\"ticks\":\"\"}}],\"contour\":[{\"type\":\"contour\",\"colorbar\":{\"outlinewidth\":0,\"ticks\":\"\"},\"colorscale\":[[0.0,\"#0d0887\"],[0.1111111111111111,\"#46039f\"],[0.2222222222222222,\"#7201a8\"],[0.3333333333333333,\"#9c179e\"],[0.4444444444444444,\"#bd3786\"],[0.5555555555555556,\"#d8576b\"],[0.6666666666666666,\"#ed7953\"],[0.7777777777777778,\"#fb9f3a\"],[0.8888888888888888,\"#fdca26\"],[1.0,\"#f0f921\"]]}],\"surface\":[{\"type\":\"surface\",\"colorbar\":{\"outlinewidth\":0,\"ticks\":\"\"},\"colorscale\":[[0.0,\"#0d0887\"],[0.1111111111111111,\"#46039f\"],[0.2222222222222222,\"#7201a8\"],[0.3333333333333333,\"#9c179e\"],[0.4444444444444444,\"#bd3786\"],[0.5555555555555556,\"#d8576b\"],[0.6666666666666666,\"#ed7953\"],[0.7777777777777778,\"#fb9f3a\"],[0.8888888888888888,\"#fdca26\"],[1.0,\"#f0f921\"]]}],\"mesh3d\":[{\"type\":\"mesh3d\",\"colorbar\":{\"outlinewidth\":0,\"ticks\":\"\"}}],\"scatter\":[{\"fillpattern\":{\"fillmode\":\"overlay\",\"size\":10,\"solidity\":0.2},\"type\":\"scatter\"}],\"parcoords\":[{\"type\":\"parcoords\",\"line\":{\"colorbar\":{\"outlinewidth\":0,\"ticks\":\"\"}}}],\"scatterpolargl\":[{\"type\":\"scatterpolargl\",\"marker\":{\"colorbar\":{\"outlinewidth\":0,\"ticks\":\"\"}}}],\"bar\":[{\"error_x\":{\"color\":\"#2a3f5f\"},\"error_y\":{\"color\":\"#2a3f5f\"},\"marker\":{\"line\":{\"color\":\"#E5ECF6\",\"width\":0.5},\"pattern\":{\"fillmode\":\"overlay\",\"size\":10,\"solidity\":0.2}},\"type\":\"bar\"}],\"scattergeo\":[{\"type\":\"scattergeo\",\"marker\":{\"colorbar\":{\"outlinewidth\":0,\"ticks\":\"\"}}}],\"scatterpolar\":[{\"type\":\"scatterpolar\",\"marker\":{\"colorbar\":{\"outlinewidth\":0,\"ticks\":\"\"}}}],\"histogram\":[{\"marker\":{\"pattern\":{\"fillmode\":\"overlay\",\"size\":10,\"solidity\":0.2}},\"type\":\"histogram\"}],\"scattergl\":[{\"type\":\"scattergl\",\"marker\":{\"colorbar\":{\"outlinewidth\":0,\"ticks\":\"\"}}}],\"scatter3d\":[{\"type\":\"scatter3d\",\"line\":{\"colorbar\":{\"outlinewidth\":0,\"ticks\":\"\"}},\"marker\":{\"colorbar\":{\"outlinewidth\":0,\"ticks\":\"\"}}}],\"scattermapbox\":[{\"type\":\"scattermapbox\",\"marker\":{\"colorbar\":{\"outlinewidth\":0,\"ticks\":\"\"}}}],\"scatterternary\":[{\"type\":\"scatterternary\",\"marker\":{\"colorbar\":{\"outlinewidth\":0,\"ticks\":\"\"}}}],\"scattercarpet\":[{\"type\":\"scattercarpet\",\"marker\":{\"colorbar\":{\"outlinewidth\":0,\"ticks\":\"\"}}}],\"carpet\":[{\"aaxis\":{\"endlinecolor\":\"#2a3f5f\",\"gridcolor\":\"white\",\"linecolor\":\"white\",\"minorgridcolor\":\"white\",\"startlinecolor\":\"#2a3f5f\"},\"baxis\":{\"endlinecolor\":\"#2a3f5f\",\"gridcolor\":\"white\",\"linecolor\":\"white\",\"minorgridcolor\":\"white\",\"startlinecolor\":\"#2a3f5f\"},\"type\":\"carpet\"}],\"table\":[{\"cells\":{\"fill\":{\"color\":\"#EBF0F8\"},\"line\":{\"color\":\"white\"}},\"header\":{\"fill\":{\"color\":\"#C8D4E3\"},\"line\":{\"color\":\"white\"}},\"type\":\"table\"}],\"barpolar\":[{\"marker\":{\"line\":{\"color\":\"#E5ECF6\",\"width\":0.5},\"pattern\":{\"fillmode\":\"overlay\",\"size\":10,\"solidity\":0.2}},\"type\":\"barpolar\"}],\"pie\":[{\"automargin\":true,\"type\":\"pie\"}]},\"layout\":{\"autotypenumbers\":\"strict\",\"colorway\":[\"#636efa\",\"#EF553B\",\"#00cc96\",\"#ab63fa\",\"#FFA15A\",\"#19d3f3\",\"#FF6692\",\"#B6E880\",\"#FF97FF\",\"#FECB52\"],\"font\":{\"color\":\"#2a3f5f\"},\"hovermode\":\"closest\",\"hoverlabel\":{\"align\":\"left\"},\"paper_bgcolor\":\"white\",\"plot_bgcolor\":\"#E5ECF6\",\"polar\":{\"bgcolor\":\"#E5ECF6\",\"angularaxis\":{\"gridcolor\":\"white\",\"linecolor\":\"white\",\"ticks\":\"\"},\"radialaxis\":{\"gridcolor\":\"white\",\"linecolor\":\"white\",\"ticks\":\"\"}},\"ternary\":{\"bgcolor\":\"#E5ECF6\",\"aaxis\":{\"gridcolor\":\"white\",\"linecolor\":\"white\",\"ticks\":\"\"},\"baxis\":{\"gridcolor\":\"white\",\"linecolor\":\"white\",\"ticks\":\"\"},\"caxis\":{\"gridcolor\":\"white\",\"linecolor\":\"white\",\"ticks\":\"\"}},\"coloraxis\":{\"colorbar\":{\"outlinewidth\":0,\"ticks\":\"\"}},\"colorscale\":{\"sequential\":[[0.0,\"#0d0887\"],[0.1111111111111111,\"#46039f\"],[0.2222222222222222,\"#7201a8\"],[0.3333333333333333,\"#9c179e\"],[0.4444444444444444,\"#bd3786\"],[0.5555555555555556,\"#d8576b\"],[0.6666666666666666,\"#ed7953\"],[0.7777777777777778,\"#fb9f3a\"],[0.8888888888888888,\"#fdca26\"],[1.0,\"#f0f921\"]],\"sequentialminus\":[[0.0,\"#0d0887\"],[0.1111111111111111,\"#46039f\"],[0.2222222222222222,\"#7201a8\"],[0.3333333333333333,\"#9c179e\"],[0.4444444444444444,\"#bd3786\"],[0.5555555555555556,\"#d8576b\"],[0.6666666666666666,\"#ed7953\"],[0.7777777777777778,\"#fb9f3a\"],[0.8888888888888888,\"#fdca26\"],[1.0,\"#f0f921\"]],\"diverging\":[[0,\"#8e0152\"],[0.1,\"#c51b7d\"],[0.2,\"#de77ae\"],[0.3,\"#f1b6da\"],[0.4,\"#fde0ef\"],[0.5,\"#f7f7f7\"],[0.6,\"#e6f5d0\"],[0.7,\"#b8e186\"],[0.8,\"#7fbc41\"],[0.9,\"#4d9221\"],[1,\"#276419\"]]},\"xaxis\":{\"gridcolor\":\"white\",\"linecolor\":\"white\",\"ticks\":\"\",\"title\":{\"standoff\":15},\"zerolinecolor\":\"white\",\"automargin\":true,\"zerolinewidth\":2},\"yaxis\":{\"gridcolor\":\"white\",\"linecolor\":\"white\",\"ticks\":\"\",\"title\":{\"standoff\":15},\"zerolinecolor\":\"white\",\"automargin\":true,\"zerolinewidth\":2},\"scene\":{\"xaxis\":{\"backgroundcolor\":\"#E5ECF6\",\"gridcolor\":\"white\",\"linecolor\":\"white\",\"showbackground\":true,\"ticks\":\"\",\"zerolinecolor\":\"white\",\"gridwidth\":2},\"yaxis\":{\"backgroundcolor\":\"#E5ECF6\",\"gridcolor\":\"white\",\"linecolor\":\"white\",\"showbackground\":true,\"ticks\":\"\",\"zerolinecolor\":\"white\",\"gridwidth\":2},\"zaxis\":{\"backgroundcolor\":\"#E5ECF6\",\"gridcolor\":\"white\",\"linecolor\":\"white\",\"showbackground\":true,\"ticks\":\"\",\"zerolinecolor\":\"white\",\"gridwidth\":2}},\"shapedefaults\":{\"line\":{\"color\":\"#2a3f5f\"}},\"annotationdefaults\":{\"arrowcolor\":\"#2a3f5f\",\"arrowhead\":0,\"arrowwidth\":1},\"geo\":{\"bgcolor\":\"white\",\"landcolor\":\"#E5ECF6\",\"subunitcolor\":\"white\",\"showland\":true,\"showlakes\":true,\"lakecolor\":\"white\"},\"title\":{\"x\":0.05},\"mapbox\":{\"style\":\"light\"}}},\"xaxis\":{\"anchor\":\"y\",\"domain\":[0.0,1.0],\"title\":{\"text\":\"Playing_Position\"}},\"yaxis\":{\"anchor\":\"x\",\"domain\":[0.0,1.0],\"title\":{\"text\":\"count\"}},\"legend\":{\"title\":{\"text\":\"Club\"},\"tracegroupgap\":0},\"title\":{\"text\":\"Goals per playing Position\"},\"barmode\":\"relative\",\"height\":500},                        {\"responsive\": true}                    ).then(function(){\n",
       "                            \n",
       "var gd = document.getElementById('6ae15c14-2be1-4b31-b87c-9e2edff35ce1');\n",
       "var x = new MutationObserver(function (mutations, observer) {{\n",
       "        var display = window.getComputedStyle(gd).display;\n",
       "        if (!display || display === 'none') {{\n",
       "            console.log([gd, 'removed!']);\n",
       "            Plotly.purge(gd);\n",
       "            observer.disconnect();\n",
       "        }}\n",
       "}});\n",
       "\n",
       "// Listen for the removal of the full notebook cells\n",
       "var notebookContainer = gd.closest('#notebook-container');\n",
       "if (notebookContainer) {{\n",
       "    x.observe(notebookContainer, {childList: true});\n",
       "}}\n",
       "\n",
       "// Listen for the clearing of the current output cell\n",
       "var outputEl = gd.closest('.output');\n",
       "if (outputEl) {{\n",
       "    x.observe(outputEl, {childList: true});\n",
       "}}\n",
       "\n",
       "                        })                };                });            </script>        </div>"
      ]
     },
     "metadata": {},
     "output_type": "display_data"
    }
   ],
   "source": [
    "px.histogram(\n",
    "    df,\n",
    "    x='Playing_Position',\n",
    "    title=\"Goals per playing Position\",\n",
    "    log_x=False,\n",
    "    log_y=False,\n",
    "    #symbol='title',\n",
    "    #markers=True,\n",
    "    #width=800, \n",
    "    height=500,\n",
    "    color='Club',\n",
    "    hover_name='Club',\n",
    "    hover_data=['Playing_Position','Competition','Season','Club'])"
   ]
  },
  {
   "cell_type": "code",
   "execution_count": 14,
   "id": "431fe0f3",
   "metadata": {},
   "outputs": [
    {
     "data": {
      "application/vnd.plotly.v1+json": {
       "config": {
        "plotlyServerURL": "https://plot.ly"
       },
       "data": [
        {
         "alignmentgroup": "True",
         "bingroup": "x",
         "hovertemplate": "Club=Sporting CP<br>Type=%{x}<br>count=%{y}<extra></extra>",
         "legendgroup": "Sporting CP",
         "marker": {
          "color": "#636efa",
          "pattern": {
           "shape": ""
          }
         },
         "name": "Sporting CP",
         "offsetgroup": "Sporting CP",
         "orientation": "v",
         "showlegend": true,
         "type": "histogram",
         "x": [
          "Solo run",
          "Header",
          "Right-footed shot",
          "Left-footed shot",
          null
         ],
         "xaxis": "x",
         "yaxis": "y"
        },
        {
         "alignmentgroup": "True",
         "bingroup": "x",
         "hovertemplate": "Club=Manchester United<br>Type=%{x}<br>count=%{y}<extra></extra>",
         "legendgroup": "Manchester United",
         "marker": {
          "color": "#EF553B",
          "pattern": {
           "shape": ""
          }
         },
         "name": "Manchester United",
         "offsetgroup": "Manchester United",
         "orientation": "v",
         "showlegend": true,
         "type": "histogram",
         "x": [
          "Direct free kick",
          "Right-footed shot",
          "Right-footed shot",
          "Header",
          "Right-footed shot",
          "Header",
          "Right-footed shot",
          null,
          "Right-footed shot",
          "Left-footed shot",
          "Tap-in",
          "Tap-in",
          "Left-footed shot",
          "Right-footed shot",
          "Right-footed shot",
          "Right-footed shot",
          "Header",
          "Penalty",
          "Right-footed shot",
          "Left-footed shot",
          "Direct free kick",
          "Right-footed shot",
          "Left-footed shot",
          "Right-footed shot",
          null,
          "Right-footed shot",
          "Left-footed shot",
          null,
          null,
          null,
          "Direct free kick",
          null,
          null,
          null,
          null,
          null,
          "Penalty rebound",
          null,
          null,
          "Header",
          "Penalty",
          "Penalty",
          "Solo run",
          "Penalty",
          "Penalty",
          "Right-footed shot",
          "Right-footed shot",
          "Right-footed shot",
          "Header",
          "Penalty",
          "Header",
          null,
          "Header",
          "Right-footed shot",
          "Penalty",
          "Header",
          null,
          "Right-footed shot",
          "Header",
          "Right-footed shot",
          "Direct free kick",
          "Right-footed shot",
          "Header",
          "Penalty",
          "Left-footed shot",
          "Penalty",
          "Direct free kick",
          "Header",
          "Left-footed shot",
          "Direct free kick",
          "Right-footed shot",
          "Left-footed shot",
          "Right-footed shot",
          "Penalty",
          "Right-footed shot",
          "Right-footed shot",
          "Direct free kick",
          "Right-footed shot",
          "Right-footed shot",
          "Left-footed shot",
          "Right-footed shot",
          "Right-footed shot",
          "Direct free kick",
          "Header",
          "Right-footed shot",
          "Header",
          "Left-footed shot",
          "Penalty",
          "Right-footed shot",
          "Right-footed shot",
          "Penalty",
          "Header",
          "Header",
          "Penalty",
          "Left-footed shot",
          "Left-footed shot",
          "Right-footed shot",
          "Left-footed shot",
          "Header",
          "Direct free kick",
          "Direct free kick",
          "Header",
          "Penalty",
          "Right-footed shot",
          "Right-footed shot",
          "Penalty",
          "Header",
          "Direct free kick",
          "Header",
          "Penalty",
          "Direct free kick",
          "Left-footed shot",
          "Long distance kick",
          "Penalty",
          "Header",
          "Direct free kick",
          "Right-footed shot",
          "Direct free kick",
          "Tap-in",
          "Left-footed shot",
          "Right-footed shot",
          "Right-footed shot",
          "Right-footed shot",
          "Header",
          "Right-footed shot",
          "Right-footed shot",
          "Right-footed shot",
          "Right-footed shot",
          "Right-footed shot",
          "Penalty",
          "Penalty",
          "Right-footed shot",
          "Right-footed shot",
          "Right-footed shot",
          "Right-footed shot",
          "Header",
          "Right-footed shot",
          "Header",
          "Direct free kick",
          "Left-footed shot",
          "Right-footed shot",
          "Penalty",
          "Penalty",
          "Counter attack goal",
          "Left-footed shot"
         ],
         "xaxis": "x",
         "yaxis": "y"
        },
        {
         "alignmentgroup": "True",
         "bingroup": "x",
         "hovertemplate": "Club=Real Madrid<br>Type=%{x}<br>count=%{y}<extra></extra>",
         "legendgroup": "Real Madrid",
         "marker": {
          "color": "#00cc96",
          "pattern": {
           "shape": ""
          }
         },
         "name": "Real Madrid",
         "offsetgroup": "Real Madrid",
         "orientation": "v",
         "showlegend": true,
         "type": "histogram",
         "x": [
          "Penalty",
          "Right-footed shot",
          "Direct free kick",
          "Direct free kick",
          "Right-footed shot",
          "Header",
          "Right-footed shot",
          "Left-footed shot",
          "Right-footed shot",
          "Right-footed shot",
          "Direct free kick",
          "Right-footed shot",
          "Left-footed shot",
          "Right-footed shot",
          "Right-footed shot",
          "Header",
          "Left-footed shot",
          "Direct free kick",
          "Penalty",
          "Left-footed shot",
          "Left-footed shot",
          "Direct free kick",
          "Direct free kick",
          "Right-footed shot",
          "Penalty",
          "Left-footed shot",
          "Right-footed shot",
          "Right-footed shot",
          "Header",
          "Right-footed shot",
          "Right-footed shot",
          "Right-footed shot",
          "Penalty",
          "Penalty",
          "Header",
          "Left-footed shot",
          "Right-footed shot",
          "Penalty",
          "Direct free kick",
          "Right-footed shot",
          "Left-footed shot",
          "Right-footed shot",
          "Penalty",
          "Right-footed shot",
          "Right-footed shot",
          "Left-footed shot",
          "Left-footed shot",
          "Direct free kick",
          "Penalty",
          "Left-footed shot",
          "Penalty",
          "Left-footed shot",
          "Right-footed shot",
          "Right-footed shot",
          "Direct free kick",
          "Right-footed shot",
          "Right-footed shot",
          "Right-footed shot",
          "Penalty",
          "Right-footed shot",
          "Right-footed shot",
          "Header",
          "Left-footed shot",
          "Right-footed shot",
          "Right-footed shot",
          "Left-footed shot",
          "Header",
          "Left-footed shot",
          "Penalty",
          "Right-footed shot",
          "Right-footed shot",
          "Right-footed shot",
          "Right-footed shot",
          "Penalty",
          "Header",
          "Right-footed shot",
          "Right-footed shot",
          "Right-footed shot",
          "Right-footed shot",
          "Header",
          "Left-footed shot",
          "Penalty",
          "Direct free kick",
          "Direct free kick",
          "Right-footed shot",
          "Right-footed shot",
          "Right-footed shot",
          "Left-footed shot",
          "Right-footed shot",
          "Right-footed shot",
          "Penalty",
          "Left-footed shot",
          "Penalty",
          "Penalty",
          "Right-footed shot",
          "Left-footed shot",
          "Right-footed shot",
          "Right-footed shot",
          "Direct free kick",
          "Penalty",
          "Header",
          "Penalty",
          "Header",
          "Right-footed shot",
          "Penalty",
          "Penalty",
          "Right-footed shot",
          "Left-footed shot",
          "Right-footed shot",
          "Right-footed shot",
          "Penalty",
          "Right-footed shot",
          "Left-footed shot",
          "Penalty",
          "Penalty",
          "Right-footed shot",
          "Right-footed shot",
          "Penalty",
          "Header",
          "Right-footed shot",
          "Header",
          "Left-footed shot",
          "Right-footed shot",
          "Left-footed shot",
          "Left-footed shot",
          "Left-footed shot",
          "Right-footed shot",
          "Right-footed shot",
          "Right-footed shot",
          "Right-footed shot",
          "Right-footed shot",
          "Long distance kick",
          "Direct free kick",
          "Right-footed shot",
          "Direct free kick",
          "Direct free kick",
          "Long distance kick",
          "Penalty",
          "Header",
          "Right-footed shot",
          "Penalty",
          "Right-footed shot",
          "Right-footed shot",
          "Header",
          "Penalty",
          "Header",
          "Header",
          "Right-footed shot",
          "Right-footed shot",
          "Left-footed shot",
          "Right-footed shot",
          "Penalty",
          "Penalty",
          "Header",
          "Penalty",
          "Right-footed shot",
          "Right-footed shot",
          "Left-footed shot",
          "Left-footed shot",
          "Right-footed shot",
          "Penalty",
          "Right-footed shot",
          "Right-footed shot",
          "Right-footed shot",
          "Right-footed shot",
          "Direct free kick",
          "Right-footed shot",
          "Left-footed shot",
          "Right-footed shot",
          "Left-footed shot",
          "Direct free kick",
          "Right-footed shot",
          "Left-footed shot",
          "Left-footed shot",
          "Left-footed shot",
          "Right-footed shot",
          "Left-footed shot",
          "Header",
          "Penalty",
          "Left-footed shot",
          "Left-footed shot",
          "Right-footed shot",
          "Header",
          "Penalty",
          "Left-footed shot",
          "Right-footed shot",
          "Left-footed shot",
          "Penalty",
          "Header",
          "Long distance kick",
          "Left-footed shot",
          "Right-footed shot",
          "Right-footed shot",
          "Right-footed shot",
          "Direct free kick",
          "Header",
          "Right-footed shot",
          "Header",
          "Header",
          "Right-footed shot",
          "Header",
          "Header",
          "Right-footed shot",
          "Left-footed shot",
          "Tap-in",
          "Left-footed shot",
          "Penalty",
          "Right-footed shot",
          "Direct free kick",
          "Penalty",
          "Header",
          "Header",
          "Right-footed shot",
          "Penalty",
          "Right-footed shot",
          "Penalty",
          "Penalty",
          "Right-footed shot",
          "Right-footed shot",
          "Right-footed shot",
          "Right-footed shot",
          "Right-footed shot",
          "Right-footed shot",
          "Penalty",
          "Direct free kick",
          "Left-footed shot",
          "Right-footed shot",
          "Header",
          "Right-footed shot",
          "Right-footed shot",
          "Direct free kick",
          "Right-footed shot",
          "Right-footed shot",
          "Penalty",
          "Penalty",
          "Left-footed shot",
          "Right-footed shot",
          "Right-footed shot",
          "Header",
          "Right-footed shot",
          "Right-footed shot",
          "Right-footed shot",
          "Penalty",
          "Direct free kick",
          "Right-footed shot",
          "Left-footed shot",
          "Long distance kick",
          "Long distance kick",
          "Counter attack goal",
          "Direct free kick",
          "Right-footed shot",
          "Penalty",
          "Right-footed shot",
          "Left-footed shot",
          "Right-footed shot",
          "Penalty",
          "Right-footed shot",
          "Header",
          "Left-footed shot",
          "Left-footed shot",
          "Penalty",
          "Header",
          "Penalty",
          "Right-footed shot",
          "Right-footed shot",
          "Penalty",
          "Header",
          "Right-footed shot",
          "Deflected shot on goal",
          "Penalty",
          "Right-footed shot",
          "Right-footed shot",
          "Penalty",
          "Right-footed shot",
          "Right-footed shot",
          "Right-footed shot",
          "Penalty",
          "Left-footed shot",
          "Penalty",
          "Right-footed shot",
          "Left-footed shot",
          "Penalty",
          "Right-footed shot",
          "Right-footed shot",
          "Penalty",
          "Header",
          "Left-footed shot",
          "Header",
          "Header",
          "Header",
          "Penalty",
          "Header",
          "Header",
          "Right-footed shot",
          "Right-footed shot",
          "Right-footed shot",
          "Long distance kick",
          "Header",
          "Header",
          "Header",
          "Direct free kick",
          "Left-footed shot",
          "Header",
          "Right-footed shot",
          "Header",
          "Header",
          "Penalty",
          "Left-footed shot",
          "Right-footed shot",
          "Header",
          "Header",
          "Direct free kick",
          "Penalty",
          "Right-footed shot",
          "Penalty",
          "Left-footed shot",
          "Right-footed shot",
          "Right-footed shot",
          "Penalty",
          "Penalty",
          "Header",
          "Right-footed shot",
          "Left-footed shot",
          "Right-footed shot",
          "Right-footed shot",
          "Header",
          "Header",
          "Right-footed shot",
          "Penalty",
          "Right-footed shot",
          "Direct free kick",
          "Tap-in",
          "Right-footed shot",
          "Right-footed shot",
          "Penalty",
          "Header",
          "Penalty",
          "Left-footed shot",
          "Left-footed shot",
          "Left-footed shot",
          "Penalty",
          "Left-footed shot",
          "Header",
          "Right-footed shot",
          "Right-footed shot",
          "Right-footed shot",
          "Header",
          "Penalty",
          "Long distance kick",
          "Direct free kick",
          "Right-footed shot",
          "Header",
          "Right-footed shot",
          "Left-footed shot",
          "Right-footed shot",
          "Right-footed shot",
          "Right-footed shot",
          "Header",
          "Direct free kick",
          "Left-footed shot",
          "Right-footed shot",
          "Left-footed shot",
          "Left-footed shot",
          "Header",
          "Right-footed shot",
          "Direct free kick",
          "Right-footed shot",
          "Right-footed shot",
          "Penalty",
          "Right-footed shot",
          "Right-footed shot",
          "Direct free kick",
          "Penalty",
          "Right-footed shot",
          "Penalty",
          "Header",
          "Right-footed shot",
          "Penalty",
          "Left-footed shot",
          "Left-footed shot",
          "Header",
          "Penalty",
          "Direct free kick",
          "Right-footed shot",
          "Right-footed shot",
          "Header",
          "Penalty",
          "Penalty",
          "Header",
          "Header",
          "Right-footed shot",
          "Right-footed shot",
          "Header",
          "Left-footed shot",
          "Right-footed shot",
          "Header",
          "Header",
          "Right-footed shot",
          "Right-footed shot",
          "Right-footed shot",
          "Left-footed shot",
          "Left-footed shot",
          "Left-footed shot",
          "Right-footed shot",
          "Right-footed shot",
          "Right-footed shot",
          "Right-footed shot",
          "Counter attack goal",
          "Penalty",
          "Left-footed shot",
          "Right-footed shot",
          "Right-footed shot",
          "Penalty",
          "Right-footed shot",
          "Header",
          "Left-footed shot",
          "Penalty rebound",
          "Right-footed shot",
          "Right-footed shot",
          "Penalty",
          "Right-footed shot",
          "Direct free kick",
          "Left-footed shot",
          "Header",
          "Penalty",
          "Penalty",
          "Right-footed shot",
          "Header",
          "Tap-in",
          "Penalty",
          "Tap-in",
          "Right-footed shot",
          "Left-footed shot",
          "Right-footed shot",
          "Left-footed shot",
          "Header",
          "Header",
          "Right-footed shot",
          "Header",
          "Left-footed shot",
          "Left-footed shot",
          "Tap-in",
          "Right-footed shot",
          "Right-footed shot",
          "Right-footed shot",
          "Right-footed shot",
          "Penalty",
          "Right-footed shot",
          "Right-footed shot",
          "Header"
         ],
         "xaxis": "x",
         "yaxis": "y"
        },
        {
         "alignmentgroup": "True",
         "bingroup": "x",
         "hovertemplate": "Club=Juventus FC<br>Type=%{x}<br>count=%{y}<extra></extra>",
         "legendgroup": "Juventus FC",
         "marker": {
          "color": "#ab63fa",
          "pattern": {
           "shape": ""
          }
         },
         "name": "Juventus FC",
         "offsetgroup": "Juventus FC",
         "orientation": "v",
         "showlegend": true,
         "type": "histogram",
         "x": [
          "Tap-in",
          "Left-footed shot",
          "Left-footed shot",
          "Left-footed shot",
          "Tap-in",
          "Penalty",
          "Right-footed shot",
          "Right-footed shot",
          "Tap-in",
          "Left-footed shot",
          "Penalty",
          "Penalty",
          "Header",
          "Right-footed shot",
          "Penalty",
          "Header",
          "Penalty",
          "Right-footed shot",
          "Header",
          "Header",
          "Right-footed shot",
          "Header",
          "Header",
          "Penalty",
          "Header",
          "Header",
          "Left-footed shot",
          "Header",
          "Left-footed shot",
          "Penalty",
          "Header",
          "Right-footed shot",
          "Right-footed shot",
          "Penalty",
          "Penalty",
          "Tap-in",
          "Right-footed shot",
          "Right-footed shot",
          "Left-footed shot",
          "Header",
          "Right-footed shot",
          "Penalty",
          "Left-footed shot",
          "Penalty",
          "Deflected shot on goal",
          "Right-footed shot",
          "Left-footed shot",
          "Right-footed shot",
          "Penalty",
          "Penalty",
          "Right-footed shot",
          "Penalty",
          "Tap-in",
          "Penalty",
          "Penalty",
          "Long distance kick",
          "Direct free kick",
          "Left-footed shot",
          "Penalty",
          "Penalty",
          "Penalty",
          "Counter attack goal",
          "Right-footed shot",
          "Penalty",
          "Left-footed shot",
          "Right-footed shot",
          "Penalty",
          "Header",
          "Right-footed shot",
          "Penalty",
          "Right-footed shot",
          "Right-footed shot",
          "Right-footed shot",
          "Left-footed shot",
          "Right-footed shot",
          "Penalty",
          "Penalty",
          "Penalty",
          "Penalty",
          "Header",
          "Left-footed shot",
          "Right-footed shot",
          "Left-footed shot",
          "Right-footed shot",
          "Tap-in",
          "Penalty",
          "Left-footed shot",
          "Left-footed shot",
          "Header",
          "Header",
          "Right-footed shot",
          "Counter attack goal",
          "Header",
          "Penalty",
          "Left-footed shot",
          "Header",
          "Right-footed shot",
          "Penalty",
          "Header",
          "Left-footed shot",
          "Penalty rebound"
         ],
         "xaxis": "x",
         "yaxis": "y"
        },
        {
         "alignmentgroup": "True",
         "bingroup": "x",
         "hovertemplate": "Club=Al-Nassr FC<br>Type=%{x}<br>count=%{y}<extra></extra>",
         "legendgroup": "Al-Nassr FC",
         "marker": {
          "color": "#FFA15A",
          "pattern": {
           "shape": ""
          }
         },
         "name": "Al-Nassr FC",
         "offsetgroup": "Al-Nassr FC",
         "orientation": "v",
         "showlegend": true,
         "type": "histogram",
         "x": [
          "Penalty",
          "Left-footed shot",
          "Right-footed shot",
          "Penalty",
          "Right-footed shot",
          "Penalty",
          "Left-footed shot",
          "Counter attack goal",
          "Direct free kick"
         ],
         "xaxis": "x",
         "yaxis": "y"
        }
       ],
       "layout": {
        "barmode": "relative",
        "height": 500,
        "legend": {
         "title": {
          "text": "Club"
         },
         "tracegroupgap": 0
        },
        "template": {
         "data": {
          "bar": [
           {
            "error_x": {
             "color": "#2a3f5f"
            },
            "error_y": {
             "color": "#2a3f5f"
            },
            "marker": {
             "line": {
              "color": "#E5ECF6",
              "width": 0.5
             },
             "pattern": {
              "fillmode": "overlay",
              "size": 10,
              "solidity": 0.2
             }
            },
            "type": "bar"
           }
          ],
          "barpolar": [
           {
            "marker": {
             "line": {
              "color": "#E5ECF6",
              "width": 0.5
             },
             "pattern": {
              "fillmode": "overlay",
              "size": 10,
              "solidity": 0.2
             }
            },
            "type": "barpolar"
           }
          ],
          "carpet": [
           {
            "aaxis": {
             "endlinecolor": "#2a3f5f",
             "gridcolor": "white",
             "linecolor": "white",
             "minorgridcolor": "white",
             "startlinecolor": "#2a3f5f"
            },
            "baxis": {
             "endlinecolor": "#2a3f5f",
             "gridcolor": "white",
             "linecolor": "white",
             "minorgridcolor": "white",
             "startlinecolor": "#2a3f5f"
            },
            "type": "carpet"
           }
          ],
          "choropleth": [
           {
            "colorbar": {
             "outlinewidth": 0,
             "ticks": ""
            },
            "type": "choropleth"
           }
          ],
          "contour": [
           {
            "colorbar": {
             "outlinewidth": 0,
             "ticks": ""
            },
            "colorscale": [
             [
              0,
              "#0d0887"
             ],
             [
              0.1111111111111111,
              "#46039f"
             ],
             [
              0.2222222222222222,
              "#7201a8"
             ],
             [
              0.3333333333333333,
              "#9c179e"
             ],
             [
              0.4444444444444444,
              "#bd3786"
             ],
             [
              0.5555555555555556,
              "#d8576b"
             ],
             [
              0.6666666666666666,
              "#ed7953"
             ],
             [
              0.7777777777777778,
              "#fb9f3a"
             ],
             [
              0.8888888888888888,
              "#fdca26"
             ],
             [
              1,
              "#f0f921"
             ]
            ],
            "type": "contour"
           }
          ],
          "contourcarpet": [
           {
            "colorbar": {
             "outlinewidth": 0,
             "ticks": ""
            },
            "type": "contourcarpet"
           }
          ],
          "heatmap": [
           {
            "colorbar": {
             "outlinewidth": 0,
             "ticks": ""
            },
            "colorscale": [
             [
              0,
              "#0d0887"
             ],
             [
              0.1111111111111111,
              "#46039f"
             ],
             [
              0.2222222222222222,
              "#7201a8"
             ],
             [
              0.3333333333333333,
              "#9c179e"
             ],
             [
              0.4444444444444444,
              "#bd3786"
             ],
             [
              0.5555555555555556,
              "#d8576b"
             ],
             [
              0.6666666666666666,
              "#ed7953"
             ],
             [
              0.7777777777777778,
              "#fb9f3a"
             ],
             [
              0.8888888888888888,
              "#fdca26"
             ],
             [
              1,
              "#f0f921"
             ]
            ],
            "type": "heatmap"
           }
          ],
          "heatmapgl": [
           {
            "colorbar": {
             "outlinewidth": 0,
             "ticks": ""
            },
            "colorscale": [
             [
              0,
              "#0d0887"
             ],
             [
              0.1111111111111111,
              "#46039f"
             ],
             [
              0.2222222222222222,
              "#7201a8"
             ],
             [
              0.3333333333333333,
              "#9c179e"
             ],
             [
              0.4444444444444444,
              "#bd3786"
             ],
             [
              0.5555555555555556,
              "#d8576b"
             ],
             [
              0.6666666666666666,
              "#ed7953"
             ],
             [
              0.7777777777777778,
              "#fb9f3a"
             ],
             [
              0.8888888888888888,
              "#fdca26"
             ],
             [
              1,
              "#f0f921"
             ]
            ],
            "type": "heatmapgl"
           }
          ],
          "histogram": [
           {
            "marker": {
             "pattern": {
              "fillmode": "overlay",
              "size": 10,
              "solidity": 0.2
             }
            },
            "type": "histogram"
           }
          ],
          "histogram2d": [
           {
            "colorbar": {
             "outlinewidth": 0,
             "ticks": ""
            },
            "colorscale": [
             [
              0,
              "#0d0887"
             ],
             [
              0.1111111111111111,
              "#46039f"
             ],
             [
              0.2222222222222222,
              "#7201a8"
             ],
             [
              0.3333333333333333,
              "#9c179e"
             ],
             [
              0.4444444444444444,
              "#bd3786"
             ],
             [
              0.5555555555555556,
              "#d8576b"
             ],
             [
              0.6666666666666666,
              "#ed7953"
             ],
             [
              0.7777777777777778,
              "#fb9f3a"
             ],
             [
              0.8888888888888888,
              "#fdca26"
             ],
             [
              1,
              "#f0f921"
             ]
            ],
            "type": "histogram2d"
           }
          ],
          "histogram2dcontour": [
           {
            "colorbar": {
             "outlinewidth": 0,
             "ticks": ""
            },
            "colorscale": [
             [
              0,
              "#0d0887"
             ],
             [
              0.1111111111111111,
              "#46039f"
             ],
             [
              0.2222222222222222,
              "#7201a8"
             ],
             [
              0.3333333333333333,
              "#9c179e"
             ],
             [
              0.4444444444444444,
              "#bd3786"
             ],
             [
              0.5555555555555556,
              "#d8576b"
             ],
             [
              0.6666666666666666,
              "#ed7953"
             ],
             [
              0.7777777777777778,
              "#fb9f3a"
             ],
             [
              0.8888888888888888,
              "#fdca26"
             ],
             [
              1,
              "#f0f921"
             ]
            ],
            "type": "histogram2dcontour"
           }
          ],
          "mesh3d": [
           {
            "colorbar": {
             "outlinewidth": 0,
             "ticks": ""
            },
            "type": "mesh3d"
           }
          ],
          "parcoords": [
           {
            "line": {
             "colorbar": {
              "outlinewidth": 0,
              "ticks": ""
             }
            },
            "type": "parcoords"
           }
          ],
          "pie": [
           {
            "automargin": true,
            "type": "pie"
           }
          ],
          "scatter": [
           {
            "fillpattern": {
             "fillmode": "overlay",
             "size": 10,
             "solidity": 0.2
            },
            "type": "scatter"
           }
          ],
          "scatter3d": [
           {
            "line": {
             "colorbar": {
              "outlinewidth": 0,
              "ticks": ""
             }
            },
            "marker": {
             "colorbar": {
              "outlinewidth": 0,
              "ticks": ""
             }
            },
            "type": "scatter3d"
           }
          ],
          "scattercarpet": [
           {
            "marker": {
             "colorbar": {
              "outlinewidth": 0,
              "ticks": ""
             }
            },
            "type": "scattercarpet"
           }
          ],
          "scattergeo": [
           {
            "marker": {
             "colorbar": {
              "outlinewidth": 0,
              "ticks": ""
             }
            },
            "type": "scattergeo"
           }
          ],
          "scattergl": [
           {
            "marker": {
             "colorbar": {
              "outlinewidth": 0,
              "ticks": ""
             }
            },
            "type": "scattergl"
           }
          ],
          "scattermapbox": [
           {
            "marker": {
             "colorbar": {
              "outlinewidth": 0,
              "ticks": ""
             }
            },
            "type": "scattermapbox"
           }
          ],
          "scatterpolar": [
           {
            "marker": {
             "colorbar": {
              "outlinewidth": 0,
              "ticks": ""
             }
            },
            "type": "scatterpolar"
           }
          ],
          "scatterpolargl": [
           {
            "marker": {
             "colorbar": {
              "outlinewidth": 0,
              "ticks": ""
             }
            },
            "type": "scatterpolargl"
           }
          ],
          "scatterternary": [
           {
            "marker": {
             "colorbar": {
              "outlinewidth": 0,
              "ticks": ""
             }
            },
            "type": "scatterternary"
           }
          ],
          "surface": [
           {
            "colorbar": {
             "outlinewidth": 0,
             "ticks": ""
            },
            "colorscale": [
             [
              0,
              "#0d0887"
             ],
             [
              0.1111111111111111,
              "#46039f"
             ],
             [
              0.2222222222222222,
              "#7201a8"
             ],
             [
              0.3333333333333333,
              "#9c179e"
             ],
             [
              0.4444444444444444,
              "#bd3786"
             ],
             [
              0.5555555555555556,
              "#d8576b"
             ],
             [
              0.6666666666666666,
              "#ed7953"
             ],
             [
              0.7777777777777778,
              "#fb9f3a"
             ],
             [
              0.8888888888888888,
              "#fdca26"
             ],
             [
              1,
              "#f0f921"
             ]
            ],
            "type": "surface"
           }
          ],
          "table": [
           {
            "cells": {
             "fill": {
              "color": "#EBF0F8"
             },
             "line": {
              "color": "white"
             }
            },
            "header": {
             "fill": {
              "color": "#C8D4E3"
             },
             "line": {
              "color": "white"
             }
            },
            "type": "table"
           }
          ]
         },
         "layout": {
          "annotationdefaults": {
           "arrowcolor": "#2a3f5f",
           "arrowhead": 0,
           "arrowwidth": 1
          },
          "autotypenumbers": "strict",
          "coloraxis": {
           "colorbar": {
            "outlinewidth": 0,
            "ticks": ""
           }
          },
          "colorscale": {
           "diverging": [
            [
             0,
             "#8e0152"
            ],
            [
             0.1,
             "#c51b7d"
            ],
            [
             0.2,
             "#de77ae"
            ],
            [
             0.3,
             "#f1b6da"
            ],
            [
             0.4,
             "#fde0ef"
            ],
            [
             0.5,
             "#f7f7f7"
            ],
            [
             0.6,
             "#e6f5d0"
            ],
            [
             0.7,
             "#b8e186"
            ],
            [
             0.8,
             "#7fbc41"
            ],
            [
             0.9,
             "#4d9221"
            ],
            [
             1,
             "#276419"
            ]
           ],
           "sequential": [
            [
             0,
             "#0d0887"
            ],
            [
             0.1111111111111111,
             "#46039f"
            ],
            [
             0.2222222222222222,
             "#7201a8"
            ],
            [
             0.3333333333333333,
             "#9c179e"
            ],
            [
             0.4444444444444444,
             "#bd3786"
            ],
            [
             0.5555555555555556,
             "#d8576b"
            ],
            [
             0.6666666666666666,
             "#ed7953"
            ],
            [
             0.7777777777777778,
             "#fb9f3a"
            ],
            [
             0.8888888888888888,
             "#fdca26"
            ],
            [
             1,
             "#f0f921"
            ]
           ],
           "sequentialminus": [
            [
             0,
             "#0d0887"
            ],
            [
             0.1111111111111111,
             "#46039f"
            ],
            [
             0.2222222222222222,
             "#7201a8"
            ],
            [
             0.3333333333333333,
             "#9c179e"
            ],
            [
             0.4444444444444444,
             "#bd3786"
            ],
            [
             0.5555555555555556,
             "#d8576b"
            ],
            [
             0.6666666666666666,
             "#ed7953"
            ],
            [
             0.7777777777777778,
             "#fb9f3a"
            ],
            [
             0.8888888888888888,
             "#fdca26"
            ],
            [
             1,
             "#f0f921"
            ]
           ]
          },
          "colorway": [
           "#636efa",
           "#EF553B",
           "#00cc96",
           "#ab63fa",
           "#FFA15A",
           "#19d3f3",
           "#FF6692",
           "#B6E880",
           "#FF97FF",
           "#FECB52"
          ],
          "font": {
           "color": "#2a3f5f"
          },
          "geo": {
           "bgcolor": "white",
           "lakecolor": "white",
           "landcolor": "#E5ECF6",
           "showlakes": true,
           "showland": true,
           "subunitcolor": "white"
          },
          "hoverlabel": {
           "align": "left"
          },
          "hovermode": "closest",
          "mapbox": {
           "style": "light"
          },
          "paper_bgcolor": "white",
          "plot_bgcolor": "#E5ECF6",
          "polar": {
           "angularaxis": {
            "gridcolor": "white",
            "linecolor": "white",
            "ticks": ""
           },
           "bgcolor": "#E5ECF6",
           "radialaxis": {
            "gridcolor": "white",
            "linecolor": "white",
            "ticks": ""
           }
          },
          "scene": {
           "xaxis": {
            "backgroundcolor": "#E5ECF6",
            "gridcolor": "white",
            "gridwidth": 2,
            "linecolor": "white",
            "showbackground": true,
            "ticks": "",
            "zerolinecolor": "white"
           },
           "yaxis": {
            "backgroundcolor": "#E5ECF6",
            "gridcolor": "white",
            "gridwidth": 2,
            "linecolor": "white",
            "showbackground": true,
            "ticks": "",
            "zerolinecolor": "white"
           },
           "zaxis": {
            "backgroundcolor": "#E5ECF6",
            "gridcolor": "white",
            "gridwidth": 2,
            "linecolor": "white",
            "showbackground": true,
            "ticks": "",
            "zerolinecolor": "white"
           }
          },
          "shapedefaults": {
           "line": {
            "color": "#2a3f5f"
           }
          },
          "ternary": {
           "aaxis": {
            "gridcolor": "white",
            "linecolor": "white",
            "ticks": ""
           },
           "baxis": {
            "gridcolor": "white",
            "linecolor": "white",
            "ticks": ""
           },
           "bgcolor": "#E5ECF6",
           "caxis": {
            "gridcolor": "white",
            "linecolor": "white",
            "ticks": ""
           }
          },
          "title": {
           "x": 0.05
          },
          "xaxis": {
           "automargin": true,
           "gridcolor": "white",
           "linecolor": "white",
           "ticks": "",
           "title": {
            "standoff": 15
           },
           "zerolinecolor": "white",
           "zerolinewidth": 2
          },
          "yaxis": {
           "automargin": true,
           "gridcolor": "white",
           "linecolor": "white",
           "ticks": "",
           "title": {
            "standoff": 15
           },
           "zerolinecolor": "white",
           "zerolinewidth": 2
          }
         }
        },
        "title": {
         "text": "Goals per Type"
        },
        "xaxis": {
         "anchor": "y",
         "domain": [
          0,
          1
         ],
         "title": {
          "text": "Type"
         }
        },
        "yaxis": {
         "anchor": "x",
         "domain": [
          0,
          1
         ],
         "title": {
          "text": "count"
         }
        }
       }
      },
      "text/html": [
       "<div>                            <div id=\"bae7465a-1041-499a-adf0-4bbb6bca8d4b\" class=\"plotly-graph-div\" style=\"height:500px; width:100%;\"></div>            <script type=\"text/javascript\">                require([\"plotly\"], function(Plotly) {                    window.PLOTLYENV=window.PLOTLYENV || {};                                    if (document.getElementById(\"bae7465a-1041-499a-adf0-4bbb6bca8d4b\")) {                    Plotly.newPlot(                        \"bae7465a-1041-499a-adf0-4bbb6bca8d4b\",                        [{\"alignmentgroup\":\"True\",\"bingroup\":\"x\",\"hovertemplate\":\"Club=Sporting CP<br>Type=%{x}<br>count=%{y}<extra></extra>\",\"legendgroup\":\"Sporting CP\",\"marker\":{\"color\":\"#636efa\",\"pattern\":{\"shape\":\"\"}},\"name\":\"Sporting CP\",\"offsetgroup\":\"Sporting CP\",\"orientation\":\"v\",\"showlegend\":true,\"x\":[\"Solo run\",\"Header\",\"Right-footed shot\",\"Left-footed shot\",null],\"xaxis\":\"x\",\"yaxis\":\"y\",\"type\":\"histogram\"},{\"alignmentgroup\":\"True\",\"bingroup\":\"x\",\"hovertemplate\":\"Club=Manchester United<br>Type=%{x}<br>count=%{y}<extra></extra>\",\"legendgroup\":\"Manchester United\",\"marker\":{\"color\":\"#EF553B\",\"pattern\":{\"shape\":\"\"}},\"name\":\"Manchester United\",\"offsetgroup\":\"Manchester United\",\"orientation\":\"v\",\"showlegend\":true,\"x\":[\"Direct free kick\",\"Right-footed shot\",\"Right-footed shot\",\"Header\",\"Right-footed shot\",\"Header\",\"Right-footed shot\",null,\"Right-footed shot\",\"Left-footed shot\",\"Tap-in\",\"Tap-in\",\"Left-footed shot\",\"Right-footed shot\",\"Right-footed shot\",\"Right-footed shot\",\"Header\",\"Penalty\",\"Right-footed shot\",\"Left-footed shot\",\"Direct free kick\",\"Right-footed shot\",\"Left-footed shot\",\"Right-footed shot\",null,\"Right-footed shot\",\"Left-footed shot\",null,null,null,\"Direct free kick\",null,null,null,null,null,\"Penalty rebound\",null,null,\"Header\",\"Penalty\",\"Penalty\",\"Solo run\",\"Penalty\",\"Penalty\",\"Right-footed shot\",\"Right-footed shot\",\"Right-footed shot\",\"Header\",\"Penalty\",\"Header\",null,\"Header\",\"Right-footed shot\",\"Penalty\",\"Header\",null,\"Right-footed shot\",\"Header\",\"Right-footed shot\",\"Direct free kick\",\"Right-footed shot\",\"Header\",\"Penalty\",\"Left-footed shot\",\"Penalty\",\"Direct free kick\",\"Header\",\"Left-footed shot\",\"Direct free kick\",\"Right-footed shot\",\"Left-footed shot\",\"Right-footed shot\",\"Penalty\",\"Right-footed shot\",\"Right-footed shot\",\"Direct free kick\",\"Right-footed shot\",\"Right-footed shot\",\"Left-footed shot\",\"Right-footed shot\",\"Right-footed shot\",\"Direct free kick\",\"Header\",\"Right-footed shot\",\"Header\",\"Left-footed shot\",\"Penalty\",\"Right-footed shot\",\"Right-footed shot\",\"Penalty\",\"Header\",\"Header\",\"Penalty\",\"Left-footed shot\",\"Left-footed shot\",\"Right-footed shot\",\"Left-footed shot\",\"Header\",\"Direct free kick\",\"Direct free kick\",\"Header\",\"Penalty\",\"Right-footed shot\",\"Right-footed shot\",\"Penalty\",\"Header\",\"Direct free kick\",\"Header\",\"Penalty\",\"Direct free kick\",\"Left-footed shot\",\"Long distance kick\",\"Penalty\",\"Header\",\"Direct free kick\",\"Right-footed shot\",\"Direct free kick\",\"Tap-in\",\"Left-footed shot\",\"Right-footed shot\",\"Right-footed shot\",\"Right-footed shot\",\"Header\",\"Right-footed shot\",\"Right-footed shot\",\"Right-footed shot\",\"Right-footed shot\",\"Right-footed shot\",\"Penalty\",\"Penalty\",\"Right-footed shot\",\"Right-footed shot\",\"Right-footed shot\",\"Right-footed shot\",\"Header\",\"Right-footed shot\",\"Header\",\"Direct free kick\",\"Left-footed shot\",\"Right-footed shot\",\"Penalty\",\"Penalty\",\"Counter attack goal\",\"Left-footed shot\"],\"xaxis\":\"x\",\"yaxis\":\"y\",\"type\":\"histogram\"},{\"alignmentgroup\":\"True\",\"bingroup\":\"x\",\"hovertemplate\":\"Club=Real Madrid<br>Type=%{x}<br>count=%{y}<extra></extra>\",\"legendgroup\":\"Real Madrid\",\"marker\":{\"color\":\"#00cc96\",\"pattern\":{\"shape\":\"\"}},\"name\":\"Real Madrid\",\"offsetgroup\":\"Real Madrid\",\"orientation\":\"v\",\"showlegend\":true,\"x\":[\"Penalty\",\"Right-footed shot\",\"Direct free kick\",\"Direct free kick\",\"Right-footed shot\",\"Header\",\"Right-footed shot\",\"Left-footed shot\",\"Right-footed shot\",\"Right-footed shot\",\"Direct free kick\",\"Right-footed shot\",\"Left-footed shot\",\"Right-footed shot\",\"Right-footed shot\",\"Header\",\"Left-footed shot\",\"Direct free kick\",\"Penalty\",\"Left-footed shot\",\"Left-footed shot\",\"Direct free kick\",\"Direct free kick\",\"Right-footed shot\",\"Penalty\",\"Left-footed shot\",\"Right-footed shot\",\"Right-footed shot\",\"Header\",\"Right-footed shot\",\"Right-footed shot\",\"Right-footed shot\",\"Penalty\",\"Penalty\",\"Header\",\"Left-footed shot\",\"Right-footed shot\",\"Penalty\",\"Direct free kick\",\"Right-footed shot\",\"Left-footed shot\",\"Right-footed shot\",\"Penalty\",\"Right-footed shot\",\"Right-footed shot\",\"Left-footed shot\",\"Left-footed shot\",\"Direct free kick\",\"Penalty\",\"Left-footed shot\",\"Penalty\",\"Left-footed shot\",\"Right-footed shot\",\"Right-footed shot\",\"Direct free kick\",\"Right-footed shot\",\"Right-footed shot\",\"Right-footed shot\",\"Penalty\",\"Right-footed shot\",\"Right-footed shot\",\"Header\",\"Left-footed shot\",\"Right-footed shot\",\"Right-footed shot\",\"Left-footed shot\",\"Header\",\"Left-footed shot\",\"Penalty\",\"Right-footed shot\",\"Right-footed shot\",\"Right-footed shot\",\"Right-footed shot\",\"Penalty\",\"Header\",\"Right-footed shot\",\"Right-footed shot\",\"Right-footed shot\",\"Right-footed shot\",\"Header\",\"Left-footed shot\",\"Penalty\",\"Direct free kick\",\"Direct free kick\",\"Right-footed shot\",\"Right-footed shot\",\"Right-footed shot\",\"Left-footed shot\",\"Right-footed shot\",\"Right-footed shot\",\"Penalty\",\"Left-footed shot\",\"Penalty\",\"Penalty\",\"Right-footed shot\",\"Left-footed shot\",\"Right-footed shot\",\"Right-footed shot\",\"Direct free kick\",\"Penalty\",\"Header\",\"Penalty\",\"Header\",\"Right-footed shot\",\"Penalty\",\"Penalty\",\"Right-footed shot\",\"Left-footed shot\",\"Right-footed shot\",\"Right-footed shot\",\"Penalty\",\"Right-footed shot\",\"Left-footed shot\",\"Penalty\",\"Penalty\",\"Right-footed shot\",\"Right-footed shot\",\"Penalty\",\"Header\",\"Right-footed shot\",\"Header\",\"Left-footed shot\",\"Right-footed shot\",\"Left-footed shot\",\"Left-footed shot\",\"Left-footed shot\",\"Right-footed shot\",\"Right-footed shot\",\"Right-footed shot\",\"Right-footed shot\",\"Right-footed shot\",\"Long distance kick\",\"Direct free kick\",\"Right-footed shot\",\"Direct free kick\",\"Direct free kick\",\"Long distance kick\",\"Penalty\",\"Header\",\"Right-footed shot\",\"Penalty\",\"Right-footed shot\",\"Right-footed shot\",\"Header\",\"Penalty\",\"Header\",\"Header\",\"Right-footed shot\",\"Right-footed shot\",\"Left-footed shot\",\"Right-footed shot\",\"Penalty\",\"Penalty\",\"Header\",\"Penalty\",\"Right-footed shot\",\"Right-footed shot\",\"Left-footed shot\",\"Left-footed shot\",\"Right-footed shot\",\"Penalty\",\"Right-footed shot\",\"Right-footed shot\",\"Right-footed shot\",\"Right-footed shot\",\"Direct free kick\",\"Right-footed shot\",\"Left-footed shot\",\"Right-footed shot\",\"Left-footed shot\",\"Direct free kick\",\"Right-footed shot\",\"Left-footed shot\",\"Left-footed shot\",\"Left-footed shot\",\"Right-footed shot\",\"Left-footed shot\",\"Header\",\"Penalty\",\"Left-footed shot\",\"Left-footed shot\",\"Right-footed shot\",\"Header\",\"Penalty\",\"Left-footed shot\",\"Right-footed shot\",\"Left-footed shot\",\"Penalty\",\"Header\",\"Long distance kick\",\"Left-footed shot\",\"Right-footed shot\",\"Right-footed shot\",\"Right-footed shot\",\"Direct free kick\",\"Header\",\"Right-footed shot\",\"Header\",\"Header\",\"Right-footed shot\",\"Header\",\"Header\",\"Right-footed shot\",\"Left-footed shot\",\"Tap-in\",\"Left-footed shot\",\"Penalty\",\"Right-footed shot\",\"Direct free kick\",\"Penalty\",\"Header\",\"Header\",\"Right-footed shot\",\"Penalty\",\"Right-footed shot\",\"Penalty\",\"Penalty\",\"Right-footed shot\",\"Right-footed shot\",\"Right-footed shot\",\"Right-footed shot\",\"Right-footed shot\",\"Right-footed shot\",\"Penalty\",\"Direct free kick\",\"Left-footed shot\",\"Right-footed shot\",\"Header\",\"Right-footed shot\",\"Right-footed shot\",\"Direct free kick\",\"Right-footed shot\",\"Right-footed shot\",\"Penalty\",\"Penalty\",\"Left-footed shot\",\"Right-footed shot\",\"Right-footed shot\",\"Header\",\"Right-footed shot\",\"Right-footed shot\",\"Right-footed shot\",\"Penalty\",\"Direct free kick\",\"Right-footed shot\",\"Left-footed shot\",\"Long distance kick\",\"Long distance kick\",\"Counter attack goal\",\"Direct free kick\",\"Right-footed shot\",\"Penalty\",\"Right-footed shot\",\"Left-footed shot\",\"Right-footed shot\",\"Penalty\",\"Right-footed shot\",\"Header\",\"Left-footed shot\",\"Left-footed shot\",\"Penalty\",\"Header\",\"Penalty\",\"Right-footed shot\",\"Right-footed shot\",\"Penalty\",\"Header\",\"Right-footed shot\",\"Deflected shot on goal\",\"Penalty\",\"Right-footed shot\",\"Right-footed shot\",\"Penalty\",\"Right-footed shot\",\"Right-footed shot\",\"Right-footed shot\",\"Penalty\",\"Left-footed shot\",\"Penalty\",\"Right-footed shot\",\"Left-footed shot\",\"Penalty\",\"Right-footed shot\",\"Right-footed shot\",\"Penalty\",\"Header\",\"Left-footed shot\",\"Header\",\"Header\",\"Header\",\"Penalty\",\"Header\",\"Header\",\"Right-footed shot\",\"Right-footed shot\",\"Right-footed shot\",\"Long distance kick\",\"Header\",\"Header\",\"Header\",\"Direct free kick\",\"Left-footed shot\",\"Header\",\"Right-footed shot\",\"Header\",\"Header\",\"Penalty\",\"Left-footed shot\",\"Right-footed shot\",\"Header\",\"Header\",\"Direct free kick\",\"Penalty\",\"Right-footed shot\",\"Penalty\",\"Left-footed shot\",\"Right-footed shot\",\"Right-footed shot\",\"Penalty\",\"Penalty\",\"Header\",\"Right-footed shot\",\"Left-footed shot\",\"Right-footed shot\",\"Right-footed shot\",\"Header\",\"Header\",\"Right-footed shot\",\"Penalty\",\"Right-footed shot\",\"Direct free kick\",\"Tap-in\",\"Right-footed shot\",\"Right-footed shot\",\"Penalty\",\"Header\",\"Penalty\",\"Left-footed shot\",\"Left-footed shot\",\"Left-footed shot\",\"Penalty\",\"Left-footed shot\",\"Header\",\"Right-footed shot\",\"Right-footed shot\",\"Right-footed shot\",\"Header\",\"Penalty\",\"Long distance kick\",\"Direct free kick\",\"Right-footed shot\",\"Header\",\"Right-footed shot\",\"Left-footed shot\",\"Right-footed shot\",\"Right-footed shot\",\"Right-footed shot\",\"Header\",\"Direct free kick\",\"Left-footed shot\",\"Right-footed shot\",\"Left-footed shot\",\"Left-footed shot\",\"Header\",\"Right-footed shot\",\"Direct free kick\",\"Right-footed shot\",\"Right-footed shot\",\"Penalty\",\"Right-footed shot\",\"Right-footed shot\",\"Direct free kick\",\"Penalty\",\"Right-footed shot\",\"Penalty\",\"Header\",\"Right-footed shot\",\"Penalty\",\"Left-footed shot\",\"Left-footed shot\",\"Header\",\"Penalty\",\"Direct free kick\",\"Right-footed shot\",\"Right-footed shot\",\"Header\",\"Penalty\",\"Penalty\",\"Header\",\"Header\",\"Right-footed shot\",\"Right-footed shot\",\"Header\",\"Left-footed shot\",\"Right-footed shot\",\"Header\",\"Header\",\"Right-footed shot\",\"Right-footed shot\",\"Right-footed shot\",\"Left-footed shot\",\"Left-footed shot\",\"Left-footed shot\",\"Right-footed shot\",\"Right-footed shot\",\"Right-footed shot\",\"Right-footed shot\",\"Counter attack goal\",\"Penalty\",\"Left-footed shot\",\"Right-footed shot\",\"Right-footed shot\",\"Penalty\",\"Right-footed shot\",\"Header\",\"Left-footed shot\",\"Penalty rebound\",\"Right-footed shot\",\"Right-footed shot\",\"Penalty\",\"Right-footed shot\",\"Direct free kick\",\"Left-footed shot\",\"Header\",\"Penalty\",\"Penalty\",\"Right-footed shot\",\"Header\",\"Tap-in\",\"Penalty\",\"Tap-in\",\"Right-footed shot\",\"Left-footed shot\",\"Right-footed shot\",\"Left-footed shot\",\"Header\",\"Header\",\"Right-footed shot\",\"Header\",\"Left-footed shot\",\"Left-footed shot\",\"Tap-in\",\"Right-footed shot\",\"Right-footed shot\",\"Right-footed shot\",\"Right-footed shot\",\"Penalty\",\"Right-footed shot\",\"Right-footed shot\",\"Header\"],\"xaxis\":\"x\",\"yaxis\":\"y\",\"type\":\"histogram\"},{\"alignmentgroup\":\"True\",\"bingroup\":\"x\",\"hovertemplate\":\"Club=Juventus FC<br>Type=%{x}<br>count=%{y}<extra></extra>\",\"legendgroup\":\"Juventus FC\",\"marker\":{\"color\":\"#ab63fa\",\"pattern\":{\"shape\":\"\"}},\"name\":\"Juventus FC\",\"offsetgroup\":\"Juventus FC\",\"orientation\":\"v\",\"showlegend\":true,\"x\":[\"Tap-in\",\"Left-footed shot\",\"Left-footed shot\",\"Left-footed shot\",\"Tap-in\",\"Penalty\",\"Right-footed shot\",\"Right-footed shot\",\"Tap-in\",\"Left-footed shot\",\"Penalty\",\"Penalty\",\"Header\",\"Right-footed shot\",\"Penalty\",\"Header\",\"Penalty\",\"Right-footed shot\",\"Header\",\"Header\",\"Right-footed shot\",\"Header\",\"Header\",\"Penalty\",\"Header\",\"Header\",\"Left-footed shot\",\"Header\",\"Left-footed shot\",\"Penalty\",\"Header\",\"Right-footed shot\",\"Right-footed shot\",\"Penalty\",\"Penalty\",\"Tap-in\",\"Right-footed shot\",\"Right-footed shot\",\"Left-footed shot\",\"Header\",\"Right-footed shot\",\"Penalty\",\"Left-footed shot\",\"Penalty\",\"Deflected shot on goal\",\"Right-footed shot\",\"Left-footed shot\",\"Right-footed shot\",\"Penalty\",\"Penalty\",\"Right-footed shot\",\"Penalty\",\"Tap-in\",\"Penalty\",\"Penalty\",\"Long distance kick\",\"Direct free kick\",\"Left-footed shot\",\"Penalty\",\"Penalty\",\"Penalty\",\"Counter attack goal\",\"Right-footed shot\",\"Penalty\",\"Left-footed shot\",\"Right-footed shot\",\"Penalty\",\"Header\",\"Right-footed shot\",\"Penalty\",\"Right-footed shot\",\"Right-footed shot\",\"Right-footed shot\",\"Left-footed shot\",\"Right-footed shot\",\"Penalty\",\"Penalty\",\"Penalty\",\"Penalty\",\"Header\",\"Left-footed shot\",\"Right-footed shot\",\"Left-footed shot\",\"Right-footed shot\",\"Tap-in\",\"Penalty\",\"Left-footed shot\",\"Left-footed shot\",\"Header\",\"Header\",\"Right-footed shot\",\"Counter attack goal\",\"Header\",\"Penalty\",\"Left-footed shot\",\"Header\",\"Right-footed shot\",\"Penalty\",\"Header\",\"Left-footed shot\",\"Penalty rebound\"],\"xaxis\":\"x\",\"yaxis\":\"y\",\"type\":\"histogram\"},{\"alignmentgroup\":\"True\",\"bingroup\":\"x\",\"hovertemplate\":\"Club=Al-Nassr FC<br>Type=%{x}<br>count=%{y}<extra></extra>\",\"legendgroup\":\"Al-Nassr FC\",\"marker\":{\"color\":\"#FFA15A\",\"pattern\":{\"shape\":\"\"}},\"name\":\"Al-Nassr FC\",\"offsetgroup\":\"Al-Nassr FC\",\"orientation\":\"v\",\"showlegend\":true,\"x\":[\"Penalty\",\"Left-footed shot\",\"Right-footed shot\",\"Penalty\",\"Right-footed shot\",\"Penalty\",\"Left-footed shot\",\"Counter attack goal\",\"Direct free kick\"],\"xaxis\":\"x\",\"yaxis\":\"y\",\"type\":\"histogram\"}],                        {\"template\":{\"data\":{\"histogram2dcontour\":[{\"type\":\"histogram2dcontour\",\"colorbar\":{\"outlinewidth\":0,\"ticks\":\"\"},\"colorscale\":[[0.0,\"#0d0887\"],[0.1111111111111111,\"#46039f\"],[0.2222222222222222,\"#7201a8\"],[0.3333333333333333,\"#9c179e\"],[0.4444444444444444,\"#bd3786\"],[0.5555555555555556,\"#d8576b\"],[0.6666666666666666,\"#ed7953\"],[0.7777777777777778,\"#fb9f3a\"],[0.8888888888888888,\"#fdca26\"],[1.0,\"#f0f921\"]]}],\"choropleth\":[{\"type\":\"choropleth\",\"colorbar\":{\"outlinewidth\":0,\"ticks\":\"\"}}],\"histogram2d\":[{\"type\":\"histogram2d\",\"colorbar\":{\"outlinewidth\":0,\"ticks\":\"\"},\"colorscale\":[[0.0,\"#0d0887\"],[0.1111111111111111,\"#46039f\"],[0.2222222222222222,\"#7201a8\"],[0.3333333333333333,\"#9c179e\"],[0.4444444444444444,\"#bd3786\"],[0.5555555555555556,\"#d8576b\"],[0.6666666666666666,\"#ed7953\"],[0.7777777777777778,\"#fb9f3a\"],[0.8888888888888888,\"#fdca26\"],[1.0,\"#f0f921\"]]}],\"heatmap\":[{\"type\":\"heatmap\",\"colorbar\":{\"outlinewidth\":0,\"ticks\":\"\"},\"colorscale\":[[0.0,\"#0d0887\"],[0.1111111111111111,\"#46039f\"],[0.2222222222222222,\"#7201a8\"],[0.3333333333333333,\"#9c179e\"],[0.4444444444444444,\"#bd3786\"],[0.5555555555555556,\"#d8576b\"],[0.6666666666666666,\"#ed7953\"],[0.7777777777777778,\"#fb9f3a\"],[0.8888888888888888,\"#fdca26\"],[1.0,\"#f0f921\"]]}],\"heatmapgl\":[{\"type\":\"heatmapgl\",\"colorbar\":{\"outlinewidth\":0,\"ticks\":\"\"},\"colorscale\":[[0.0,\"#0d0887\"],[0.1111111111111111,\"#46039f\"],[0.2222222222222222,\"#7201a8\"],[0.3333333333333333,\"#9c179e\"],[0.4444444444444444,\"#bd3786\"],[0.5555555555555556,\"#d8576b\"],[0.6666666666666666,\"#ed7953\"],[0.7777777777777778,\"#fb9f3a\"],[0.8888888888888888,\"#fdca26\"],[1.0,\"#f0f921\"]]}],\"contourcarpet\":[{\"type\":\"contourcarpet\",\"colorbar\":{\"outlinewidth\":0,\"ticks\":\"\"}}],\"contour\":[{\"type\":\"contour\",\"colorbar\":{\"outlinewidth\":0,\"ticks\":\"\"},\"colorscale\":[[0.0,\"#0d0887\"],[0.1111111111111111,\"#46039f\"],[0.2222222222222222,\"#7201a8\"],[0.3333333333333333,\"#9c179e\"],[0.4444444444444444,\"#bd3786\"],[0.5555555555555556,\"#d8576b\"],[0.6666666666666666,\"#ed7953\"],[0.7777777777777778,\"#fb9f3a\"],[0.8888888888888888,\"#fdca26\"],[1.0,\"#f0f921\"]]}],\"surface\":[{\"type\":\"surface\",\"colorbar\":{\"outlinewidth\":0,\"ticks\":\"\"},\"colorscale\":[[0.0,\"#0d0887\"],[0.1111111111111111,\"#46039f\"],[0.2222222222222222,\"#7201a8\"],[0.3333333333333333,\"#9c179e\"],[0.4444444444444444,\"#bd3786\"],[0.5555555555555556,\"#d8576b\"],[0.6666666666666666,\"#ed7953\"],[0.7777777777777778,\"#fb9f3a\"],[0.8888888888888888,\"#fdca26\"],[1.0,\"#f0f921\"]]}],\"mesh3d\":[{\"type\":\"mesh3d\",\"colorbar\":{\"outlinewidth\":0,\"ticks\":\"\"}}],\"scatter\":[{\"fillpattern\":{\"fillmode\":\"overlay\",\"size\":10,\"solidity\":0.2},\"type\":\"scatter\"}],\"parcoords\":[{\"type\":\"parcoords\",\"line\":{\"colorbar\":{\"outlinewidth\":0,\"ticks\":\"\"}}}],\"scatterpolargl\":[{\"type\":\"scatterpolargl\",\"marker\":{\"colorbar\":{\"outlinewidth\":0,\"ticks\":\"\"}}}],\"bar\":[{\"error_x\":{\"color\":\"#2a3f5f\"},\"error_y\":{\"color\":\"#2a3f5f\"},\"marker\":{\"line\":{\"color\":\"#E5ECF6\",\"width\":0.5},\"pattern\":{\"fillmode\":\"overlay\",\"size\":10,\"solidity\":0.2}},\"type\":\"bar\"}],\"scattergeo\":[{\"type\":\"scattergeo\",\"marker\":{\"colorbar\":{\"outlinewidth\":0,\"ticks\":\"\"}}}],\"scatterpolar\":[{\"type\":\"scatterpolar\",\"marker\":{\"colorbar\":{\"outlinewidth\":0,\"ticks\":\"\"}}}],\"histogram\":[{\"marker\":{\"pattern\":{\"fillmode\":\"overlay\",\"size\":10,\"solidity\":0.2}},\"type\":\"histogram\"}],\"scattergl\":[{\"type\":\"scattergl\",\"marker\":{\"colorbar\":{\"outlinewidth\":0,\"ticks\":\"\"}}}],\"scatter3d\":[{\"type\":\"scatter3d\",\"line\":{\"colorbar\":{\"outlinewidth\":0,\"ticks\":\"\"}},\"marker\":{\"colorbar\":{\"outlinewidth\":0,\"ticks\":\"\"}}}],\"scattermapbox\":[{\"type\":\"scattermapbox\",\"marker\":{\"colorbar\":{\"outlinewidth\":0,\"ticks\":\"\"}}}],\"scatterternary\":[{\"type\":\"scatterternary\",\"marker\":{\"colorbar\":{\"outlinewidth\":0,\"ticks\":\"\"}}}],\"scattercarpet\":[{\"type\":\"scattercarpet\",\"marker\":{\"colorbar\":{\"outlinewidth\":0,\"ticks\":\"\"}}}],\"carpet\":[{\"aaxis\":{\"endlinecolor\":\"#2a3f5f\",\"gridcolor\":\"white\",\"linecolor\":\"white\",\"minorgridcolor\":\"white\",\"startlinecolor\":\"#2a3f5f\"},\"baxis\":{\"endlinecolor\":\"#2a3f5f\",\"gridcolor\":\"white\",\"linecolor\":\"white\",\"minorgridcolor\":\"white\",\"startlinecolor\":\"#2a3f5f\"},\"type\":\"carpet\"}],\"table\":[{\"cells\":{\"fill\":{\"color\":\"#EBF0F8\"},\"line\":{\"color\":\"white\"}},\"header\":{\"fill\":{\"color\":\"#C8D4E3\"},\"line\":{\"color\":\"white\"}},\"type\":\"table\"}],\"barpolar\":[{\"marker\":{\"line\":{\"color\":\"#E5ECF6\",\"width\":0.5},\"pattern\":{\"fillmode\":\"overlay\",\"size\":10,\"solidity\":0.2}},\"type\":\"barpolar\"}],\"pie\":[{\"automargin\":true,\"type\":\"pie\"}]},\"layout\":{\"autotypenumbers\":\"strict\",\"colorway\":[\"#636efa\",\"#EF553B\",\"#00cc96\",\"#ab63fa\",\"#FFA15A\",\"#19d3f3\",\"#FF6692\",\"#B6E880\",\"#FF97FF\",\"#FECB52\"],\"font\":{\"color\":\"#2a3f5f\"},\"hovermode\":\"closest\",\"hoverlabel\":{\"align\":\"left\"},\"paper_bgcolor\":\"white\",\"plot_bgcolor\":\"#E5ECF6\",\"polar\":{\"bgcolor\":\"#E5ECF6\",\"angularaxis\":{\"gridcolor\":\"white\",\"linecolor\":\"white\",\"ticks\":\"\"},\"radialaxis\":{\"gridcolor\":\"white\",\"linecolor\":\"white\",\"ticks\":\"\"}},\"ternary\":{\"bgcolor\":\"#E5ECF6\",\"aaxis\":{\"gridcolor\":\"white\",\"linecolor\":\"white\",\"ticks\":\"\"},\"baxis\":{\"gridcolor\":\"white\",\"linecolor\":\"white\",\"ticks\":\"\"},\"caxis\":{\"gridcolor\":\"white\",\"linecolor\":\"white\",\"ticks\":\"\"}},\"coloraxis\":{\"colorbar\":{\"outlinewidth\":0,\"ticks\":\"\"}},\"colorscale\":{\"sequential\":[[0.0,\"#0d0887\"],[0.1111111111111111,\"#46039f\"],[0.2222222222222222,\"#7201a8\"],[0.3333333333333333,\"#9c179e\"],[0.4444444444444444,\"#bd3786\"],[0.5555555555555556,\"#d8576b\"],[0.6666666666666666,\"#ed7953\"],[0.7777777777777778,\"#fb9f3a\"],[0.8888888888888888,\"#fdca26\"],[1.0,\"#f0f921\"]],\"sequentialminus\":[[0.0,\"#0d0887\"],[0.1111111111111111,\"#46039f\"],[0.2222222222222222,\"#7201a8\"],[0.3333333333333333,\"#9c179e\"],[0.4444444444444444,\"#bd3786\"],[0.5555555555555556,\"#d8576b\"],[0.6666666666666666,\"#ed7953\"],[0.7777777777777778,\"#fb9f3a\"],[0.8888888888888888,\"#fdca26\"],[1.0,\"#f0f921\"]],\"diverging\":[[0,\"#8e0152\"],[0.1,\"#c51b7d\"],[0.2,\"#de77ae\"],[0.3,\"#f1b6da\"],[0.4,\"#fde0ef\"],[0.5,\"#f7f7f7\"],[0.6,\"#e6f5d0\"],[0.7,\"#b8e186\"],[0.8,\"#7fbc41\"],[0.9,\"#4d9221\"],[1,\"#276419\"]]},\"xaxis\":{\"gridcolor\":\"white\",\"linecolor\":\"white\",\"ticks\":\"\",\"title\":{\"standoff\":15},\"zerolinecolor\":\"white\",\"automargin\":true,\"zerolinewidth\":2},\"yaxis\":{\"gridcolor\":\"white\",\"linecolor\":\"white\",\"ticks\":\"\",\"title\":{\"standoff\":15},\"zerolinecolor\":\"white\",\"automargin\":true,\"zerolinewidth\":2},\"scene\":{\"xaxis\":{\"backgroundcolor\":\"#E5ECF6\",\"gridcolor\":\"white\",\"linecolor\":\"white\",\"showbackground\":true,\"ticks\":\"\",\"zerolinecolor\":\"white\",\"gridwidth\":2},\"yaxis\":{\"backgroundcolor\":\"#E5ECF6\",\"gridcolor\":\"white\",\"linecolor\":\"white\",\"showbackground\":true,\"ticks\":\"\",\"zerolinecolor\":\"white\",\"gridwidth\":2},\"zaxis\":{\"backgroundcolor\":\"#E5ECF6\",\"gridcolor\":\"white\",\"linecolor\":\"white\",\"showbackground\":true,\"ticks\":\"\",\"zerolinecolor\":\"white\",\"gridwidth\":2}},\"shapedefaults\":{\"line\":{\"color\":\"#2a3f5f\"}},\"annotationdefaults\":{\"arrowcolor\":\"#2a3f5f\",\"arrowhead\":0,\"arrowwidth\":1},\"geo\":{\"bgcolor\":\"white\",\"landcolor\":\"#E5ECF6\",\"subunitcolor\":\"white\",\"showland\":true,\"showlakes\":true,\"lakecolor\":\"white\"},\"title\":{\"x\":0.05},\"mapbox\":{\"style\":\"light\"}}},\"xaxis\":{\"anchor\":\"y\",\"domain\":[0.0,1.0],\"title\":{\"text\":\"Type\"}},\"yaxis\":{\"anchor\":\"x\",\"domain\":[0.0,1.0],\"title\":{\"text\":\"count\"}},\"legend\":{\"title\":{\"text\":\"Club\"},\"tracegroupgap\":0},\"title\":{\"text\":\"Goals per Type\"},\"barmode\":\"relative\",\"height\":500},                        {\"responsive\": true}                    ).then(function(){\n",
       "                            \n",
       "var gd = document.getElementById('bae7465a-1041-499a-adf0-4bbb6bca8d4b');\n",
       "var x = new MutationObserver(function (mutations, observer) {{\n",
       "        var display = window.getComputedStyle(gd).display;\n",
       "        if (!display || display === 'none') {{\n",
       "            console.log([gd, 'removed!']);\n",
       "            Plotly.purge(gd);\n",
       "            observer.disconnect();\n",
       "        }}\n",
       "}});\n",
       "\n",
       "// Listen for the removal of the full notebook cells\n",
       "var notebookContainer = gd.closest('#notebook-container');\n",
       "if (notebookContainer) {{\n",
       "    x.observe(notebookContainer, {childList: true});\n",
       "}}\n",
       "\n",
       "// Listen for the clearing of the current output cell\n",
       "var outputEl = gd.closest('.output');\n",
       "if (outputEl) {{\n",
       "    x.observe(outputEl, {childList: true});\n",
       "}}\n",
       "\n",
       "                        })                };                });            </script>        </div>"
      ]
     },
     "metadata": {},
     "output_type": "display_data"
    }
   ],
   "source": [
    "px.histogram(\n",
    "    df,\n",
    "    x='Type',\n",
    "    title=\"Goals per Type\",\n",
    "    log_x=False,\n",
    "    log_y=False,\n",
    "    #symbol='title',\n",
    "    #markers=True,\n",
    "    #width=800, \n",
    "    height=500,\n",
    "    color='Club',\n",
    "    hover_name='Club',\n",
    "    hover_data=['Playing_Position','Competition','Season','Club'])"
   ]
  },
  {
   "cell_type": "code",
   "execution_count": 17,
   "id": "feab8f7a",
   "metadata": {},
   "outputs": [
    {
     "data": {
      "text/plain": [
       "<Axes: title={'center': 'Goals per venue'}, ylabel='Venue'>"
      ]
     },
     "execution_count": 17,
     "metadata": {},
     "output_type": "execute_result"
    },
    {
     "data": {
      "image/png": "[encoded data removed]",
      "text/plain": [
       "<Figure size 3000x1000 with 1 Axes>"
      ]
     },
     "metadata": {},
     "output_type": "display_data"
    }
   ],
   "source": [
    "plt.figure(figsize=(30,10))\n",
    "plt.title('Goals per venue', fontsize=20)\n",
    "df.Venue.value_counts().plot(kind='pie', labels=['Home', 'Away'], wedgeprops=dict(width=.7), autopct='%1.0f%%', startangle= -20,  textprops={'fontsize': 15})"
   ]
  },
  {
   "cell_type": "code",
   "execution_count": null,
   "id": "3bd58ae5",
   "metadata": {},
   "outputs": [],
   "source": []
  }
 ],
 "metadata": {
  "kernelspec": {
   "display_name": "Python 3 (ipykernel)",
   "language": "python",
   "name": "python3"
  },
  "language_info": {
   "codemirror_mode": {
    "name": "ipython",
    "version": 3
   },
   "file_extension": ".py",
   "mimetype": "text/x-python",
   "name": "python",
   "nbconvert_exporter": "python",
   "pygments_lexer": "ipython3",
   "version": "3.11.4"
  }
 },
 "nbformat": 4,
 "nbformat_minor": 5
}
